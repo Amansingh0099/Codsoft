{
 "cells": [
  {
   "cell_type": "markdown",
   "id": "caf344f4",
   "metadata": {},
   "source": [
    "                                               TITANIC SURVIVAL PREDICTION\n",
    "\n",
    "Use the Titanic dataset to build a model that predicts whether a passenger on the Titanic survived or not. This is a classic beginner\n",
    "project with readily available data.\n",
    "\n",
    "The dataset typically used for this project contains information about individual passengers, such as their age, gender, ticket\n",
    "class, fare, cabin, and whether or not they survived."
   ]
  },
  {
   "cell_type": "code",
   "execution_count": 172,
   "id": "6e1af699",
   "metadata": {},
   "outputs": [],
   "source": [
    "# Import necessary libraries\n",
    "\n",
    "import pandas as pd\n",
    "import numpy as np\n",
    "import matplotlib.pyplot as plt\n",
    "import seaborn as sns\n",
    "import warnings\n",
    "from sklearn.model_selection import train_test_split\n",
    "from sklearn.metrics import accuracy_score, precision_score, recall_score, f1_score\n",
    "from sklearn.metrics import confusion_matrix, ConfusionMatrixDisplay"
   ]
  },
  {
   "cell_type": "code",
   "execution_count": 173,
   "id": "c6be64c9",
   "metadata": {},
   "outputs": [],
   "source": [
    "warnings.filterwarnings('ignore')"
   ]
  },
  {
   "cell_type": "code",
   "execution_count": 174,
   "id": "7cc2844c",
   "metadata": {},
   "outputs": [],
   "source": [
    "# Import CSV File\n",
    "\n",
    "df = pd.read_csv(r'D:\\CodSoft\\Task1_Titanic\\tested.csv')"
   ]
  },
  {
   "cell_type": "markdown",
   "id": "b4bb3fe0",
   "metadata": {},
   "source": [
    "# 1. Understanding Of Data"
   ]
  },
  {
   "cell_type": "code",
   "execution_count": 175,
   "id": "12def420",
   "metadata": {
    "scrolled": true
   },
   "outputs": [
    {
     "data": {
      "text/html": [
       "<div>\n",
       "<style scoped>\n",
       "    .dataframe tbody tr th:only-of-type {\n",
       "        vertical-align: middle;\n",
       "    }\n",
       "\n",
       "    .dataframe tbody tr th {\n",
       "        vertical-align: top;\n",
       "    }\n",
       "\n",
       "    .dataframe thead th {\n",
       "        text-align: right;\n",
       "    }\n",
       "</style>\n",
       "<table border=\"1\" class=\"dataframe\">\n",
       "  <thead>\n",
       "    <tr style=\"text-align: right;\">\n",
       "      <th></th>\n",
       "      <th>PassengerId</th>\n",
       "      <th>Survived</th>\n",
       "      <th>Pclass</th>\n",
       "      <th>Name</th>\n",
       "      <th>Sex</th>\n",
       "      <th>Age</th>\n",
       "      <th>SibSp</th>\n",
       "      <th>Parch</th>\n",
       "      <th>Ticket</th>\n",
       "      <th>Fare</th>\n",
       "      <th>Cabin</th>\n",
       "      <th>Embarked</th>\n",
       "    </tr>\n",
       "  </thead>\n",
       "  <tbody>\n",
       "    <tr>\n",
       "      <th>0</th>\n",
       "      <td>892</td>\n",
       "      <td>0</td>\n",
       "      <td>3</td>\n",
       "      <td>Kelly, Mr. James</td>\n",
       "      <td>male</td>\n",
       "      <td>34.5</td>\n",
       "      <td>0</td>\n",
       "      <td>0</td>\n",
       "      <td>330911</td>\n",
       "      <td>7.8292</td>\n",
       "      <td>NaN</td>\n",
       "      <td>Q</td>\n",
       "    </tr>\n",
       "    <tr>\n",
       "      <th>1</th>\n",
       "      <td>893</td>\n",
       "      <td>1</td>\n",
       "      <td>3</td>\n",
       "      <td>Wilkes, Mrs. James (Ellen Needs)</td>\n",
       "      <td>female</td>\n",
       "      <td>47.0</td>\n",
       "      <td>1</td>\n",
       "      <td>0</td>\n",
       "      <td>363272</td>\n",
       "      <td>7.0000</td>\n",
       "      <td>NaN</td>\n",
       "      <td>S</td>\n",
       "    </tr>\n",
       "    <tr>\n",
       "      <th>2</th>\n",
       "      <td>894</td>\n",
       "      <td>0</td>\n",
       "      <td>2</td>\n",
       "      <td>Myles, Mr. Thomas Francis</td>\n",
       "      <td>male</td>\n",
       "      <td>62.0</td>\n",
       "      <td>0</td>\n",
       "      <td>0</td>\n",
       "      <td>240276</td>\n",
       "      <td>9.6875</td>\n",
       "      <td>NaN</td>\n",
       "      <td>Q</td>\n",
       "    </tr>\n",
       "    <tr>\n",
       "      <th>3</th>\n",
       "      <td>895</td>\n",
       "      <td>0</td>\n",
       "      <td>3</td>\n",
       "      <td>Wirz, Mr. Albert</td>\n",
       "      <td>male</td>\n",
       "      <td>27.0</td>\n",
       "      <td>0</td>\n",
       "      <td>0</td>\n",
       "      <td>315154</td>\n",
       "      <td>8.6625</td>\n",
       "      <td>NaN</td>\n",
       "      <td>S</td>\n",
       "    </tr>\n",
       "    <tr>\n",
       "      <th>4</th>\n",
       "      <td>896</td>\n",
       "      <td>1</td>\n",
       "      <td>3</td>\n",
       "      <td>Hirvonen, Mrs. Alexander (Helga E Lindqvist)</td>\n",
       "      <td>female</td>\n",
       "      <td>22.0</td>\n",
       "      <td>1</td>\n",
       "      <td>1</td>\n",
       "      <td>3101298</td>\n",
       "      <td>12.2875</td>\n",
       "      <td>NaN</td>\n",
       "      <td>S</td>\n",
       "    </tr>\n",
       "  </tbody>\n",
       "</table>\n",
       "</div>"
      ],
      "text/plain": [
       "   PassengerId  Survived  Pclass  \\\n",
       "0          892         0       3   \n",
       "1          893         1       3   \n",
       "2          894         0       2   \n",
       "3          895         0       3   \n",
       "4          896         1       3   \n",
       "\n",
       "                                           Name     Sex   Age  SibSp  Parch  \\\n",
       "0                              Kelly, Mr. James    male  34.5      0      0   \n",
       "1              Wilkes, Mrs. James (Ellen Needs)  female  47.0      1      0   \n",
       "2                     Myles, Mr. Thomas Francis    male  62.0      0      0   \n",
       "3                              Wirz, Mr. Albert    male  27.0      0      0   \n",
       "4  Hirvonen, Mrs. Alexander (Helga E Lindqvist)  female  22.0      1      1   \n",
       "\n",
       "    Ticket     Fare Cabin Embarked  \n",
       "0   330911   7.8292   NaN        Q  \n",
       "1   363272   7.0000   NaN        S  \n",
       "2   240276   9.6875   NaN        Q  \n",
       "3   315154   8.6625   NaN        S  \n",
       "4  3101298  12.2875   NaN        S  "
      ]
     },
     "execution_count": 175,
     "metadata": {},
     "output_type": "execute_result"
    }
   ],
   "source": [
    "df.head()"
   ]
  },
  {
   "cell_type": "markdown",
   "id": "32c2af4c",
   "metadata": {},
   "source": [
    "In this dataset, target column is 'Survived'"
   ]
  },
  {
   "cell_type": "code",
   "execution_count": 176,
   "id": "ea910e9f",
   "metadata": {},
   "outputs": [
    {
     "data": {
      "text/plain": [
       "(418, 12)"
      ]
     },
     "execution_count": 176,
     "metadata": {},
     "output_type": "execute_result"
    }
   ],
   "source": [
    "# Shape of the Dataset\n",
    "\n",
    "df.shape"
   ]
  },
  {
   "cell_type": "markdown",
   "id": "590d7c64",
   "metadata": {},
   "source": [
    "Total number of rows: 418\n",
    "\n",
    "Total nymber of columns: 12"
   ]
  },
  {
   "cell_type": "code",
   "execution_count": 177,
   "id": "ef15cfa9",
   "metadata": {},
   "outputs": [
    {
     "data": {
      "text/plain": [
       "Index(['PassengerId', 'Survived', 'Pclass', 'Name', 'Sex', 'Age', 'SibSp',\n",
       "       'Parch', 'Ticket', 'Fare', 'Cabin', 'Embarked'],\n",
       "      dtype='object')"
      ]
     },
     "execution_count": 177,
     "metadata": {},
     "output_type": "execute_result"
    }
   ],
   "source": [
    "# Columns Information\n",
    "\n",
    "df.columns"
   ]
  },
  {
   "cell_type": "markdown",
   "id": "10eb0118",
   "metadata": {},
   "source": [
    "1. PassengerId: Id number of passengers \n",
    "\n",
    "2. Pclass: Passenger class (1 = 1st; 2 = 2nd; 3 = 3rd)\n",
    "\n",
    "3. Survival: A Boolean indicating whether the passenger survived or not (0 = No; 1 = Yes); this is our target\n",
    "\n",
    "4. Name: A field rich in information as it contains title and family names\n",
    "\n",
    "5. Sex: male/female\n",
    "\n",
    "6. Age: Age, asignificant portion of values aremissing\n",
    "\n",
    "7. Sibsp: Number of siblings/spouses aboard\n",
    "\n",
    "8. Parch: Number of parents/children aboard\n",
    "\n",
    "9. Ticket: Ticket number\n",
    "\n",
    "10. Fare: Passenger fare (British Pound)\n",
    "\n",
    "11. Cabin: Does the location of the cabin influence chances of survival?\n",
    "\n",
    "12. Embarked: Port of onboarding (C = Cherbourg; Q = Queenstown; S = Southampton)"
   ]
  },
  {
   "cell_type": "code",
   "execution_count": 178,
   "id": "2cc97c93",
   "metadata": {},
   "outputs": [
    {
     "data": {
      "text/html": [
       "<div>\n",
       "<style scoped>\n",
       "    .dataframe tbody tr th:only-of-type {\n",
       "        vertical-align: middle;\n",
       "    }\n",
       "\n",
       "    .dataframe tbody tr th {\n",
       "        vertical-align: top;\n",
       "    }\n",
       "\n",
       "    .dataframe thead th {\n",
       "        text-align: right;\n",
       "    }\n",
       "</style>\n",
       "<table border=\"1\" class=\"dataframe\">\n",
       "  <thead>\n",
       "    <tr style=\"text-align: right;\">\n",
       "      <th></th>\n",
       "      <th>PassengerId</th>\n",
       "      <th>Survived</th>\n",
       "      <th>Pclass</th>\n",
       "      <th>Age</th>\n",
       "      <th>SibSp</th>\n",
       "      <th>Parch</th>\n",
       "      <th>Fare</th>\n",
       "    </tr>\n",
       "  </thead>\n",
       "  <tbody>\n",
       "    <tr>\n",
       "      <th>count</th>\n",
       "      <td>418.000000</td>\n",
       "      <td>418.000000</td>\n",
       "      <td>418.000000</td>\n",
       "      <td>332.000000</td>\n",
       "      <td>418.000000</td>\n",
       "      <td>418.000000</td>\n",
       "      <td>417.000000</td>\n",
       "    </tr>\n",
       "    <tr>\n",
       "      <th>mean</th>\n",
       "      <td>1100.500000</td>\n",
       "      <td>0.363636</td>\n",
       "      <td>2.265550</td>\n",
       "      <td>30.272590</td>\n",
       "      <td>0.447368</td>\n",
       "      <td>0.392344</td>\n",
       "      <td>35.627188</td>\n",
       "    </tr>\n",
       "    <tr>\n",
       "      <th>std</th>\n",
       "      <td>120.810458</td>\n",
       "      <td>0.481622</td>\n",
       "      <td>0.841838</td>\n",
       "      <td>14.181209</td>\n",
       "      <td>0.896760</td>\n",
       "      <td>0.981429</td>\n",
       "      <td>55.907576</td>\n",
       "    </tr>\n",
       "    <tr>\n",
       "      <th>min</th>\n",
       "      <td>892.000000</td>\n",
       "      <td>0.000000</td>\n",
       "      <td>1.000000</td>\n",
       "      <td>0.170000</td>\n",
       "      <td>0.000000</td>\n",
       "      <td>0.000000</td>\n",
       "      <td>0.000000</td>\n",
       "    </tr>\n",
       "    <tr>\n",
       "      <th>25%</th>\n",
       "      <td>996.250000</td>\n",
       "      <td>0.000000</td>\n",
       "      <td>1.000000</td>\n",
       "      <td>21.000000</td>\n",
       "      <td>0.000000</td>\n",
       "      <td>0.000000</td>\n",
       "      <td>7.895800</td>\n",
       "    </tr>\n",
       "    <tr>\n",
       "      <th>50%</th>\n",
       "      <td>1100.500000</td>\n",
       "      <td>0.000000</td>\n",
       "      <td>3.000000</td>\n",
       "      <td>27.000000</td>\n",
       "      <td>0.000000</td>\n",
       "      <td>0.000000</td>\n",
       "      <td>14.454200</td>\n",
       "    </tr>\n",
       "    <tr>\n",
       "      <th>75%</th>\n",
       "      <td>1204.750000</td>\n",
       "      <td>1.000000</td>\n",
       "      <td>3.000000</td>\n",
       "      <td>39.000000</td>\n",
       "      <td>1.000000</td>\n",
       "      <td>0.000000</td>\n",
       "      <td>31.500000</td>\n",
       "    </tr>\n",
       "    <tr>\n",
       "      <th>max</th>\n",
       "      <td>1309.000000</td>\n",
       "      <td>1.000000</td>\n",
       "      <td>3.000000</td>\n",
       "      <td>76.000000</td>\n",
       "      <td>8.000000</td>\n",
       "      <td>9.000000</td>\n",
       "      <td>512.329200</td>\n",
       "    </tr>\n",
       "  </tbody>\n",
       "</table>\n",
       "</div>"
      ],
      "text/plain": [
       "       PassengerId    Survived      Pclass         Age       SibSp  \\\n",
       "count   418.000000  418.000000  418.000000  332.000000  418.000000   \n",
       "mean   1100.500000    0.363636    2.265550   30.272590    0.447368   \n",
       "std     120.810458    0.481622    0.841838   14.181209    0.896760   \n",
       "min     892.000000    0.000000    1.000000    0.170000    0.000000   \n",
       "25%     996.250000    0.000000    1.000000   21.000000    0.000000   \n",
       "50%    1100.500000    0.000000    3.000000   27.000000    0.000000   \n",
       "75%    1204.750000    1.000000    3.000000   39.000000    1.000000   \n",
       "max    1309.000000    1.000000    3.000000   76.000000    8.000000   \n",
       "\n",
       "            Parch        Fare  \n",
       "count  418.000000  417.000000  \n",
       "mean     0.392344   35.627188  \n",
       "std      0.981429   55.907576  \n",
       "min      0.000000    0.000000  \n",
       "25%      0.000000    7.895800  \n",
       "50%      0.000000   14.454200  \n",
       "75%      0.000000   31.500000  \n",
       "max      9.000000  512.329200  "
      ]
     },
     "execution_count": 178,
     "metadata": {},
     "output_type": "execute_result"
    }
   ],
   "source": [
    "df.describe()"
   ]
  },
  {
   "cell_type": "code",
   "execution_count": 179,
   "id": "1094f423",
   "metadata": {},
   "outputs": [
    {
     "data": {
      "text/html": [
       "<div>\n",
       "<style scoped>\n",
       "    .dataframe tbody tr th:only-of-type {\n",
       "        vertical-align: middle;\n",
       "    }\n",
       "\n",
       "    .dataframe tbody tr th {\n",
       "        vertical-align: top;\n",
       "    }\n",
       "\n",
       "    .dataframe thead th {\n",
       "        text-align: right;\n",
       "    }\n",
       "</style>\n",
       "<table border=\"1\" class=\"dataframe\">\n",
       "  <thead>\n",
       "    <tr style=\"text-align: right;\">\n",
       "      <th></th>\n",
       "      <th>Name</th>\n",
       "      <th>Sex</th>\n",
       "      <th>Ticket</th>\n",
       "      <th>Cabin</th>\n",
       "      <th>Embarked</th>\n",
       "    </tr>\n",
       "  </thead>\n",
       "  <tbody>\n",
       "    <tr>\n",
       "      <th>count</th>\n",
       "      <td>418</td>\n",
       "      <td>418</td>\n",
       "      <td>418</td>\n",
       "      <td>91</td>\n",
       "      <td>418</td>\n",
       "    </tr>\n",
       "    <tr>\n",
       "      <th>unique</th>\n",
       "      <td>418</td>\n",
       "      <td>2</td>\n",
       "      <td>363</td>\n",
       "      <td>76</td>\n",
       "      <td>3</td>\n",
       "    </tr>\n",
       "    <tr>\n",
       "      <th>top</th>\n",
       "      <td>Kelly, Mr. James</td>\n",
       "      <td>male</td>\n",
       "      <td>PC 17608</td>\n",
       "      <td>B57 B59 B63 B66</td>\n",
       "      <td>S</td>\n",
       "    </tr>\n",
       "    <tr>\n",
       "      <th>freq</th>\n",
       "      <td>1</td>\n",
       "      <td>266</td>\n",
       "      <td>5</td>\n",
       "      <td>3</td>\n",
       "      <td>270</td>\n",
       "    </tr>\n",
       "  </tbody>\n",
       "</table>\n",
       "</div>"
      ],
      "text/plain": [
       "                    Name   Sex    Ticket            Cabin Embarked\n",
       "count                418   418       418               91      418\n",
       "unique               418     2       363               76        3\n",
       "top     Kelly, Mr. James  male  PC 17608  B57 B59 B63 B66        S\n",
       "freq                   1   266         5                3      270"
      ]
     },
     "execution_count": 179,
     "metadata": {},
     "output_type": "execute_result"
    }
   ],
   "source": [
    "df.describe(include = 'object')"
   ]
  },
  {
   "cell_type": "markdown",
   "id": "ac91f425",
   "metadata": {},
   "source": [
    "# 2. Data Cleaning"
   ]
  },
  {
   "cell_type": "markdown",
   "id": "cfbebb24",
   "metadata": {},
   "source": [
    "# Rename column names"
   ]
  },
  {
   "cell_type": "code",
   "execution_count": 180,
   "id": "b024015e",
   "metadata": {},
   "outputs": [],
   "source": [
    "df.rename(columns = {\n",
    "    \"PassengerId\": \"id\",\n",
    "    \"Survived\": \"survived\",\n",
    "    \"Pclass\": \"pclass\",\n",
    "    \"Name\": \"name\",\n",
    "    \"Sex\": \"sex\",\n",
    "    \"Age\": \"age\",\n",
    "    \"SibSp\": \"sibsp\",\n",
    "    \"Parch\": \"parch\",\n",
    "    \"Ticket\": \"ticket\",\n",
    "    \"Fare\": \"fare\",\n",
    "    \"Cabin\": \"cabin\",\n",
    "    \"Embarked\": \"embarked\"\n",
    "}, inplace = True)"
   ]
  },
  {
   "cell_type": "code",
   "execution_count": 181,
   "id": "ae4f883b",
   "metadata": {},
   "outputs": [
    {
     "data": {
      "text/html": [
       "<div>\n",
       "<style scoped>\n",
       "    .dataframe tbody tr th:only-of-type {\n",
       "        vertical-align: middle;\n",
       "    }\n",
       "\n",
       "    .dataframe tbody tr th {\n",
       "        vertical-align: top;\n",
       "    }\n",
       "\n",
       "    .dataframe thead th {\n",
       "        text-align: right;\n",
       "    }\n",
       "</style>\n",
       "<table border=\"1\" class=\"dataframe\">\n",
       "  <thead>\n",
       "    <tr style=\"text-align: right;\">\n",
       "      <th></th>\n",
       "      <th>id</th>\n",
       "      <th>survived</th>\n",
       "      <th>pclass</th>\n",
       "      <th>name</th>\n",
       "      <th>sex</th>\n",
       "      <th>age</th>\n",
       "      <th>sibsp</th>\n",
       "      <th>parch</th>\n",
       "      <th>ticket</th>\n",
       "      <th>fare</th>\n",
       "      <th>cabin</th>\n",
       "      <th>embarked</th>\n",
       "    </tr>\n",
       "  </thead>\n",
       "  <tbody>\n",
       "    <tr>\n",
       "      <th>0</th>\n",
       "      <td>892</td>\n",
       "      <td>0</td>\n",
       "      <td>3</td>\n",
       "      <td>Kelly, Mr. James</td>\n",
       "      <td>male</td>\n",
       "      <td>34.5</td>\n",
       "      <td>0</td>\n",
       "      <td>0</td>\n",
       "      <td>330911</td>\n",
       "      <td>7.8292</td>\n",
       "      <td>NaN</td>\n",
       "      <td>Q</td>\n",
       "    </tr>\n",
       "    <tr>\n",
       "      <th>1</th>\n",
       "      <td>893</td>\n",
       "      <td>1</td>\n",
       "      <td>3</td>\n",
       "      <td>Wilkes, Mrs. James (Ellen Needs)</td>\n",
       "      <td>female</td>\n",
       "      <td>47.0</td>\n",
       "      <td>1</td>\n",
       "      <td>0</td>\n",
       "      <td>363272</td>\n",
       "      <td>7.0000</td>\n",
       "      <td>NaN</td>\n",
       "      <td>S</td>\n",
       "    </tr>\n",
       "    <tr>\n",
       "      <th>2</th>\n",
       "      <td>894</td>\n",
       "      <td>0</td>\n",
       "      <td>2</td>\n",
       "      <td>Myles, Mr. Thomas Francis</td>\n",
       "      <td>male</td>\n",
       "      <td>62.0</td>\n",
       "      <td>0</td>\n",
       "      <td>0</td>\n",
       "      <td>240276</td>\n",
       "      <td>9.6875</td>\n",
       "      <td>NaN</td>\n",
       "      <td>Q</td>\n",
       "    </tr>\n",
       "    <tr>\n",
       "      <th>3</th>\n",
       "      <td>895</td>\n",
       "      <td>0</td>\n",
       "      <td>3</td>\n",
       "      <td>Wirz, Mr. Albert</td>\n",
       "      <td>male</td>\n",
       "      <td>27.0</td>\n",
       "      <td>0</td>\n",
       "      <td>0</td>\n",
       "      <td>315154</td>\n",
       "      <td>8.6625</td>\n",
       "      <td>NaN</td>\n",
       "      <td>S</td>\n",
       "    </tr>\n",
       "    <tr>\n",
       "      <th>4</th>\n",
       "      <td>896</td>\n",
       "      <td>1</td>\n",
       "      <td>3</td>\n",
       "      <td>Hirvonen, Mrs. Alexander (Helga E Lindqvist)</td>\n",
       "      <td>female</td>\n",
       "      <td>22.0</td>\n",
       "      <td>1</td>\n",
       "      <td>1</td>\n",
       "      <td>3101298</td>\n",
       "      <td>12.2875</td>\n",
       "      <td>NaN</td>\n",
       "      <td>S</td>\n",
       "    </tr>\n",
       "  </tbody>\n",
       "</table>\n",
       "</div>"
      ],
      "text/plain": [
       "    id  survived  pclass                                          name  \\\n",
       "0  892         0       3                              Kelly, Mr. James   \n",
       "1  893         1       3              Wilkes, Mrs. James (Ellen Needs)   \n",
       "2  894         0       2                     Myles, Mr. Thomas Francis   \n",
       "3  895         0       3                              Wirz, Mr. Albert   \n",
       "4  896         1       3  Hirvonen, Mrs. Alexander (Helga E Lindqvist)   \n",
       "\n",
       "      sex   age  sibsp  parch   ticket     fare cabin embarked  \n",
       "0    male  34.5      0      0   330911   7.8292   NaN        Q  \n",
       "1  female  47.0      1      0   363272   7.0000   NaN        S  \n",
       "2    male  62.0      0      0   240276   9.6875   NaN        Q  \n",
       "3    male  27.0      0      0   315154   8.6625   NaN        S  \n",
       "4  female  22.0      1      1  3101298  12.2875   NaN        S  "
      ]
     },
     "execution_count": 181,
     "metadata": {},
     "output_type": "execute_result"
    }
   ],
   "source": [
    "df.head()"
   ]
  },
  {
   "cell_type": "markdown",
   "id": "a719b12f",
   "metadata": {},
   "source": [
    "# Check for null values"
   ]
  },
  {
   "cell_type": "code",
   "execution_count": 182,
   "id": "9e855bc7",
   "metadata": {},
   "outputs": [
    {
     "data": {
      "text/plain": [
       "id            0\n",
       "survived      0\n",
       "pclass        0\n",
       "name          0\n",
       "sex           0\n",
       "age          86\n",
       "sibsp         0\n",
       "parch         0\n",
       "ticket        0\n",
       "fare          1\n",
       "cabin       327\n",
       "embarked      0\n",
       "dtype: int64"
      ]
     },
     "execution_count": 182,
     "metadata": {},
     "output_type": "execute_result"
    }
   ],
   "source": [
    "df.isnull().sum()"
   ]
  },
  {
   "cell_type": "markdown",
   "id": "dc083f84",
   "metadata": {},
   "source": [
    "There are 86 null values in 'Age' column, 327 in 'Cabin' column and 1 in 'Fare Column"
   ]
  },
  {
   "cell_type": "code",
   "execution_count": 183,
   "id": "23638a9c",
   "metadata": {},
   "outputs": [
    {
     "name": "stdout",
     "output_type": "stream",
     "text": [
      "Percentage of null values in Age column is 20.574162679425836\n",
      "Percentage of null values in Cabin column is 78.22966507177034\n"
     ]
    }
   ],
   "source": [
    "# Calculate null value percentage\n",
    "\n",
    "null_percent_age = (df['age'].isnull().sum()/df['age'].shape[0]) * 100\n",
    "null_percent_cabin = (df['cabin'].isnull().sum()/df['cabin'].shape[0]) * 100\n",
    "\n",
    "print(\"Percentage of null values in Age column is {}\".format(null_percent_age))\n",
    "print(\"Percentage of null values in Cabin column is {}\".format(null_percent_cabin))\n"
   ]
  },
  {
   "cell_type": "markdown",
   "id": "78579390",
   "metadata": {},
   "source": [
    "1. As we can see that Cabin column have 78% of null data. So, we can remove this column.\n",
    "\n",
    "2. Age column have 20.5% null data. So, we will repace the null values in age column with median.\n",
    "\n",
    "3. We will delete that row which consist null value in Fare column."
   ]
  },
  {
   "cell_type": "code",
   "execution_count": 184,
   "id": "37a81bb9",
   "metadata": {},
   "outputs": [
    {
     "data": {
      "text/html": [
       "<div>\n",
       "<style scoped>\n",
       "    .dataframe tbody tr th:only-of-type {\n",
       "        vertical-align: middle;\n",
       "    }\n",
       "\n",
       "    .dataframe tbody tr th {\n",
       "        vertical-align: top;\n",
       "    }\n",
       "\n",
       "    .dataframe thead th {\n",
       "        text-align: right;\n",
       "    }\n",
       "</style>\n",
       "<table border=\"1\" class=\"dataframe\">\n",
       "  <thead>\n",
       "    <tr style=\"text-align: right;\">\n",
       "      <th></th>\n",
       "      <th>id</th>\n",
       "      <th>survived</th>\n",
       "      <th>pclass</th>\n",
       "      <th>name</th>\n",
       "      <th>sex</th>\n",
       "      <th>age</th>\n",
       "      <th>sibsp</th>\n",
       "      <th>parch</th>\n",
       "      <th>ticket</th>\n",
       "      <th>fare</th>\n",
       "      <th>cabin</th>\n",
       "      <th>embarked</th>\n",
       "    </tr>\n",
       "  </thead>\n",
       "  <tbody>\n",
       "    <tr>\n",
       "      <th>152</th>\n",
       "      <td>1044</td>\n",
       "      <td>0</td>\n",
       "      <td>3</td>\n",
       "      <td>Storey, Mr. Thomas</td>\n",
       "      <td>male</td>\n",
       "      <td>60.5</td>\n",
       "      <td>0</td>\n",
       "      <td>0</td>\n",
       "      <td>3701</td>\n",
       "      <td>NaN</td>\n",
       "      <td>NaN</td>\n",
       "      <td>S</td>\n",
       "    </tr>\n",
       "  </tbody>\n",
       "</table>\n",
       "</div>"
      ],
      "text/plain": [
       "       id  survived  pclass                name   sex   age  sibsp  parch  \\\n",
       "152  1044         0       3  Storey, Mr. Thomas  male  60.5      0      0   \n",
       "\n",
       "    ticket  fare cabin embarked  \n",
       "152   3701   NaN   NaN        S  "
      ]
     },
     "execution_count": 184,
     "metadata": {},
     "output_type": "execute_result"
    }
   ],
   "source": [
    "df[df['fare'].isnull()]"
   ]
  },
  {
   "cell_type": "code",
   "execution_count": 185,
   "id": "c16a0ca4",
   "metadata": {},
   "outputs": [],
   "source": [
    "df.drop(index = 152, inplace = True)"
   ]
  },
  {
   "cell_type": "code",
   "execution_count": 186,
   "id": "3e728e1a",
   "metadata": {},
   "outputs": [
    {
     "data": {
      "text/plain": [
       "(417, 12)"
      ]
     },
     "execution_count": 186,
     "metadata": {},
     "output_type": "execute_result"
    }
   ],
   "source": [
    "df.shape"
   ]
  },
  {
   "cell_type": "code",
   "execution_count": 187,
   "id": "677bbb37",
   "metadata": {},
   "outputs": [],
   "source": [
    "df.drop('cabin', axis = 1, inplace = True)"
   ]
  },
  {
   "cell_type": "code",
   "execution_count": 188,
   "id": "2ad4d20c",
   "metadata": {},
   "outputs": [],
   "source": [
    "df['age'] = df['age'].fillna(df['age'].median())"
   ]
  },
  {
   "cell_type": "code",
   "execution_count": 189,
   "id": "005a8d5f",
   "metadata": {},
   "outputs": [
    {
     "data": {
      "text/plain": [
       "id          0\n",
       "survived    0\n",
       "pclass      0\n",
       "name        0\n",
       "sex         0\n",
       "age         0\n",
       "sibsp       0\n",
       "parch       0\n",
       "ticket      0\n",
       "fare        0\n",
       "embarked    0\n",
       "dtype: int64"
      ]
     },
     "execution_count": 189,
     "metadata": {},
     "output_type": "execute_result"
    }
   ],
   "source": [
    "df.isnull().sum()"
   ]
  },
  {
   "cell_type": "markdown",
   "id": "a6c838bf",
   "metadata": {},
   "source": [
    "* Now, we do not have any null values in our dataset."
   ]
  },
  {
   "cell_type": "markdown",
   "id": "54f9f89c",
   "metadata": {},
   "source": [
    "# Check for duplicates"
   ]
  },
  {
   "cell_type": "code",
   "execution_count": 190,
   "id": "f241ffe5",
   "metadata": {},
   "outputs": [
    {
     "data": {
      "text/plain": [
       "0"
      ]
     },
     "execution_count": 190,
     "metadata": {},
     "output_type": "execute_result"
    }
   ],
   "source": [
    "df.duplicated().sum()"
   ]
  },
  {
   "cell_type": "markdown",
   "id": "a97c3bcc",
   "metadata": {},
   "source": [
    "There are no duplicate rows in our dataset."
   ]
  },
  {
   "cell_type": "markdown",
   "id": "ca16a2a6",
   "metadata": {},
   "source": [
    "# Check for datatypes"
   ]
  },
  {
   "cell_type": "code",
   "execution_count": 191,
   "id": "3c3131e9",
   "metadata": {},
   "outputs": [
    {
     "data": {
      "text/plain": [
       "id            int64\n",
       "survived      int64\n",
       "pclass        int64\n",
       "name         object\n",
       "sex          object\n",
       "age         float64\n",
       "sibsp         int64\n",
       "parch         int64\n",
       "ticket       object\n",
       "fare        float64\n",
       "embarked     object\n",
       "dtype: object"
      ]
     },
     "execution_count": 191,
     "metadata": {},
     "output_type": "execute_result"
    }
   ],
   "source": [
    "df.dtypes"
   ]
  },
  {
   "cell_type": "markdown",
   "id": "e7aff876",
   "metadata": {},
   "source": [
    "* Change sex and embarked column to integer"
   ]
  },
  {
   "cell_type": "code",
   "execution_count": 192,
   "id": "c5ebfbbe",
   "metadata": {},
   "outputs": [],
   "source": [
    "df['sex'] = df['sex'].map( {'female': 1,'male':0}).astype(int)\n",
    "df['embarked'] = df['embarked'].map({'C': 0,'Q':1,'S':2}).astype(int)"
   ]
  },
  {
   "cell_type": "markdown",
   "id": "541073bc",
   "metadata": {},
   "source": [
    "# Remove irrelevant columns"
   ]
  },
  {
   "cell_type": "markdown",
   "id": "f8f39df2",
   "metadata": {},
   "source": [
    "Id, Name, Ticket and Fare are the irrelevant columns. These columns will not help in modeling. So, we will delete these columns."
   ]
  },
  {
   "cell_type": "code",
   "execution_count": 193,
   "id": "839ab01e",
   "metadata": {},
   "outputs": [],
   "source": [
    "df.drop(['id', 'name', 'ticket', 'fare'], axis = 1, inplace = True)"
   ]
  },
  {
   "cell_type": "code",
   "execution_count": 194,
   "id": "fe0898c7",
   "metadata": {},
   "outputs": [
    {
     "data": {
      "text/html": [
       "<div>\n",
       "<style scoped>\n",
       "    .dataframe tbody tr th:only-of-type {\n",
       "        vertical-align: middle;\n",
       "    }\n",
       "\n",
       "    .dataframe tbody tr th {\n",
       "        vertical-align: top;\n",
       "    }\n",
       "\n",
       "    .dataframe thead th {\n",
       "        text-align: right;\n",
       "    }\n",
       "</style>\n",
       "<table border=\"1\" class=\"dataframe\">\n",
       "  <thead>\n",
       "    <tr style=\"text-align: right;\">\n",
       "      <th></th>\n",
       "      <th>survived</th>\n",
       "      <th>pclass</th>\n",
       "      <th>sex</th>\n",
       "      <th>age</th>\n",
       "      <th>sibsp</th>\n",
       "      <th>parch</th>\n",
       "      <th>embarked</th>\n",
       "    </tr>\n",
       "  </thead>\n",
       "  <tbody>\n",
       "    <tr>\n",
       "      <th>0</th>\n",
       "      <td>0</td>\n",
       "      <td>3</td>\n",
       "      <td>0</td>\n",
       "      <td>34.5</td>\n",
       "      <td>0</td>\n",
       "      <td>0</td>\n",
       "      <td>1</td>\n",
       "    </tr>\n",
       "    <tr>\n",
       "      <th>1</th>\n",
       "      <td>1</td>\n",
       "      <td>3</td>\n",
       "      <td>1</td>\n",
       "      <td>47.0</td>\n",
       "      <td>1</td>\n",
       "      <td>0</td>\n",
       "      <td>2</td>\n",
       "    </tr>\n",
       "    <tr>\n",
       "      <th>2</th>\n",
       "      <td>0</td>\n",
       "      <td>2</td>\n",
       "      <td>0</td>\n",
       "      <td>62.0</td>\n",
       "      <td>0</td>\n",
       "      <td>0</td>\n",
       "      <td>1</td>\n",
       "    </tr>\n",
       "  </tbody>\n",
       "</table>\n",
       "</div>"
      ],
      "text/plain": [
       "   survived  pclass  sex   age  sibsp  parch  embarked\n",
       "0         0       3    0  34.5      0      0         1\n",
       "1         1       3    1  47.0      1      0         2\n",
       "2         0       2    0  62.0      0      0         1"
      ]
     },
     "execution_count": 194,
     "metadata": {},
     "output_type": "execute_result"
    }
   ],
   "source": [
    "df.head(3)"
   ]
  },
  {
   "cell_type": "markdown",
   "id": "f993b4f4",
   "metadata": {},
   "source": [
    "# Merge columns"
   ]
  },
  {
   "cell_type": "markdown",
   "id": "95030816",
   "metadata": {},
   "source": [
    "* We can consider siblings, spouse, parents and childrens as family members."
   ]
  },
  {
   "cell_type": "code",
   "execution_count": 195,
   "id": "924b3816",
   "metadata": {},
   "outputs": [],
   "source": [
    "df['family'] = df['sibsp'] + df['parch']"
   ]
  },
  {
   "cell_type": "code",
   "execution_count": 196,
   "id": "11107168",
   "metadata": {},
   "outputs": [
    {
     "data": {
      "text/html": [
       "<div>\n",
       "<style scoped>\n",
       "    .dataframe tbody tr th:only-of-type {\n",
       "        vertical-align: middle;\n",
       "    }\n",
       "\n",
       "    .dataframe tbody tr th {\n",
       "        vertical-align: top;\n",
       "    }\n",
       "\n",
       "    .dataframe thead th {\n",
       "        text-align: right;\n",
       "    }\n",
       "</style>\n",
       "<table border=\"1\" class=\"dataframe\">\n",
       "  <thead>\n",
       "    <tr style=\"text-align: right;\">\n",
       "      <th></th>\n",
       "      <th>survived</th>\n",
       "      <th>pclass</th>\n",
       "      <th>sex</th>\n",
       "      <th>age</th>\n",
       "      <th>sibsp</th>\n",
       "      <th>parch</th>\n",
       "      <th>embarked</th>\n",
       "      <th>family</th>\n",
       "    </tr>\n",
       "  </thead>\n",
       "  <tbody>\n",
       "    <tr>\n",
       "      <th>0</th>\n",
       "      <td>0</td>\n",
       "      <td>3</td>\n",
       "      <td>0</td>\n",
       "      <td>34.5</td>\n",
       "      <td>0</td>\n",
       "      <td>0</td>\n",
       "      <td>1</td>\n",
       "      <td>0</td>\n",
       "    </tr>\n",
       "    <tr>\n",
       "      <th>1</th>\n",
       "      <td>1</td>\n",
       "      <td>3</td>\n",
       "      <td>1</td>\n",
       "      <td>47.0</td>\n",
       "      <td>1</td>\n",
       "      <td>0</td>\n",
       "      <td>2</td>\n",
       "      <td>1</td>\n",
       "    </tr>\n",
       "    <tr>\n",
       "      <th>2</th>\n",
       "      <td>0</td>\n",
       "      <td>2</td>\n",
       "      <td>0</td>\n",
       "      <td>62.0</td>\n",
       "      <td>0</td>\n",
       "      <td>0</td>\n",
       "      <td>1</td>\n",
       "      <td>0</td>\n",
       "    </tr>\n",
       "    <tr>\n",
       "      <th>3</th>\n",
       "      <td>0</td>\n",
       "      <td>3</td>\n",
       "      <td>0</td>\n",
       "      <td>27.0</td>\n",
       "      <td>0</td>\n",
       "      <td>0</td>\n",
       "      <td>2</td>\n",
       "      <td>0</td>\n",
       "    </tr>\n",
       "    <tr>\n",
       "      <th>4</th>\n",
       "      <td>1</td>\n",
       "      <td>3</td>\n",
       "      <td>1</td>\n",
       "      <td>22.0</td>\n",
       "      <td>1</td>\n",
       "      <td>1</td>\n",
       "      <td>2</td>\n",
       "      <td>2</td>\n",
       "    </tr>\n",
       "  </tbody>\n",
       "</table>\n",
       "</div>"
      ],
      "text/plain": [
       "   survived  pclass  sex   age  sibsp  parch  embarked  family\n",
       "0         0       3    0  34.5      0      0         1       0\n",
       "1         1       3    1  47.0      1      0         2       1\n",
       "2         0       2    0  62.0      0      0         1       0\n",
       "3         0       3    0  27.0      0      0         2       0\n",
       "4         1       3    1  22.0      1      1         2       2"
      ]
     },
     "execution_count": 196,
     "metadata": {},
     "output_type": "execute_result"
    }
   ],
   "source": [
    "df.head()"
   ]
  },
  {
   "cell_type": "code",
   "execution_count": 197,
   "id": "79d904ed",
   "metadata": {},
   "outputs": [],
   "source": [
    "df.drop(['sibsp', 'parch'], axis = 1, inplace = True)"
   ]
  },
  {
   "cell_type": "markdown",
   "id": "df9eb1d7",
   "metadata": {},
   "source": [
    "# Rearrange columns"
   ]
  },
  {
   "cell_type": "code",
   "execution_count": 198,
   "id": "503bd107",
   "metadata": {},
   "outputs": [],
   "source": [
    "df = df[['sex', 'age', 'family', 'pclass', 'embarked', 'survived']]"
   ]
  },
  {
   "cell_type": "code",
   "execution_count": 199,
   "id": "e1ba643c",
   "metadata": {},
   "outputs": [
    {
     "data": {
      "text/html": [
       "<div>\n",
       "<style scoped>\n",
       "    .dataframe tbody tr th:only-of-type {\n",
       "        vertical-align: middle;\n",
       "    }\n",
       "\n",
       "    .dataframe tbody tr th {\n",
       "        vertical-align: top;\n",
       "    }\n",
       "\n",
       "    .dataframe thead th {\n",
       "        text-align: right;\n",
       "    }\n",
       "</style>\n",
       "<table border=\"1\" class=\"dataframe\">\n",
       "  <thead>\n",
       "    <tr style=\"text-align: right;\">\n",
       "      <th></th>\n",
       "      <th>sex</th>\n",
       "      <th>age</th>\n",
       "      <th>family</th>\n",
       "      <th>pclass</th>\n",
       "      <th>embarked</th>\n",
       "      <th>survived</th>\n",
       "    </tr>\n",
       "  </thead>\n",
       "  <tbody>\n",
       "    <tr>\n",
       "      <th>0</th>\n",
       "      <td>0</td>\n",
       "      <td>34.5</td>\n",
       "      <td>0</td>\n",
       "      <td>3</td>\n",
       "      <td>1</td>\n",
       "      <td>0</td>\n",
       "    </tr>\n",
       "    <tr>\n",
       "      <th>1</th>\n",
       "      <td>1</td>\n",
       "      <td>47.0</td>\n",
       "      <td>1</td>\n",
       "      <td>3</td>\n",
       "      <td>2</td>\n",
       "      <td>1</td>\n",
       "    </tr>\n",
       "  </tbody>\n",
       "</table>\n",
       "</div>"
      ],
      "text/plain": [
       "   sex   age  family  pclass  embarked  survived\n",
       "0    0  34.5       0       3         1         0\n",
       "1    1  47.0       1       3         2         1"
      ]
     },
     "execution_count": 199,
     "metadata": {},
     "output_type": "execute_result"
    }
   ],
   "source": [
    "df.head(2)"
   ]
  },
  {
   "cell_type": "markdown",
   "id": "dc336a26",
   "metadata": {},
   "source": [
    "# 3. Explorartory Data Analysis"
   ]
  },
  {
   "cell_type": "markdown",
   "id": "5b073000",
   "metadata": {},
   "source": [
    "# * Univariate Analysis"
   ]
  },
  {
   "cell_type": "markdown",
   "id": "0a9ef4a3",
   "metadata": {},
   "source": [
    "# Survived"
   ]
  },
  {
   "cell_type": "code",
   "execution_count": 200,
   "id": "728a47ce",
   "metadata": {},
   "outputs": [
    {
     "data": {
      "text/plain": [
       "([<matplotlib.axis.XTick at 0x22b3767e450>,\n",
       "  <matplotlib.axis.XTick at 0x22b376b0150>],\n",
       " [Text(0, 0, 'Not Survived'), Text(1, 0, 'Survived')])"
      ]
     },
     "execution_count": 200,
     "metadata": {},
     "output_type": "execute_result"
    },
    {
     "data": {
      "image/png": "[encoded data removed]",
      "text/plain": [
       "<Figure size 600x500 with 1 Axes>"
      ]
     },
     "metadata": {},
     "output_type": "display_data"
    }
   ],
   "source": [
    "plt.figure(figsize = (6,5))\n",
    "sns.countplot(x = 'survived', data = df)\n",
    "\n",
    "legends = [plt.Line2D([0], [0], color = 'blue'), plt.Line2D([0], [0], color = 'orange')]\n",
    "plt.legend(legends, ['Not Survived', 'Survived'], title = 'Survived')\n",
    "plt.xticks([0,1], ['Not Survived', 'Survived'])"
   ]
  },
  {
   "cell_type": "code",
   "execution_count": 201,
   "id": "ab2900ff",
   "metadata": {},
   "outputs": [
    {
     "data": {
      "text/plain": [
       "survived\n",
       "0    265\n",
       "1    152\n",
       "Name: count, dtype: int64"
      ]
     },
     "execution_count": 201,
     "metadata": {},
     "output_type": "execute_result"
    }
   ],
   "source": [
    "df['survived'].value_counts()"
   ]
  },
  {
   "cell_type": "markdown",
   "id": "998fea7b",
   "metadata": {},
   "source": [
    "Analysis:\n",
    "\n",
    "Total number of people who survived = 152\n",
    "\n",
    "Total number of people who did not survive = 265\n",
    "\n",
    "* As we can see that our data is imbalanced. So, we need to balance our data. "
   ]
  },
  {
   "cell_type": "markdown",
   "id": "442cbe5f",
   "metadata": {},
   "source": [
    "# Pclass"
   ]
  },
  {
   "cell_type": "code",
   "execution_count": 202,
   "id": "2ed28862",
   "metadata": {},
   "outputs": [
    {
     "data": {
      "text/plain": [
       "([<matplotlib.axis.XTick at 0x22b37619890>,\n",
       "  <matplotlib.axis.XTick at 0x22b378406d0>,\n",
       "  <matplotlib.axis.XTick at 0x22b376f72d0>],\n",
       " [Text(0, 0, '1st Class'), Text(1, 0, '2nd Class'), Text(2, 0, '3rd Class')])"
      ]
     },
     "execution_count": 202,
     "metadata": {},
     "output_type": "execute_result"
    },
    {
     "data": {
      "image/png": "[encoded data removed]",
      "text/plain": [
       "<Figure size 1000x500 with 1 Axes>"
      ]
     },
     "metadata": {},
     "output_type": "display_data"
    }
   ],
   "source": [
    "plt.figure(figsize = (10,5))\n",
    "sns.countplot(x = 'pclass', data = df)\n",
    "\n",
    "legend_handles = [plt.Line2D([0], [0], color = 'blue'), plt.Line2D([0], [0], color = 'orange'), plt.Line2D([0], [0], color = 'green')]\n",
    "plt.legend(legend_handles, ['1st Class', '2nd Class', '3rd Class'], title = 'Pclass')\n",
    "plt.xticks([0,1,2], ['1st Class', '2nd Class', '3rd Class'])"
   ]
  },
  {
   "cell_type": "code",
   "execution_count": 203,
   "id": "4f3335dd",
   "metadata": {},
   "outputs": [
    {
     "data": {
      "text/plain": [
       "pclass\n",
       "3    217\n",
       "1    107\n",
       "2     93\n",
       "Name: count, dtype: int64"
      ]
     },
     "execution_count": 203,
     "metadata": {},
     "output_type": "execute_result"
    }
   ],
   "source": [
    "df['pclass'].value_counts()"
   ]
  },
  {
   "cell_type": "markdown",
   "id": "125141b1",
   "metadata": {},
   "source": [
    "Analysis:\n",
    "    \n",
    "   * Most of the people are from class 3.\n",
    "    \n",
    "   * Less number of people are from class 2."
   ]
  },
  {
   "cell_type": "markdown",
   "id": "4fdef134",
   "metadata": {},
   "source": [
    "# Gender"
   ]
  },
  {
   "cell_type": "code",
   "execution_count": 204,
   "id": "b8d20de4",
   "metadata": {},
   "outputs": [
    {
     "data": {
      "text/plain": [
       "([<matplotlib.axis.XTick at 0x22b37881410>,\n",
       "  <matplotlib.axis.XTick at 0x22b37867c90>],\n",
       " [Text(0, 0, 'Female'), Text(1, 0, 'Male')])"
      ]
     },
     "execution_count": 204,
     "metadata": {},
     "output_type": "execute_result"
    },
    {
     "data": {
      "image/png": "[encoded data removed]",
      "text/plain": [
       "<Figure size 500x300 with 1 Axes>"
      ]
     },
     "metadata": {},
     "output_type": "display_data"
    }
   ],
   "source": [
    "plt.figure(figsize = (5,3))\n",
    "sns.countplot(x = 'sex', data = df)\n",
    "\n",
    "legend_handles = [plt.Line2D([0], [0], color = 'blue'), plt.Line2D([0], [0], color = 'orange')]\n",
    "plt.legend(legend_handles, ['Feamle', 'Male'], title = 'Gender')\n",
    "plt.xticks([0,1], ['Female', 'Male'])"
   ]
  },
  {
   "cell_type": "code",
   "execution_count": 205,
   "id": "28ea008d",
   "metadata": {},
   "outputs": [
    {
     "data": {
      "text/plain": [
       "sex\n",
       "0    265\n",
       "1    152\n",
       "Name: count, dtype: int64"
      ]
     },
     "execution_count": 205,
     "metadata": {},
     "output_type": "execute_result"
    }
   ],
   "source": [
    "df['sex'].value_counts()"
   ]
  },
  {
   "cell_type": "markdown",
   "id": "c1ea7a51",
   "metadata": {},
   "source": [
    "Analysis:\n",
    "    \n",
    "   * Most of the passengers in the dataset are females."
   ]
  },
  {
   "cell_type": "markdown",
   "id": "45bbd67d",
   "metadata": {},
   "source": [
    "# Family Members"
   ]
  },
  {
   "cell_type": "code",
   "execution_count": 206,
   "id": "87798f23",
   "metadata": {},
   "outputs": [
    {
     "data": {
      "text/plain": [
       "([<matplotlib.axis.XTick at 0x22b3790a310>,\n",
       "  <matplotlib.axis.XTick at 0x22b37908f90>,\n",
       "  <matplotlib.axis.XTick at 0x22b37624790>,\n",
       "  <matplotlib.axis.XTick at 0x22b37713dd0>,\n",
       "  <matplotlib.axis.XTick at 0x22b3771e210>,\n",
       "  <matplotlib.axis.XTick at 0x22b37720690>,\n",
       "  <matplotlib.axis.XTick at 0x22b37721990>,\n",
       "  <matplotlib.axis.XTick at 0x22b37723ad0>,\n",
       "  <matplotlib.axis.XTick at 0x22b37729d50>],\n",
       " [Text(0, 0, '0 Member'),\n",
       "  Text(1, 0, '1 Member'),\n",
       "  Text(2, 0, '2 Members'),\n",
       "  Text(3, 0, '3 Members'),\n",
       "  Text(4, 0, '4 Members'),\n",
       "  Text(5, 0, '5 Members'),\n",
       "  Text(6, 0, '6 Members'),\n",
       "  Text(7, 0, '7 Members'),\n",
       "  Text(8, 0, '10 Members')])"
      ]
     },
     "execution_count": 206,
     "metadata": {},
     "output_type": "execute_result"
    },
    {
     "data": {
      "image/png": "[encoded data removed]",
      "text/plain": [
       "<Figure size 1000x300 with 1 Axes>"
      ]
     },
     "metadata": {},
     "output_type": "display_data"
    }
   ],
   "source": [
    "plt.figure(figsize = (10,3))\n",
    "sns.countplot(x = 'family', data = df)\n",
    "\n",
    "plt.xticks([0,1,2,3,4,5,6,7,8], ['0 Member', '1 Member', '2 Members', '3 Members', '4 Members', '5 Members', '6 Members', '7 Members', '10 Members'])"
   ]
  },
  {
   "cell_type": "code",
   "execution_count": 207,
   "id": "50893d89",
   "metadata": {},
   "outputs": [
    {
     "data": {
      "text/plain": [
       "family\n",
       "0     252\n",
       "1      74\n",
       "2      57\n",
       "3      14\n",
       "4       7\n",
       "6       4\n",
       "10      4\n",
       "5       3\n",
       "7       2\n",
       "Name: count, dtype: int64"
      ]
     },
     "execution_count": 207,
     "metadata": {},
     "output_type": "execute_result"
    }
   ],
   "source": [
    "df['family'].value_counts()"
   ]
  },
  {
   "cell_type": "markdown",
   "id": "d582ae4f",
   "metadata": {},
   "source": [
    "Analysis:\n",
    "    \n",
    "   * Most of the passengers are single in the dataset.\n",
    "    \n",
    "   * Family of 7 is the least in the dataset."
   ]
  },
  {
   "cell_type": "markdown",
   "id": "222413fc",
   "metadata": {},
   "source": [
    "# Embarked"
   ]
  },
  {
   "cell_type": "code",
   "execution_count": 208,
   "id": "f080c966",
   "metadata": {},
   "outputs": [
    {
     "data": {
      "text/plain": [
       "([<matplotlib.axis.XTick at 0x22b3789c3d0>,\n",
       "  <matplotlib.axis.XTick at 0x22b3775e990>,\n",
       "  <matplotlib.axis.XTick at 0x22b377527d0>],\n",
       " [Text(0, 0, 'Cherbourg'),\n",
       "  Text(1, 0, 'Queenstown'),\n",
       "  Text(2, 0, 'Southampton')])"
      ]
     },
     "execution_count": 208,
     "metadata": {},
     "output_type": "execute_result"
    },
    {
     "data": {
      "image/png": "[encoded data removed]",
      "text/plain": [
       "<Figure size 700x500 with 1 Axes>"
      ]
     },
     "metadata": {},
     "output_type": "display_data"
    }
   ],
   "source": [
    "plt.figure(figsize = (7,5))\n",
    "sns.countplot(x = 'embarked', data = df)\n",
    "\n",
    "legends = [plt.Line2D([0], [0], color = 'blue'), plt.Line2D([0], [0], color = 'orange'), plt.Line2D([0], [0], color = 'green')]\n",
    "plt.legend(legends, ['Cherbourg', 'Queenstown', 'Southampton'], title = 'Embarked')\n",
    "plt.xticks([0,1,2], ['Cherbourg', 'Queenstown', 'Southampton'])"
   ]
  },
  {
   "cell_type": "code",
   "execution_count": 209,
   "id": "b0b2dee5",
   "metadata": {},
   "outputs": [
    {
     "data": {
      "text/plain": [
       "embarked\n",
       "2    269\n",
       "0    102\n",
       "1     46\n",
       "Name: count, dtype: int64"
      ]
     },
     "execution_count": 209,
     "metadata": {},
     "output_type": "execute_result"
    }
   ],
   "source": [
    "df['embarked'].value_counts()"
   ]
  },
  {
   "cell_type": "markdown",
   "id": "c9600dd6",
   "metadata": {},
   "source": [
    "Analysis:\n",
    "    \n",
    "   * Most of the passengers boarded from 'Sothampton'.\n",
    "    \n",
    "   * Less number of passengers boarded from 'Queenstown'."
   ]
  },
  {
   "cell_type": "markdown",
   "id": "1630d9c8",
   "metadata": {},
   "source": [
    "# Age Group"
   ]
  },
  {
   "cell_type": "code",
   "execution_count": 210,
   "id": "11433d28",
   "metadata": {},
   "outputs": [
    {
     "data": {
      "text/plain": [
       "Text(0.5, 1.0, 'Age Distribution')"
      ]
     },
     "execution_count": 210,
     "metadata": {},
     "output_type": "execute_result"
    },
    {
     "data": {
      "image/png": "[encoded data removed]",
      "text/plain": [
       "<Figure size 640x480 with 1 Axes>"
      ]
     },
     "metadata": {},
     "output_type": "display_data"
    }
   ],
   "source": [
    "bin_edges = [0, 10, 20, 30, 40, 50, 60, 70, 80]\n",
    "\n",
    "# Create a histogram with custom bins using Seaborn\n",
    "sns.histplot(df['age'], bins = bin_edges, kde = False)\n",
    "\n",
    "# Add labels and a title\n",
    "plt.xlabel('Age')\n",
    "plt.ylabel('Count')\n",
    "plt.title('Age Distribution')"
   ]
  },
  {
   "cell_type": "markdown",
   "id": "4fdc4a52",
   "metadata": {},
   "source": [
    "Analysis:\n",
    "    \n",
    "   * Most of the passengers are from the age group of 20 to 30.\n",
    "    \n",
    "   * Passengers of age group 70 to 80 are very less."
   ]
  },
  {
   "cell_type": "markdown",
   "id": "f4c0bf2b",
   "metadata": {},
   "source": [
    "# * Bivariate Analysis"
   ]
  },
  {
   "cell_type": "markdown",
   "id": "126d5245",
   "metadata": {},
   "source": [
    "# Gender and Survived"
   ]
  },
  {
   "cell_type": "code",
   "execution_count": 211,
   "id": "af3b6319",
   "metadata": {},
   "outputs": [
    {
     "data": {
      "text/plain": [
       "([<matplotlib.axis.XTick at 0x22b37992450>,\n",
       "  <matplotlib.axis.XTick at 0x22b379910d0>],\n",
       " [Text(0, 0, 'Female'), Text(1, 0, 'Male')])"
      ]
     },
     "execution_count": 211,
     "metadata": {},
     "output_type": "execute_result"
    },
    {
     "data": {
      "image/png": "[encoded data removed]",
      "text/plain": [
       "<Figure size 300x300 with 1 Axes>"
      ]
     },
     "metadata": {},
     "output_type": "display_data"
    }
   ],
   "source": [
    "plt.figure(figsize = (3,3))\n",
    "sns.countplot(x = 'sex', data = df, hue = 'survived')\n",
    "\n",
    "plt.legend(['Not Survived', 'Survived'])\n",
    "plt.xticks([0,1], ['Female', 'Male'])"
   ]
  },
  {
   "cell_type": "markdown",
   "id": "f1eded30",
   "metadata": {},
   "source": [
    "Analysis:\n",
    "    \n",
    "   * Most of the passengers who do not survive are females."
   ]
  },
  {
   "cell_type": "markdown",
   "id": "a74e4759",
   "metadata": {},
   "source": [
    "# Family and Survived"
   ]
  },
  {
   "cell_type": "code",
   "execution_count": 212,
   "id": "866a1bd8",
   "metadata": {},
   "outputs": [
    {
     "data": {
      "text/plain": [
       "([<matplotlib.axis.XTick at 0x22b379db3d0>,\n",
       "  <matplotlib.axis.XTick at 0x22b379f9e10>,\n",
       "  <matplotlib.axis.XTick at 0x22b379e1a90>,\n",
       "  <matplotlib.axis.XTick at 0x22b37a47250>,\n",
       "  <matplotlib.axis.XTick at 0x22b37a51550>,\n",
       "  <matplotlib.axis.XTick at 0x22b37a09c90>,\n",
       "  <matplotlib.axis.XTick at 0x22b37a54b10>,\n",
       "  <matplotlib.axis.XTick at 0x22b37a56c10>,\n",
       "  <matplotlib.axis.XTick at 0x22b37a60f10>],\n",
       " [Text(0, 0, '0 Member'),\n",
       "  Text(1, 0, '1 Member'),\n",
       "  Text(2, 0, '2 Members'),\n",
       "  Text(3, 0, '3 Members'),\n",
       "  Text(4, 0, '4 Members'),\n",
       "  Text(5, 0, '5 Members'),\n",
       "  Text(6, 0, '6 Members'),\n",
       "  Text(7, 0, '7 Members'),\n",
       "  Text(8, 0, '10 Members')])"
      ]
     },
     "execution_count": 212,
     "metadata": {},
     "output_type": "execute_result"
    },
    {
     "data": {
      "image/png": "[encoded data removed]",
      "text/plain": [
       "<Figure size 1000x300 with 1 Axes>"
      ]
     },
     "metadata": {},
     "output_type": "display_data"
    }
   ],
   "source": [
    "plt.figure(figsize = (10,3))\n",
    "sns.countplot(x = 'family', data = df, hue = 'survived')\n",
    "\n",
    "plt.legend(['Not Survived', 'Survived'])\n",
    "plt.xticks([0,1,2,3,4,5,6,7,8], ['0 Member', '1 Member', '2 Members', '3 Members', '4 Members', '5 Members', '6 Members', '7 Members', '10 Members'])"
   ]
  },
  {
   "cell_type": "markdown",
   "id": "45b920ba",
   "metadata": {},
   "source": [
    "Analysis:\n",
    "    \n",
    "   * Most of the single passengers did not survive.\n",
    "    \n",
    "   * Passengers with family mostly survived."
   ]
  },
  {
   "cell_type": "markdown",
   "id": "a5081a0c",
   "metadata": {},
   "source": [
    "# Family and Embarked"
   ]
  },
  {
   "cell_type": "code",
   "execution_count": 213,
   "id": "f41e0c7f",
   "metadata": {},
   "outputs": [
    {
     "data": {
      "text/plain": [
       "([<matplotlib.axis.XTick at 0x22b37846150>,\n",
       "  <matplotlib.axis.XTick at 0x22b37aacf90>,\n",
       "  <matplotlib.axis.XTick at 0x22b37a90bd0>],\n",
       " [Text(0, 0, 'Cherbourg'),\n",
       "  Text(1, 0, 'Queenstown'),\n",
       "  Text(2, 0, 'Southampton')])"
      ]
     },
     "execution_count": 213,
     "metadata": {},
     "output_type": "execute_result"
    },
    {
     "data": {
      "image/png": "[encoded data removed]",
      "text/plain": [
       "<Figure size 700x500 with 1 Axes>"
      ]
     },
     "metadata": {},
     "output_type": "display_data"
    }
   ],
   "source": [
    "plt.figure(figsize = (7,5))\n",
    "sns.countplot(x = 'embarked', data = df, hue = 'survived')\n",
    "\n",
    "plt.legend(['Not Survived', 'Survived'])\n",
    "plt.xticks([0,1,2], ['Cherbourg', 'Queenstown', 'Southampton'])"
   ]
  },
  {
   "cell_type": "markdown",
   "id": "950365af",
   "metadata": {},
   "source": [
    "Analysis:\n",
    "    \n",
    "   * Most of the passengers who did not survive were boarded from 'Southampton'.\n",
    "   \n",
    "   * Most of the passengers boarded from 'Cherbourg' did not survive.\n",
    "    \n",
    "   * Most of the passengers boarded from 'Queenstown' survived."
   ]
  },
  {
   "cell_type": "markdown",
   "id": "cde9bc1e",
   "metadata": {},
   "source": [
    "# 4. Data Preprocessing"
   ]
  },
  {
   "cell_type": "markdown",
   "id": "86567af9",
   "metadata": {},
   "source": [
    "In Data Preprocessing, we will perorm:\n",
    "    \n",
    "    1. Check for outliers\n",
    "    2. Check correlation\n",
    "    3. Split data in train and test\n",
    "    4. Apply standard scaling\n",
    "    5. Apply SOMTE on training data for data balancing"
   ]
  },
  {
   "cell_type": "markdown",
   "id": "bcf09fec",
   "metadata": {},
   "source": [
    "# Check Outliers:"
   ]
  },
  {
   "cell_type": "code",
   "execution_count": 214,
   "id": "c05f4bfa",
   "metadata": {},
   "outputs": [],
   "source": [
    "df_new = df.copy(deep = True)"
   ]
  },
  {
   "cell_type": "code",
   "execution_count": 215,
   "id": "dba4997b",
   "metadata": {},
   "outputs": [],
   "source": [
    "def outliers_box(d_f,col_):\n",
    "    q1 = np.quantile(d_f[col_],.25)\n",
    "    q2 = np.quantile(d_f[col_],.75)\n",
    "    iqr = q2-q1\n",
    "    maxima_ = q2 + 1.5*iqr\n",
    "    minima_ = q1 - 1.5*iqr\n",
    "    \n",
    "    if((d_f[col_].max() > maxima_) or (d_f[col_].min() < minima_)):\n",
    "        print(col_,'------- outliers present')\n",
    "    else:\n",
    "        print(col_,'------- outliers not present')\n",
    "        \n",
    "    return(minima_,maxima_)"
   ]
  },
  {
   "cell_type": "code",
   "execution_count": 216,
   "id": "a07cd7d5",
   "metadata": {},
   "outputs": [],
   "source": [
    "def out_remove(d_f,col_):\n",
    "    x1,y1 = outliers_box(d_f,col_)\n",
    "    df_new.drop(index= d_f[(d_f[col_]<x1) | (d_f[col_]>y1)].index, axis = 0, inplace =True)"
   ]
  },
  {
   "cell_type": "code",
   "execution_count": 217,
   "id": "91f93883",
   "metadata": {},
   "outputs": [
    {
     "name": "stdout",
     "output_type": "stream",
     "text": [
      "sex ------- outliers not present\n",
      "age ------- outliers present\n",
      "family ------- outliers present\n",
      "pclass ------- outliers not present\n",
      "embarked ------- outliers not present\n",
      "survived ------- outliers not present\n"
     ]
    }
   ],
   "source": [
    "for i in df_new.columns:\n",
    "    out_remove(df_new,i)\n",
    "    df_new.reset_index(drop=True,inplace = True)"
   ]
  },
  {
   "cell_type": "code",
   "execution_count": 218,
   "id": "631bb19d",
   "metadata": {},
   "outputs": [
    {
     "data": {
      "text/plain": [
       "(417, 6)"
      ]
     },
     "execution_count": 218,
     "metadata": {},
     "output_type": "execute_result"
    }
   ],
   "source": [
    "df.shape"
   ]
  },
  {
   "cell_type": "code",
   "execution_count": 219,
   "id": "bd4621cc",
   "metadata": {},
   "outputs": [
    {
     "data": {
      "text/plain": [
       "(351, 6)"
      ]
     },
     "execution_count": 219,
     "metadata": {},
     "output_type": "execute_result"
    }
   ],
   "source": [
    "df_new.shape"
   ]
  },
  {
   "cell_type": "markdown",
   "id": "dcf4f624",
   "metadata": {},
   "source": [
    "* Here, we can see that there are some outliers in the 'Age' and 'Family' columns. \n",
    "\n",
    "* After removing the outliers, 66 rows were deleted.\n",
    "\n",
    "* But, as we have a low amount of data and both the columns are important for modeling. We will not remove outliers."
   ]
  },
  {
   "cell_type": "markdown",
   "id": "18d02084",
   "metadata": {},
   "source": [
    "# Check Correlation"
   ]
  },
  {
   "cell_type": "code",
   "execution_count": 220,
   "id": "a02239d1",
   "metadata": {},
   "outputs": [
    {
     "data": {
      "text/plain": [
       "<Axes: >"
      ]
     },
     "execution_count": 220,
     "metadata": {},
     "output_type": "execute_result"
    },
    {
     "data": {
      "image/png": "[encoded data removed]",
      "text/plain": [
       "<Figure size 640x480 with 2 Axes>"
      ]
     },
     "metadata": {},
     "output_type": "display_data"
    }
   ],
   "source": [
    "sns.heatmap(df.corr(), annot = True)"
   ]
  },
  {
   "cell_type": "markdown",
   "id": "c7b60a18",
   "metadata": {},
   "source": [
    "There is no such correlation between columns."
   ]
  },
  {
   "cell_type": "markdown",
   "id": "5cef5ef3",
   "metadata": {},
   "source": [
    "# Standard Scaling"
   ]
  },
  {
   "cell_type": "code",
   "execution_count": 221,
   "id": "f1a0d7f1",
   "metadata": {},
   "outputs": [],
   "source": [
    "from sklearn.preprocessing import StandardScaler"
   ]
  },
  {
   "cell_type": "code",
   "execution_count": 222,
   "id": "9bbdd8ee",
   "metadata": {},
   "outputs": [],
   "source": [
    "scale = df.drop('survived', axis = 1)"
   ]
  },
  {
   "cell_type": "code",
   "execution_count": 223,
   "id": "9ce2f9c7",
   "metadata": {},
   "outputs": [],
   "source": [
    "ss = StandardScaler()"
   ]
  },
  {
   "cell_type": "code",
   "execution_count": 224,
   "id": "34f8bfc8",
   "metadata": {},
   "outputs": [],
   "source": [
    "scaled_data = ss.fit_transform(scale)"
   ]
  },
  {
   "cell_type": "code",
   "execution_count": 225,
   "id": "246ee3c8",
   "metadata": {},
   "outputs": [],
   "source": [
    "scaled_df = pd.DataFrame(scaled_data, columns = scale.columns)"
   ]
  },
  {
   "cell_type": "code",
   "execution_count": 226,
   "id": "a756e45a",
   "metadata": {},
   "outputs": [
    {
     "data": {
      "text/html": [
       "<div>\n",
       "<style scoped>\n",
       "    .dataframe tbody tr th:only-of-type {\n",
       "        vertical-align: middle;\n",
       "    }\n",
       "\n",
       "    .dataframe tbody tr th {\n",
       "        vertical-align: top;\n",
       "    }\n",
       "\n",
       "    .dataframe thead th {\n",
       "        text-align: right;\n",
       "    }\n",
       "</style>\n",
       "<table border=\"1\" class=\"dataframe\">\n",
       "  <thead>\n",
       "    <tr style=\"text-align: right;\">\n",
       "      <th></th>\n",
       "      <th>sex</th>\n",
       "      <th>age</th>\n",
       "      <th>family</th>\n",
       "      <th>pclass</th>\n",
       "      <th>embarked</th>\n",
       "    </tr>\n",
       "  </thead>\n",
       "  <tbody>\n",
       "    <tr>\n",
       "      <th>0</th>\n",
       "      <td>-0.757354</td>\n",
       "      <td>0.394417</td>\n",
       "      <td>-0.554309</td>\n",
       "      <td>0.875330</td>\n",
       "      <td>-0.468949</td>\n",
       "    </tr>\n",
       "    <tr>\n",
       "      <th>1</th>\n",
       "      <td>1.320387</td>\n",
       "      <td>1.385449</td>\n",
       "      <td>0.104229</td>\n",
       "      <td>0.875330</td>\n",
       "      <td>0.702020</td>\n",
       "    </tr>\n",
       "    <tr>\n",
       "      <th>2</th>\n",
       "      <td>-0.757354</td>\n",
       "      <td>2.574688</td>\n",
       "      <td>-0.554309</td>\n",
       "      <td>-0.313636</td>\n",
       "      <td>-0.468949</td>\n",
       "    </tr>\n",
       "  </tbody>\n",
       "</table>\n",
       "</div>"
      ],
      "text/plain": [
       "        sex       age    family    pclass  embarked\n",
       "0 -0.757354  0.394417 -0.554309  0.875330 -0.468949\n",
       "1  1.320387  1.385449  0.104229  0.875330  0.702020\n",
       "2 -0.757354  2.574688 -0.554309 -0.313636 -0.468949"
      ]
     },
     "execution_count": 226,
     "metadata": {},
     "output_type": "execute_result"
    }
   ],
   "source": [
    "scaled_df.head(3)"
   ]
  },
  {
   "cell_type": "markdown",
   "id": "de0f49f1",
   "metadata": {},
   "source": [
    "# Train Test Split"
   ]
  },
  {
   "cell_type": "code",
   "execution_count": 227,
   "id": "d44e392c",
   "metadata": {},
   "outputs": [],
   "source": [
    "X = scaled_df\n",
    "y = df['survived']"
   ]
  },
  {
   "cell_type": "code",
   "execution_count": 228,
   "id": "0d25c674",
   "metadata": {},
   "outputs": [],
   "source": [
    "X_train, X_test, y_train, y_test = train_test_split(X, y, test_size = 0.2, random_state = 104)"
   ]
  },
  {
   "cell_type": "markdown",
   "id": "7c16ad86",
   "metadata": {},
   "source": [
    "# Apply SMOTE for Data Balancing"
   ]
  },
  {
   "cell_type": "code",
   "execution_count": 229,
   "id": "b97f50e8",
   "metadata": {},
   "outputs": [],
   "source": [
    "from imblearn.over_sampling import SMOTE"
   ]
  },
  {
   "cell_type": "code",
   "execution_count": 230,
   "id": "d0ae9d66",
   "metadata": {},
   "outputs": [],
   "source": [
    "X_train_resampled, y_train_resampled = SMOTE().fit_resample(X_train, y_train)"
   ]
  },
  {
   "cell_type": "code",
   "execution_count": 234,
   "id": "7ff07147",
   "metadata": {},
   "outputs": [
    {
     "name": "stdout",
     "output_type": "stream",
     "text": [
      "(412, 5)\n",
      "(412,)\n"
     ]
    }
   ],
   "source": [
    "print(X_train_resampled.shape)\n",
    "print(y_train_resampled.shape)"
   ]
  },
  {
   "cell_type": "markdown",
   "id": "f543f688",
   "metadata": {},
   "source": [
    "# 5. Model Building"
   ]
  },
  {
   "cell_type": "markdown",
   "id": "e725d708",
   "metadata": {},
   "source": [
    "# * Scorecard Function"
   ]
  },
  {
   "cell_type": "code",
   "execution_count": 235,
   "id": "77f7332c",
   "metadata": {},
   "outputs": [],
   "source": [
    "df_scorecard = pd.DataFrame(columns = ['Model_name', 'Accuracy_Score_train', 'Precision_Score_train', 'Recall_Score_train', 'F1_Score_train', 'Accuracy_Score_test', 'Precision_Score_test', 'Recall_Score_test', 'F1_Score_test'])"
   ]
  },
  {
   "cell_type": "code",
   "execution_count": 236,
   "id": "de5d322f",
   "metadata": {},
   "outputs": [
    {
     "data": {
      "text/html": [
       "<div>\n",
       "<style scoped>\n",
       "    .dataframe tbody tr th:only-of-type {\n",
       "        vertical-align: middle;\n",
       "    }\n",
       "\n",
       "    .dataframe tbody tr th {\n",
       "        vertical-align: top;\n",
       "    }\n",
       "\n",
       "    .dataframe thead th {\n",
       "        text-align: right;\n",
       "    }\n",
       "</style>\n",
       "<table border=\"1\" class=\"dataframe\">\n",
       "  <thead>\n",
       "    <tr style=\"text-align: right;\">\n",
       "      <th></th>\n",
       "      <th>Model_name</th>\n",
       "      <th>Accuracy_Score_train</th>\n",
       "      <th>Precision_Score_train</th>\n",
       "      <th>Recall_Score_train</th>\n",
       "      <th>F1_Score_train</th>\n",
       "      <th>Accuracy_Score_test</th>\n",
       "      <th>Precision_Score_test</th>\n",
       "      <th>Recall_Score_test</th>\n",
       "      <th>F1_Score_test</th>\n",
       "    </tr>\n",
       "  </thead>\n",
       "  <tbody>\n",
       "  </tbody>\n",
       "</table>\n",
       "</div>"
      ],
      "text/plain": [
       "Empty DataFrame\n",
       "Columns: [Model_name, Accuracy_Score_train, Precision_Score_train, Recall_Score_train, F1_Score_train, Accuracy_Score_test, Precision_Score_test, Recall_Score_test, F1_Score_test]\n",
       "Index: []"
      ]
     },
     "execution_count": 236,
     "metadata": {},
     "output_type": "execute_result"
    }
   ],
   "source": [
    "df_scorecard"
   ]
  },
  {
   "cell_type": "code",
   "execution_count": 237,
   "id": "ad0d4c65",
   "metadata": {},
   "outputs": [],
   "source": [
    "def score_card(d_f, model_name, y_pred, y_test, x_pred, y_train):\n",
    "    metrics_dict = {\n",
    "        'Model_name': model_name,\n",
    "        'Accuracy_Score_train': accuracy_score(y_train, x_pred),\n",
    "        'Precision_Score_train': precision_score(y_train, x_pred, average='macro'),\n",
    "        'Recall_Score_train': recall_score(y_train, x_pred, average='macro'),\n",
    "        'F1_Score_train': f1_score(y_train, x_pred, average='macro'),\n",
    "        'Accuracy_Score_test': accuracy_score(y_test, y_pred),\n",
    "        'Precision_Score_test': precision_score(y_test, y_pred, average='macro'),\n",
    "        'Recall_Score_test': recall_score(y_test, y_pred, average='macro'),\n",
    "        'F1_Score_test': f1_score(y_test, y_pred, average='macro')\n",
    "    }\n",
    "\n",
    "    dfx = pd.concat([d_f, pd.DataFrame(metrics_dict, index=[0])], ignore_index=True)\n",
    "    return dfx"
   ]
  },
  {
   "cell_type": "markdown",
   "id": "df4c4c85",
   "metadata": {},
   "source": [
    "# 1. Logistic Regression"
   ]
  },
  {
   "cell_type": "code",
   "execution_count": 238,
   "id": "3a9ba46a",
   "metadata": {},
   "outputs": [],
   "source": [
    "from sklearn.linear_model import LogisticRegression"
   ]
  },
  {
   "cell_type": "code",
   "execution_count": 239,
   "id": "1482f78a",
   "metadata": {},
   "outputs": [
    {
     "data": {
      "text/plain": [
       "<sklearn.metrics._plot.confusion_matrix.ConfusionMatrixDisplay at 0x22b37b08a90>"
      ]
     },
     "execution_count": 239,
     "metadata": {},
     "output_type": "execute_result"
    },
    {
     "data": {
      "image/png": "[encoded data removed]",
      "text/plain": [
       "<Figure size 640x480 with 2 Axes>"
      ]
     },
     "metadata": {},
     "output_type": "display_data"
    }
   ],
   "source": [
    "lr = LogisticRegression(solver = 'liblinear', penalty = 'l1')\n",
    "model_lr = lr.fit(X_train_resampled, y_train_resampled)\n",
    "ypred_lr = model_lr.predict(X_test)\n",
    "ypred_lr_train = model_lr.predict(X_train_resampled)\n",
    "cm_lr = confusion_matrix(y_test, ypred_lr)\n",
    "(ConfusionMatrixDisplay(confusion_matrix = cm_lr, display_labels = ['Not Survived', 'Survived'])).plot()"
   ]
  },
  {
   "cell_type": "code",
   "execution_count": 241,
   "id": "8117c299",
   "metadata": {},
   "outputs": [
    {
     "data": {
      "text/html": [
       "<div>\n",
       "<style scoped>\n",
       "    .dataframe tbody tr th:only-of-type {\n",
       "        vertical-align: middle;\n",
       "    }\n",
       "\n",
       "    .dataframe tbody tr th {\n",
       "        vertical-align: top;\n",
       "    }\n",
       "\n",
       "    .dataframe thead th {\n",
       "        text-align: right;\n",
       "    }\n",
       "</style>\n",
       "<table border=\"1\" class=\"dataframe\">\n",
       "  <thead>\n",
       "    <tr style=\"text-align: right;\">\n",
       "      <th></th>\n",
       "      <th>Model_name</th>\n",
       "      <th>Accuracy_Score_train</th>\n",
       "      <th>Precision_Score_train</th>\n",
       "      <th>Recall_Score_train</th>\n",
       "      <th>F1_Score_train</th>\n",
       "      <th>Accuracy_Score_test</th>\n",
       "      <th>Precision_Score_test</th>\n",
       "      <th>Recall_Score_test</th>\n",
       "      <th>F1_Score_test</th>\n",
       "    </tr>\n",
       "  </thead>\n",
       "  <tbody>\n",
       "    <tr>\n",
       "      <th>0</th>\n",
       "      <td>Logistic Regression</td>\n",
       "      <td>1.0</td>\n",
       "      <td>1.0</td>\n",
       "      <td>1.0</td>\n",
       "      <td>1.0</td>\n",
       "      <td>1.0</td>\n",
       "      <td>1.0</td>\n",
       "      <td>1.0</td>\n",
       "      <td>1.0</td>\n",
       "    </tr>\n",
       "  </tbody>\n",
       "</table>\n",
       "</div>"
      ],
      "text/plain": [
       "            Model_name  Accuracy_Score_train  Precision_Score_train  \\\n",
       "0  Logistic Regression                   1.0                    1.0   \n",
       "\n",
       "   Recall_Score_train  F1_Score_train  Accuracy_Score_test  \\\n",
       "0                 1.0             1.0                  1.0   \n",
       "\n",
       "   Precision_Score_test  Recall_Score_test  F1_Score_test  \n",
       "0                   1.0                1.0            1.0  "
      ]
     },
     "execution_count": 241,
     "metadata": {},
     "output_type": "execute_result"
    }
   ],
   "source": [
    "df101 = score_card(df_scorecard, 'Logistic Regression', ypred_lr, y_test, ypred_lr_train, y_train_resampled)\n",
    "df101"
   ]
  },
  {
   "cell_type": "markdown",
   "id": "835ea048",
   "metadata": {},
   "source": [
    "# 2. Decision Tree Classifier: Entropy"
   ]
  },
  {
   "cell_type": "code",
   "execution_count": 242,
   "id": "bb431df5",
   "metadata": {},
   "outputs": [],
   "source": [
    "from sklearn.tree import DecisionTreeClassifier"
   ]
  },
  {
   "cell_type": "code",
   "execution_count": 243,
   "id": "b094ec36",
   "metadata": {},
   "outputs": [
    {
     "data": {
      "text/plain": [
       "<sklearn.metrics._plot.confusion_matrix.ConfusionMatrixDisplay at 0x22b326ebfd0>"
      ]
     },
     "execution_count": 243,
     "metadata": {},
     "output_type": "execute_result"
    },
    {
     "data": {
      "image/png": "[encoded data removed]",
      "text/plain": [
       "<Figure size 640x480 with 2 Axes>"
      ]
     },
     "metadata": {},
     "output_type": "display_data"
    }
   ],
   "source": [
    "dtc_en = DecisionTreeClassifier(criterion = 'entropy')\n",
    "model_en = dtc_en.fit(X_train_resampled, y_train_resampled)\n",
    "ypred_en = model_en.predict(X_test)\n",
    "ypred_en_train = model_en.predict(X_train_resampled)\n",
    "cm_en = confusion_matrix(y_test, ypred_en)\n",
    "(ConfusionMatrixDisplay(confusion_matrix = cm_en, display_labels = ['Not Survived', 'Survived'])).plot()"
   ]
  },
  {
   "cell_type": "code",
   "execution_count": 244,
   "id": "7ef1f027",
   "metadata": {},
   "outputs": [
    {
     "data": {
      "text/html": [
       "<div>\n",
       "<style scoped>\n",
       "    .dataframe tbody tr th:only-of-type {\n",
       "        vertical-align: middle;\n",
       "    }\n",
       "\n",
       "    .dataframe tbody tr th {\n",
       "        vertical-align: top;\n",
       "    }\n",
       "\n",
       "    .dataframe thead th {\n",
       "        text-align: right;\n",
       "    }\n",
       "</style>\n",
       "<table border=\"1\" class=\"dataframe\">\n",
       "  <thead>\n",
       "    <tr style=\"text-align: right;\">\n",
       "      <th></th>\n",
       "      <th>Model_name</th>\n",
       "      <th>Accuracy_Score_train</th>\n",
       "      <th>Precision_Score_train</th>\n",
       "      <th>Recall_Score_train</th>\n",
       "      <th>F1_Score_train</th>\n",
       "      <th>Accuracy_Score_test</th>\n",
       "      <th>Precision_Score_test</th>\n",
       "      <th>Recall_Score_test</th>\n",
       "      <th>F1_Score_test</th>\n",
       "    </tr>\n",
       "  </thead>\n",
       "  <tbody>\n",
       "    <tr>\n",
       "      <th>0</th>\n",
       "      <td>Logistic Regression</td>\n",
       "      <td>1.0</td>\n",
       "      <td>1.0</td>\n",
       "      <td>1.0</td>\n",
       "      <td>1.0</td>\n",
       "      <td>1.0</td>\n",
       "      <td>1.0</td>\n",
       "      <td>1.0</td>\n",
       "      <td>1.0</td>\n",
       "    </tr>\n",
       "    <tr>\n",
       "      <th>1</th>\n",
       "      <td>Decision Tree: Entropy</td>\n",
       "      <td>1.0</td>\n",
       "      <td>1.0</td>\n",
       "      <td>1.0</td>\n",
       "      <td>1.0</td>\n",
       "      <td>1.0</td>\n",
       "      <td>1.0</td>\n",
       "      <td>1.0</td>\n",
       "      <td>1.0</td>\n",
       "    </tr>\n",
       "  </tbody>\n",
       "</table>\n",
       "</div>"
      ],
      "text/plain": [
       "               Model_name  Accuracy_Score_train  Precision_Score_train  \\\n",
       "0     Logistic Regression                   1.0                    1.0   \n",
       "1  Decision Tree: Entropy                   1.0                    1.0   \n",
       "\n",
       "   Recall_Score_train  F1_Score_train  Accuracy_Score_test  \\\n",
       "0                 1.0             1.0                  1.0   \n",
       "1                 1.0             1.0                  1.0   \n",
       "\n",
       "   Precision_Score_test  Recall_Score_test  F1_Score_test  \n",
       "0                   1.0                1.0            1.0  \n",
       "1                   1.0                1.0            1.0  "
      ]
     },
     "execution_count": 244,
     "metadata": {},
     "output_type": "execute_result"
    }
   ],
   "source": [
    "df102 = score_card(df101, 'Decision Tree: Entropy', ypred_en, y_test, ypred_en_train, y_train_resampled)\n",
    "df102"
   ]
  },
  {
   "cell_type": "markdown",
   "id": "041dfe71",
   "metadata": {},
   "source": [
    "# 3. Decision Tree: Gini"
   ]
  },
  {
   "cell_type": "code",
   "execution_count": 245,
   "id": "25d42c42",
   "metadata": {},
   "outputs": [
    {
     "data": {
      "text/plain": [
       "<sklearn.metrics._plot.confusion_matrix.ConfusionMatrixDisplay at 0x22b3822a2d0>"
      ]
     },
     "execution_count": 245,
     "metadata": {},
     "output_type": "execute_result"
    },
    {
     "data": {
      "image/png": "[encoded data removed]",
      "text/plain": [
       "<Figure size 640x480 with 2 Axes>"
      ]
     },
     "metadata": {},
     "output_type": "display_data"
    }
   ],
   "source": [
    "dtc_gn = DecisionTreeClassifier(criterion = 'gini')\n",
    "model_gn = dtc_gn.fit(X_train_resampled, y_train_resampled)\n",
    "ypred_gn = model_gn.predict(X_test)\n",
    "ypred_gn_train = model_gn.predict(X_train_resampled)\n",
    "cm_gn = confusion_matrix(y_test, ypred_gn)\n",
    "(ConfusionMatrixDisplay(confusion_matrix = cm_gn, display_labels = ['Not Survived', 'Survived'])).plot()"
   ]
  },
  {
   "cell_type": "code",
   "execution_count": 246,
   "id": "47f4adbe",
   "metadata": {},
   "outputs": [
    {
     "data": {
      "text/html": [
       "<div>\n",
       "<style scoped>\n",
       "    .dataframe tbody tr th:only-of-type {\n",
       "        vertical-align: middle;\n",
       "    }\n",
       "\n",
       "    .dataframe tbody tr th {\n",
       "        vertical-align: top;\n",
       "    }\n",
       "\n",
       "    .dataframe thead th {\n",
       "        text-align: right;\n",
       "    }\n",
       "</style>\n",
       "<table border=\"1\" class=\"dataframe\">\n",
       "  <thead>\n",
       "    <tr style=\"text-align: right;\">\n",
       "      <th></th>\n",
       "      <th>Model_name</th>\n",
       "      <th>Accuracy_Score_train</th>\n",
       "      <th>Precision_Score_train</th>\n",
       "      <th>Recall_Score_train</th>\n",
       "      <th>F1_Score_train</th>\n",
       "      <th>Accuracy_Score_test</th>\n",
       "      <th>Precision_Score_test</th>\n",
       "      <th>Recall_Score_test</th>\n",
       "      <th>F1_Score_test</th>\n",
       "    </tr>\n",
       "  </thead>\n",
       "  <tbody>\n",
       "    <tr>\n",
       "      <th>0</th>\n",
       "      <td>Logistic Regression</td>\n",
       "      <td>1.0</td>\n",
       "      <td>1.0</td>\n",
       "      <td>1.0</td>\n",
       "      <td>1.0</td>\n",
       "      <td>1.0</td>\n",
       "      <td>1.0</td>\n",
       "      <td>1.0</td>\n",
       "      <td>1.0</td>\n",
       "    </tr>\n",
       "    <tr>\n",
       "      <th>1</th>\n",
       "      <td>Decision Tree: Entropy</td>\n",
       "      <td>1.0</td>\n",
       "      <td>1.0</td>\n",
       "      <td>1.0</td>\n",
       "      <td>1.0</td>\n",
       "      <td>1.0</td>\n",
       "      <td>1.0</td>\n",
       "      <td>1.0</td>\n",
       "      <td>1.0</td>\n",
       "    </tr>\n",
       "    <tr>\n",
       "      <th>2</th>\n",
       "      <td>Decision Tree: Gini</td>\n",
       "      <td>1.0</td>\n",
       "      <td>1.0</td>\n",
       "      <td>1.0</td>\n",
       "      <td>1.0</td>\n",
       "      <td>1.0</td>\n",
       "      <td>1.0</td>\n",
       "      <td>1.0</td>\n",
       "      <td>1.0</td>\n",
       "    </tr>\n",
       "  </tbody>\n",
       "</table>\n",
       "</div>"
      ],
      "text/plain": [
       "               Model_name  Accuracy_Score_train  Precision_Score_train  \\\n",
       "0     Logistic Regression                   1.0                    1.0   \n",
       "1  Decision Tree: Entropy                   1.0                    1.0   \n",
       "2     Decision Tree: Gini                   1.0                    1.0   \n",
       "\n",
       "   Recall_Score_train  F1_Score_train  Accuracy_Score_test  \\\n",
       "0                 1.0             1.0                  1.0   \n",
       "1                 1.0             1.0                  1.0   \n",
       "2                 1.0             1.0                  1.0   \n",
       "\n",
       "   Precision_Score_test  Recall_Score_test  F1_Score_test  \n",
       "0                   1.0                1.0            1.0  \n",
       "1                   1.0                1.0            1.0  \n",
       "2                   1.0                1.0            1.0  "
      ]
     },
     "execution_count": 246,
     "metadata": {},
     "output_type": "execute_result"
    }
   ],
   "source": [
    "df103 = score_card(df102, 'Decision Tree: Gini', ypred_gn, y_test, ypred_gn_train, y_train_resampled)\n",
    "df103"
   ]
  },
  {
   "cell_type": "markdown",
   "id": "0dbf65e0",
   "metadata": {},
   "source": [
    "# 4. Random Forest"
   ]
  },
  {
   "cell_type": "code",
   "execution_count": 247,
   "id": "b03a979a",
   "metadata": {},
   "outputs": [],
   "source": [
    "from sklearn.ensemble import RandomForestClassifier"
   ]
  },
  {
   "cell_type": "code",
   "execution_count": 248,
   "id": "c1820120",
   "metadata": {},
   "outputs": [
    {
     "data": {
      "text/plain": [
       "<sklearn.metrics._plot.confusion_matrix.ConfusionMatrixDisplay at 0x22b380b94d0>"
      ]
     },
     "execution_count": 248,
     "metadata": {},
     "output_type": "execute_result"
    },
    {
     "data": {
      "image/png": "[encoded data removed]",
      "text/plain": [
       "<Figure size 640x480 with 2 Axes>"
      ]
     },
     "metadata": {},
     "output_type": "display_data"
    }
   ],
   "source": [
    "rf = RandomForestClassifier(n_estimators = 80, random_state = 102)\n",
    "model_rf = rf.fit(X_train_resampled, y_train_resampled)\n",
    "ypred_rf = model_rf.predict(X_test)\n",
    "ypred_rf_train = model_rf.predict(X_train_resampled)\n",
    "cm_rf = confusion_matrix(y_test, ypred_rf)\n",
    "(ConfusionMatrixDisplay(confusion_matrix = cm_rf, display_labels = ['Not Survived', 'Survived'])).plot()"
   ]
  },
  {
   "cell_type": "code",
   "execution_count": 249,
   "id": "aae52574",
   "metadata": {},
   "outputs": [
    {
     "data": {
      "text/html": [
       "<div>\n",
       "<style scoped>\n",
       "    .dataframe tbody tr th:only-of-type {\n",
       "        vertical-align: middle;\n",
       "    }\n",
       "\n",
       "    .dataframe tbody tr th {\n",
       "        vertical-align: top;\n",
       "    }\n",
       "\n",
       "    .dataframe thead th {\n",
       "        text-align: right;\n",
       "    }\n",
       "</style>\n",
       "<table border=\"1\" class=\"dataframe\">\n",
       "  <thead>\n",
       "    <tr style=\"text-align: right;\">\n",
       "      <th></th>\n",
       "      <th>Model_name</th>\n",
       "      <th>Accuracy_Score_train</th>\n",
       "      <th>Precision_Score_train</th>\n",
       "      <th>Recall_Score_train</th>\n",
       "      <th>F1_Score_train</th>\n",
       "      <th>Accuracy_Score_test</th>\n",
       "      <th>Precision_Score_test</th>\n",
       "      <th>Recall_Score_test</th>\n",
       "      <th>F1_Score_test</th>\n",
       "    </tr>\n",
       "  </thead>\n",
       "  <tbody>\n",
       "    <tr>\n",
       "      <th>0</th>\n",
       "      <td>Logistic Regression</td>\n",
       "      <td>1.0</td>\n",
       "      <td>1.0</td>\n",
       "      <td>1.0</td>\n",
       "      <td>1.0</td>\n",
       "      <td>1.0</td>\n",
       "      <td>1.0</td>\n",
       "      <td>1.0</td>\n",
       "      <td>1.0</td>\n",
       "    </tr>\n",
       "    <tr>\n",
       "      <th>1</th>\n",
       "      <td>Decision Tree: Entropy</td>\n",
       "      <td>1.0</td>\n",
       "      <td>1.0</td>\n",
       "      <td>1.0</td>\n",
       "      <td>1.0</td>\n",
       "      <td>1.0</td>\n",
       "      <td>1.0</td>\n",
       "      <td>1.0</td>\n",
       "      <td>1.0</td>\n",
       "    </tr>\n",
       "    <tr>\n",
       "      <th>2</th>\n",
       "      <td>Decision Tree: Gini</td>\n",
       "      <td>1.0</td>\n",
       "      <td>1.0</td>\n",
       "      <td>1.0</td>\n",
       "      <td>1.0</td>\n",
       "      <td>1.0</td>\n",
       "      <td>1.0</td>\n",
       "      <td>1.0</td>\n",
       "      <td>1.0</td>\n",
       "    </tr>\n",
       "    <tr>\n",
       "      <th>3</th>\n",
       "      <td>Random Forest</td>\n",
       "      <td>1.0</td>\n",
       "      <td>1.0</td>\n",
       "      <td>1.0</td>\n",
       "      <td>1.0</td>\n",
       "      <td>1.0</td>\n",
       "      <td>1.0</td>\n",
       "      <td>1.0</td>\n",
       "      <td>1.0</td>\n",
       "    </tr>\n",
       "  </tbody>\n",
       "</table>\n",
       "</div>"
      ],
      "text/plain": [
       "               Model_name  Accuracy_Score_train  Precision_Score_train  \\\n",
       "0     Logistic Regression                   1.0                    1.0   \n",
       "1  Decision Tree: Entropy                   1.0                    1.0   \n",
       "2     Decision Tree: Gini                   1.0                    1.0   \n",
       "3           Random Forest                   1.0                    1.0   \n",
       "\n",
       "   Recall_Score_train  F1_Score_train  Accuracy_Score_test  \\\n",
       "0                 1.0             1.0                  1.0   \n",
       "1                 1.0             1.0                  1.0   \n",
       "2                 1.0             1.0                  1.0   \n",
       "3                 1.0             1.0                  1.0   \n",
       "\n",
       "   Precision_Score_test  Recall_Score_test  F1_Score_test  \n",
       "0                   1.0                1.0            1.0  \n",
       "1                   1.0                1.0            1.0  \n",
       "2                   1.0                1.0            1.0  \n",
       "3                   1.0                1.0            1.0  "
      ]
     },
     "execution_count": 249,
     "metadata": {},
     "output_type": "execute_result"
    }
   ],
   "source": [
    "df104 = score_card(df103, 'Random Forest', ypred_rf, y_test, ypred_rf_train, y_train_resampled)\n",
    "df104"
   ]
  },
  {
   "cell_type": "markdown",
   "id": "8bd84742",
   "metadata": {},
   "source": [
    "# 5. Random Forest: GridSearchCV"
   ]
  },
  {
   "cell_type": "code",
   "execution_count": 250,
   "id": "80a3a204",
   "metadata": {},
   "outputs": [],
   "source": [
    "from sklearn.model_selection import GridSearchCV as gscv"
   ]
  },
  {
   "cell_type": "code",
   "execution_count": 251,
   "id": "8db400ae",
   "metadata": {},
   "outputs": [],
   "source": [
    "htmodel_rf = gscv(RandomForestClassifier(random_state = 104), param_grid = {'n_estimators': [50, 80, 100, 150, 200],\n",
    "                                                       'max_features': ['auto', 'sqrt', 'log2'],\n",
    "                                                       'max_depth' : [4,5,6,7,8],\n",
    "                                                       'criterion' :['gini', 'entropy']}, cv = 5)"
   ]
  },
  {
   "cell_type": "code",
   "execution_count": 252,
   "id": "e9366484",
   "metadata": {},
   "outputs": [
    {
     "name": "stdout",
     "output_type": "stream",
     "text": [
      "{'criterion': 'gini', 'max_depth': 4, 'max_features': 'auto', 'n_estimators': 50}\n"
     ]
    }
   ],
   "source": [
    "htmodel_rf.fit(X,y)\n",
    "print(htmodel_rf.best_params_)"
   ]
  },
  {
   "cell_type": "code",
   "execution_count": 254,
   "id": "d29a2e30",
   "metadata": {},
   "outputs": [],
   "source": [
    "model_gscv_rf = RandomForestClassifier(criterion = htmodel_rf.best_params_.get('criterion'),\n",
    "                                       n_estimators = htmodel_rf.best_params_.get('n_estimators'),\n",
    "                                       max_depth = htmodel_rf.best_params_.get('max_depth'),\n",
    "                                       max_features = htmodel_rf.best_params_.get('max_features')).fit(X_train_resampled, y_train_resampled)"
   ]
  },
  {
   "cell_type": "code",
   "execution_count": 255,
   "id": "c71ac115",
   "metadata": {},
   "outputs": [
    {
     "data": {
      "text/plain": [
       "<sklearn.metrics._plot.confusion_matrix.ConfusionMatrixDisplay at 0x22b380b59d0>"
      ]
     },
     "execution_count": 255,
     "metadata": {},
     "output_type": "execute_result"
    },
    {
     "data": {
      "image/png": "[encoded data removed]",
      "text/plain": [
       "<Figure size 640x480 with 2 Axes>"
      ]
     },
     "metadata": {},
     "output_type": "display_data"
    }
   ],
   "source": [
    "ypred_gscv_rf = model_gscv_rf.predict(X_test)\n",
    "ypred_gscv_rf_train = model_gscv_rf.predict(X_train_resampled)\n",
    "cm_gscv_rf = confusion_matrix(y_test, ypred_gscv_rf)\n",
    "(ConfusionMatrixDisplay(confusion_matrix = cm_gscv_rf, display_labels = ['Not Survived', 'Survived'])).plot()"
   ]
  },
  {
   "cell_type": "code",
   "execution_count": 256,
   "id": "3c8747ad",
   "metadata": {},
   "outputs": [
    {
     "data": {
      "text/html": [
       "<div>\n",
       "<style scoped>\n",
       "    .dataframe tbody tr th:only-of-type {\n",
       "        vertical-align: middle;\n",
       "    }\n",
       "\n",
       "    .dataframe tbody tr th {\n",
       "        vertical-align: top;\n",
       "    }\n",
       "\n",
       "    .dataframe thead th {\n",
       "        text-align: right;\n",
       "    }\n",
       "</style>\n",
       "<table border=\"1\" class=\"dataframe\">\n",
       "  <thead>\n",
       "    <tr style=\"text-align: right;\">\n",
       "      <th></th>\n",
       "      <th>Model_name</th>\n",
       "      <th>Accuracy_Score_train</th>\n",
       "      <th>Precision_Score_train</th>\n",
       "      <th>Recall_Score_train</th>\n",
       "      <th>F1_Score_train</th>\n",
       "      <th>Accuracy_Score_test</th>\n",
       "      <th>Precision_Score_test</th>\n",
       "      <th>Recall_Score_test</th>\n",
       "      <th>F1_Score_test</th>\n",
       "    </tr>\n",
       "  </thead>\n",
       "  <tbody>\n",
       "    <tr>\n",
       "      <th>0</th>\n",
       "      <td>Logistic Regression</td>\n",
       "      <td>1.0</td>\n",
       "      <td>1.0</td>\n",
       "      <td>1.0</td>\n",
       "      <td>1.0</td>\n",
       "      <td>1.0</td>\n",
       "      <td>1.0</td>\n",
       "      <td>1.0</td>\n",
       "      <td>1.0</td>\n",
       "    </tr>\n",
       "    <tr>\n",
       "      <th>1</th>\n",
       "      <td>Decision Tree: Entropy</td>\n",
       "      <td>1.0</td>\n",
       "      <td>1.0</td>\n",
       "      <td>1.0</td>\n",
       "      <td>1.0</td>\n",
       "      <td>1.0</td>\n",
       "      <td>1.0</td>\n",
       "      <td>1.0</td>\n",
       "      <td>1.0</td>\n",
       "    </tr>\n",
       "    <tr>\n",
       "      <th>2</th>\n",
       "      <td>Decision Tree: Gini</td>\n",
       "      <td>1.0</td>\n",
       "      <td>1.0</td>\n",
       "      <td>1.0</td>\n",
       "      <td>1.0</td>\n",
       "      <td>1.0</td>\n",
       "      <td>1.0</td>\n",
       "      <td>1.0</td>\n",
       "      <td>1.0</td>\n",
       "    </tr>\n",
       "    <tr>\n",
       "      <th>3</th>\n",
       "      <td>Random Forest</td>\n",
       "      <td>1.0</td>\n",
       "      <td>1.0</td>\n",
       "      <td>1.0</td>\n",
       "      <td>1.0</td>\n",
       "      <td>1.0</td>\n",
       "      <td>1.0</td>\n",
       "      <td>1.0</td>\n",
       "      <td>1.0</td>\n",
       "    </tr>\n",
       "    <tr>\n",
       "      <th>4</th>\n",
       "      <td>Random Forest: GridSearchCV</td>\n",
       "      <td>1.0</td>\n",
       "      <td>1.0</td>\n",
       "      <td>1.0</td>\n",
       "      <td>1.0</td>\n",
       "      <td>1.0</td>\n",
       "      <td>1.0</td>\n",
       "      <td>1.0</td>\n",
       "      <td>1.0</td>\n",
       "    </tr>\n",
       "  </tbody>\n",
       "</table>\n",
       "</div>"
      ],
      "text/plain": [
       "                    Model_name  Accuracy_Score_train  Precision_Score_train  \\\n",
       "0          Logistic Regression                   1.0                    1.0   \n",
       "1       Decision Tree: Entropy                   1.0                    1.0   \n",
       "2          Decision Tree: Gini                   1.0                    1.0   \n",
       "3                Random Forest                   1.0                    1.0   \n",
       "4  Random Forest: GridSearchCV                   1.0                    1.0   \n",
       "\n",
       "   Recall_Score_train  F1_Score_train  Accuracy_Score_test  \\\n",
       "0                 1.0             1.0                  1.0   \n",
       "1                 1.0             1.0                  1.0   \n",
       "2                 1.0             1.0                  1.0   \n",
       "3                 1.0             1.0                  1.0   \n",
       "4                 1.0             1.0                  1.0   \n",
       "\n",
       "   Precision_Score_test  Recall_Score_test  F1_Score_test  \n",
       "0                   1.0                1.0            1.0  \n",
       "1                   1.0                1.0            1.0  \n",
       "2                   1.0                1.0            1.0  \n",
       "3                   1.0                1.0            1.0  \n",
       "4                   1.0                1.0            1.0  "
      ]
     },
     "execution_count": 256,
     "metadata": {},
     "output_type": "execute_result"
    }
   ],
   "source": [
    "df105 = score_card(df104, 'Random Forest: GridSearchCV', ypred_gscv_rf, y_test, ypred_gscv_rf_train, y_train_resampled) \n",
    "df105"
   ]
  },
  {
   "cell_type": "markdown",
   "id": "236a710c",
   "metadata": {},
   "source": [
    "# 6. KNeighbors Classifier"
   ]
  },
  {
   "cell_type": "code",
   "execution_count": 257,
   "id": "ea0249b4",
   "metadata": {},
   "outputs": [],
   "source": [
    "from sklearn.neighbors import KNeighborsClassifier"
   ]
  },
  {
   "cell_type": "code",
   "execution_count": 258,
   "id": "d01d7b6e",
   "metadata": {},
   "outputs": [
    {
     "data": {
      "text/plain": [
       "<sklearn.metrics._plot.confusion_matrix.ConfusionMatrixDisplay at 0x22b2c172a90>"
      ]
     },
     "execution_count": 258,
     "metadata": {},
     "output_type": "execute_result"
    },
    {
     "data": {
      "image/png": "[encoded data removed]",
      "text/plain": [
       "<Figure size 640x480 with 2 Axes>"
      ]
     },
     "metadata": {},
     "output_type": "display_data"
    }
   ],
   "source": [
    "knc = KNeighborsClassifier()\n",
    "model_knc = knc.fit(X_train_resampled, y_train_resampled)\n",
    "ypred_knc = model_knc.predict(X_test)\n",
    "ypred_knc_train = model_knc.predict(X_train_resampled)\n",
    "cm_knc = confusion_matrix(y_test, ypred_knc)\n",
    "(ConfusionMatrixDisplay(confusion_matrix = cm_knc, display_labels = ['Not Survived', 'Survived'])).plot()"
   ]
  },
  {
   "cell_type": "code",
   "execution_count": 259,
   "id": "6999f427",
   "metadata": {},
   "outputs": [
    {
     "data": {
      "text/html": [
       "<div>\n",
       "<style scoped>\n",
       "    .dataframe tbody tr th:only-of-type {\n",
       "        vertical-align: middle;\n",
       "    }\n",
       "\n",
       "    .dataframe tbody tr th {\n",
       "        vertical-align: top;\n",
       "    }\n",
       "\n",
       "    .dataframe thead th {\n",
       "        text-align: right;\n",
       "    }\n",
       "</style>\n",
       "<table border=\"1\" class=\"dataframe\">\n",
       "  <thead>\n",
       "    <tr style=\"text-align: right;\">\n",
       "      <th></th>\n",
       "      <th>Model_name</th>\n",
       "      <th>Accuracy_Score_train</th>\n",
       "      <th>Precision_Score_train</th>\n",
       "      <th>Recall_Score_train</th>\n",
       "      <th>F1_Score_train</th>\n",
       "      <th>Accuracy_Score_test</th>\n",
       "      <th>Precision_Score_test</th>\n",
       "      <th>Recall_Score_test</th>\n",
       "      <th>F1_Score_test</th>\n",
       "    </tr>\n",
       "  </thead>\n",
       "  <tbody>\n",
       "    <tr>\n",
       "      <th>0</th>\n",
       "      <td>Logistic Regression</td>\n",
       "      <td>1.000000</td>\n",
       "      <td>1.000000</td>\n",
       "      <td>1.000000</td>\n",
       "      <td>1.000000</td>\n",
       "      <td>1.000000</td>\n",
       "      <td>1.000000</td>\n",
       "      <td>1.000000</td>\n",
       "      <td>1.000000</td>\n",
       "    </tr>\n",
       "    <tr>\n",
       "      <th>1</th>\n",
       "      <td>Decision Tree: Entropy</td>\n",
       "      <td>1.000000</td>\n",
       "      <td>1.000000</td>\n",
       "      <td>1.000000</td>\n",
       "      <td>1.000000</td>\n",
       "      <td>1.000000</td>\n",
       "      <td>1.000000</td>\n",
       "      <td>1.000000</td>\n",
       "      <td>1.000000</td>\n",
       "    </tr>\n",
       "    <tr>\n",
       "      <th>2</th>\n",
       "      <td>Decision Tree: Gini</td>\n",
       "      <td>1.000000</td>\n",
       "      <td>1.000000</td>\n",
       "      <td>1.000000</td>\n",
       "      <td>1.000000</td>\n",
       "      <td>1.000000</td>\n",
       "      <td>1.000000</td>\n",
       "      <td>1.000000</td>\n",
       "      <td>1.000000</td>\n",
       "    </tr>\n",
       "    <tr>\n",
       "      <th>3</th>\n",
       "      <td>Random Forest</td>\n",
       "      <td>1.000000</td>\n",
       "      <td>1.000000</td>\n",
       "      <td>1.000000</td>\n",
       "      <td>1.000000</td>\n",
       "      <td>1.000000</td>\n",
       "      <td>1.000000</td>\n",
       "      <td>1.000000</td>\n",
       "      <td>1.000000</td>\n",
       "    </tr>\n",
       "    <tr>\n",
       "      <th>4</th>\n",
       "      <td>Random Forest: GridSearchCV</td>\n",
       "      <td>1.000000</td>\n",
       "      <td>1.000000</td>\n",
       "      <td>1.000000</td>\n",
       "      <td>1.000000</td>\n",
       "      <td>1.000000</td>\n",
       "      <td>1.000000</td>\n",
       "      <td>1.000000</td>\n",
       "      <td>1.000000</td>\n",
       "    </tr>\n",
       "    <tr>\n",
       "      <th>5</th>\n",
       "      <td>KNeighbors Classifier</td>\n",
       "      <td>0.997573</td>\n",
       "      <td>0.997585</td>\n",
       "      <td>0.997573</td>\n",
       "      <td>0.997573</td>\n",
       "      <td>0.988095</td>\n",
       "      <td>0.980769</td>\n",
       "      <td>0.991525</td>\n",
       "      <td>0.985923</td>\n",
       "    </tr>\n",
       "  </tbody>\n",
       "</table>\n",
       "</div>"
      ],
      "text/plain": [
       "                    Model_name  Accuracy_Score_train  Precision_Score_train  \\\n",
       "0          Logistic Regression              1.000000               1.000000   \n",
       "1       Decision Tree: Entropy              1.000000               1.000000   \n",
       "2          Decision Tree: Gini              1.000000               1.000000   \n",
       "3                Random Forest              1.000000               1.000000   \n",
       "4  Random Forest: GridSearchCV              1.000000               1.000000   \n",
       "5        KNeighbors Classifier              0.997573               0.997585   \n",
       "\n",
       "   Recall_Score_train  F1_Score_train  Accuracy_Score_test  \\\n",
       "0            1.000000        1.000000             1.000000   \n",
       "1            1.000000        1.000000             1.000000   \n",
       "2            1.000000        1.000000             1.000000   \n",
       "3            1.000000        1.000000             1.000000   \n",
       "4            1.000000        1.000000             1.000000   \n",
       "5            0.997573        0.997573             0.988095   \n",
       "\n",
       "   Precision_Score_test  Recall_Score_test  F1_Score_test  \n",
       "0              1.000000           1.000000       1.000000  \n",
       "1              1.000000           1.000000       1.000000  \n",
       "2              1.000000           1.000000       1.000000  \n",
       "3              1.000000           1.000000       1.000000  \n",
       "4              1.000000           1.000000       1.000000  \n",
       "5              0.980769           0.991525       0.985923  "
      ]
     },
     "execution_count": 259,
     "metadata": {},
     "output_type": "execute_result"
    }
   ],
   "source": [
    "df106 = score_card(df105, 'KNeighbors Classifier', ypred_knc, y_test, ypred_knc_train, y_train_resampled)\n",
    "df106"
   ]
  },
  {
   "cell_type": "markdown",
   "id": "bcf3857c",
   "metadata": {},
   "source": [
    "# 7. Bagging Classifier"
   ]
  },
  {
   "cell_type": "code",
   "execution_count": 260,
   "id": "9bf39b08",
   "metadata": {},
   "outputs": [],
   "source": [
    "from sklearn.ensemble import BaggingClassifier"
   ]
  },
  {
   "cell_type": "code",
   "execution_count": 261,
   "id": "19aca608",
   "metadata": {},
   "outputs": [
    {
     "data": {
      "text/plain": [
       "<sklearn.metrics._plot.confusion_matrix.ConfusionMatrixDisplay at 0x22b34514c10>"
      ]
     },
     "execution_count": 261,
     "metadata": {},
     "output_type": "execute_result"
    },
    {
     "data": {
      "image/png": "[encoded data removed]",
      "text/plain": [
       "<Figure size 640x480 with 2 Axes>"
      ]
     },
     "metadata": {},
     "output_type": "display_data"
    }
   ],
   "source": [
    "bg = BaggingClassifier(n_estimators = 80, random_state = 102)\n",
    "model_bg = bg.fit(X_train_resampled, y_train_resampled)\n",
    "ypred_bg = model_bg.predict(X_test)\n",
    "ypred_bg_train = model_bg.predict(X_train_resampled)\n",
    "cm_bg = confusion_matrix(y_test, ypred_bg)\n",
    "(ConfusionMatrixDisplay(confusion_matrix = cm_bg, display_labels = ['Not Survived', 'Survived'])).plot()"
   ]
  },
  {
   "cell_type": "code",
   "execution_count": 263,
   "id": "36c790e8",
   "metadata": {},
   "outputs": [
    {
     "data": {
      "text/html": [
       "<div>\n",
       "<style scoped>\n",
       "    .dataframe tbody tr th:only-of-type {\n",
       "        vertical-align: middle;\n",
       "    }\n",
       "\n",
       "    .dataframe tbody tr th {\n",
       "        vertical-align: top;\n",
       "    }\n",
       "\n",
       "    .dataframe thead th {\n",
       "        text-align: right;\n",
       "    }\n",
       "</style>\n",
       "<table border=\"1\" class=\"dataframe\">\n",
       "  <thead>\n",
       "    <tr style=\"text-align: right;\">\n",
       "      <th></th>\n",
       "      <th>Model_name</th>\n",
       "      <th>Accuracy_Score_train</th>\n",
       "      <th>Precision_Score_train</th>\n",
       "      <th>Recall_Score_train</th>\n",
       "      <th>F1_Score_train</th>\n",
       "      <th>Accuracy_Score_test</th>\n",
       "      <th>Precision_Score_test</th>\n",
       "      <th>Recall_Score_test</th>\n",
       "      <th>F1_Score_test</th>\n",
       "    </tr>\n",
       "  </thead>\n",
       "  <tbody>\n",
       "    <tr>\n",
       "      <th>0</th>\n",
       "      <td>Logistic Regression</td>\n",
       "      <td>1.000000</td>\n",
       "      <td>1.000000</td>\n",
       "      <td>1.000000</td>\n",
       "      <td>1.000000</td>\n",
       "      <td>1.000000</td>\n",
       "      <td>1.000000</td>\n",
       "      <td>1.000000</td>\n",
       "      <td>1.000000</td>\n",
       "    </tr>\n",
       "    <tr>\n",
       "      <th>1</th>\n",
       "      <td>Decision Tree: Entropy</td>\n",
       "      <td>1.000000</td>\n",
       "      <td>1.000000</td>\n",
       "      <td>1.000000</td>\n",
       "      <td>1.000000</td>\n",
       "      <td>1.000000</td>\n",
       "      <td>1.000000</td>\n",
       "      <td>1.000000</td>\n",
       "      <td>1.000000</td>\n",
       "    </tr>\n",
       "    <tr>\n",
       "      <th>2</th>\n",
       "      <td>Decision Tree: Gini</td>\n",
       "      <td>1.000000</td>\n",
       "      <td>1.000000</td>\n",
       "      <td>1.000000</td>\n",
       "      <td>1.000000</td>\n",
       "      <td>1.000000</td>\n",
       "      <td>1.000000</td>\n",
       "      <td>1.000000</td>\n",
       "      <td>1.000000</td>\n",
       "    </tr>\n",
       "    <tr>\n",
       "      <th>3</th>\n",
       "      <td>Random Forest</td>\n",
       "      <td>1.000000</td>\n",
       "      <td>1.000000</td>\n",
       "      <td>1.000000</td>\n",
       "      <td>1.000000</td>\n",
       "      <td>1.000000</td>\n",
       "      <td>1.000000</td>\n",
       "      <td>1.000000</td>\n",
       "      <td>1.000000</td>\n",
       "    </tr>\n",
       "    <tr>\n",
       "      <th>4</th>\n",
       "      <td>Random Forest: GridSearchCV</td>\n",
       "      <td>1.000000</td>\n",
       "      <td>1.000000</td>\n",
       "      <td>1.000000</td>\n",
       "      <td>1.000000</td>\n",
       "      <td>1.000000</td>\n",
       "      <td>1.000000</td>\n",
       "      <td>1.000000</td>\n",
       "      <td>1.000000</td>\n",
       "    </tr>\n",
       "    <tr>\n",
       "      <th>5</th>\n",
       "      <td>KNeighbors Classifier</td>\n",
       "      <td>0.997573</td>\n",
       "      <td>0.997585</td>\n",
       "      <td>0.997573</td>\n",
       "      <td>0.997573</td>\n",
       "      <td>0.988095</td>\n",
       "      <td>0.980769</td>\n",
       "      <td>0.991525</td>\n",
       "      <td>0.985923</td>\n",
       "    </tr>\n",
       "    <tr>\n",
       "      <th>6</th>\n",
       "      <td>Bagging Classifier</td>\n",
       "      <td>1.000000</td>\n",
       "      <td>1.000000</td>\n",
       "      <td>1.000000</td>\n",
       "      <td>1.000000</td>\n",
       "      <td>1.000000</td>\n",
       "      <td>1.000000</td>\n",
       "      <td>1.000000</td>\n",
       "      <td>1.000000</td>\n",
       "    </tr>\n",
       "  </tbody>\n",
       "</table>\n",
       "</div>"
      ],
      "text/plain": [
       "                    Model_name  Accuracy_Score_train  Precision_Score_train  \\\n",
       "0          Logistic Regression              1.000000               1.000000   \n",
       "1       Decision Tree: Entropy              1.000000               1.000000   \n",
       "2          Decision Tree: Gini              1.000000               1.000000   \n",
       "3                Random Forest              1.000000               1.000000   \n",
       "4  Random Forest: GridSearchCV              1.000000               1.000000   \n",
       "5        KNeighbors Classifier              0.997573               0.997585   \n",
       "6           Bagging Classifier              1.000000               1.000000   \n",
       "\n",
       "   Recall_Score_train  F1_Score_train  Accuracy_Score_test  \\\n",
       "0            1.000000        1.000000             1.000000   \n",
       "1            1.000000        1.000000             1.000000   \n",
       "2            1.000000        1.000000             1.000000   \n",
       "3            1.000000        1.000000             1.000000   \n",
       "4            1.000000        1.000000             1.000000   \n",
       "5            0.997573        0.997573             0.988095   \n",
       "6            1.000000        1.000000             1.000000   \n",
       "\n",
       "   Precision_Score_test  Recall_Score_test  F1_Score_test  \n",
       "0              1.000000           1.000000       1.000000  \n",
       "1              1.000000           1.000000       1.000000  \n",
       "2              1.000000           1.000000       1.000000  \n",
       "3              1.000000           1.000000       1.000000  \n",
       "4              1.000000           1.000000       1.000000  \n",
       "5              0.980769           0.991525       0.985923  \n",
       "6              1.000000           1.000000       1.000000  "
      ]
     },
     "execution_count": 263,
     "metadata": {},
     "output_type": "execute_result"
    }
   ],
   "source": [
    "df107 = score_card(df106, 'Bagging Classifier', ypred_bg, y_test, ypred_bg_train, y_train_resampled)\n",
    "df107"
   ]
  },
  {
   "cell_type": "markdown",
   "id": "ff864380",
   "metadata": {},
   "source": [
    "# 8. SVM"
   ]
  },
  {
   "cell_type": "code",
   "execution_count": 264,
   "id": "8ff825cf",
   "metadata": {},
   "outputs": [],
   "source": [
    "from sklearn.svm import SVC"
   ]
  },
  {
   "cell_type": "code",
   "execution_count": 266,
   "id": "f03b4184",
   "metadata": {},
   "outputs": [
    {
     "data": {
      "text/plain": [
       "<sklearn.metrics._plot.confusion_matrix.ConfusionMatrixDisplay at 0x22b3a12cbd0>"
      ]
     },
     "execution_count": 266,
     "metadata": {},
     "output_type": "execute_result"
    },
    {
     "data": {
      "image/png": "[encoded data removed]",
      "text/plain": [
       "<Figure size 640x480 with 2 Axes>"
      ]
     },
     "metadata": {},
     "output_type": "display_data"
    }
   ],
   "source": [
    "svm = SVC(kernel = 'sigmoid')\n",
    "model_svm = svm.fit(X_train_resampled, y_train_resampled)\n",
    "ypred_svm = model_svm.predict(X_test)\n",
    "ypred_svm_train = model_svm.predict(X_train_resampled)\n",
    "cm_svm = confusion_matrix(y_test, ypred_svm)\n",
    "(ConfusionMatrixDisplay(confusion_matrix = cm_svm, display_labels = ['Not Survived', 'Survived'])).plot()"
   ]
  },
  {
   "cell_type": "code",
   "execution_count": 267,
   "id": "cc9082de",
   "metadata": {},
   "outputs": [
    {
     "data": {
      "text/html": [
       "<div>\n",
       "<style scoped>\n",
       "    .dataframe tbody tr th:only-of-type {\n",
       "        vertical-align: middle;\n",
       "    }\n",
       "\n",
       "    .dataframe tbody tr th {\n",
       "        vertical-align: top;\n",
       "    }\n",
       "\n",
       "    .dataframe thead th {\n",
       "        text-align: right;\n",
       "    }\n",
       "</style>\n",
       "<table border=\"1\" class=\"dataframe\">\n",
       "  <thead>\n",
       "    <tr style=\"text-align: right;\">\n",
       "      <th></th>\n",
       "      <th>Model_name</th>\n",
       "      <th>Accuracy_Score_train</th>\n",
       "      <th>Precision_Score_train</th>\n",
       "      <th>Recall_Score_train</th>\n",
       "      <th>F1_Score_train</th>\n",
       "      <th>Accuracy_Score_test</th>\n",
       "      <th>Precision_Score_test</th>\n",
       "      <th>Recall_Score_test</th>\n",
       "      <th>F1_Score_test</th>\n",
       "    </tr>\n",
       "  </thead>\n",
       "  <tbody>\n",
       "    <tr>\n",
       "      <th>0</th>\n",
       "      <td>Logistic Regression</td>\n",
       "      <td>1.000000</td>\n",
       "      <td>1.000000</td>\n",
       "      <td>1.000000</td>\n",
       "      <td>1.000000</td>\n",
       "      <td>1.000000</td>\n",
       "      <td>1.000000</td>\n",
       "      <td>1.000000</td>\n",
       "      <td>1.000000</td>\n",
       "    </tr>\n",
       "    <tr>\n",
       "      <th>1</th>\n",
       "      <td>Decision Tree: Entropy</td>\n",
       "      <td>1.000000</td>\n",
       "      <td>1.000000</td>\n",
       "      <td>1.000000</td>\n",
       "      <td>1.000000</td>\n",
       "      <td>1.000000</td>\n",
       "      <td>1.000000</td>\n",
       "      <td>1.000000</td>\n",
       "      <td>1.000000</td>\n",
       "    </tr>\n",
       "    <tr>\n",
       "      <th>2</th>\n",
       "      <td>Decision Tree: Gini</td>\n",
       "      <td>1.000000</td>\n",
       "      <td>1.000000</td>\n",
       "      <td>1.000000</td>\n",
       "      <td>1.000000</td>\n",
       "      <td>1.000000</td>\n",
       "      <td>1.000000</td>\n",
       "      <td>1.000000</td>\n",
       "      <td>1.000000</td>\n",
       "    </tr>\n",
       "    <tr>\n",
       "      <th>3</th>\n",
       "      <td>Random Forest</td>\n",
       "      <td>1.000000</td>\n",
       "      <td>1.000000</td>\n",
       "      <td>1.000000</td>\n",
       "      <td>1.000000</td>\n",
       "      <td>1.000000</td>\n",
       "      <td>1.000000</td>\n",
       "      <td>1.000000</td>\n",
       "      <td>1.000000</td>\n",
       "    </tr>\n",
       "    <tr>\n",
       "      <th>4</th>\n",
       "      <td>Random Forest: GridSearchCV</td>\n",
       "      <td>1.000000</td>\n",
       "      <td>1.000000</td>\n",
       "      <td>1.000000</td>\n",
       "      <td>1.000000</td>\n",
       "      <td>1.000000</td>\n",
       "      <td>1.000000</td>\n",
       "      <td>1.000000</td>\n",
       "      <td>1.000000</td>\n",
       "    </tr>\n",
       "    <tr>\n",
       "      <th>5</th>\n",
       "      <td>KNeighbors Classifier</td>\n",
       "      <td>0.997573</td>\n",
       "      <td>0.997585</td>\n",
       "      <td>0.997573</td>\n",
       "      <td>0.997573</td>\n",
       "      <td>0.988095</td>\n",
       "      <td>0.980769</td>\n",
       "      <td>0.991525</td>\n",
       "      <td>0.985923</td>\n",
       "    </tr>\n",
       "    <tr>\n",
       "      <th>6</th>\n",
       "      <td>Bagging Classifier</td>\n",
       "      <td>1.000000</td>\n",
       "      <td>1.000000</td>\n",
       "      <td>1.000000</td>\n",
       "      <td>1.000000</td>\n",
       "      <td>1.000000</td>\n",
       "      <td>1.000000</td>\n",
       "      <td>1.000000</td>\n",
       "      <td>1.000000</td>\n",
       "    </tr>\n",
       "    <tr>\n",
       "      <th>7</th>\n",
       "      <td>SVM</td>\n",
       "      <td>0.956311</td>\n",
       "      <td>0.956698</td>\n",
       "      <td>0.956311</td>\n",
       "      <td>0.956301</td>\n",
       "      <td>0.964286</td>\n",
       "      <td>0.952918</td>\n",
       "      <td>0.963051</td>\n",
       "      <td>0.957768</td>\n",
       "    </tr>\n",
       "  </tbody>\n",
       "</table>\n",
       "</div>"
      ],
      "text/plain": [
       "                    Model_name  Accuracy_Score_train  Precision_Score_train  \\\n",
       "0          Logistic Regression              1.000000               1.000000   \n",
       "1       Decision Tree: Entropy              1.000000               1.000000   \n",
       "2          Decision Tree: Gini              1.000000               1.000000   \n",
       "3                Random Forest              1.000000               1.000000   \n",
       "4  Random Forest: GridSearchCV              1.000000               1.000000   \n",
       "5        KNeighbors Classifier              0.997573               0.997585   \n",
       "6           Bagging Classifier              1.000000               1.000000   \n",
       "7                          SVM              0.956311               0.956698   \n",
       "\n",
       "   Recall_Score_train  F1_Score_train  Accuracy_Score_test  \\\n",
       "0            1.000000        1.000000             1.000000   \n",
       "1            1.000000        1.000000             1.000000   \n",
       "2            1.000000        1.000000             1.000000   \n",
       "3            1.000000        1.000000             1.000000   \n",
       "4            1.000000        1.000000             1.000000   \n",
       "5            0.997573        0.997573             0.988095   \n",
       "6            1.000000        1.000000             1.000000   \n",
       "7            0.956311        0.956301             0.964286   \n",
       "\n",
       "   Precision_Score_test  Recall_Score_test  F1_Score_test  \n",
       "0              1.000000           1.000000       1.000000  \n",
       "1              1.000000           1.000000       1.000000  \n",
       "2              1.000000           1.000000       1.000000  \n",
       "3              1.000000           1.000000       1.000000  \n",
       "4              1.000000           1.000000       1.000000  \n",
       "5              0.980769           0.991525       0.985923  \n",
       "6              1.000000           1.000000       1.000000  \n",
       "7              0.952918           0.963051       0.957768  "
      ]
     },
     "execution_count": 267,
     "metadata": {},
     "output_type": "execute_result"
    }
   ],
   "source": [
    "df108 = score_card(df107, 'SVM', ypred_svm, y_test, ypred_svm_train, y_train_resampled)\n",
    "df108"
   ]
  },
  {
   "cell_type": "markdown",
   "id": "72d6803d",
   "metadata": {},
   "source": [
    "# 9. AdaBoost Classifier"
   ]
  },
  {
   "cell_type": "code",
   "execution_count": 268,
   "id": "036debfe",
   "metadata": {},
   "outputs": [],
   "source": [
    "from sklearn.ensemble import AdaBoostClassifier"
   ]
  },
  {
   "cell_type": "code",
   "execution_count": 269,
   "id": "9133f5f3",
   "metadata": {},
   "outputs": [
    {
     "data": {
      "text/plain": [
       "<sklearn.metrics._plot.confusion_matrix.ConfusionMatrixDisplay at 0x22b3a1f4bd0>"
      ]
     },
     "execution_count": 269,
     "metadata": {},
     "output_type": "execute_result"
    },
    {
     "data": {
      "image/png": "[encoded data removed]",
      "text/plain": [
       "<Figure size 640x480 with 2 Axes>"
      ]
     },
     "metadata": {},
     "output_type": "display_data"
    }
   ],
   "source": [
    "ab = AdaBoostClassifier(n_estimators = 80, random_state = 102)\n",
    "model_ab = ab.fit(X_train_resampled, y_train_resampled)\n",
    "ypred_ab = model_ab.predict(X_test)\n",
    "ypred_ab_train = model_ab.predict(X_train_resampled)\n",
    "cm_ab = confusion_matrix(y_test, ypred_ab)\n",
    "(ConfusionMatrixDisplay(confusion_matrix = cm_ab, display_labels = ['Not Survived', 'Survived'])).plot()"
   ]
  },
  {
   "cell_type": "code",
   "execution_count": 271,
   "id": "ce2c6f34",
   "metadata": {},
   "outputs": [
    {
     "data": {
      "text/html": [
       "<div>\n",
       "<style scoped>\n",
       "    .dataframe tbody tr th:only-of-type {\n",
       "        vertical-align: middle;\n",
       "    }\n",
       "\n",
       "    .dataframe tbody tr th {\n",
       "        vertical-align: top;\n",
       "    }\n",
       "\n",
       "    .dataframe thead th {\n",
       "        text-align: right;\n",
       "    }\n",
       "</style>\n",
       "<table border=\"1\" class=\"dataframe\">\n",
       "  <thead>\n",
       "    <tr style=\"text-align: right;\">\n",
       "      <th></th>\n",
       "      <th>Model_name</th>\n",
       "      <th>Accuracy_Score_train</th>\n",
       "      <th>Precision_Score_train</th>\n",
       "      <th>Recall_Score_train</th>\n",
       "      <th>F1_Score_train</th>\n",
       "      <th>Accuracy_Score_test</th>\n",
       "      <th>Precision_Score_test</th>\n",
       "      <th>Recall_Score_test</th>\n",
       "      <th>F1_Score_test</th>\n",
       "    </tr>\n",
       "  </thead>\n",
       "  <tbody>\n",
       "    <tr>\n",
       "      <th>0</th>\n",
       "      <td>Logistic Regression</td>\n",
       "      <td>1.000000</td>\n",
       "      <td>1.000000</td>\n",
       "      <td>1.000000</td>\n",
       "      <td>1.000000</td>\n",
       "      <td>1.000000</td>\n",
       "      <td>1.000000</td>\n",
       "      <td>1.000000</td>\n",
       "      <td>1.000000</td>\n",
       "    </tr>\n",
       "    <tr>\n",
       "      <th>1</th>\n",
       "      <td>Decision Tree: Entropy</td>\n",
       "      <td>1.000000</td>\n",
       "      <td>1.000000</td>\n",
       "      <td>1.000000</td>\n",
       "      <td>1.000000</td>\n",
       "      <td>1.000000</td>\n",
       "      <td>1.000000</td>\n",
       "      <td>1.000000</td>\n",
       "      <td>1.000000</td>\n",
       "    </tr>\n",
       "    <tr>\n",
       "      <th>2</th>\n",
       "      <td>Decision Tree: Gini</td>\n",
       "      <td>1.000000</td>\n",
       "      <td>1.000000</td>\n",
       "      <td>1.000000</td>\n",
       "      <td>1.000000</td>\n",
       "      <td>1.000000</td>\n",
       "      <td>1.000000</td>\n",
       "      <td>1.000000</td>\n",
       "      <td>1.000000</td>\n",
       "    </tr>\n",
       "    <tr>\n",
       "      <th>3</th>\n",
       "      <td>Random Forest</td>\n",
       "      <td>1.000000</td>\n",
       "      <td>1.000000</td>\n",
       "      <td>1.000000</td>\n",
       "      <td>1.000000</td>\n",
       "      <td>1.000000</td>\n",
       "      <td>1.000000</td>\n",
       "      <td>1.000000</td>\n",
       "      <td>1.000000</td>\n",
       "    </tr>\n",
       "    <tr>\n",
       "      <th>4</th>\n",
       "      <td>Random Forest: GridSearchCV</td>\n",
       "      <td>1.000000</td>\n",
       "      <td>1.000000</td>\n",
       "      <td>1.000000</td>\n",
       "      <td>1.000000</td>\n",
       "      <td>1.000000</td>\n",
       "      <td>1.000000</td>\n",
       "      <td>1.000000</td>\n",
       "      <td>1.000000</td>\n",
       "    </tr>\n",
       "    <tr>\n",
       "      <th>5</th>\n",
       "      <td>KNeighbors Classifier</td>\n",
       "      <td>0.997573</td>\n",
       "      <td>0.997585</td>\n",
       "      <td>0.997573</td>\n",
       "      <td>0.997573</td>\n",
       "      <td>0.988095</td>\n",
       "      <td>0.980769</td>\n",
       "      <td>0.991525</td>\n",
       "      <td>0.985923</td>\n",
       "    </tr>\n",
       "    <tr>\n",
       "      <th>6</th>\n",
       "      <td>Bagging Classifier</td>\n",
       "      <td>1.000000</td>\n",
       "      <td>1.000000</td>\n",
       "      <td>1.000000</td>\n",
       "      <td>1.000000</td>\n",
       "      <td>1.000000</td>\n",
       "      <td>1.000000</td>\n",
       "      <td>1.000000</td>\n",
       "      <td>1.000000</td>\n",
       "    </tr>\n",
       "    <tr>\n",
       "      <th>7</th>\n",
       "      <td>SVM</td>\n",
       "      <td>0.956311</td>\n",
       "      <td>0.956698</td>\n",
       "      <td>0.956311</td>\n",
       "      <td>0.956301</td>\n",
       "      <td>0.964286</td>\n",
       "      <td>0.952918</td>\n",
       "      <td>0.963051</td>\n",
       "      <td>0.957768</td>\n",
       "    </tr>\n",
       "    <tr>\n",
       "      <th>8</th>\n",
       "      <td>AdaBoost Classifier</td>\n",
       "      <td>1.000000</td>\n",
       "      <td>1.000000</td>\n",
       "      <td>1.000000</td>\n",
       "      <td>1.000000</td>\n",
       "      <td>1.000000</td>\n",
       "      <td>1.000000</td>\n",
       "      <td>1.000000</td>\n",
       "      <td>1.000000</td>\n",
       "    </tr>\n",
       "  </tbody>\n",
       "</table>\n",
       "</div>"
      ],
      "text/plain": [
       "                    Model_name  Accuracy_Score_train  Precision_Score_train  \\\n",
       "0          Logistic Regression              1.000000               1.000000   \n",
       "1       Decision Tree: Entropy              1.000000               1.000000   \n",
       "2          Decision Tree: Gini              1.000000               1.000000   \n",
       "3                Random Forest              1.000000               1.000000   \n",
       "4  Random Forest: GridSearchCV              1.000000               1.000000   \n",
       "5        KNeighbors Classifier              0.997573               0.997585   \n",
       "6           Bagging Classifier              1.000000               1.000000   \n",
       "7                          SVM              0.956311               0.956698   \n",
       "8          AdaBoost Classifier              1.000000               1.000000   \n",
       "\n",
       "   Recall_Score_train  F1_Score_train  Accuracy_Score_test  \\\n",
       "0            1.000000        1.000000             1.000000   \n",
       "1            1.000000        1.000000             1.000000   \n",
       "2            1.000000        1.000000             1.000000   \n",
       "3            1.000000        1.000000             1.000000   \n",
       "4            1.000000        1.000000             1.000000   \n",
       "5            0.997573        0.997573             0.988095   \n",
       "6            1.000000        1.000000             1.000000   \n",
       "7            0.956311        0.956301             0.964286   \n",
       "8            1.000000        1.000000             1.000000   \n",
       "\n",
       "   Precision_Score_test  Recall_Score_test  F1_Score_test  \n",
       "0              1.000000           1.000000       1.000000  \n",
       "1              1.000000           1.000000       1.000000  \n",
       "2              1.000000           1.000000       1.000000  \n",
       "3              1.000000           1.000000       1.000000  \n",
       "4              1.000000           1.000000       1.000000  \n",
       "5              0.980769           0.991525       0.985923  \n",
       "6              1.000000           1.000000       1.000000  \n",
       "7              0.952918           0.963051       0.957768  \n",
       "8              1.000000           1.000000       1.000000  "
      ]
     },
     "execution_count": 271,
     "metadata": {},
     "output_type": "execute_result"
    }
   ],
   "source": [
    "df109 = score_card(df108, 'AdaBoost Classifier', ypred_ab, y_test, ypred_ab_train, y_train_resampled)\n",
    "df109"
   ]
  },
  {
   "cell_type": "markdown",
   "id": "594046e6",
   "metadata": {},
   "source": [
    "# 10. XGBoost Classifier"
   ]
  },
  {
   "cell_type": "code",
   "execution_count": 272,
   "id": "058ff470",
   "metadata": {},
   "outputs": [
    {
     "name": "stdout",
     "output_type": "stream",
     "text": [
      "Requirement already satisfied: xgboost in c:\\users\\hp\\anaconda3\\lib\\site-packages (2.0.0)\n",
      "Requirement already satisfied: numpy in c:\\users\\hp\\anaconda3\\lib\\site-packages (from xgboost) (1.24.3)\n",
      "Requirement already satisfied: scipy in c:\\users\\hp\\anaconda3\\lib\\site-packages (from xgboost) (1.10.1)\n"
     ]
    }
   ],
   "source": [
    "!pip install xgboost"
   ]
  },
  {
   "cell_type": "code",
   "execution_count": 273,
   "id": "04c17bba",
   "metadata": {},
   "outputs": [],
   "source": [
    "import xgboost\n",
    "from xgboost import XGBClassifier"
   ]
  },
  {
   "cell_type": "code",
   "execution_count": 275,
   "id": "b34706fe",
   "metadata": {},
   "outputs": [
    {
     "data": {
      "text/plain": [
       "<sklearn.metrics._plot.confusion_matrix.ConfusionMatrixDisplay at 0x22b3a6096d0>"
      ]
     },
     "execution_count": 275,
     "metadata": {},
     "output_type": "execute_result"
    },
    {
     "data": {
      "image/png": "[encoded data removed]",
      "text/plain": [
       "<Figure size 640x480 with 2 Axes>"
      ]
     },
     "metadata": {},
     "output_type": "display_data"
    }
   ],
   "source": [
    "xgb = XGBClassifier(n_estimators = 80, random_state = 102)\n",
    "model_xgb = xgb.fit(X_train_resampled, y_train_resampled)\n",
    "ypred_xgb = model_xgb.predict(X_test)\n",
    "ypred_xgb_train = model_xgb.predict(X_train_resampled)\n",
    "cm_xgb = confusion_matrix(y_test, ypred_xgb)\n",
    "(ConfusionMatrixDisplay(confusion_matrix = cm_xgb, display_labels = ['Not Survived', 'Survived'])).plot()"
   ]
  },
  {
   "cell_type": "code",
   "execution_count": 276,
   "id": "b6e8c8cb",
   "metadata": {},
   "outputs": [
    {
     "data": {
      "text/html": [
       "<div>\n",
       "<style scoped>\n",
       "    .dataframe tbody tr th:only-of-type {\n",
       "        vertical-align: middle;\n",
       "    }\n",
       "\n",
       "    .dataframe tbody tr th {\n",
       "        vertical-align: top;\n",
       "    }\n",
       "\n",
       "    .dataframe thead th {\n",
       "        text-align: right;\n",
       "    }\n",
       "</style>\n",
       "<table border=\"1\" class=\"dataframe\">\n",
       "  <thead>\n",
       "    <tr style=\"text-align: right;\">\n",
       "      <th></th>\n",
       "      <th>Model_name</th>\n",
       "      <th>Accuracy_Score_train</th>\n",
       "      <th>Precision_Score_train</th>\n",
       "      <th>Recall_Score_train</th>\n",
       "      <th>F1_Score_train</th>\n",
       "      <th>Accuracy_Score_test</th>\n",
       "      <th>Precision_Score_test</th>\n",
       "      <th>Recall_Score_test</th>\n",
       "      <th>F1_Score_test</th>\n",
       "    </tr>\n",
       "  </thead>\n",
       "  <tbody>\n",
       "    <tr>\n",
       "      <th>0</th>\n",
       "      <td>Logistic Regression</td>\n",
       "      <td>1.000000</td>\n",
       "      <td>1.000000</td>\n",
       "      <td>1.000000</td>\n",
       "      <td>1.000000</td>\n",
       "      <td>1.000000</td>\n",
       "      <td>1.000000</td>\n",
       "      <td>1.000000</td>\n",
       "      <td>1.000000</td>\n",
       "    </tr>\n",
       "    <tr>\n",
       "      <th>1</th>\n",
       "      <td>Decision Tree: Entropy</td>\n",
       "      <td>1.000000</td>\n",
       "      <td>1.000000</td>\n",
       "      <td>1.000000</td>\n",
       "      <td>1.000000</td>\n",
       "      <td>1.000000</td>\n",
       "      <td>1.000000</td>\n",
       "      <td>1.000000</td>\n",
       "      <td>1.000000</td>\n",
       "    </tr>\n",
       "    <tr>\n",
       "      <th>2</th>\n",
       "      <td>Decision Tree: Gini</td>\n",
       "      <td>1.000000</td>\n",
       "      <td>1.000000</td>\n",
       "      <td>1.000000</td>\n",
       "      <td>1.000000</td>\n",
       "      <td>1.000000</td>\n",
       "      <td>1.000000</td>\n",
       "      <td>1.000000</td>\n",
       "      <td>1.000000</td>\n",
       "    </tr>\n",
       "    <tr>\n",
       "      <th>3</th>\n",
       "      <td>Random Forest</td>\n",
       "      <td>1.000000</td>\n",
       "      <td>1.000000</td>\n",
       "      <td>1.000000</td>\n",
       "      <td>1.000000</td>\n",
       "      <td>1.000000</td>\n",
       "      <td>1.000000</td>\n",
       "      <td>1.000000</td>\n",
       "      <td>1.000000</td>\n",
       "    </tr>\n",
       "    <tr>\n",
       "      <th>4</th>\n",
       "      <td>Random Forest: GridSearchCV</td>\n",
       "      <td>1.000000</td>\n",
       "      <td>1.000000</td>\n",
       "      <td>1.000000</td>\n",
       "      <td>1.000000</td>\n",
       "      <td>1.000000</td>\n",
       "      <td>1.000000</td>\n",
       "      <td>1.000000</td>\n",
       "      <td>1.000000</td>\n",
       "    </tr>\n",
       "    <tr>\n",
       "      <th>5</th>\n",
       "      <td>KNeighbors Classifier</td>\n",
       "      <td>0.997573</td>\n",
       "      <td>0.997585</td>\n",
       "      <td>0.997573</td>\n",
       "      <td>0.997573</td>\n",
       "      <td>0.988095</td>\n",
       "      <td>0.980769</td>\n",
       "      <td>0.991525</td>\n",
       "      <td>0.985923</td>\n",
       "    </tr>\n",
       "    <tr>\n",
       "      <th>6</th>\n",
       "      <td>Bagging Classifier</td>\n",
       "      <td>1.000000</td>\n",
       "      <td>1.000000</td>\n",
       "      <td>1.000000</td>\n",
       "      <td>1.000000</td>\n",
       "      <td>1.000000</td>\n",
       "      <td>1.000000</td>\n",
       "      <td>1.000000</td>\n",
       "      <td>1.000000</td>\n",
       "    </tr>\n",
       "    <tr>\n",
       "      <th>7</th>\n",
       "      <td>SVM</td>\n",
       "      <td>0.956311</td>\n",
       "      <td>0.956698</td>\n",
       "      <td>0.956311</td>\n",
       "      <td>0.956301</td>\n",
       "      <td>0.964286</td>\n",
       "      <td>0.952918</td>\n",
       "      <td>0.963051</td>\n",
       "      <td>0.957768</td>\n",
       "    </tr>\n",
       "    <tr>\n",
       "      <th>8</th>\n",
       "      <td>AdaBoost Classifier</td>\n",
       "      <td>1.000000</td>\n",
       "      <td>1.000000</td>\n",
       "      <td>1.000000</td>\n",
       "      <td>1.000000</td>\n",
       "      <td>1.000000</td>\n",
       "      <td>1.000000</td>\n",
       "      <td>1.000000</td>\n",
       "      <td>1.000000</td>\n",
       "    </tr>\n",
       "    <tr>\n",
       "      <th>9</th>\n",
       "      <td>XGBoost Classifier</td>\n",
       "      <td>1.000000</td>\n",
       "      <td>1.000000</td>\n",
       "      <td>1.000000</td>\n",
       "      <td>1.000000</td>\n",
       "      <td>1.000000</td>\n",
       "      <td>1.000000</td>\n",
       "      <td>1.000000</td>\n",
       "      <td>1.000000</td>\n",
       "    </tr>\n",
       "  </tbody>\n",
       "</table>\n",
       "</div>"
      ],
      "text/plain": [
       "                    Model_name  Accuracy_Score_train  Precision_Score_train  \\\n",
       "0          Logistic Regression              1.000000               1.000000   \n",
       "1       Decision Tree: Entropy              1.000000               1.000000   \n",
       "2          Decision Tree: Gini              1.000000               1.000000   \n",
       "3                Random Forest              1.000000               1.000000   \n",
       "4  Random Forest: GridSearchCV              1.000000               1.000000   \n",
       "5        KNeighbors Classifier              0.997573               0.997585   \n",
       "6           Bagging Classifier              1.000000               1.000000   \n",
       "7                          SVM              0.956311               0.956698   \n",
       "8          AdaBoost Classifier              1.000000               1.000000   \n",
       "9           XGBoost Classifier              1.000000               1.000000   \n",
       "\n",
       "   Recall_Score_train  F1_Score_train  Accuracy_Score_test  \\\n",
       "0            1.000000        1.000000             1.000000   \n",
       "1            1.000000        1.000000             1.000000   \n",
       "2            1.000000        1.000000             1.000000   \n",
       "3            1.000000        1.000000             1.000000   \n",
       "4            1.000000        1.000000             1.000000   \n",
       "5            0.997573        0.997573             0.988095   \n",
       "6            1.000000        1.000000             1.000000   \n",
       "7            0.956311        0.956301             0.964286   \n",
       "8            1.000000        1.000000             1.000000   \n",
       "9            1.000000        1.000000             1.000000   \n",
       "\n",
       "   Precision_Score_test  Recall_Score_test  F1_Score_test  \n",
       "0              1.000000           1.000000       1.000000  \n",
       "1              1.000000           1.000000       1.000000  \n",
       "2              1.000000           1.000000       1.000000  \n",
       "3              1.000000           1.000000       1.000000  \n",
       "4              1.000000           1.000000       1.000000  \n",
       "5              0.980769           0.991525       0.985923  \n",
       "6              1.000000           1.000000       1.000000  \n",
       "7              0.952918           0.963051       0.957768  \n",
       "8              1.000000           1.000000       1.000000  \n",
       "9              1.000000           1.000000       1.000000  "
      ]
     },
     "execution_count": 276,
     "metadata": {},
     "output_type": "execute_result"
    }
   ],
   "source": [
    "df110 = score_card(df109, 'XGBoost Classifier', ypred_xgb, y_test, ypred_xgb_train, y_train_resampled)\n",
    "df110"
   ]
  },
  {
   "cell_type": "markdown",
   "id": "62025df0",
   "metadata": {},
   "source": [
    "# 11. Naive Bayes: Binomial"
   ]
  },
  {
   "cell_type": "code",
   "execution_count": 277,
   "id": "92da0b59",
   "metadata": {},
   "outputs": [],
   "source": [
    "from sklearn.naive_bayes import BernoulliNB"
   ]
  },
  {
   "cell_type": "code",
   "execution_count": 278,
   "id": "3159c9b6",
   "metadata": {},
   "outputs": [
    {
     "data": {
      "text/plain": [
       "<sklearn.metrics._plot.confusion_matrix.ConfusionMatrixDisplay at 0x22b3a3ea4d0>"
      ]
     },
     "execution_count": 278,
     "metadata": {},
     "output_type": "execute_result"
    },
    {
     "data": {
      "image/png": "[encoded data removed]",
      "text/plain": [
       "<Figure size 640x480 with 2 Axes>"
      ]
     },
     "metadata": {},
     "output_type": "display_data"
    }
   ],
   "source": [
    "bnb = BernoulliNB()\n",
    "model_bnb = bnb.fit(X_train_resampled, y_train_resampled)\n",
    "ypred_bnb = model_bnb.predict(X_test)\n",
    "ypred_bnb_train = model_bnb.predict(X_train_resampled)\n",
    "cm_bnb = confusion_matrix(y_test, ypred_bnb)\n",
    "(ConfusionMatrixDisplay(confusion_matrix = cm_bnb, display_labels = ['Not Survived', 'Survived'])).plot()"
   ]
  },
  {
   "cell_type": "code",
   "execution_count": 280,
   "id": "df8c700d",
   "metadata": {},
   "outputs": [
    {
     "data": {
      "text/html": [
       "<div>\n",
       "<style scoped>\n",
       "    .dataframe tbody tr th:only-of-type {\n",
       "        vertical-align: middle;\n",
       "    }\n",
       "\n",
       "    .dataframe tbody tr th {\n",
       "        vertical-align: top;\n",
       "    }\n",
       "\n",
       "    .dataframe thead th {\n",
       "        text-align: right;\n",
       "    }\n",
       "</style>\n",
       "<table border=\"1\" class=\"dataframe\">\n",
       "  <thead>\n",
       "    <tr style=\"text-align: right;\">\n",
       "      <th></th>\n",
       "      <th>Model_name</th>\n",
       "      <th>Accuracy_Score_train</th>\n",
       "      <th>Precision_Score_train</th>\n",
       "      <th>Recall_Score_train</th>\n",
       "      <th>F1_Score_train</th>\n",
       "      <th>Accuracy_Score_test</th>\n",
       "      <th>Precision_Score_test</th>\n",
       "      <th>Recall_Score_test</th>\n",
       "      <th>F1_Score_test</th>\n",
       "    </tr>\n",
       "  </thead>\n",
       "  <tbody>\n",
       "    <tr>\n",
       "      <th>0</th>\n",
       "      <td>Logistic Regression</td>\n",
       "      <td>1.000000</td>\n",
       "      <td>1.000000</td>\n",
       "      <td>1.000000</td>\n",
       "      <td>1.000000</td>\n",
       "      <td>1.000000</td>\n",
       "      <td>1.000000</td>\n",
       "      <td>1.000000</td>\n",
       "      <td>1.000000</td>\n",
       "    </tr>\n",
       "    <tr>\n",
       "      <th>1</th>\n",
       "      <td>Decision Tree: Entropy</td>\n",
       "      <td>1.000000</td>\n",
       "      <td>1.000000</td>\n",
       "      <td>1.000000</td>\n",
       "      <td>1.000000</td>\n",
       "      <td>1.000000</td>\n",
       "      <td>1.000000</td>\n",
       "      <td>1.000000</td>\n",
       "      <td>1.000000</td>\n",
       "    </tr>\n",
       "    <tr>\n",
       "      <th>2</th>\n",
       "      <td>Decision Tree: Gini</td>\n",
       "      <td>1.000000</td>\n",
       "      <td>1.000000</td>\n",
       "      <td>1.000000</td>\n",
       "      <td>1.000000</td>\n",
       "      <td>1.000000</td>\n",
       "      <td>1.000000</td>\n",
       "      <td>1.000000</td>\n",
       "      <td>1.000000</td>\n",
       "    </tr>\n",
       "    <tr>\n",
       "      <th>3</th>\n",
       "      <td>Random Forest</td>\n",
       "      <td>1.000000</td>\n",
       "      <td>1.000000</td>\n",
       "      <td>1.000000</td>\n",
       "      <td>1.000000</td>\n",
       "      <td>1.000000</td>\n",
       "      <td>1.000000</td>\n",
       "      <td>1.000000</td>\n",
       "      <td>1.000000</td>\n",
       "    </tr>\n",
       "    <tr>\n",
       "      <th>4</th>\n",
       "      <td>Random Forest: GridSearchCV</td>\n",
       "      <td>1.000000</td>\n",
       "      <td>1.000000</td>\n",
       "      <td>1.000000</td>\n",
       "      <td>1.000000</td>\n",
       "      <td>1.000000</td>\n",
       "      <td>1.000000</td>\n",
       "      <td>1.000000</td>\n",
       "      <td>1.000000</td>\n",
       "    </tr>\n",
       "    <tr>\n",
       "      <th>5</th>\n",
       "      <td>KNeighbors Classifier</td>\n",
       "      <td>0.997573</td>\n",
       "      <td>0.997585</td>\n",
       "      <td>0.997573</td>\n",
       "      <td>0.997573</td>\n",
       "      <td>0.988095</td>\n",
       "      <td>0.980769</td>\n",
       "      <td>0.991525</td>\n",
       "      <td>0.985923</td>\n",
       "    </tr>\n",
       "    <tr>\n",
       "      <th>6</th>\n",
       "      <td>Bagging Classifier</td>\n",
       "      <td>1.000000</td>\n",
       "      <td>1.000000</td>\n",
       "      <td>1.000000</td>\n",
       "      <td>1.000000</td>\n",
       "      <td>1.000000</td>\n",
       "      <td>1.000000</td>\n",
       "      <td>1.000000</td>\n",
       "      <td>1.000000</td>\n",
       "    </tr>\n",
       "    <tr>\n",
       "      <th>7</th>\n",
       "      <td>SVM</td>\n",
       "      <td>0.956311</td>\n",
       "      <td>0.956698</td>\n",
       "      <td>0.956311</td>\n",
       "      <td>0.956301</td>\n",
       "      <td>0.964286</td>\n",
       "      <td>0.952918</td>\n",
       "      <td>0.963051</td>\n",
       "      <td>0.957768</td>\n",
       "    </tr>\n",
       "    <tr>\n",
       "      <th>8</th>\n",
       "      <td>AdaBoost Classifier</td>\n",
       "      <td>1.000000</td>\n",
       "      <td>1.000000</td>\n",
       "      <td>1.000000</td>\n",
       "      <td>1.000000</td>\n",
       "      <td>1.000000</td>\n",
       "      <td>1.000000</td>\n",
       "      <td>1.000000</td>\n",
       "      <td>1.000000</td>\n",
       "    </tr>\n",
       "    <tr>\n",
       "      <th>9</th>\n",
       "      <td>XGBoost Classifier</td>\n",
       "      <td>1.000000</td>\n",
       "      <td>1.000000</td>\n",
       "      <td>1.000000</td>\n",
       "      <td>1.000000</td>\n",
       "      <td>1.000000</td>\n",
       "      <td>1.000000</td>\n",
       "      <td>1.000000</td>\n",
       "      <td>1.000000</td>\n",
       "    </tr>\n",
       "    <tr>\n",
       "      <th>10</th>\n",
       "      <td>Naive Bayes: Bernoulli</td>\n",
       "      <td>1.000000</td>\n",
       "      <td>1.000000</td>\n",
       "      <td>1.000000</td>\n",
       "      <td>1.000000</td>\n",
       "      <td>1.000000</td>\n",
       "      <td>1.000000</td>\n",
       "      <td>1.000000</td>\n",
       "      <td>1.000000</td>\n",
       "    </tr>\n",
       "  </tbody>\n",
       "</table>\n",
       "</div>"
      ],
      "text/plain": [
       "                     Model_name  Accuracy_Score_train  Precision_Score_train  \\\n",
       "0           Logistic Regression              1.000000               1.000000   \n",
       "1        Decision Tree: Entropy              1.000000               1.000000   \n",
       "2           Decision Tree: Gini              1.000000               1.000000   \n",
       "3                 Random Forest              1.000000               1.000000   \n",
       "4   Random Forest: GridSearchCV              1.000000               1.000000   \n",
       "5         KNeighbors Classifier              0.997573               0.997585   \n",
       "6            Bagging Classifier              1.000000               1.000000   \n",
       "7                           SVM              0.956311               0.956698   \n",
       "8           AdaBoost Classifier              1.000000               1.000000   \n",
       "9            XGBoost Classifier              1.000000               1.000000   \n",
       "10       Naive Bayes: Bernoulli              1.000000               1.000000   \n",
       "\n",
       "    Recall_Score_train  F1_Score_train  Accuracy_Score_test  \\\n",
       "0             1.000000        1.000000             1.000000   \n",
       "1             1.000000        1.000000             1.000000   \n",
       "2             1.000000        1.000000             1.000000   \n",
       "3             1.000000        1.000000             1.000000   \n",
       "4             1.000000        1.000000             1.000000   \n",
       "5             0.997573        0.997573             0.988095   \n",
       "6             1.000000        1.000000             1.000000   \n",
       "7             0.956311        0.956301             0.964286   \n",
       "8             1.000000        1.000000             1.000000   \n",
       "9             1.000000        1.000000             1.000000   \n",
       "10            1.000000        1.000000             1.000000   \n",
       "\n",
       "    Precision_Score_test  Recall_Score_test  F1_Score_test  \n",
       "0               1.000000           1.000000       1.000000  \n",
       "1               1.000000           1.000000       1.000000  \n",
       "2               1.000000           1.000000       1.000000  \n",
       "3               1.000000           1.000000       1.000000  \n",
       "4               1.000000           1.000000       1.000000  \n",
       "5               0.980769           0.991525       0.985923  \n",
       "6               1.000000           1.000000       1.000000  \n",
       "7               0.952918           0.963051       0.957768  \n",
       "8               1.000000           1.000000       1.000000  \n",
       "9               1.000000           1.000000       1.000000  \n",
       "10              1.000000           1.000000       1.000000  "
      ]
     },
     "execution_count": 280,
     "metadata": {},
     "output_type": "execute_result"
    }
   ],
   "source": [
    "df111 = score_card(df110, 'Naive Bayes: Bernoulli', ypred_bnb, y_test, ypred_bnb_train, y_train_resampled)\n",
    "df111"
   ]
  },
  {
   "cell_type": "markdown",
   "id": "2224988b",
   "metadata": {},
   "source": [
    "# Check the results of trained model"
   ]
  },
  {
   "cell_type": "markdown",
   "id": "414e5251",
   "metadata": {},
   "source": [
    "We will check with XGBoost Model, because of its high performance."
   ]
  },
  {
   "cell_type": "code",
   "execution_count": 281,
   "id": "6cbb8e57",
   "metadata": {},
   "outputs": [
    {
     "data": {
      "text/html": [
       "<div>\n",
       "<style scoped>\n",
       "    .dataframe tbody tr th:only-of-type {\n",
       "        vertical-align: middle;\n",
       "    }\n",
       "\n",
       "    .dataframe tbody tr th {\n",
       "        vertical-align: top;\n",
       "    }\n",
       "\n",
       "    .dataframe thead th {\n",
       "        text-align: right;\n",
       "    }\n",
       "</style>\n",
       "<table border=\"1\" class=\"dataframe\">\n",
       "  <thead>\n",
       "    <tr style=\"text-align: right;\">\n",
       "      <th></th>\n",
       "      <th>sex</th>\n",
       "      <th>age</th>\n",
       "      <th>family</th>\n",
       "      <th>pclass</th>\n",
       "      <th>embarked</th>\n",
       "      <th>survived</th>\n",
       "    </tr>\n",
       "  </thead>\n",
       "  <tbody>\n",
       "    <tr>\n",
       "      <th>0</th>\n",
       "      <td>0</td>\n",
       "      <td>34.5</td>\n",
       "      <td>0</td>\n",
       "      <td>3</td>\n",
       "      <td>1</td>\n",
       "      <td>0</td>\n",
       "    </tr>\n",
       "    <tr>\n",
       "      <th>1</th>\n",
       "      <td>1</td>\n",
       "      <td>47.0</td>\n",
       "      <td>1</td>\n",
       "      <td>3</td>\n",
       "      <td>2</td>\n",
       "      <td>1</td>\n",
       "    </tr>\n",
       "    <tr>\n",
       "      <th>2</th>\n",
       "      <td>0</td>\n",
       "      <td>62.0</td>\n",
       "      <td>0</td>\n",
       "      <td>2</td>\n",
       "      <td>1</td>\n",
       "      <td>0</td>\n",
       "    </tr>\n",
       "    <tr>\n",
       "      <th>3</th>\n",
       "      <td>0</td>\n",
       "      <td>27.0</td>\n",
       "      <td>0</td>\n",
       "      <td>3</td>\n",
       "      <td>2</td>\n",
       "      <td>0</td>\n",
       "    </tr>\n",
       "    <tr>\n",
       "      <th>4</th>\n",
       "      <td>1</td>\n",
       "      <td>22.0</td>\n",
       "      <td>2</td>\n",
       "      <td>3</td>\n",
       "      <td>2</td>\n",
       "      <td>1</td>\n",
       "    </tr>\n",
       "    <tr>\n",
       "      <th>...</th>\n",
       "      <td>...</td>\n",
       "      <td>...</td>\n",
       "      <td>...</td>\n",
       "      <td>...</td>\n",
       "      <td>...</td>\n",
       "      <td>...</td>\n",
       "    </tr>\n",
       "    <tr>\n",
       "      <th>413</th>\n",
       "      <td>0</td>\n",
       "      <td>27.0</td>\n",
       "      <td>0</td>\n",
       "      <td>3</td>\n",
       "      <td>2</td>\n",
       "      <td>0</td>\n",
       "    </tr>\n",
       "    <tr>\n",
       "      <th>414</th>\n",
       "      <td>1</td>\n",
       "      <td>39.0</td>\n",
       "      <td>0</td>\n",
       "      <td>1</td>\n",
       "      <td>0</td>\n",
       "      <td>1</td>\n",
       "    </tr>\n",
       "    <tr>\n",
       "      <th>415</th>\n",
       "      <td>0</td>\n",
       "      <td>38.5</td>\n",
       "      <td>0</td>\n",
       "      <td>3</td>\n",
       "      <td>2</td>\n",
       "      <td>0</td>\n",
       "    </tr>\n",
       "    <tr>\n",
       "      <th>416</th>\n",
       "      <td>0</td>\n",
       "      <td>27.0</td>\n",
       "      <td>0</td>\n",
       "      <td>3</td>\n",
       "      <td>2</td>\n",
       "      <td>0</td>\n",
       "    </tr>\n",
       "    <tr>\n",
       "      <th>417</th>\n",
       "      <td>0</td>\n",
       "      <td>27.0</td>\n",
       "      <td>2</td>\n",
       "      <td>3</td>\n",
       "      <td>0</td>\n",
       "      <td>0</td>\n",
       "    </tr>\n",
       "  </tbody>\n",
       "</table>\n",
       "<p>417 rows × 6 columns</p>\n",
       "</div>"
      ],
      "text/plain": [
       "     sex   age  family  pclass  embarked  survived\n",
       "0      0  34.5       0       3         1         0\n",
       "1      1  47.0       1       3         2         1\n",
       "2      0  62.0       0       2         1         0\n",
       "3      0  27.0       0       3         2         0\n",
       "4      1  22.0       2       3         2         1\n",
       "..   ...   ...     ...     ...       ...       ...\n",
       "413    0  27.0       0       3         2         0\n",
       "414    1  39.0       0       1         0         1\n",
       "415    0  38.5       0       3         2         0\n",
       "416    0  27.0       0       3         2         0\n",
       "417    0  27.0       2       3         0         0\n",
       "\n",
       "[417 rows x 6 columns]"
      ]
     },
     "execution_count": 281,
     "metadata": {},
     "output_type": "execute_result"
    }
   ],
   "source": [
    "df"
   ]
  },
  {
   "cell_type": "code",
   "execution_count": 287,
   "id": "f3791387",
   "metadata": {},
   "outputs": [
    {
     "name": "stdout",
     "output_type": "stream",
     "text": [
      "Prediction is: [0]\n",
      "Passenger did not survived\n"
     ]
    }
   ],
   "source": [
    "# Give input as an array\n",
    "array = np.array([0, 27, 2, 3, 0])\n",
    "\n",
    "# Perform standard sclaer\n",
    "scaled = ss.transform(array.reshape(1,-1))\n",
    "\n",
    "# Convert an array to dataframe\n",
    "sc_df = pd.DataFrame(scaled.reshape(1,5), columns = scale.columns)\n",
    "sc_df\n",
    "\n",
    "# Prediction\n",
    "ypred = model_xgb.predict(sc_df)\n",
    "\n",
    "if ypred == 0:\n",
    "    print('Prediction is: {}'.format(ypred))\n",
    "    print('Passenger did not survived')\n",
    "else:\n",
    "    print('Prediction is: {}'.format(ypred))\n",
    "    print('Passenger Survived')"
   ]
  },
  {
   "cell_type": "markdown",
   "id": "8c0bfe6f",
   "metadata": {},
   "source": [
    "# Conclusion: "
   ]
  },
  {
   "cell_type": "markdown",
   "id": "6d64d4c4",
   "metadata": {},
   "source": [
    "In our Titanic Survival Prediction analysis, we discovered that only 36.4% of passengers survived. Survival rates varied by passenger class, gender, and age. Factors like family members and embarkation location also influence survival. We trained several classification models and all performed well, likely because of the dataset's modest size."
   ]
  },
  {
   "cell_type": "code",
   "execution_count": null,
   "id": "dadf2a99",
   "metadata": {},
   "outputs": [],
   "source": []
  }
 ],
 "metadata": {
  "kernelspec": {
   "display_name": "Python 3 (ipykernel)",
   "language": "python",
   "name": "python3"
  },
  "language_info": {
   "codemirror_mode": {
    "name": "ipython",
    "version": 3
   },
   "file_extension": ".py",
   "mimetype": "text/x-python",
   "name": "python",
   "nbconvert_exporter": "python",
   "pygments_lexer": "ipython3",
   "version": "3.11.3"
  }
 },
 "nbformat": 4,
 "nbformat_minor": 5
}
