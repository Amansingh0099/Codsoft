{
 "cells": [
  {
   "cell_type": "markdown",
   "id": "2247391d",
   "metadata": {},
   "source": [
    "                                                 IRIS FLOWER CLASSIFICATION\n",
    "\n",
    "The Iris flower dataset consists of three species: setosa, versicolor, and virginica. These species can be distinguished based on their measurements. Now, imagine that you have the measurements of Iris flowers categorized by their respective species. Your\n",
    "objective is to train a machine learning model that can learn from these measurements and accurately classify the Iris flowers into their respective species.\n",
    "\n",
    "Use the Iris dataset to develop a model that can classify iris flowers into different species based on their sepal and petal\n",
    "measurements. This dataset is widely used for introductory classification tasks."
   ]
  },
  {
   "cell_type": "code",
   "execution_count": 57,
   "id": "6a050590",
   "metadata": {},
   "outputs": [],
   "source": [
    "# Import necessary libraries\n",
    "\n",
    "import pandas as pd\n",
    "import numpy as np\n",
    "import matplotlib.pyplot as plt\n",
    "import seaborn as sns\n",
    "import warnings\n",
    "from sklearn.model_selection import train_test_split\n",
    "from sklearn.metrics import accuracy_score, precision_score, recall_score, f1_score\n",
    "from sklearn.metrics import confusion_matrix, ConfusionMatrixDisplay"
   ]
  },
  {
   "cell_type": "code",
   "execution_count": 58,
   "id": "d80f0091",
   "metadata": {},
   "outputs": [],
   "source": [
    "warnings.filterwarnings('ignore')"
   ]
  },
  {
   "cell_type": "code",
   "execution_count": 59,
   "id": "47a42a12",
   "metadata": {},
   "outputs": [],
   "source": [
    "# Import CSV File\n",
    "\n",
    "df = pd.read_csv(r'D:\\CodSoft\\Task3_Iris\\IRIS.csv')"
   ]
  },
  {
   "cell_type": "code",
   "execution_count": 60,
   "id": "ef0dfeed",
   "metadata": {},
   "outputs": [
    {
     "data": {
      "text/html": [
       "<div>\n",
       "<style scoped>\n",
       "    .dataframe tbody tr th:only-of-type {\n",
       "        vertical-align: middle;\n",
       "    }\n",
       "\n",
       "    .dataframe tbody tr th {\n",
       "        vertical-align: top;\n",
       "    }\n",
       "\n",
       "    .dataframe thead th {\n",
       "        text-align: right;\n",
       "    }\n",
       "</style>\n",
       "<table border=\"1\" class=\"dataframe\">\n",
       "  <thead>\n",
       "    <tr style=\"text-align: right;\">\n",
       "      <th></th>\n",
       "      <th>sepal_length</th>\n",
       "      <th>sepal_width</th>\n",
       "      <th>petal_length</th>\n",
       "      <th>petal_width</th>\n",
       "      <th>species</th>\n",
       "    </tr>\n",
       "  </thead>\n",
       "  <tbody>\n",
       "    <tr>\n",
       "      <th>0</th>\n",
       "      <td>5.1</td>\n",
       "      <td>3.5</td>\n",
       "      <td>1.4</td>\n",
       "      <td>0.2</td>\n",
       "      <td>Iris-setosa</td>\n",
       "    </tr>\n",
       "    <tr>\n",
       "      <th>1</th>\n",
       "      <td>4.9</td>\n",
       "      <td>3.0</td>\n",
       "      <td>1.4</td>\n",
       "      <td>0.2</td>\n",
       "      <td>Iris-setosa</td>\n",
       "    </tr>\n",
       "    <tr>\n",
       "      <th>2</th>\n",
       "      <td>4.7</td>\n",
       "      <td>3.2</td>\n",
       "      <td>1.3</td>\n",
       "      <td>0.2</td>\n",
       "      <td>Iris-setosa</td>\n",
       "    </tr>\n",
       "    <tr>\n",
       "      <th>3</th>\n",
       "      <td>4.6</td>\n",
       "      <td>3.1</td>\n",
       "      <td>1.5</td>\n",
       "      <td>0.2</td>\n",
       "      <td>Iris-setosa</td>\n",
       "    </tr>\n",
       "    <tr>\n",
       "      <th>4</th>\n",
       "      <td>5.0</td>\n",
       "      <td>3.6</td>\n",
       "      <td>1.4</td>\n",
       "      <td>0.2</td>\n",
       "      <td>Iris-setosa</td>\n",
       "    </tr>\n",
       "    <tr>\n",
       "      <th>...</th>\n",
       "      <td>...</td>\n",
       "      <td>...</td>\n",
       "      <td>...</td>\n",
       "      <td>...</td>\n",
       "      <td>...</td>\n",
       "    </tr>\n",
       "    <tr>\n",
       "      <th>145</th>\n",
       "      <td>6.7</td>\n",
       "      <td>3.0</td>\n",
       "      <td>5.2</td>\n",
       "      <td>2.3</td>\n",
       "      <td>Iris-virginica</td>\n",
       "    </tr>\n",
       "    <tr>\n",
       "      <th>146</th>\n",
       "      <td>6.3</td>\n",
       "      <td>2.5</td>\n",
       "      <td>5.0</td>\n",
       "      <td>1.9</td>\n",
       "      <td>Iris-virginica</td>\n",
       "    </tr>\n",
       "    <tr>\n",
       "      <th>147</th>\n",
       "      <td>6.5</td>\n",
       "      <td>3.0</td>\n",
       "      <td>5.2</td>\n",
       "      <td>2.0</td>\n",
       "      <td>Iris-virginica</td>\n",
       "    </tr>\n",
       "    <tr>\n",
       "      <th>148</th>\n",
       "      <td>6.2</td>\n",
       "      <td>3.4</td>\n",
       "      <td>5.4</td>\n",
       "      <td>2.3</td>\n",
       "      <td>Iris-virginica</td>\n",
       "    </tr>\n",
       "    <tr>\n",
       "      <th>149</th>\n",
       "      <td>5.9</td>\n",
       "      <td>3.0</td>\n",
       "      <td>5.1</td>\n",
       "      <td>1.8</td>\n",
       "      <td>Iris-virginica</td>\n",
       "    </tr>\n",
       "  </tbody>\n",
       "</table>\n",
       "<p>150 rows × 5 columns</p>\n",
       "</div>"
      ],
      "text/plain": [
       "     sepal_length  sepal_width  petal_length  petal_width         species\n",
       "0             5.1          3.5           1.4          0.2     Iris-setosa\n",
       "1             4.9          3.0           1.4          0.2     Iris-setosa\n",
       "2             4.7          3.2           1.3          0.2     Iris-setosa\n",
       "3             4.6          3.1           1.5          0.2     Iris-setosa\n",
       "4             5.0          3.6           1.4          0.2     Iris-setosa\n",
       "..            ...          ...           ...          ...             ...\n",
       "145           6.7          3.0           5.2          2.3  Iris-virginica\n",
       "146           6.3          2.5           5.0          1.9  Iris-virginica\n",
       "147           6.5          3.0           5.2          2.0  Iris-virginica\n",
       "148           6.2          3.4           5.4          2.3  Iris-virginica\n",
       "149           5.9          3.0           5.1          1.8  Iris-virginica\n",
       "\n",
       "[150 rows x 5 columns]"
      ]
     },
     "execution_count": 60,
     "metadata": {},
     "output_type": "execute_result"
    }
   ],
   "source": [
    "df"
   ]
  },
  {
   "cell_type": "markdown",
   "id": "440deb65",
   "metadata": {},
   "source": [
    "# 1. Understanding Of Data"
   ]
  },
  {
   "cell_type": "code",
   "execution_count": 61,
   "id": "5cec959e",
   "metadata": {},
   "outputs": [
    {
     "data": {
      "text/html": [
       "<div>\n",
       "<style scoped>\n",
       "    .dataframe tbody tr th:only-of-type {\n",
       "        vertical-align: middle;\n",
       "    }\n",
       "\n",
       "    .dataframe tbody tr th {\n",
       "        vertical-align: top;\n",
       "    }\n",
       "\n",
       "    .dataframe thead th {\n",
       "        text-align: right;\n",
       "    }\n",
       "</style>\n",
       "<table border=\"1\" class=\"dataframe\">\n",
       "  <thead>\n",
       "    <tr style=\"text-align: right;\">\n",
       "      <th></th>\n",
       "      <th>sepal_length</th>\n",
       "      <th>sepal_width</th>\n",
       "      <th>petal_length</th>\n",
       "      <th>petal_width</th>\n",
       "      <th>species</th>\n",
       "    </tr>\n",
       "  </thead>\n",
       "  <tbody>\n",
       "    <tr>\n",
       "      <th>0</th>\n",
       "      <td>5.1</td>\n",
       "      <td>3.5</td>\n",
       "      <td>1.4</td>\n",
       "      <td>0.2</td>\n",
       "      <td>Iris-setosa</td>\n",
       "    </tr>\n",
       "    <tr>\n",
       "      <th>1</th>\n",
       "      <td>4.9</td>\n",
       "      <td>3.0</td>\n",
       "      <td>1.4</td>\n",
       "      <td>0.2</td>\n",
       "      <td>Iris-setosa</td>\n",
       "    </tr>\n",
       "    <tr>\n",
       "      <th>2</th>\n",
       "      <td>4.7</td>\n",
       "      <td>3.2</td>\n",
       "      <td>1.3</td>\n",
       "      <td>0.2</td>\n",
       "      <td>Iris-setosa</td>\n",
       "    </tr>\n",
       "    <tr>\n",
       "      <th>3</th>\n",
       "      <td>4.6</td>\n",
       "      <td>3.1</td>\n",
       "      <td>1.5</td>\n",
       "      <td>0.2</td>\n",
       "      <td>Iris-setosa</td>\n",
       "    </tr>\n",
       "    <tr>\n",
       "      <th>4</th>\n",
       "      <td>5.0</td>\n",
       "      <td>3.6</td>\n",
       "      <td>1.4</td>\n",
       "      <td>0.2</td>\n",
       "      <td>Iris-setosa</td>\n",
       "    </tr>\n",
       "  </tbody>\n",
       "</table>\n",
       "</div>"
      ],
      "text/plain": [
       "   sepal_length  sepal_width  petal_length  petal_width      species\n",
       "0           5.1          3.5           1.4          0.2  Iris-setosa\n",
       "1           4.9          3.0           1.4          0.2  Iris-setosa\n",
       "2           4.7          3.2           1.3          0.2  Iris-setosa\n",
       "3           4.6          3.1           1.5          0.2  Iris-setosa\n",
       "4           5.0          3.6           1.4          0.2  Iris-setosa"
      ]
     },
     "execution_count": 61,
     "metadata": {},
     "output_type": "execute_result"
    }
   ],
   "source": [
    "df.head()"
   ]
  },
  {
   "cell_type": "markdown",
   "id": "96ed20ab",
   "metadata": {},
   "source": [
    "In this dataset, target column is 'Species'"
   ]
  },
  {
   "cell_type": "code",
   "execution_count": 62,
   "id": "26d12070",
   "metadata": {},
   "outputs": [
    {
     "data": {
      "text/plain": [
       "(150, 5)"
      ]
     },
     "execution_count": 62,
     "metadata": {},
     "output_type": "execute_result"
    }
   ],
   "source": [
    "# Shape of the dataset\n",
    "\n",
    "df.shape"
   ]
  },
  {
   "cell_type": "markdown",
   "id": "60f13662",
   "metadata": {},
   "source": [
    "Total number of rows: 150\n",
    "\n",
    "Total number of columns: 5 "
   ]
  },
  {
   "cell_type": "code",
   "execution_count": 63,
   "id": "355525e7",
   "metadata": {},
   "outputs": [
    {
     "data": {
      "text/plain": [
       "Index(['sepal_length', 'sepal_width', 'petal_length', 'petal_width',\n",
       "       'species'],\n",
       "      dtype='object')"
      ]
     },
     "execution_count": 63,
     "metadata": {},
     "output_type": "execute_result"
    }
   ],
   "source": [
    "# Columns Information\n",
    "\n",
    "df.columns"
   ]
  },
  {
   "cell_type": "markdown",
   "id": "d6f68352",
   "metadata": {},
   "source": [
    "1. sepal_length: Length of the sepal\n",
    "\n",
    "2. sepal_width: Width of the sepal\n",
    "\n",
    "3. petal_length: Length of the petal\n",
    "\n",
    "4. petal_width: Width of the petal\n",
    "\n",
    "5. species: Name of the species of the flower"
   ]
  },
  {
   "cell_type": "code",
   "execution_count": 64,
   "id": "73e55fe9",
   "metadata": {},
   "outputs": [
    {
     "data": {
      "text/html": [
       "<div>\n",
       "<style scoped>\n",
       "    .dataframe tbody tr th:only-of-type {\n",
       "        vertical-align: middle;\n",
       "    }\n",
       "\n",
       "    .dataframe tbody tr th {\n",
       "        vertical-align: top;\n",
       "    }\n",
       "\n",
       "    .dataframe thead th {\n",
       "        text-align: right;\n",
       "    }\n",
       "</style>\n",
       "<table border=\"1\" class=\"dataframe\">\n",
       "  <thead>\n",
       "    <tr style=\"text-align: right;\">\n",
       "      <th></th>\n",
       "      <th>sepal_length</th>\n",
       "      <th>sepal_width</th>\n",
       "      <th>petal_length</th>\n",
       "      <th>petal_width</th>\n",
       "    </tr>\n",
       "  </thead>\n",
       "  <tbody>\n",
       "    <tr>\n",
       "      <th>count</th>\n",
       "      <td>150.000000</td>\n",
       "      <td>150.000000</td>\n",
       "      <td>150.000000</td>\n",
       "      <td>150.000000</td>\n",
       "    </tr>\n",
       "    <tr>\n",
       "      <th>mean</th>\n",
       "      <td>5.843333</td>\n",
       "      <td>3.054000</td>\n",
       "      <td>3.758667</td>\n",
       "      <td>1.198667</td>\n",
       "    </tr>\n",
       "    <tr>\n",
       "      <th>std</th>\n",
       "      <td>0.828066</td>\n",
       "      <td>0.433594</td>\n",
       "      <td>1.764420</td>\n",
       "      <td>0.763161</td>\n",
       "    </tr>\n",
       "    <tr>\n",
       "      <th>min</th>\n",
       "      <td>4.300000</td>\n",
       "      <td>2.000000</td>\n",
       "      <td>1.000000</td>\n",
       "      <td>0.100000</td>\n",
       "    </tr>\n",
       "    <tr>\n",
       "      <th>25%</th>\n",
       "      <td>5.100000</td>\n",
       "      <td>2.800000</td>\n",
       "      <td>1.600000</td>\n",
       "      <td>0.300000</td>\n",
       "    </tr>\n",
       "    <tr>\n",
       "      <th>50%</th>\n",
       "      <td>5.800000</td>\n",
       "      <td>3.000000</td>\n",
       "      <td>4.350000</td>\n",
       "      <td>1.300000</td>\n",
       "    </tr>\n",
       "    <tr>\n",
       "      <th>75%</th>\n",
       "      <td>6.400000</td>\n",
       "      <td>3.300000</td>\n",
       "      <td>5.100000</td>\n",
       "      <td>1.800000</td>\n",
       "    </tr>\n",
       "    <tr>\n",
       "      <th>max</th>\n",
       "      <td>7.900000</td>\n",
       "      <td>4.400000</td>\n",
       "      <td>6.900000</td>\n",
       "      <td>2.500000</td>\n",
       "    </tr>\n",
       "  </tbody>\n",
       "</table>\n",
       "</div>"
      ],
      "text/plain": [
       "       sepal_length  sepal_width  petal_length  petal_width\n",
       "count    150.000000   150.000000    150.000000   150.000000\n",
       "mean       5.843333     3.054000      3.758667     1.198667\n",
       "std        0.828066     0.433594      1.764420     0.763161\n",
       "min        4.300000     2.000000      1.000000     0.100000\n",
       "25%        5.100000     2.800000      1.600000     0.300000\n",
       "50%        5.800000     3.000000      4.350000     1.300000\n",
       "75%        6.400000     3.300000      5.100000     1.800000\n",
       "max        7.900000     4.400000      6.900000     2.500000"
      ]
     },
     "execution_count": 64,
     "metadata": {},
     "output_type": "execute_result"
    }
   ],
   "source": [
    "df.describe()"
   ]
  },
  {
   "cell_type": "markdown",
   "id": "03375be3",
   "metadata": {},
   "source": [
    "Analysis:\n",
    "    \n",
    "    1. Average sepal length is 5.843333\n",
    "    \n",
    "    2. Average sepal width is 3.054000\n",
    "    \n",
    "    3. Minimum sepal length and width is 4.300000 and 2.000000 respectively\n",
    "    \n",
    "    4. Maximum sepal length and width is 7.900000 and 4.400000 respectively\n",
    "    \n",
    "    5. Average petal length is 3.758667\n",
    "    \n",
    "    6. Average petal width is 1.198667\n",
    "    \n",
    "    7. Minimum petal length and width is 1.000000 and 0.100000 respectively\n",
    "    \n",
    "    8. Maximum petal length and width is 6.900000 and 2.500000 respectively"
   ]
  },
  {
   "cell_type": "markdown",
   "id": "184e81d7",
   "metadata": {},
   "source": [
    "# 2. Data Cleaning"
   ]
  },
  {
   "cell_type": "markdown",
   "id": "0855e009",
   "metadata": {},
   "source": [
    "# Check for null values"
   ]
  },
  {
   "cell_type": "code",
   "execution_count": 65,
   "id": "8f4717d6",
   "metadata": {},
   "outputs": [
    {
     "data": {
      "text/plain": [
       "sepal_length    0\n",
       "sepal_width     0\n",
       "petal_length    0\n",
       "petal_width     0\n",
       "species         0\n",
       "dtype: int64"
      ]
     },
     "execution_count": 65,
     "metadata": {},
     "output_type": "execute_result"
    }
   ],
   "source": [
    "df.isnull().sum()"
   ]
  },
  {
   "cell_type": "markdown",
   "id": "1e691c8b",
   "metadata": {},
   "source": [
    "There are no null values in the dataset."
   ]
  },
  {
   "cell_type": "markdown",
   "id": "d55667c6",
   "metadata": {},
   "source": [
    "# Check for datatypes"
   ]
  },
  {
   "cell_type": "code",
   "execution_count": 66,
   "id": "9c24e797",
   "metadata": {},
   "outputs": [
    {
     "data": {
      "text/plain": [
       "sepal_length    float64\n",
       "sepal_width     float64\n",
       "petal_length    float64\n",
       "petal_width     float64\n",
       "species          object\n",
       "dtype: object"
      ]
     },
     "execution_count": 66,
     "metadata": {},
     "output_type": "execute_result"
    }
   ],
   "source": [
    "df.dtypes"
   ]
  },
  {
   "cell_type": "markdown",
   "id": "1be9861f",
   "metadata": {},
   "source": [
    "# Rename the species name"
   ]
  },
  {
   "cell_type": "code",
   "execution_count": 67,
   "id": "65adf2f1",
   "metadata": {},
   "outputs": [],
   "source": [
    "df['species'] = df['species'].str.replace('Iris-', '')"
   ]
  },
  {
   "cell_type": "code",
   "execution_count": 68,
   "id": "5fb1c62a",
   "metadata": {},
   "outputs": [
    {
     "data": {
      "text/plain": [
       "species\n",
       "setosa        50\n",
       "versicolor    50\n",
       "virginica     50\n",
       "Name: count, dtype: int64"
      ]
     },
     "execution_count": 68,
     "metadata": {},
     "output_type": "execute_result"
    }
   ],
   "source": [
    "df['species'].value_counts()"
   ]
  },
  {
   "cell_type": "markdown",
   "id": "20c7207d",
   "metadata": {},
   "source": [
    "# 3. Exploratory Data Analysis"
   ]
  },
  {
   "cell_type": "markdown",
   "id": "b99c2e16",
   "metadata": {},
   "source": [
    "# * Univariate Analysis"
   ]
  },
  {
   "cell_type": "markdown",
   "id": "d651ff9e",
   "metadata": {},
   "source": [
    "# Species"
   ]
  },
  {
   "cell_type": "code",
   "execution_count": 69,
   "id": "b3c0d338",
   "metadata": {},
   "outputs": [
    {
     "data": {
      "text/plain": [
       "<Axes: title={'center': 'Species'}>"
      ]
     },
     "execution_count": 69,
     "metadata": {},
     "output_type": "execute_result"
    },
    {
     "data": {
      "image/png": "[encoded data removed]",
      "text/plain": [
       "<Figure size 640x480 with 1 Axes>"
      ]
     },
     "metadata": {},
     "output_type": "display_data"
    }
   ],
   "source": [
    "df['species'].value_counts().plot(kind='pie',autopct='%0.2f%%',ylabel='',title='Species')"
   ]
  },
  {
   "cell_type": "markdown",
   "id": "6fc0210c",
   "metadata": {},
   "source": [
    "* All the three species have equal amount of data in the dataset."
   ]
  },
  {
   "cell_type": "markdown",
   "id": "27a71acd",
   "metadata": {},
   "source": [
    "# Sepal Length"
   ]
  },
  {
   "cell_type": "code",
   "execution_count": 70,
   "id": "d164bff5",
   "metadata": {},
   "outputs": [
    {
     "data": {
      "text/plain": [
       "<seaborn.axisgrid.FacetGrid at 0x197ae5ab190>"
      ]
     },
     "execution_count": 70,
     "metadata": {},
     "output_type": "execute_result"
    },
    {
     "data": {
      "image/png": "[encoded data removed]",
      "text/plain": [
       "<Figure size 500x500 with 1 Axes>"
      ]
     },
     "metadata": {},
     "output_type": "display_data"
    }
   ],
   "source": [
    "sns.displot(data = df, x = 'sepal_length', kde = True)"
   ]
  },
  {
   "cell_type": "markdown",
   "id": "046f98f9",
   "metadata": {},
   "source": [
    "* Most of the flowers have the petal length between 5.5 to 6.5"
   ]
  },
  {
   "cell_type": "markdown",
   "id": "bd8c4b94",
   "metadata": {},
   "source": [
    "# Sepal Width"
   ]
  },
  {
   "cell_type": "code",
   "execution_count": 71,
   "id": "c323f3ed",
   "metadata": {},
   "outputs": [
    {
     "data": {
      "text/plain": [
       "<seaborn.axisgrid.FacetGrid at 0x197ae6354d0>"
      ]
     },
     "execution_count": 71,
     "metadata": {},
     "output_type": "execute_result"
    },
    {
     "data": {
      "image/png": "[encoded data removed]",
      "text/plain": [
       "<Figure size 500x500 with 1 Axes>"
      ]
     },
     "metadata": {},
     "output_type": "display_data"
    }
   ],
   "source": [
    "sns.displot(data = df, x = 'sepal_width', kde = True)"
   ]
  },
  {
   "cell_type": "markdown",
   "id": "fc7b5895",
   "metadata": {},
   "source": [
    "* Most of the flowers have sepal width of 3."
   ]
  },
  {
   "cell_type": "markdown",
   "id": "300cca92",
   "metadata": {},
   "source": [
    "# Petal Length"
   ]
  },
  {
   "cell_type": "code",
   "execution_count": 72,
   "id": "72c32022",
   "metadata": {},
   "outputs": [
    {
     "data": {
      "text/plain": [
       "<seaborn.axisgrid.FacetGrid at 0x197ae624290>"
      ]
     },
     "execution_count": 72,
     "metadata": {},
     "output_type": "execute_result"
    },
    {
     "data": {
      "image/png": "[encoded data removed]",
      "text/plain": [
       "<Figure size 500x500 with 1 Axes>"
      ]
     },
     "metadata": {},
     "output_type": "display_data"
    }
   ],
   "source": [
    "sns.displot(data = df, x = 'petal_length', kde = True)"
   ]
  },
  {
   "cell_type": "markdown",
   "id": "85aa48bd",
   "metadata": {},
   "source": [
    "* Most of the flowers have petal length of 1 to 1.5.\n",
    "\n",
    "* There is no flower in the dataset whose petal length is between 2 to 3. "
   ]
  },
  {
   "cell_type": "markdown",
   "id": "fe457070",
   "metadata": {},
   "source": [
    "# Petal Width"
   ]
  },
  {
   "cell_type": "code",
   "execution_count": 73,
   "id": "c9dfc3c5",
   "metadata": {},
   "outputs": [
    {
     "data": {
      "text/plain": [
       "<seaborn.axisgrid.FacetGrid at 0x197ae702290>"
      ]
     },
     "execution_count": 73,
     "metadata": {},
     "output_type": "execute_result"
    },
    {
     "data": {
      "image/png": "[encoded data removed]",
      "text/plain": [
       "<Figure size 500x500 with 1 Axes>"
      ]
     },
     "metadata": {},
     "output_type": "display_data"
    }
   ],
   "source": [
    "sns.displot(data = df, x = 'petal_width', kde = True)"
   ]
  },
  {
   "cell_type": "markdown",
   "id": "81464a51",
   "metadata": {},
   "source": [
    "* Most of the flowers have petal width less than 0.5\n",
    "\n",
    "* There is no flower in the dataset whose petal width is between 0.5 to 1"
   ]
  },
  {
   "cell_type": "markdown",
   "id": "f82a5e79",
   "metadata": {},
   "source": [
    "# * Bivariate Analysis"
   ]
  },
  {
   "cell_type": "markdown",
   "id": "c2c15b4f",
   "metadata": {},
   "source": [
    "# Sepal Width with Species"
   ]
  },
  {
   "cell_type": "code",
   "execution_count": 74,
   "id": "87c20093",
   "metadata": {},
   "outputs": [
    {
     "data": {
      "image/png": "[encoded data removed]",
      "text/plain": [
       "<Figure size 640x480 with 1 Axes>"
      ]
     },
     "metadata": {},
     "output_type": "display_data"
    }
   ],
   "source": [
    "sns.boxplot(data=df, x='species', y='sepal_width')\n",
    "plt.title('Sepal Width by Species')\n",
    "plt.xlabel('Species')\n",
    "plt.ylabel('Sepal Width')\n",
    "\n",
    "plt.tight_layout()\n",
    "plt.show()"
   ]
  },
  {
   "cell_type": "markdown",
   "id": "73a5a2cb",
   "metadata": {},
   "source": [
    "* Speal width of 'Setosa' flower is highest among all the species.\n",
    "\n",
    "* Sepal width of 'Versicolor' flower is lowest among all the species.\n",
    "\n",
    "* There are some outliers in 'Virginica' flower."
   ]
  },
  {
   "cell_type": "code",
   "execution_count": 75,
   "id": "4090ec14",
   "metadata": {},
   "outputs": [
    {
     "data": {
      "image/png": "[encoded data removed]",
      "text/plain": [
       "<Figure size 640x480 with 1 Axes>"
      ]
     },
     "metadata": {},
     "output_type": "display_data"
    }
   ],
   "source": [
    "sns.boxplot(data=df, x='species', y='sepal_length')\n",
    "plt.title('Sepal Length by Species')\n",
    "plt.xlabel('Species')\n",
    "plt.ylabel('Sepal Length')\n",
    "\n",
    "plt.tight_layout()\n",
    "plt.show()"
   ]
  },
  {
   "cell_type": "markdown",
   "id": "4aa3b219",
   "metadata": {},
   "source": [
    "* Sepal length of 'Virginica' flower is highest among all the species.\n",
    "\n",
    "* Sepal length of 'Setosa' flower is lowest among all the species.\n",
    "\n",
    "* There are some outlier in 'Virginica' specie."
   ]
  },
  {
   "cell_type": "markdown",
   "id": "fd935add",
   "metadata": {},
   "source": [
    "# Petal Width with Species"
   ]
  },
  {
   "cell_type": "code",
   "execution_count": 76,
   "id": "619b65d8",
   "metadata": {},
   "outputs": [
    {
     "data": {
      "image/png": "[encoded data removed]",
      "text/plain": [
       "<Figure size 640x480 with 1 Axes>"
      ]
     },
     "metadata": {},
     "output_type": "display_data"
    }
   ],
   "source": [
    "sns.boxplot(data=df, x='species', y='petal_width')\n",
    "plt.title('Petal Width by Species')\n",
    "plt.xlabel('Species')\n",
    "plt.ylabel('Petal Width')\n",
    "\n",
    "plt.tight_layout()\n",
    "plt.show()"
   ]
  },
  {
   "cell_type": "markdown",
   "id": "2bf83639",
   "metadata": {},
   "source": [
    "* Petal width of 'Virginica' flower is the highest among all the species.\n",
    "\n",
    "* Petal width of 'Setosa' flower is lowest among all the species.\n",
    "\n",
    "* There are some outliers in 'Setosa' specie."
   ]
  },
  {
   "cell_type": "markdown",
   "id": "8501b3a7",
   "metadata": {},
   "source": [
    "# Petal Length with Species"
   ]
  },
  {
   "cell_type": "code",
   "execution_count": 77,
   "id": "f37ac25e",
   "metadata": {},
   "outputs": [
    {
     "data": {
      "image/png": "[encoded data removed]",
      "text/plain": [
       "<Figure size 640x480 with 1 Axes>"
      ]
     },
     "metadata": {},
     "output_type": "display_data"
    }
   ],
   "source": [
    "sns.boxplot(data=df, x='species', y='petal_length')\n",
    "plt.title('Petal Length by Species')\n",
    "plt.xlabel('Species')\n",
    "plt.ylabel('Petal Length')\n",
    "\n",
    "plt.tight_layout()\n",
    "plt.show()"
   ]
  },
  {
   "cell_type": "markdown",
   "id": "f07fd20c",
   "metadata": {},
   "source": [
    "* Petal length of 'Virginica' flower is the highest among all the species.\n",
    "\n",
    "* Petal length of 'Setosa' flower is the lowest among all the species.\n",
    "\n",
    "* There are some outliers in 'Setosa' and 'Versicolor' species."
   ]
  },
  {
   "cell_type": "markdown",
   "id": "1b778ffa",
   "metadata": {},
   "source": [
    "# * Multivariate Analysis"
   ]
  },
  {
   "cell_type": "markdown",
   "id": "872cfb11",
   "metadata": {},
   "source": [
    "# Sepal Length v/s Sepal Width with Species"
   ]
  },
  {
   "cell_type": "code",
   "execution_count": 78,
   "id": "3ab4bc10",
   "metadata": {},
   "outputs": [
    {
     "data": {
      "image/png": "[encoded data removed]",
      "text/plain": [
       "<Figure size 1700x600 with 1 Axes>"
      ]
     },
     "metadata": {},
     "output_type": "display_data"
    }
   ],
   "source": [
    "plt.figure(figsize=(17, 6))\n",
    "sns.scatterplot(data=df, x='sepal_length', y='sepal_width', hue='species')\n",
    "plt.legend(loc='upper left')\n",
    "plt.title('Sepal Length vs. Sepal Width')\n",
    "plt.xlabel('Sepal Length')\n",
    "plt.ylabel('Sepal Width')\n",
    "plt.show()"
   ]
  },
  {
   "cell_type": "markdown",
   "id": "446178b1",
   "metadata": {},
   "source": [
    "# Petal Length v/s Petal Width with Species"
   ]
  },
  {
   "cell_type": "code",
   "execution_count": 79,
   "id": "ea29d011",
   "metadata": {},
   "outputs": [
    {
     "data": {
      "image/png": "[encoded data removed]",
      "text/plain": [
       "<Figure size 1700x600 with 1 Axes>"
      ]
     },
     "metadata": {},
     "output_type": "display_data"
    }
   ],
   "source": [
    "plt.figure(figsize=(17, 6))\n",
    "sns.scatterplot(data=df, x='petal_length', y='petal_width', hue='species')\n",
    "plt.legend(loc='upper left')\n",
    "plt.title('Petal Length vs. Petal Width')\n",
    "plt.xlabel('Petal Length')\n",
    "plt.ylabel('Petal Width')\n",
    "plt.show()"
   ]
  },
  {
   "cell_type": "markdown",
   "id": "a658a281",
   "metadata": {},
   "source": [
    "# 4. Data Preprocessing"
   ]
  },
  {
   "cell_type": "markdown",
   "id": "952e958a",
   "metadata": {},
   "source": [
    "In data preprocessing, we will perform:\n",
    "    \n",
    "    1. Check for outliers\n",
    "    2. Check for correlation\n",
    "    3. Apply One Hot Encoding to target column\n",
    "    4. Apply standard scaling\n",
    "    5. Split data in train and test"
   ]
  },
  {
   "cell_type": "markdown",
   "id": "89de2450",
   "metadata": {},
   "source": [
    "# Check Outliers:"
   ]
  },
  {
   "cell_type": "code",
   "execution_count": 80,
   "id": "29103246",
   "metadata": {},
   "outputs": [],
   "source": [
    "def outliers_box(d_f,col_):\n",
    "    q1 = np.quantile(d_f[col_],.25)\n",
    "    q2 = np.quantile(d_f[col_],.75)\n",
    "    iqr = q2-q1\n",
    "    maxima_ = q2 + 1.5*iqr\n",
    "    minima_ = q1 - 1.5*iqr\n",
    "    \n",
    "    if((d_f[col_].max() > maxima_) or (d_f[col_].min() < minima_)):\n",
    "        print(col_,'------- outliers present')\n",
    "    else:\n",
    "        print(col_,'------- outliers not present')\n",
    "        \n",
    "    return(minima_,maxima_)"
   ]
  },
  {
   "cell_type": "code",
   "execution_count": 81,
   "id": "6d528469",
   "metadata": {},
   "outputs": [],
   "source": [
    "def out_remove(d_f,col_):\n",
    "    x1,y1 = outliers_box(d_f,col_)\n",
    "    df.drop(index= d_f[(d_f[col_]<x1) | (d_f[col_]>y1)].index, axis = 0, inplace =True)"
   ]
  },
  {
   "cell_type": "code",
   "execution_count": 82,
   "id": "65907f1b",
   "metadata": {},
   "outputs": [
    {
     "name": "stdout",
     "output_type": "stream",
     "text": [
      "sepal_length ------- outliers not present\n",
      "sepal_width ------- outliers present\n",
      "petal_length ------- outliers not present\n",
      "petal_width ------- outliers not present\n"
     ]
    }
   ],
   "source": [
    "df_num = df.select_dtypes(exclude = 'object')\n",
    "for i in df_num.columns:\n",
    "    out_remove(df,i)\n",
    "    df.reset_index(drop=True,inplace = True)"
   ]
  },
  {
   "cell_type": "code",
   "execution_count": 83,
   "id": "d3453319",
   "metadata": {},
   "outputs": [
    {
     "data": {
      "text/plain": [
       "(146, 5)"
      ]
     },
     "execution_count": 83,
     "metadata": {},
     "output_type": "execute_result"
    }
   ],
   "source": [
    "df.shape"
   ]
  },
  {
   "cell_type": "markdown",
   "id": "aac4880f",
   "metadata": {},
   "source": [
    "* After removing outliers, we are left with 146 rows."
   ]
  },
  {
   "cell_type": "markdown",
   "id": "2030a15f",
   "metadata": {},
   "source": [
    "# * Check Correlation:"
   ]
  },
  {
   "cell_type": "code",
   "execution_count": 84,
   "id": "4dfef089",
   "metadata": {},
   "outputs": [
    {
     "data": {
      "text/html": [
       "<div>\n",
       "<style scoped>\n",
       "    .dataframe tbody tr th:only-of-type {\n",
       "        vertical-align: middle;\n",
       "    }\n",
       "\n",
       "    .dataframe tbody tr th {\n",
       "        vertical-align: top;\n",
       "    }\n",
       "\n",
       "    .dataframe thead th {\n",
       "        text-align: right;\n",
       "    }\n",
       "</style>\n",
       "<table border=\"1\" class=\"dataframe\">\n",
       "  <thead>\n",
       "    <tr style=\"text-align: right;\">\n",
       "      <th></th>\n",
       "      <th>sepal_length</th>\n",
       "      <th>sepal_width</th>\n",
       "      <th>petal_length</th>\n",
       "      <th>petal_width</th>\n",
       "    </tr>\n",
       "  </thead>\n",
       "  <tbody>\n",
       "    <tr>\n",
       "      <th>sepal_length</th>\n",
       "      <td>1.000000</td>\n",
       "      <td>-0.109369</td>\n",
       "      <td>0.871754</td>\n",
       "      <td>0.817954</td>\n",
       "    </tr>\n",
       "    <tr>\n",
       "      <th>sepal_width</th>\n",
       "      <td>-0.109369</td>\n",
       "      <td>1.000000</td>\n",
       "      <td>-0.420516</td>\n",
       "      <td>-0.356544</td>\n",
       "    </tr>\n",
       "    <tr>\n",
       "      <th>petal_length</th>\n",
       "      <td>0.871754</td>\n",
       "      <td>-0.420516</td>\n",
       "      <td>1.000000</td>\n",
       "      <td>0.962757</td>\n",
       "    </tr>\n",
       "    <tr>\n",
       "      <th>petal_width</th>\n",
       "      <td>0.817954</td>\n",
       "      <td>-0.356544</td>\n",
       "      <td>0.962757</td>\n",
       "      <td>1.000000</td>\n",
       "    </tr>\n",
       "  </tbody>\n",
       "</table>\n",
       "</div>"
      ],
      "text/plain": [
       "              sepal_length  sepal_width  petal_length  petal_width\n",
       "sepal_length      1.000000    -0.109369      0.871754     0.817954\n",
       "sepal_width      -0.109369     1.000000     -0.420516    -0.356544\n",
       "petal_length      0.871754    -0.420516      1.000000     0.962757\n",
       "petal_width       0.817954    -0.356544      0.962757     1.000000"
      ]
     },
     "execution_count": 84,
     "metadata": {},
     "output_type": "execute_result"
    }
   ],
   "source": [
    "df_num.corr()"
   ]
  },
  {
   "cell_type": "code",
   "execution_count": 85,
   "id": "ff497c28",
   "metadata": {},
   "outputs": [
    {
     "data": {
      "text/plain": [
       "<Axes: >"
      ]
     },
     "execution_count": 85,
     "metadata": {},
     "output_type": "execute_result"
    },
    {
     "data": {
      "image/png": "[encoded data removed]",
      "text/plain": [
       "<Figure size 640x480 with 2 Axes>"
      ]
     },
     "metadata": {},
     "output_type": "display_data"
    }
   ],
   "source": [
    "sns.heatmap(df_num.corr(), annot = True)"
   ]
  },
  {
   "cell_type": "markdown",
   "id": "a32a2f36",
   "metadata": {},
   "source": [
    "* Sepal Length is correlated with Petal Length and Petal Width\n",
    "\n",
    "* Petal Length is correlated with Petal Width\n",
    "\n",
    "* Since we have only feature columns and all are important for the model building. We will keep all the 4 columns."
   ]
  },
  {
   "cell_type": "markdown",
   "id": "f47fe4ad",
   "metadata": {},
   "source": [
    "# * Apply Label Encoding to the target column:"
   ]
  },
  {
   "cell_type": "code",
   "execution_count": 91,
   "id": "ea221666",
   "metadata": {},
   "outputs": [],
   "source": [
    "from sklearn.preprocessing import LabelEncoder "
   ]
  },
  {
   "cell_type": "code",
   "execution_count": 92,
   "id": "98b5ee81",
   "metadata": {},
   "outputs": [],
   "source": [
    "le = LabelEncoder() "
   ]
  },
  {
   "cell_type": "code",
   "execution_count": 93,
   "id": "8809e8f4",
   "metadata": {},
   "outputs": [],
   "source": [
    "df['species'] = le.fit_transform(df['species']) "
   ]
  },
  {
   "cell_type": "code",
   "execution_count": 108,
   "id": "dfb6effb",
   "metadata": {},
   "outputs": [
    {
     "data": {
      "text/html": [
       "<div>\n",
       "<style scoped>\n",
       "    .dataframe tbody tr th:only-of-type {\n",
       "        vertical-align: middle;\n",
       "    }\n",
       "\n",
       "    .dataframe tbody tr th {\n",
       "        vertical-align: top;\n",
       "    }\n",
       "\n",
       "    .dataframe thead th {\n",
       "        text-align: right;\n",
       "    }\n",
       "</style>\n",
       "<table border=\"1\" class=\"dataframe\">\n",
       "  <thead>\n",
       "    <tr style=\"text-align: right;\">\n",
       "      <th></th>\n",
       "      <th>sepal_length</th>\n",
       "      <th>sepal_width</th>\n",
       "      <th>petal_length</th>\n",
       "      <th>petal_width</th>\n",
       "      <th>species</th>\n",
       "    </tr>\n",
       "  </thead>\n",
       "  <tbody>\n",
       "    <tr>\n",
       "      <th>0</th>\n",
       "      <td>5.1</td>\n",
       "      <td>3.5</td>\n",
       "      <td>1.4</td>\n",
       "      <td>0.2</td>\n",
       "      <td>0</td>\n",
       "    </tr>\n",
       "    <tr>\n",
       "      <th>1</th>\n",
       "      <td>4.9</td>\n",
       "      <td>3.0</td>\n",
       "      <td>1.4</td>\n",
       "      <td>0.2</td>\n",
       "      <td>0</td>\n",
       "    </tr>\n",
       "    <tr>\n",
       "      <th>2</th>\n",
       "      <td>4.7</td>\n",
       "      <td>3.2</td>\n",
       "      <td>1.3</td>\n",
       "      <td>0.2</td>\n",
       "      <td>0</td>\n",
       "    </tr>\n",
       "    <tr>\n",
       "      <th>3</th>\n",
       "      <td>4.6</td>\n",
       "      <td>3.1</td>\n",
       "      <td>1.5</td>\n",
       "      <td>0.2</td>\n",
       "      <td>0</td>\n",
       "    </tr>\n",
       "    <tr>\n",
       "      <th>4</th>\n",
       "      <td>5.0</td>\n",
       "      <td>3.6</td>\n",
       "      <td>1.4</td>\n",
       "      <td>0.2</td>\n",
       "      <td>0</td>\n",
       "    </tr>\n",
       "    <tr>\n",
       "      <th>...</th>\n",
       "      <td>...</td>\n",
       "      <td>...</td>\n",
       "      <td>...</td>\n",
       "      <td>...</td>\n",
       "      <td>...</td>\n",
       "    </tr>\n",
       "    <tr>\n",
       "      <th>141</th>\n",
       "      <td>6.7</td>\n",
       "      <td>3.0</td>\n",
       "      <td>5.2</td>\n",
       "      <td>2.3</td>\n",
       "      <td>2</td>\n",
       "    </tr>\n",
       "    <tr>\n",
       "      <th>142</th>\n",
       "      <td>6.3</td>\n",
       "      <td>2.5</td>\n",
       "      <td>5.0</td>\n",
       "      <td>1.9</td>\n",
       "      <td>2</td>\n",
       "    </tr>\n",
       "    <tr>\n",
       "      <th>143</th>\n",
       "      <td>6.5</td>\n",
       "      <td>3.0</td>\n",
       "      <td>5.2</td>\n",
       "      <td>2.0</td>\n",
       "      <td>2</td>\n",
       "    </tr>\n",
       "    <tr>\n",
       "      <th>144</th>\n",
       "      <td>6.2</td>\n",
       "      <td>3.4</td>\n",
       "      <td>5.4</td>\n",
       "      <td>2.3</td>\n",
       "      <td>2</td>\n",
       "    </tr>\n",
       "    <tr>\n",
       "      <th>145</th>\n",
       "      <td>5.9</td>\n",
       "      <td>3.0</td>\n",
       "      <td>5.1</td>\n",
       "      <td>1.8</td>\n",
       "      <td>2</td>\n",
       "    </tr>\n",
       "  </tbody>\n",
       "</table>\n",
       "<p>146 rows × 5 columns</p>\n",
       "</div>"
      ],
      "text/plain": [
       "     sepal_length  sepal_width  petal_length  petal_width  species\n",
       "0             5.1          3.5           1.4          0.2        0\n",
       "1             4.9          3.0           1.4          0.2        0\n",
       "2             4.7          3.2           1.3          0.2        0\n",
       "3             4.6          3.1           1.5          0.2        0\n",
       "4             5.0          3.6           1.4          0.2        0\n",
       "..            ...          ...           ...          ...      ...\n",
       "141           6.7          3.0           5.2          2.3        2\n",
       "142           6.3          2.5           5.0          1.9        2\n",
       "143           6.5          3.0           5.2          2.0        2\n",
       "144           6.2          3.4           5.4          2.3        2\n",
       "145           5.9          3.0           5.1          1.8        2\n",
       "\n",
       "[146 rows x 5 columns]"
      ]
     },
     "execution_count": 108,
     "metadata": {},
     "output_type": "execute_result"
    }
   ],
   "source": [
    "df"
   ]
  },
  {
   "cell_type": "markdown",
   "id": "217da566",
   "metadata": {},
   "source": [
    "# Standard Scaling:"
   ]
  },
  {
   "cell_type": "code",
   "execution_count": 95,
   "id": "9494fd97",
   "metadata": {},
   "outputs": [],
   "source": [
    "from sklearn.preprocessing import StandardScaler"
   ]
  },
  {
   "cell_type": "code",
   "execution_count": 96,
   "id": "c707f1bc",
   "metadata": {},
   "outputs": [],
   "source": [
    "scale = df.drop('species', axis = 1)"
   ]
  },
  {
   "cell_type": "code",
   "execution_count": 97,
   "id": "569d069a",
   "metadata": {},
   "outputs": [],
   "source": [
    "ss = StandardScaler()"
   ]
  },
  {
   "cell_type": "code",
   "execution_count": 98,
   "id": "cb5aaff9",
   "metadata": {},
   "outputs": [],
   "source": [
    "scaled_data = ss.fit_transform(scale)"
   ]
  },
  {
   "cell_type": "code",
   "execution_count": 99,
   "id": "349f6a0b",
   "metadata": {},
   "outputs": [],
   "source": [
    "scaled_df = pd.DataFrame(scaled_data, columns = scale.columns)"
   ]
  },
  {
   "cell_type": "code",
   "execution_count": 100,
   "id": "cca2f4ab",
   "metadata": {},
   "outputs": [
    {
     "data": {
      "text/html": [
       "<div>\n",
       "<style scoped>\n",
       "    .dataframe tbody tr th:only-of-type {\n",
       "        vertical-align: middle;\n",
       "    }\n",
       "\n",
       "    .dataframe tbody tr th {\n",
       "        vertical-align: top;\n",
       "    }\n",
       "\n",
       "    .dataframe thead th {\n",
       "        text-align: right;\n",
       "    }\n",
       "</style>\n",
       "<table border=\"1\" class=\"dataframe\">\n",
       "  <thead>\n",
       "    <tr style=\"text-align: right;\">\n",
       "      <th></th>\n",
       "      <th>sepal_length</th>\n",
       "      <th>sepal_width</th>\n",
       "      <th>petal_length</th>\n",
       "      <th>petal_width</th>\n",
       "    </tr>\n",
       "  </thead>\n",
       "  <tbody>\n",
       "    <tr>\n",
       "      <th>0</th>\n",
       "      <td>-0.910515</td>\n",
       "      <td>1.175789</td>\n",
       "      <td>-1.374878</td>\n",
       "      <td>-1.345899</td>\n",
       "    </tr>\n",
       "    <tr>\n",
       "      <th>1</th>\n",
       "      <td>-1.151122</td>\n",
       "      <td>-0.093924</td>\n",
       "      <td>-1.374878</td>\n",
       "      <td>-1.345899</td>\n",
       "    </tr>\n",
       "    <tr>\n",
       "      <th>2</th>\n",
       "      <td>-1.391729</td>\n",
       "      <td>0.413961</td>\n",
       "      <td>-1.431986</td>\n",
       "      <td>-1.345899</td>\n",
       "    </tr>\n",
       "    <tr>\n",
       "      <th>3</th>\n",
       "      <td>-1.512032</td>\n",
       "      <td>0.160019</td>\n",
       "      <td>-1.317771</td>\n",
       "      <td>-1.345899</td>\n",
       "    </tr>\n",
       "    <tr>\n",
       "      <th>4</th>\n",
       "      <td>-1.030819</td>\n",
       "      <td>1.429732</td>\n",
       "      <td>-1.374878</td>\n",
       "      <td>-1.345899</td>\n",
       "    </tr>\n",
       "  </tbody>\n",
       "</table>\n",
       "</div>"
      ],
      "text/plain": [
       "   sepal_length  sepal_width  petal_length  petal_width\n",
       "0     -0.910515     1.175789     -1.374878    -1.345899\n",
       "1     -1.151122    -0.093924     -1.374878    -1.345899\n",
       "2     -1.391729     0.413961     -1.431986    -1.345899\n",
       "3     -1.512032     0.160019     -1.317771    -1.345899\n",
       "4     -1.030819     1.429732     -1.374878    -1.345899"
      ]
     },
     "execution_count": 100,
     "metadata": {},
     "output_type": "execute_result"
    }
   ],
   "source": [
    "scaled_df.head()"
   ]
  },
  {
   "cell_type": "markdown",
   "id": "40880113",
   "metadata": {},
   "source": [
    "# * Train Test Split"
   ]
  },
  {
   "cell_type": "code",
   "execution_count": 101,
   "id": "aac68d41",
   "metadata": {},
   "outputs": [],
   "source": [
    "X = scaled_df\n",
    "y = df['species']"
   ]
  },
  {
   "cell_type": "code",
   "execution_count": 102,
   "id": "530ed94b",
   "metadata": {},
   "outputs": [],
   "source": [
    "X_train, X_test, y_train, y_test = train_test_split(X, y, test_size = 0.2, random_state = 102)"
   ]
  },
  {
   "cell_type": "markdown",
   "id": "05965ac8",
   "metadata": {},
   "source": [
    "# 5. Model Building"
   ]
  },
  {
   "cell_type": "markdown",
   "id": "3902574c",
   "metadata": {},
   "source": [
    "# * Scorecard Function"
   ]
  },
  {
   "cell_type": "code",
   "execution_count": 104,
   "id": "b36e30e0",
   "metadata": {},
   "outputs": [],
   "source": [
    "df_scorecard = pd.DataFrame(columns = ['Model_name', 'Accuracy_Score_train', 'Precision_Score_train', 'Recall_Score_train', 'F1_Score_train', 'Accuracy_Score_test', 'Precision_Score_test', 'Recall_Score_test', 'F1_Score_test'])"
   ]
  },
  {
   "cell_type": "code",
   "execution_count": 105,
   "id": "2f8645c1",
   "metadata": {},
   "outputs": [
    {
     "data": {
      "text/html": [
       "<div>\n",
       "<style scoped>\n",
       "    .dataframe tbody tr th:only-of-type {\n",
       "        vertical-align: middle;\n",
       "    }\n",
       "\n",
       "    .dataframe tbody tr th {\n",
       "        vertical-align: top;\n",
       "    }\n",
       "\n",
       "    .dataframe thead th {\n",
       "        text-align: right;\n",
       "    }\n",
       "</style>\n",
       "<table border=\"1\" class=\"dataframe\">\n",
       "  <thead>\n",
       "    <tr style=\"text-align: right;\">\n",
       "      <th></th>\n",
       "      <th>Model_name</th>\n",
       "      <th>Accuracy_Score_train</th>\n",
       "      <th>Precision_Score_train</th>\n",
       "      <th>Recall_Score_train</th>\n",
       "      <th>F1_Score_train</th>\n",
       "      <th>Accuracy_Score_test</th>\n",
       "      <th>Precision_Score_test</th>\n",
       "      <th>Recall_Score_test</th>\n",
       "      <th>F1_Score_test</th>\n",
       "    </tr>\n",
       "  </thead>\n",
       "  <tbody>\n",
       "  </tbody>\n",
       "</table>\n",
       "</div>"
      ],
      "text/plain": [
       "Empty DataFrame\n",
       "Columns: [Model_name, Accuracy_Score_train, Precision_Score_train, Recall_Score_train, F1_Score_train, Accuracy_Score_test, Precision_Score_test, Recall_Score_test, F1_Score_test]\n",
       "Index: []"
      ]
     },
     "execution_count": 105,
     "metadata": {},
     "output_type": "execute_result"
    }
   ],
   "source": [
    "df_scorecard"
   ]
  },
  {
   "cell_type": "code",
   "execution_count": 106,
   "id": "971ff395",
   "metadata": {},
   "outputs": [],
   "source": [
    "def score_card(d_f, model_name, y_pred, y_test, x_pred, y_train):\n",
    "    metrics_dict = {\n",
    "        'Model_name': model_name,\n",
    "        'Accuracy_Score_train': accuracy_score(y_train, x_pred),\n",
    "        'Precision_Score_train': precision_score(y_train, x_pred, average='macro'),\n",
    "        'Recall_Score_train': recall_score(y_train, x_pred, average='macro'),\n",
    "        'F1_Score_train': f1_score(y_train, x_pred, average='macro'),\n",
    "        'Accuracy_Score_test': accuracy_score(y_test, y_pred),\n",
    "        'Precision_Score_test': precision_score(y_test, y_pred, average='macro'),\n",
    "        'Recall_Score_test': recall_score(y_test, y_pred, average='macro'),\n",
    "        'F1_Score_test': f1_score(y_test, y_pred, average='macro')\n",
    "    }\n",
    "\n",
    "    dfx = pd.concat([d_f, pd.DataFrame(metrics_dict, index=[0])], ignore_index=True)\n",
    "    return dfx"
   ]
  },
  {
   "cell_type": "markdown",
   "id": "f1d333ec",
   "metadata": {},
   "source": [
    "# 1. Logistic Regression"
   ]
  },
  {
   "cell_type": "code",
   "execution_count": 107,
   "id": "896a02e8",
   "metadata": {},
   "outputs": [],
   "source": [
    "from sklearn.linear_model import LogisticRegression"
   ]
  },
  {
   "cell_type": "code",
   "execution_count": 109,
   "id": "2faa5bcc",
   "metadata": {},
   "outputs": [
    {
     "data": {
      "text/plain": [
       "<sklearn.metrics._plot.confusion_matrix.ConfusionMatrixDisplay at 0x197aeba2a50>"
      ]
     },
     "execution_count": 109,
     "metadata": {},
     "output_type": "execute_result"
    },
    {
     "data": {
      "image/png": "[encoded data removed]",
      "text/plain": [
       "<Figure size 640x480 with 2 Axes>"
      ]
     },
     "metadata": {},
     "output_type": "display_data"
    }
   ],
   "source": [
    "lr = LogisticRegression(solver = 'liblinear', penalty = 'l1')\n",
    "model_lr = lr.fit(X_train, y_train)\n",
    "ypred_lr = model_lr.predict(X_test)\n",
    "ypred_lr_train = model_lr.predict(X_train)\n",
    "cm_lr = confusion_matrix(y_test, ypred_lr)\n",
    "(ConfusionMatrixDisplay(confusion_matrix = cm_lr, display_labels = ['Setosa', 'Versicolor', 'Verginica'])).plot()"
   ]
  },
  {
   "cell_type": "code",
   "execution_count": 110,
   "id": "2ff0a6f0",
   "metadata": {},
   "outputs": [
    {
     "data": {
      "text/html": [
       "<div>\n",
       "<style scoped>\n",
       "    .dataframe tbody tr th:only-of-type {\n",
       "        vertical-align: middle;\n",
       "    }\n",
       "\n",
       "    .dataframe tbody tr th {\n",
       "        vertical-align: top;\n",
       "    }\n",
       "\n",
       "    .dataframe thead th {\n",
       "        text-align: right;\n",
       "    }\n",
       "</style>\n",
       "<table border=\"1\" class=\"dataframe\">\n",
       "  <thead>\n",
       "    <tr style=\"text-align: right;\">\n",
       "      <th></th>\n",
       "      <th>Model_name</th>\n",
       "      <th>Accuracy_Score_train</th>\n",
       "      <th>Precision_Score_train</th>\n",
       "      <th>Recall_Score_train</th>\n",
       "      <th>F1_Score_train</th>\n",
       "      <th>Accuracy_Score_test</th>\n",
       "      <th>Precision_Score_test</th>\n",
       "      <th>Recall_Score_test</th>\n",
       "      <th>F1_Score_test</th>\n",
       "    </tr>\n",
       "  </thead>\n",
       "  <tbody>\n",
       "    <tr>\n",
       "      <th>0</th>\n",
       "      <td>Logistic Regression</td>\n",
       "      <td>0.931034</td>\n",
       "      <td>0.931746</td>\n",
       "      <td>0.929955</td>\n",
       "      <td>0.930443</td>\n",
       "      <td>0.966667</td>\n",
       "      <td>0.969697</td>\n",
       "      <td>0.972222</td>\n",
       "      <td>0.969634</td>\n",
       "    </tr>\n",
       "  </tbody>\n",
       "</table>\n",
       "</div>"
      ],
      "text/plain": [
       "            Model_name  Accuracy_Score_train  Precision_Score_train  \\\n",
       "0  Logistic Regression              0.931034               0.931746   \n",
       "\n",
       "   Recall_Score_train  F1_Score_train  Accuracy_Score_test  \\\n",
       "0            0.929955        0.930443             0.966667   \n",
       "\n",
       "   Precision_Score_test  Recall_Score_test  F1_Score_test  \n",
       "0              0.969697           0.972222       0.969634  "
      ]
     },
     "execution_count": 110,
     "metadata": {},
     "output_type": "execute_result"
    }
   ],
   "source": [
    "df101 = score_card(df_scorecard, 'Logistic Regression', ypred_lr, y_test, ypred_lr_train, y_train)\n",
    "df101"
   ]
  },
  {
   "cell_type": "markdown",
   "id": "fa5701a4",
   "metadata": {},
   "source": [
    "# 2. Decision Tree: GridSearchCV"
   ]
  },
  {
   "cell_type": "code",
   "execution_count": 113,
   "id": "5c2142fd",
   "metadata": {},
   "outputs": [],
   "source": [
    "from sklearn.tree import DecisionTreeClassifier\n",
    "from sklearn.model_selection import GridSearchCV as gscv"
   ]
  },
  {
   "cell_type": "code",
   "execution_count": 116,
   "id": "4ee615c8",
   "metadata": {},
   "outputs": [],
   "source": [
    "htmodel = gscv(DecisionTreeClassifier(), param_grid = {'max_depth': [5,10,15,20,25,30],\n",
    "                                                       'min_samples_leaf': [1,2],\n",
    "                                                       'min_samples_split': [1,2,3,4],\n",
    "                                                       'criterion': ['entropy','gini']}, cv = 5)"
   ]
  },
  {
   "cell_type": "code",
   "execution_count": 117,
   "id": "7eaaa7a2",
   "metadata": {},
   "outputs": [
    {
     "name": "stdout",
     "output_type": "stream",
     "text": [
      "{'criterion': 'entropy', 'max_depth': 5, 'min_samples_leaf': 2, 'min_samples_split': 3}\n"
     ]
    }
   ],
   "source": [
    "htmodel.fit(X,y)\n",
    "print(htmodel.best_params_)"
   ]
  },
  {
   "cell_type": "code",
   "execution_count": 118,
   "id": "bf6cb0de",
   "metadata": {},
   "outputs": [],
   "source": [
    "model_gscv = DecisionTreeClassifier(criterion = 'entropy', max_depth = htmodel.best_params_.get('max_depth'),\n",
    "         min_samples_leaf = htmodel.best_params_.get('min_samples_leaf'),\n",
    "         min_samples_split = htmodel.best_params_.get('min_samples_split')).fit(X_train, y_train)"
   ]
  },
  {
   "cell_type": "code",
   "execution_count": 121,
   "id": "aeba5222",
   "metadata": {},
   "outputs": [
    {
     "data": {
      "text/plain": [
       "<sklearn.metrics._plot.confusion_matrix.ConfusionMatrixDisplay at 0x197aeaa0210>"
      ]
     },
     "execution_count": 121,
     "metadata": {},
     "output_type": "execute_result"
    },
    {
     "data": {
      "image/png": "[encoded data removed]",
      "text/plain": [
       "<Figure size 640x480 with 2 Axes>"
      ]
     },
     "metadata": {},
     "output_type": "display_data"
    }
   ],
   "source": [
    "ypred_gscv = model_gscv.predict(X_test)\n",
    "ypred_gscv_train = model_gscv.predict(X_train)\n",
    "cm_gscv = confusion_matrix(y_test, ypred_gscv)\n",
    "(ConfusionMatrixDisplay(confusion_matrix = cm_gscv, display_labels = ['Setosa', 'Versicolor', 'Verginica'])).plot()"
   ]
  },
  {
   "cell_type": "code",
   "execution_count": 123,
   "id": "932d7f8f",
   "metadata": {},
   "outputs": [
    {
     "data": {
      "text/html": [
       "<div>\n",
       "<style scoped>\n",
       "    .dataframe tbody tr th:only-of-type {\n",
       "        vertical-align: middle;\n",
       "    }\n",
       "\n",
       "    .dataframe tbody tr th {\n",
       "        vertical-align: top;\n",
       "    }\n",
       "\n",
       "    .dataframe thead th {\n",
       "        text-align: right;\n",
       "    }\n",
       "</style>\n",
       "<table border=\"1\" class=\"dataframe\">\n",
       "  <thead>\n",
       "    <tr style=\"text-align: right;\">\n",
       "      <th></th>\n",
       "      <th>Model_name</th>\n",
       "      <th>Accuracy_Score_train</th>\n",
       "      <th>Precision_Score_train</th>\n",
       "      <th>Recall_Score_train</th>\n",
       "      <th>F1_Score_train</th>\n",
       "      <th>Accuracy_Score_test</th>\n",
       "      <th>Precision_Score_test</th>\n",
       "      <th>Recall_Score_test</th>\n",
       "      <th>F1_Score_test</th>\n",
       "    </tr>\n",
       "  </thead>\n",
       "  <tbody>\n",
       "    <tr>\n",
       "      <th>0</th>\n",
       "      <td>Logistic Regression</td>\n",
       "      <td>0.931034</td>\n",
       "      <td>0.931746</td>\n",
       "      <td>0.929955</td>\n",
       "      <td>0.930443</td>\n",
       "      <td>0.966667</td>\n",
       "      <td>0.969697</td>\n",
       "      <td>0.972222</td>\n",
       "      <td>0.969634</td>\n",
       "    </tr>\n",
       "    <tr>\n",
       "      <th>1</th>\n",
       "      <td>Decision Tree</td>\n",
       "      <td>0.982759</td>\n",
       "      <td>0.982906</td>\n",
       "      <td>0.983333</td>\n",
       "      <td>0.982681</td>\n",
       "      <td>0.933333</td>\n",
       "      <td>0.952381</td>\n",
       "      <td>0.933333</td>\n",
       "      <td>0.937322</td>\n",
       "    </tr>\n",
       "  </tbody>\n",
       "</table>\n",
       "</div>"
      ],
      "text/plain": [
       "            Model_name  Accuracy_Score_train  Precision_Score_train  \\\n",
       "0  Logistic Regression              0.931034               0.931746   \n",
       "1        Decision Tree              0.982759               0.982906   \n",
       "\n",
       "   Recall_Score_train  F1_Score_train  Accuracy_Score_test  \\\n",
       "0            0.929955        0.930443             0.966667   \n",
       "1            0.983333        0.982681             0.933333   \n",
       "\n",
       "   Precision_Score_test  Recall_Score_test  F1_Score_test  \n",
       "0              0.969697           0.972222       0.969634  \n",
       "1              0.952381           0.933333       0.937322  "
      ]
     },
     "execution_count": 123,
     "metadata": {},
     "output_type": "execute_result"
    }
   ],
   "source": [
    "df102 = score_card(df101, 'Decision Tree', ypred_gscv, y_test, ypred_gscv_train, y_train)\n",
    "df102"
   ]
  },
  {
   "cell_type": "markdown",
   "id": "9f133a37",
   "metadata": {},
   "source": [
    "# 3. Random Forest: GridSearchCV"
   ]
  },
  {
   "cell_type": "code",
   "execution_count": 125,
   "id": "79aa915a",
   "metadata": {},
   "outputs": [],
   "source": [
    "from sklearn.ensemble import RandomForestClassifier"
   ]
  },
  {
   "cell_type": "code",
   "execution_count": 126,
   "id": "0cd09c47",
   "metadata": {},
   "outputs": [],
   "source": [
    "htmodel_rf = gscv(RandomForestClassifier(random_state = 104), param_grid = {'n_estimators': [50, 80, 100, 150, 200],\n",
    "                                                       'max_features': ['auto', 'sqrt', 'log2'],\n",
    "                                                       'max_depth' : [4,5,6,7,8],\n",
    "                                                       'criterion' :['gini', 'entropy']}, cv = 5)"
   ]
  },
  {
   "cell_type": "code",
   "execution_count": 127,
   "id": "1fe42832",
   "metadata": {},
   "outputs": [
    {
     "name": "stdout",
     "output_type": "stream",
     "text": [
      "{'criterion': 'gini', 'max_depth': 4, 'max_features': 'auto', 'n_estimators': 80}\n"
     ]
    }
   ],
   "source": [
    "htmodel_rf.fit(X,y)\n",
    "print(htmodel_rf.best_params_)"
   ]
  },
  {
   "cell_type": "code",
   "execution_count": 128,
   "id": "dabcae3a",
   "metadata": {},
   "outputs": [],
   "source": [
    "model_gscv_rf = RandomForestClassifier(criterion = htmodel_rf.best_params_.get('criterion'),\n",
    "                                       n_estimators = htmodel_rf.best_params_.get('n_estimators'),\n",
    "                                       max_depth = htmodel_rf.best_params_.get('max_depth'),\n",
    "                                       max_features = htmodel_rf.best_params_.get('max_features')).fit(X_train, y_train)"
   ]
  },
  {
   "cell_type": "code",
   "execution_count": 129,
   "id": "e738eef1",
   "metadata": {},
   "outputs": [
    {
     "data": {
      "text/plain": [
       "<sklearn.metrics._plot.confusion_matrix.ConfusionMatrixDisplay at 0x197af57b150>"
      ]
     },
     "execution_count": 129,
     "metadata": {},
     "output_type": "execute_result"
    },
    {
     "data": {
      "image/png": "[encoded data removed]",
      "text/plain": [
       "<Figure size 640x480 with 2 Axes>"
      ]
     },
     "metadata": {},
     "output_type": "display_data"
    }
   ],
   "source": [
    "ypred_gscv_rf = model_gscv_rf.predict(X_test)\n",
    "ypred_gscv_rf_train = model_gscv_rf.predict(X_train)\n",
    "cm_gscv_rf = confusion_matrix(y_test, ypred_gscv_rf)\n",
    "(ConfusionMatrixDisplay(confusion_matrix = cm_gscv_rf, display_labels = ['Setosa', 'Versicolor', 'Verginica'])).plot()"
   ]
  },
  {
   "cell_type": "code",
   "execution_count": 130,
   "id": "099dd9b9",
   "metadata": {},
   "outputs": [
    {
     "data": {
      "text/html": [
       "<div>\n",
       "<style scoped>\n",
       "    .dataframe tbody tr th:only-of-type {\n",
       "        vertical-align: middle;\n",
       "    }\n",
       "\n",
       "    .dataframe tbody tr th {\n",
       "        vertical-align: top;\n",
       "    }\n",
       "\n",
       "    .dataframe thead th {\n",
       "        text-align: right;\n",
       "    }\n",
       "</style>\n",
       "<table border=\"1\" class=\"dataframe\">\n",
       "  <thead>\n",
       "    <tr style=\"text-align: right;\">\n",
       "      <th></th>\n",
       "      <th>Model_name</th>\n",
       "      <th>Accuracy_Score_train</th>\n",
       "      <th>Precision_Score_train</th>\n",
       "      <th>Recall_Score_train</th>\n",
       "      <th>F1_Score_train</th>\n",
       "      <th>Accuracy_Score_test</th>\n",
       "      <th>Precision_Score_test</th>\n",
       "      <th>Recall_Score_test</th>\n",
       "      <th>F1_Score_test</th>\n",
       "    </tr>\n",
       "  </thead>\n",
       "  <tbody>\n",
       "    <tr>\n",
       "      <th>0</th>\n",
       "      <td>Logistic Regression</td>\n",
       "      <td>0.931034</td>\n",
       "      <td>0.931746</td>\n",
       "      <td>0.929955</td>\n",
       "      <td>0.930443</td>\n",
       "      <td>0.966667</td>\n",
       "      <td>0.969697</td>\n",
       "      <td>0.972222</td>\n",
       "      <td>0.969634</td>\n",
       "    </tr>\n",
       "    <tr>\n",
       "      <th>1</th>\n",
       "      <td>Decision Tree</td>\n",
       "      <td>0.982759</td>\n",
       "      <td>0.982906</td>\n",
       "      <td>0.983333</td>\n",
       "      <td>0.982681</td>\n",
       "      <td>0.933333</td>\n",
       "      <td>0.952381</td>\n",
       "      <td>0.933333</td>\n",
       "      <td>0.937322</td>\n",
       "    </tr>\n",
       "    <tr>\n",
       "      <th>2</th>\n",
       "      <td>Random Forest</td>\n",
       "      <td>1.000000</td>\n",
       "      <td>1.000000</td>\n",
       "      <td>1.000000</td>\n",
       "      <td>1.000000</td>\n",
       "      <td>1.000000</td>\n",
       "      <td>1.000000</td>\n",
       "      <td>1.000000</td>\n",
       "      <td>1.000000</td>\n",
       "    </tr>\n",
       "  </tbody>\n",
       "</table>\n",
       "</div>"
      ],
      "text/plain": [
       "            Model_name  Accuracy_Score_train  Precision_Score_train  \\\n",
       "0  Logistic Regression              0.931034               0.931746   \n",
       "1        Decision Tree              0.982759               0.982906   \n",
       "2        Random Forest              1.000000               1.000000   \n",
       "\n",
       "   Recall_Score_train  F1_Score_train  Accuracy_Score_test  \\\n",
       "0            0.929955        0.930443             0.966667   \n",
       "1            0.983333        0.982681             0.933333   \n",
       "2            1.000000        1.000000             1.000000   \n",
       "\n",
       "   Precision_Score_test  Recall_Score_test  F1_Score_test  \n",
       "0              0.969697           0.972222       0.969634  \n",
       "1              0.952381           0.933333       0.937322  \n",
       "2              1.000000           1.000000       1.000000  "
      ]
     },
     "execution_count": 130,
     "metadata": {},
     "output_type": "execute_result"
    }
   ],
   "source": [
    "df103 = score_card(df102, 'Random Forest', ypred_gscv_rf, y_test, ypred_gscv_rf_train, y_train)\n",
    "df103"
   ]
  },
  {
   "cell_type": "markdown",
   "id": "4118b8bf",
   "metadata": {},
   "source": [
    "# 4. KNeighbors Classifier"
   ]
  },
  {
   "cell_type": "code",
   "execution_count": 131,
   "id": "fc00322b",
   "metadata": {},
   "outputs": [],
   "source": [
    "from sklearn.neighbors import KNeighborsClassifier"
   ]
  },
  {
   "cell_type": "code",
   "execution_count": 132,
   "id": "6636b2d7",
   "metadata": {},
   "outputs": [
    {
     "data": {
      "text/plain": [
       "<sklearn.metrics._plot.confusion_matrix.ConfusionMatrixDisplay at 0x197af50d5d0>"
      ]
     },
     "execution_count": 132,
     "metadata": {},
     "output_type": "execute_result"
    },
    {
     "data": {
      "image/png": "[encoded data removed]",
      "text/plain": [
       "<Figure size 640x480 with 2 Axes>"
      ]
     },
     "metadata": {},
     "output_type": "display_data"
    }
   ],
   "source": [
    "knc = KNeighborsClassifier()\n",
    "model_knc = knc.fit(X_train, y_train)\n",
    "ypred_knc = model_knc.predict(X_test)\n",
    "ypred_knc_train = model_knc.predict(X_train)\n",
    "cm_knc = confusion_matrix(y_test, ypred_knc)\n",
    "(ConfusionMatrixDisplay(confusion_matrix = cm_knc, display_labels = ['Setosa', 'Versicolor', 'Verginica'])).plot()"
   ]
  },
  {
   "cell_type": "code",
   "execution_count": 133,
   "id": "d9165082",
   "metadata": {},
   "outputs": [
    {
     "data": {
      "text/html": [
       "<div>\n",
       "<style scoped>\n",
       "    .dataframe tbody tr th:only-of-type {\n",
       "        vertical-align: middle;\n",
       "    }\n",
       "\n",
       "    .dataframe tbody tr th {\n",
       "        vertical-align: top;\n",
       "    }\n",
       "\n",
       "    .dataframe thead th {\n",
       "        text-align: right;\n",
       "    }\n",
       "</style>\n",
       "<table border=\"1\" class=\"dataframe\">\n",
       "  <thead>\n",
       "    <tr style=\"text-align: right;\">\n",
       "      <th></th>\n",
       "      <th>Model_name</th>\n",
       "      <th>Accuracy_Score_train</th>\n",
       "      <th>Precision_Score_train</th>\n",
       "      <th>Recall_Score_train</th>\n",
       "      <th>F1_Score_train</th>\n",
       "      <th>Accuracy_Score_test</th>\n",
       "      <th>Precision_Score_test</th>\n",
       "      <th>Recall_Score_test</th>\n",
       "      <th>F1_Score_test</th>\n",
       "    </tr>\n",
       "  </thead>\n",
       "  <tbody>\n",
       "    <tr>\n",
       "      <th>0</th>\n",
       "      <td>Logistic Regression</td>\n",
       "      <td>0.931034</td>\n",
       "      <td>0.931746</td>\n",
       "      <td>0.929955</td>\n",
       "      <td>0.930443</td>\n",
       "      <td>0.966667</td>\n",
       "      <td>0.969697</td>\n",
       "      <td>0.972222</td>\n",
       "      <td>0.969634</td>\n",
       "    </tr>\n",
       "    <tr>\n",
       "      <th>1</th>\n",
       "      <td>Decision Tree</td>\n",
       "      <td>0.982759</td>\n",
       "      <td>0.982906</td>\n",
       "      <td>0.983333</td>\n",
       "      <td>0.982681</td>\n",
       "      <td>0.933333</td>\n",
       "      <td>0.952381</td>\n",
       "      <td>0.933333</td>\n",
       "      <td>0.937322</td>\n",
       "    </tr>\n",
       "    <tr>\n",
       "      <th>2</th>\n",
       "      <td>Random Forest</td>\n",
       "      <td>1.000000</td>\n",
       "      <td>1.000000</td>\n",
       "      <td>1.000000</td>\n",
       "      <td>1.000000</td>\n",
       "      <td>1.000000</td>\n",
       "      <td>1.000000</td>\n",
       "      <td>1.000000</td>\n",
       "      <td>1.000000</td>\n",
       "    </tr>\n",
       "    <tr>\n",
       "      <th>3</th>\n",
       "      <td>KNeighbors Classifier</td>\n",
       "      <td>0.939655</td>\n",
       "      <td>0.939912</td>\n",
       "      <td>0.939426</td>\n",
       "      <td>0.939560</td>\n",
       "      <td>1.000000</td>\n",
       "      <td>1.000000</td>\n",
       "      <td>1.000000</td>\n",
       "      <td>1.000000</td>\n",
       "    </tr>\n",
       "  </tbody>\n",
       "</table>\n",
       "</div>"
      ],
      "text/plain": [
       "              Model_name  Accuracy_Score_train  Precision_Score_train  \\\n",
       "0    Logistic Regression              0.931034               0.931746   \n",
       "1          Decision Tree              0.982759               0.982906   \n",
       "2          Random Forest              1.000000               1.000000   \n",
       "3  KNeighbors Classifier              0.939655               0.939912   \n",
       "\n",
       "   Recall_Score_train  F1_Score_train  Accuracy_Score_test  \\\n",
       "0            0.929955        0.930443             0.966667   \n",
       "1            0.983333        0.982681             0.933333   \n",
       "2            1.000000        1.000000             1.000000   \n",
       "3            0.939426        0.939560             1.000000   \n",
       "\n",
       "   Precision_Score_test  Recall_Score_test  F1_Score_test  \n",
       "0              0.969697           0.972222       0.969634  \n",
       "1              0.952381           0.933333       0.937322  \n",
       "2              1.000000           1.000000       1.000000  \n",
       "3              1.000000           1.000000       1.000000  "
      ]
     },
     "execution_count": 133,
     "metadata": {},
     "output_type": "execute_result"
    }
   ],
   "source": [
    "df104 = score_card(df103, 'KNeighbors Classifier', ypred_knc, y_test, ypred_knc_train, y_train)\n",
    "df104"
   ]
  },
  {
   "cell_type": "markdown",
   "id": "a10098d7",
   "metadata": {},
   "source": [
    "# 5. Bagging Classifier"
   ]
  },
  {
   "cell_type": "code",
   "execution_count": 134,
   "id": "e7626149",
   "metadata": {},
   "outputs": [],
   "source": [
    "from sklearn.ensemble import BaggingClassifier"
   ]
  },
  {
   "cell_type": "code",
   "execution_count": 135,
   "id": "0c42663f",
   "metadata": {},
   "outputs": [
    {
     "data": {
      "text/plain": [
       "<sklearn.metrics._plot.confusion_matrix.ConfusionMatrixDisplay at 0x197b087ac10>"
      ]
     },
     "execution_count": 135,
     "metadata": {},
     "output_type": "execute_result"
    },
    {
     "data": {
      "image/png": "[encoded data removed]",
      "text/plain": [
       "<Figure size 640x480 with 2 Axes>"
      ]
     },
     "metadata": {},
     "output_type": "display_data"
    }
   ],
   "source": [
    "bg = BaggingClassifier(n_estimators = 80, random_state = 102)\n",
    "model_bg = bg.fit(X_train, y_train)\n",
    "ypred_bg = model_bg.predict(X_test)\n",
    "ypred_bg_train = model_bg.predict(X_train)\n",
    "cm_bg = confusion_matrix(y_test, ypred_bg)\n",
    "(ConfusionMatrixDisplay(confusion_matrix = cm_bg, display_labels = ['Setosa', 'Versicolor', 'Verginica'])).plot()"
   ]
  },
  {
   "cell_type": "code",
   "execution_count": 136,
   "id": "51c5be0f",
   "metadata": {},
   "outputs": [
    {
     "data": {
      "text/html": [
       "<div>\n",
       "<style scoped>\n",
       "    .dataframe tbody tr th:only-of-type {\n",
       "        vertical-align: middle;\n",
       "    }\n",
       "\n",
       "    .dataframe tbody tr th {\n",
       "        vertical-align: top;\n",
       "    }\n",
       "\n",
       "    .dataframe thead th {\n",
       "        text-align: right;\n",
       "    }\n",
       "</style>\n",
       "<table border=\"1\" class=\"dataframe\">\n",
       "  <thead>\n",
       "    <tr style=\"text-align: right;\">\n",
       "      <th></th>\n",
       "      <th>Model_name</th>\n",
       "      <th>Accuracy_Score_train</th>\n",
       "      <th>Precision_Score_train</th>\n",
       "      <th>Recall_Score_train</th>\n",
       "      <th>F1_Score_train</th>\n",
       "      <th>Accuracy_Score_test</th>\n",
       "      <th>Precision_Score_test</th>\n",
       "      <th>Recall_Score_test</th>\n",
       "      <th>F1_Score_test</th>\n",
       "    </tr>\n",
       "  </thead>\n",
       "  <tbody>\n",
       "    <tr>\n",
       "      <th>0</th>\n",
       "      <td>Logistic Regression</td>\n",
       "      <td>0.931034</td>\n",
       "      <td>0.931746</td>\n",
       "      <td>0.929955</td>\n",
       "      <td>0.930443</td>\n",
       "      <td>0.966667</td>\n",
       "      <td>0.969697</td>\n",
       "      <td>0.972222</td>\n",
       "      <td>0.969634</td>\n",
       "    </tr>\n",
       "    <tr>\n",
       "      <th>1</th>\n",
       "      <td>Decision Tree</td>\n",
       "      <td>0.982759</td>\n",
       "      <td>0.982906</td>\n",
       "      <td>0.983333</td>\n",
       "      <td>0.982681</td>\n",
       "      <td>0.933333</td>\n",
       "      <td>0.952381</td>\n",
       "      <td>0.933333</td>\n",
       "      <td>0.937322</td>\n",
       "    </tr>\n",
       "    <tr>\n",
       "      <th>2</th>\n",
       "      <td>Random Forest</td>\n",
       "      <td>1.000000</td>\n",
       "      <td>1.000000</td>\n",
       "      <td>1.000000</td>\n",
       "      <td>1.000000</td>\n",
       "      <td>1.000000</td>\n",
       "      <td>1.000000</td>\n",
       "      <td>1.000000</td>\n",
       "      <td>1.000000</td>\n",
       "    </tr>\n",
       "    <tr>\n",
       "      <th>3</th>\n",
       "      <td>KNeighbors Classifier</td>\n",
       "      <td>0.939655</td>\n",
       "      <td>0.939912</td>\n",
       "      <td>0.939426</td>\n",
       "      <td>0.939560</td>\n",
       "      <td>1.000000</td>\n",
       "      <td>1.000000</td>\n",
       "      <td>1.000000</td>\n",
       "      <td>1.000000</td>\n",
       "    </tr>\n",
       "    <tr>\n",
       "      <th>4</th>\n",
       "      <td>Bagging Classifier</td>\n",
       "      <td>1.000000</td>\n",
       "      <td>1.000000</td>\n",
       "      <td>1.000000</td>\n",
       "      <td>1.000000</td>\n",
       "      <td>0.966667</td>\n",
       "      <td>0.974359</td>\n",
       "      <td>0.966667</td>\n",
       "      <td>0.969123</td>\n",
       "    </tr>\n",
       "  </tbody>\n",
       "</table>\n",
       "</div>"
      ],
      "text/plain": [
       "              Model_name  Accuracy_Score_train  Precision_Score_train  \\\n",
       "0    Logistic Regression              0.931034               0.931746   \n",
       "1          Decision Tree              0.982759               0.982906   \n",
       "2          Random Forest              1.000000               1.000000   \n",
       "3  KNeighbors Classifier              0.939655               0.939912   \n",
       "4     Bagging Classifier              1.000000               1.000000   \n",
       "\n",
       "   Recall_Score_train  F1_Score_train  Accuracy_Score_test  \\\n",
       "0            0.929955        0.930443             0.966667   \n",
       "1            0.983333        0.982681             0.933333   \n",
       "2            1.000000        1.000000             1.000000   \n",
       "3            0.939426        0.939560             1.000000   \n",
       "4            1.000000        1.000000             0.966667   \n",
       "\n",
       "   Precision_Score_test  Recall_Score_test  F1_Score_test  \n",
       "0              0.969697           0.972222       0.969634  \n",
       "1              0.952381           0.933333       0.937322  \n",
       "2              1.000000           1.000000       1.000000  \n",
       "3              1.000000           1.000000       1.000000  \n",
       "4              0.974359           0.966667       0.969123  "
      ]
     },
     "execution_count": 136,
     "metadata": {},
     "output_type": "execute_result"
    }
   ],
   "source": [
    "df105 = score_card(df104, 'Bagging Classifier', ypred_bg, y_test, ypred_bg_train, y_train)\n",
    "df105"
   ]
  },
  {
   "cell_type": "markdown",
   "id": "3656fb4c",
   "metadata": {},
   "source": [
    "# 6. SVM"
   ]
  },
  {
   "cell_type": "code",
   "execution_count": 137,
   "id": "de892571",
   "metadata": {},
   "outputs": [],
   "source": [
    "from sklearn.svm import SVC"
   ]
  },
  {
   "cell_type": "code",
   "execution_count": 138,
   "id": "81c45170",
   "metadata": {},
   "outputs": [
    {
     "data": {
      "text/plain": [
       "<sklearn.metrics._plot.confusion_matrix.ConfusionMatrixDisplay at 0x197b0724850>"
      ]
     },
     "execution_count": 138,
     "metadata": {},
     "output_type": "execute_result"
    },
    {
     "data": {
      "image/png": "[encoded data removed]",
      "text/plain": [
       "<Figure size 640x480 with 2 Axes>"
      ]
     },
     "metadata": {},
     "output_type": "display_data"
    }
   ],
   "source": [
    "svm = SVC(kernel = 'rbf')\n",
    "model_svm = svm.fit(X_train, y_train)\n",
    "ypred_svm = model_svm.predict(X_test)\n",
    "ypred_svm_train = model_svm.predict(X_train)\n",
    "cm_svm = confusion_matrix(y_test, ypred_svm)\n",
    "(ConfusionMatrixDisplay(confusion_matrix = cm_svm, display_labels = ['Setosa', 'Versicolor', 'Verginica'])).plot()"
   ]
  },
  {
   "cell_type": "code",
   "execution_count": 139,
   "id": "ebab2dcd",
   "metadata": {},
   "outputs": [
    {
     "data": {
      "text/html": [
       "<div>\n",
       "<style scoped>\n",
       "    .dataframe tbody tr th:only-of-type {\n",
       "        vertical-align: middle;\n",
       "    }\n",
       "\n",
       "    .dataframe tbody tr th {\n",
       "        vertical-align: top;\n",
       "    }\n",
       "\n",
       "    .dataframe thead th {\n",
       "        text-align: right;\n",
       "    }\n",
       "</style>\n",
       "<table border=\"1\" class=\"dataframe\">\n",
       "  <thead>\n",
       "    <tr style=\"text-align: right;\">\n",
       "      <th></th>\n",
       "      <th>Model_name</th>\n",
       "      <th>Accuracy_Score_train</th>\n",
       "      <th>Precision_Score_train</th>\n",
       "      <th>Recall_Score_train</th>\n",
       "      <th>F1_Score_train</th>\n",
       "      <th>Accuracy_Score_test</th>\n",
       "      <th>Precision_Score_test</th>\n",
       "      <th>Recall_Score_test</th>\n",
       "      <th>F1_Score_test</th>\n",
       "    </tr>\n",
       "  </thead>\n",
       "  <tbody>\n",
       "    <tr>\n",
       "      <th>0</th>\n",
       "      <td>Logistic Regression</td>\n",
       "      <td>0.931034</td>\n",
       "      <td>0.931746</td>\n",
       "      <td>0.929955</td>\n",
       "      <td>0.930443</td>\n",
       "      <td>0.966667</td>\n",
       "      <td>0.969697</td>\n",
       "      <td>0.972222</td>\n",
       "      <td>0.969634</td>\n",
       "    </tr>\n",
       "    <tr>\n",
       "      <th>1</th>\n",
       "      <td>Decision Tree</td>\n",
       "      <td>0.982759</td>\n",
       "      <td>0.982906</td>\n",
       "      <td>0.983333</td>\n",
       "      <td>0.982681</td>\n",
       "      <td>0.933333</td>\n",
       "      <td>0.952381</td>\n",
       "      <td>0.933333</td>\n",
       "      <td>0.937322</td>\n",
       "    </tr>\n",
       "    <tr>\n",
       "      <th>2</th>\n",
       "      <td>Random Forest</td>\n",
       "      <td>1.000000</td>\n",
       "      <td>1.000000</td>\n",
       "      <td>1.000000</td>\n",
       "      <td>1.000000</td>\n",
       "      <td>1.000000</td>\n",
       "      <td>1.000000</td>\n",
       "      <td>1.000000</td>\n",
       "      <td>1.000000</td>\n",
       "    </tr>\n",
       "    <tr>\n",
       "      <th>3</th>\n",
       "      <td>KNeighbors Classifier</td>\n",
       "      <td>0.939655</td>\n",
       "      <td>0.939912</td>\n",
       "      <td>0.939426</td>\n",
       "      <td>0.939560</td>\n",
       "      <td>1.000000</td>\n",
       "      <td>1.000000</td>\n",
       "      <td>1.000000</td>\n",
       "      <td>1.000000</td>\n",
       "    </tr>\n",
       "    <tr>\n",
       "      <th>4</th>\n",
       "      <td>Bagging Classifier</td>\n",
       "      <td>1.000000</td>\n",
       "      <td>1.000000</td>\n",
       "      <td>1.000000</td>\n",
       "      <td>1.000000</td>\n",
       "      <td>0.966667</td>\n",
       "      <td>0.974359</td>\n",
       "      <td>0.966667</td>\n",
       "      <td>0.969123</td>\n",
       "    </tr>\n",
       "    <tr>\n",
       "      <th>5</th>\n",
       "      <td>SVM</td>\n",
       "      <td>0.974138</td>\n",
       "      <td>0.974481</td>\n",
       "      <td>0.973649</td>\n",
       "      <td>0.973956</td>\n",
       "      <td>1.000000</td>\n",
       "      <td>1.000000</td>\n",
       "      <td>1.000000</td>\n",
       "      <td>1.000000</td>\n",
       "    </tr>\n",
       "  </tbody>\n",
       "</table>\n",
       "</div>"
      ],
      "text/plain": [
       "              Model_name  Accuracy_Score_train  Precision_Score_train  \\\n",
       "0    Logistic Regression              0.931034               0.931746   \n",
       "1          Decision Tree              0.982759               0.982906   \n",
       "2          Random Forest              1.000000               1.000000   \n",
       "3  KNeighbors Classifier              0.939655               0.939912   \n",
       "4     Bagging Classifier              1.000000               1.000000   \n",
       "5                    SVM              0.974138               0.974481   \n",
       "\n",
       "   Recall_Score_train  F1_Score_train  Accuracy_Score_test  \\\n",
       "0            0.929955        0.930443             0.966667   \n",
       "1            0.983333        0.982681             0.933333   \n",
       "2            1.000000        1.000000             1.000000   \n",
       "3            0.939426        0.939560             1.000000   \n",
       "4            1.000000        1.000000             0.966667   \n",
       "5            0.973649        0.973956             1.000000   \n",
       "\n",
       "   Precision_Score_test  Recall_Score_test  F1_Score_test  \n",
       "0              0.969697           0.972222       0.969634  \n",
       "1              0.952381           0.933333       0.937322  \n",
       "2              1.000000           1.000000       1.000000  \n",
       "3              1.000000           1.000000       1.000000  \n",
       "4              0.974359           0.966667       0.969123  \n",
       "5              1.000000           1.000000       1.000000  "
      ]
     },
     "execution_count": 139,
     "metadata": {},
     "output_type": "execute_result"
    }
   ],
   "source": [
    "df106 = score_card(df105, 'SVM', ypred_svm, y_test, ypred_svm_train, y_train)\n",
    "df106"
   ]
  },
  {
   "cell_type": "markdown",
   "id": "b4a0f1f9",
   "metadata": {},
   "source": [
    "# 7. AdaBoost Classifier"
   ]
  },
  {
   "cell_type": "code",
   "execution_count": 140,
   "id": "39176007",
   "metadata": {},
   "outputs": [],
   "source": [
    "from sklearn.ensemble import AdaBoostClassifier"
   ]
  },
  {
   "cell_type": "code",
   "execution_count": 141,
   "id": "19fd5a58",
   "metadata": {},
   "outputs": [
    {
     "data": {
      "text/plain": [
       "<sklearn.metrics._plot.confusion_matrix.ConfusionMatrixDisplay at 0x197b0a1ff10>"
      ]
     },
     "execution_count": 141,
     "metadata": {},
     "output_type": "execute_result"
    },
    {
     "data": {
      "image/png": "[encoded data removed]",
      "text/plain": [
       "<Figure size 640x480 with 2 Axes>"
      ]
     },
     "metadata": {},
     "output_type": "display_data"
    }
   ],
   "source": [
    "ab = AdaBoostClassifier(n_estimators = 80, random_state = 102)\n",
    "model_ab = ab.fit(X_train, y_train)\n",
    "ypred_ab = model_ab.predict(X_test)\n",
    "ypred_ab_train = model_ab.predict(X_train)\n",
    "cm_ab = confusion_matrix(y_test, ypred_ab)\n",
    "(ConfusionMatrixDisplay(confusion_matrix = cm_ab, display_labels = ['Setosa', 'Versicolor', 'Verginica'])).plot()"
   ]
  },
  {
   "cell_type": "code",
   "execution_count": 142,
   "id": "7d7bd35c",
   "metadata": {},
   "outputs": [
    {
     "data": {
      "text/html": [
       "<div>\n",
       "<style scoped>\n",
       "    .dataframe tbody tr th:only-of-type {\n",
       "        vertical-align: middle;\n",
       "    }\n",
       "\n",
       "    .dataframe tbody tr th {\n",
       "        vertical-align: top;\n",
       "    }\n",
       "\n",
       "    .dataframe thead th {\n",
       "        text-align: right;\n",
       "    }\n",
       "</style>\n",
       "<table border=\"1\" class=\"dataframe\">\n",
       "  <thead>\n",
       "    <tr style=\"text-align: right;\">\n",
       "      <th></th>\n",
       "      <th>Model_name</th>\n",
       "      <th>Accuracy_Score_train</th>\n",
       "      <th>Precision_Score_train</th>\n",
       "      <th>Recall_Score_train</th>\n",
       "      <th>F1_Score_train</th>\n",
       "      <th>Accuracy_Score_test</th>\n",
       "      <th>Precision_Score_test</th>\n",
       "      <th>Recall_Score_test</th>\n",
       "      <th>F1_Score_test</th>\n",
       "    </tr>\n",
       "  </thead>\n",
       "  <tbody>\n",
       "    <tr>\n",
       "      <th>0</th>\n",
       "      <td>Logistic Regression</td>\n",
       "      <td>0.931034</td>\n",
       "      <td>0.931746</td>\n",
       "      <td>0.929955</td>\n",
       "      <td>0.930443</td>\n",
       "      <td>0.966667</td>\n",
       "      <td>0.969697</td>\n",
       "      <td>0.972222</td>\n",
       "      <td>0.969634</td>\n",
       "    </tr>\n",
       "    <tr>\n",
       "      <th>1</th>\n",
       "      <td>Decision Tree</td>\n",
       "      <td>0.982759</td>\n",
       "      <td>0.982906</td>\n",
       "      <td>0.983333</td>\n",
       "      <td>0.982681</td>\n",
       "      <td>0.933333</td>\n",
       "      <td>0.952381</td>\n",
       "      <td>0.933333</td>\n",
       "      <td>0.937322</td>\n",
       "    </tr>\n",
       "    <tr>\n",
       "      <th>2</th>\n",
       "      <td>Random Forest</td>\n",
       "      <td>1.000000</td>\n",
       "      <td>1.000000</td>\n",
       "      <td>1.000000</td>\n",
       "      <td>1.000000</td>\n",
       "      <td>1.000000</td>\n",
       "      <td>1.000000</td>\n",
       "      <td>1.000000</td>\n",
       "      <td>1.000000</td>\n",
       "    </tr>\n",
       "    <tr>\n",
       "      <th>3</th>\n",
       "      <td>KNeighbors Classifier</td>\n",
       "      <td>0.939655</td>\n",
       "      <td>0.939912</td>\n",
       "      <td>0.939426</td>\n",
       "      <td>0.939560</td>\n",
       "      <td>1.000000</td>\n",
       "      <td>1.000000</td>\n",
       "      <td>1.000000</td>\n",
       "      <td>1.000000</td>\n",
       "    </tr>\n",
       "    <tr>\n",
       "      <th>4</th>\n",
       "      <td>Bagging Classifier</td>\n",
       "      <td>1.000000</td>\n",
       "      <td>1.000000</td>\n",
       "      <td>1.000000</td>\n",
       "      <td>1.000000</td>\n",
       "      <td>0.966667</td>\n",
       "      <td>0.974359</td>\n",
       "      <td>0.966667</td>\n",
       "      <td>0.969123</td>\n",
       "    </tr>\n",
       "    <tr>\n",
       "      <th>5</th>\n",
       "      <td>SVM</td>\n",
       "      <td>0.974138</td>\n",
       "      <td>0.974481</td>\n",
       "      <td>0.973649</td>\n",
       "      <td>0.973956</td>\n",
       "      <td>1.000000</td>\n",
       "      <td>1.000000</td>\n",
       "      <td>1.000000</td>\n",
       "      <td>1.000000</td>\n",
       "    </tr>\n",
       "    <tr>\n",
       "      <th>6</th>\n",
       "      <td>AdaBoost Classifier</td>\n",
       "      <td>0.965517</td>\n",
       "      <td>0.966667</td>\n",
       "      <td>0.964640</td>\n",
       "      <td>0.965221</td>\n",
       "      <td>1.000000</td>\n",
       "      <td>1.000000</td>\n",
       "      <td>1.000000</td>\n",
       "      <td>1.000000</td>\n",
       "    </tr>\n",
       "  </tbody>\n",
       "</table>\n",
       "</div>"
      ],
      "text/plain": [
       "              Model_name  Accuracy_Score_train  Precision_Score_train  \\\n",
       "0    Logistic Regression              0.931034               0.931746   \n",
       "1          Decision Tree              0.982759               0.982906   \n",
       "2          Random Forest              1.000000               1.000000   \n",
       "3  KNeighbors Classifier              0.939655               0.939912   \n",
       "4     Bagging Classifier              1.000000               1.000000   \n",
       "5                    SVM              0.974138               0.974481   \n",
       "6    AdaBoost Classifier              0.965517               0.966667   \n",
       "\n",
       "   Recall_Score_train  F1_Score_train  Accuracy_Score_test  \\\n",
       "0            0.929955        0.930443             0.966667   \n",
       "1            0.983333        0.982681             0.933333   \n",
       "2            1.000000        1.000000             1.000000   \n",
       "3            0.939426        0.939560             1.000000   \n",
       "4            1.000000        1.000000             0.966667   \n",
       "5            0.973649        0.973956             1.000000   \n",
       "6            0.964640        0.965221             1.000000   \n",
       "\n",
       "   Precision_Score_test  Recall_Score_test  F1_Score_test  \n",
       "0              0.969697           0.972222       0.969634  \n",
       "1              0.952381           0.933333       0.937322  \n",
       "2              1.000000           1.000000       1.000000  \n",
       "3              1.000000           1.000000       1.000000  \n",
       "4              0.974359           0.966667       0.969123  \n",
       "5              1.000000           1.000000       1.000000  \n",
       "6              1.000000           1.000000       1.000000  "
      ]
     },
     "execution_count": 142,
     "metadata": {},
     "output_type": "execute_result"
    }
   ],
   "source": [
    "df107 = score_card(df106, 'AdaBoost Classifier', ypred_ab, y_test, ypred_ab_train, y_train)\n",
    "df107"
   ]
  },
  {
   "cell_type": "markdown",
   "id": "176384cb",
   "metadata": {},
   "source": [
    "# 8. XGBoost"
   ]
  },
  {
   "cell_type": "code",
   "execution_count": 145,
   "id": "b08a2873",
   "metadata": {},
   "outputs": [],
   "source": [
    "import xgboost\n",
    "from xgboost import XGBClassifier"
   ]
  },
  {
   "cell_type": "code",
   "execution_count": 149,
   "id": "da8df77e",
   "metadata": {},
   "outputs": [
    {
     "data": {
      "text/plain": [
       "<sklearn.metrics._plot.confusion_matrix.ConfusionMatrixDisplay at 0x197b1368410>"
      ]
     },
     "execution_count": 149,
     "metadata": {},
     "output_type": "execute_result"
    },
    {
     "data": {
      "image/png": "[encoded data removed]",
      "text/plain": [
       "<Figure size 640x480 with 2 Axes>"
      ]
     },
     "metadata": {},
     "output_type": "display_data"
    }
   ],
   "source": [
    "xgb = XGBClassifier(n_estimators = 50, random_state = 102)\n",
    "model_xgb = xgb.fit(X_train, y_train)\n",
    "ypred_xgb = model_xgb.predict(X_test)\n",
    "ypred_xgb_train = model_xgb.predict(X_train)\n",
    "cm_xgb = confusion_matrix(y_test, ypred_xgb)\n",
    "(ConfusionMatrixDisplay(confusion_matrix = cm_xgb, display_labels = ['Setosa', 'Versicolor', 'Verginica'])).plot()"
   ]
  },
  {
   "cell_type": "code",
   "execution_count": 150,
   "id": "7b60d887",
   "metadata": {},
   "outputs": [
    {
     "data": {
      "text/html": [
       "<div>\n",
       "<style scoped>\n",
       "    .dataframe tbody tr th:only-of-type {\n",
       "        vertical-align: middle;\n",
       "    }\n",
       "\n",
       "    .dataframe tbody tr th {\n",
       "        vertical-align: top;\n",
       "    }\n",
       "\n",
       "    .dataframe thead th {\n",
       "        text-align: right;\n",
       "    }\n",
       "</style>\n",
       "<table border=\"1\" class=\"dataframe\">\n",
       "  <thead>\n",
       "    <tr style=\"text-align: right;\">\n",
       "      <th></th>\n",
       "      <th>Model_name</th>\n",
       "      <th>Accuracy_Score_train</th>\n",
       "      <th>Precision_Score_train</th>\n",
       "      <th>Recall_Score_train</th>\n",
       "      <th>F1_Score_train</th>\n",
       "      <th>Accuracy_Score_test</th>\n",
       "      <th>Precision_Score_test</th>\n",
       "      <th>Recall_Score_test</th>\n",
       "      <th>F1_Score_test</th>\n",
       "    </tr>\n",
       "  </thead>\n",
       "  <tbody>\n",
       "    <tr>\n",
       "      <th>0</th>\n",
       "      <td>Logistic Regression</td>\n",
       "      <td>0.931034</td>\n",
       "      <td>0.931746</td>\n",
       "      <td>0.929955</td>\n",
       "      <td>0.930443</td>\n",
       "      <td>0.966667</td>\n",
       "      <td>0.969697</td>\n",
       "      <td>0.972222</td>\n",
       "      <td>0.969634</td>\n",
       "    </tr>\n",
       "    <tr>\n",
       "      <th>1</th>\n",
       "      <td>Decision Tree</td>\n",
       "      <td>0.982759</td>\n",
       "      <td>0.982906</td>\n",
       "      <td>0.983333</td>\n",
       "      <td>0.982681</td>\n",
       "      <td>0.933333</td>\n",
       "      <td>0.952381</td>\n",
       "      <td>0.933333</td>\n",
       "      <td>0.937322</td>\n",
       "    </tr>\n",
       "    <tr>\n",
       "      <th>2</th>\n",
       "      <td>Random Forest</td>\n",
       "      <td>1.000000</td>\n",
       "      <td>1.000000</td>\n",
       "      <td>1.000000</td>\n",
       "      <td>1.000000</td>\n",
       "      <td>1.000000</td>\n",
       "      <td>1.000000</td>\n",
       "      <td>1.000000</td>\n",
       "      <td>1.000000</td>\n",
       "    </tr>\n",
       "    <tr>\n",
       "      <th>3</th>\n",
       "      <td>KNeighbors Classifier</td>\n",
       "      <td>0.939655</td>\n",
       "      <td>0.939912</td>\n",
       "      <td>0.939426</td>\n",
       "      <td>0.939560</td>\n",
       "      <td>1.000000</td>\n",
       "      <td>1.000000</td>\n",
       "      <td>1.000000</td>\n",
       "      <td>1.000000</td>\n",
       "    </tr>\n",
       "    <tr>\n",
       "      <th>4</th>\n",
       "      <td>Bagging Classifier</td>\n",
       "      <td>1.000000</td>\n",
       "      <td>1.000000</td>\n",
       "      <td>1.000000</td>\n",
       "      <td>1.000000</td>\n",
       "      <td>0.966667</td>\n",
       "      <td>0.974359</td>\n",
       "      <td>0.966667</td>\n",
       "      <td>0.969123</td>\n",
       "    </tr>\n",
       "    <tr>\n",
       "      <th>5</th>\n",
       "      <td>SVM</td>\n",
       "      <td>0.974138</td>\n",
       "      <td>0.974481</td>\n",
       "      <td>0.973649</td>\n",
       "      <td>0.973956</td>\n",
       "      <td>1.000000</td>\n",
       "      <td>1.000000</td>\n",
       "      <td>1.000000</td>\n",
       "      <td>1.000000</td>\n",
       "    </tr>\n",
       "    <tr>\n",
       "      <th>6</th>\n",
       "      <td>AdaBoost Classifier</td>\n",
       "      <td>0.965517</td>\n",
       "      <td>0.966667</td>\n",
       "      <td>0.964640</td>\n",
       "      <td>0.965221</td>\n",
       "      <td>1.000000</td>\n",
       "      <td>1.000000</td>\n",
       "      <td>1.000000</td>\n",
       "      <td>1.000000</td>\n",
       "    </tr>\n",
       "    <tr>\n",
       "      <th>7</th>\n",
       "      <td>XGBoost Classifier</td>\n",
       "      <td>1.000000</td>\n",
       "      <td>1.000000</td>\n",
       "      <td>1.000000</td>\n",
       "      <td>1.000000</td>\n",
       "      <td>1.000000</td>\n",
       "      <td>1.000000</td>\n",
       "      <td>1.000000</td>\n",
       "      <td>1.000000</td>\n",
       "    </tr>\n",
       "  </tbody>\n",
       "</table>\n",
       "</div>"
      ],
      "text/plain": [
       "              Model_name  Accuracy_Score_train  Precision_Score_train  \\\n",
       "0    Logistic Regression              0.931034               0.931746   \n",
       "1          Decision Tree              0.982759               0.982906   \n",
       "2          Random Forest              1.000000               1.000000   \n",
       "3  KNeighbors Classifier              0.939655               0.939912   \n",
       "4     Bagging Classifier              1.000000               1.000000   \n",
       "5                    SVM              0.974138               0.974481   \n",
       "6    AdaBoost Classifier              0.965517               0.966667   \n",
       "7     XGBoost Classifier              1.000000               1.000000   \n",
       "\n",
       "   Recall_Score_train  F1_Score_train  Accuracy_Score_test  \\\n",
       "0            0.929955        0.930443             0.966667   \n",
       "1            0.983333        0.982681             0.933333   \n",
       "2            1.000000        1.000000             1.000000   \n",
       "3            0.939426        0.939560             1.000000   \n",
       "4            1.000000        1.000000             0.966667   \n",
       "5            0.973649        0.973956             1.000000   \n",
       "6            0.964640        0.965221             1.000000   \n",
       "7            1.000000        1.000000             1.000000   \n",
       "\n",
       "   Precision_Score_test  Recall_Score_test  F1_Score_test  \n",
       "0              0.969697           0.972222       0.969634  \n",
       "1              0.952381           0.933333       0.937322  \n",
       "2              1.000000           1.000000       1.000000  \n",
       "3              1.000000           1.000000       1.000000  \n",
       "4              0.974359           0.966667       0.969123  \n",
       "5              1.000000           1.000000       1.000000  \n",
       "6              1.000000           1.000000       1.000000  \n",
       "7              1.000000           1.000000       1.000000  "
      ]
     },
     "execution_count": 150,
     "metadata": {},
     "output_type": "execute_result"
    }
   ],
   "source": [
    "df108 = score_card(df107, 'XGBoost Classifier', ypred_xgb, y_test, ypred_xgb_train, y_train)\n",
    "df108"
   ]
  },
  {
   "cell_type": "markdown",
   "id": "eb0e3027",
   "metadata": {},
   "source": [
    "# Check for the results of trained model"
   ]
  },
  {
   "cell_type": "markdown",
   "id": "e3bc6917",
   "metadata": {},
   "source": [
    "We will check with XGBoost Model, because of its high performance."
   ]
  },
  {
   "cell_type": "code",
   "execution_count": 152,
   "id": "3587493f",
   "metadata": {},
   "outputs": [
    {
     "data": {
      "text/html": [
       "<div>\n",
       "<style scoped>\n",
       "    .dataframe tbody tr th:only-of-type {\n",
       "        vertical-align: middle;\n",
       "    }\n",
       "\n",
       "    .dataframe tbody tr th {\n",
       "        vertical-align: top;\n",
       "    }\n",
       "\n",
       "    .dataframe thead th {\n",
       "        text-align: right;\n",
       "    }\n",
       "</style>\n",
       "<table border=\"1\" class=\"dataframe\">\n",
       "  <thead>\n",
       "    <tr style=\"text-align: right;\">\n",
       "      <th></th>\n",
       "      <th>sepal_length</th>\n",
       "      <th>sepal_width</th>\n",
       "      <th>petal_length</th>\n",
       "      <th>petal_width</th>\n",
       "      <th>species</th>\n",
       "    </tr>\n",
       "  </thead>\n",
       "  <tbody>\n",
       "    <tr>\n",
       "      <th>0</th>\n",
       "      <td>5.1</td>\n",
       "      <td>3.5</td>\n",
       "      <td>1.4</td>\n",
       "      <td>0.2</td>\n",
       "      <td>0</td>\n",
       "    </tr>\n",
       "    <tr>\n",
       "      <th>1</th>\n",
       "      <td>4.9</td>\n",
       "      <td>3.0</td>\n",
       "      <td>1.4</td>\n",
       "      <td>0.2</td>\n",
       "      <td>0</td>\n",
       "    </tr>\n",
       "    <tr>\n",
       "      <th>2</th>\n",
       "      <td>4.7</td>\n",
       "      <td>3.2</td>\n",
       "      <td>1.3</td>\n",
       "      <td>0.2</td>\n",
       "      <td>0</td>\n",
       "    </tr>\n",
       "    <tr>\n",
       "      <th>3</th>\n",
       "      <td>4.6</td>\n",
       "      <td>3.1</td>\n",
       "      <td>1.5</td>\n",
       "      <td>0.2</td>\n",
       "      <td>0</td>\n",
       "    </tr>\n",
       "    <tr>\n",
       "      <th>4</th>\n",
       "      <td>5.0</td>\n",
       "      <td>3.6</td>\n",
       "      <td>1.4</td>\n",
       "      <td>0.2</td>\n",
       "      <td>0</td>\n",
       "    </tr>\n",
       "    <tr>\n",
       "      <th>...</th>\n",
       "      <td>...</td>\n",
       "      <td>...</td>\n",
       "      <td>...</td>\n",
       "      <td>...</td>\n",
       "      <td>...</td>\n",
       "    </tr>\n",
       "    <tr>\n",
       "      <th>141</th>\n",
       "      <td>6.7</td>\n",
       "      <td>3.0</td>\n",
       "      <td>5.2</td>\n",
       "      <td>2.3</td>\n",
       "      <td>2</td>\n",
       "    </tr>\n",
       "    <tr>\n",
       "      <th>142</th>\n",
       "      <td>6.3</td>\n",
       "      <td>2.5</td>\n",
       "      <td>5.0</td>\n",
       "      <td>1.9</td>\n",
       "      <td>2</td>\n",
       "    </tr>\n",
       "    <tr>\n",
       "      <th>143</th>\n",
       "      <td>6.5</td>\n",
       "      <td>3.0</td>\n",
       "      <td>5.2</td>\n",
       "      <td>2.0</td>\n",
       "      <td>2</td>\n",
       "    </tr>\n",
       "    <tr>\n",
       "      <th>144</th>\n",
       "      <td>6.2</td>\n",
       "      <td>3.4</td>\n",
       "      <td>5.4</td>\n",
       "      <td>2.3</td>\n",
       "      <td>2</td>\n",
       "    </tr>\n",
       "    <tr>\n",
       "      <th>145</th>\n",
       "      <td>5.9</td>\n",
       "      <td>3.0</td>\n",
       "      <td>5.1</td>\n",
       "      <td>1.8</td>\n",
       "      <td>2</td>\n",
       "    </tr>\n",
       "  </tbody>\n",
       "</table>\n",
       "<p>146 rows × 5 columns</p>\n",
       "</div>"
      ],
      "text/plain": [
       "     sepal_length  sepal_width  petal_length  petal_width  species\n",
       "0             5.1          3.5           1.4          0.2        0\n",
       "1             4.9          3.0           1.4          0.2        0\n",
       "2             4.7          3.2           1.3          0.2        0\n",
       "3             4.6          3.1           1.5          0.2        0\n",
       "4             5.0          3.6           1.4          0.2        0\n",
       "..            ...          ...           ...          ...      ...\n",
       "141           6.7          3.0           5.2          2.3        2\n",
       "142           6.3          2.5           5.0          1.9        2\n",
       "143           6.5          3.0           5.2          2.0        2\n",
       "144           6.2          3.4           5.4          2.3        2\n",
       "145           5.9          3.0           5.1          1.8        2\n",
       "\n",
       "[146 rows x 5 columns]"
      ]
     },
     "execution_count": 152,
     "metadata": {},
     "output_type": "execute_result"
    }
   ],
   "source": [
    "df"
   ]
  },
  {
   "cell_type": "code",
   "execution_count": 159,
   "id": "81268260",
   "metadata": {},
   "outputs": [
    {
     "name": "stdout",
     "output_type": "stream",
     "text": [
      "Prediction is: [1]\n",
      "Predicted flower is Versicolor\n"
     ]
    }
   ],
   "source": [
    "# Give input as an array\n",
    "array = np.array([6.2, 2.9, 4.3, 1.3])\n",
    "\n",
    "# Perform standard sclaer\n",
    "scaled = ss.transform(array.reshape(1,-1))\n",
    "\n",
    "# Convert an array to dataframe\n",
    "sc_df = pd.DataFrame(scaled.reshape(1,4), columns = scale.columns)\n",
    "sc_df\n",
    "\n",
    "# Prediction\n",
    "ypred = model_xgb.predict(sc_df)\n",
    "\n",
    "if ypred == 0:\n",
    "    print('Prediction is: {}'.format(ypred))\n",
    "    print('Predicted flower is Setosa')\n",
    "elif ypred == 1:\n",
    "    print('Prediction is: {}'.format(ypred))\n",
    "    print('Predicted flower is Versicolor')\n",
    "else:\n",
    "    print('Prediction is: {}'.format(ypred))\n",
    "    print('Predicted flower is Verginica')"
   ]
  },
  {
   "cell_type": "markdown",
   "id": "285c2c16",
   "metadata": {},
   "source": [
    "# Conclusion:"
   ]
  },
  {
   "cell_type": "markdown",
   "id": "abaa35cd",
   "metadata": {},
   "source": [
    "In our analysis of Iris flower classification, we distinguished between three distinct species: Setosa, Versicolor, and Virginica. These species were differentiated based on attributes such as petal length and width, as well as sepal length and width. We trained multiple classification models, all of which exhibited strong performance, which can be attributed to the relatively small size of the dataset."
   ]
  },
  {
   "cell_type": "code",
   "execution_count": null,
   "id": "d245358c",
   "metadata": {},
   "outputs": [],
   "source": []
  }
 ],
 "metadata": {
  "kernelspec": {
   "display_name": "Python 3 (ipykernel)",
   "language": "python",
   "name": "python3"
  },
  "language_info": {
   "codemirror_mode": {
    "name": "ipython",
    "version": 3
   },
   "file_extension": ".py",
   "mimetype": "text/x-python",
   "name": "python",
   "nbconvert_exporter": "python",
   "pygments_lexer": "ipython3",
   "version": "3.11.3"
  }
 },
 "nbformat": 4,
 "nbformat_minor": 5
}
