{
 "cells": [
  {
   "cell_type": "markdown",
   "id": "eaf285bf",
   "metadata": {},
   "source": [
    "                                       MOVIE RATING PREDICTION WITH PYTHON\n",
    "Build a model that predicts the rating of a movie based on features like genre, director, and actors. You can use regression techniques to tackle this problem.\n",
    "\n",
    "The goal is to analyze historical movie data and develop a model that accurately estimates the rating given to a movie by users or critics.\n",
    "\n",
    "Movie Rating Prediction project enables you to explore data analysis, preprocessing, feature engineering, and machine learning modeling techniques. It provides insights into the factors that influence movie ratings and allows you to build a model that\n",
    "can estimate the ratings of movies accurately."
   ]
  },
  {
   "cell_type": "code",
   "execution_count": 1,
   "id": "112a05a4",
   "metadata": {},
   "outputs": [],
   "source": [
    "# Import necessary libraries\n",
    "\n",
    "import pandas as pd\n",
    "import numpy as np\n",
    "import matplotlib.pyplot as plt\n",
    "import seaborn as sns\n",
    "import math\n",
    "import warnings\n",
    "from sklearn.model_selection import train_test_split\n",
    "from sklearn.metrics import accuracy_score, precision_score, recall_score, f1_score\n",
    "from sklearn.metrics import confusion_matrix, ConfusionMatrixDisplay"
   ]
  },
  {
   "cell_type": "code",
   "execution_count": 2,
   "id": "e331827e",
   "metadata": {},
   "outputs": [],
   "source": [
    "warnings.filterwarnings('ignore')"
   ]
  },
  {
   "cell_type": "code",
   "execution_count": 3,
   "id": "d08193ef",
   "metadata": {},
   "outputs": [],
   "source": [
    "# Import CSV File\n",
    "\n",
    "df = pd.read_csv(r'D:\\CodSoft\\Task2_Movie_Rating\\IMDb_Movies_India.csv', encoding='latin-1')"
   ]
  },
  {
   "cell_type": "code",
   "execution_count": 4,
   "id": "f699dc44",
   "metadata": {},
   "outputs": [
    {
     "data": {
      "text/html": [
       "<div>\n",
       "<style scoped>\n",
       "    .dataframe tbody tr th:only-of-type {\n",
       "        vertical-align: middle;\n",
       "    }\n",
       "\n",
       "    .dataframe tbody tr th {\n",
       "        vertical-align: top;\n",
       "    }\n",
       "\n",
       "    .dataframe thead th {\n",
       "        text-align: right;\n",
       "    }\n",
       "</style>\n",
       "<table border=\"1\" class=\"dataframe\">\n",
       "  <thead>\n",
       "    <tr style=\"text-align: right;\">\n",
       "      <th></th>\n",
       "      <th>Name</th>\n",
       "      <th>Year</th>\n",
       "      <th>Duration</th>\n",
       "      <th>Genre</th>\n",
       "      <th>Rating</th>\n",
       "      <th>Votes</th>\n",
       "      <th>Director</th>\n",
       "      <th>Actor 1</th>\n",
       "      <th>Actor 2</th>\n",
       "      <th>Actor 3</th>\n",
       "    </tr>\n",
       "  </thead>\n",
       "  <tbody>\n",
       "    <tr>\n",
       "      <th>0</th>\n",
       "      <td></td>\n",
       "      <td>NaN</td>\n",
       "      <td>NaN</td>\n",
       "      <td>Drama</td>\n",
       "      <td>NaN</td>\n",
       "      <td>NaN</td>\n",
       "      <td>J.S. Randhawa</td>\n",
       "      <td>Manmauji</td>\n",
       "      <td>Birbal</td>\n",
       "      <td>Rajendra Bhatia</td>\n",
       "    </tr>\n",
       "    <tr>\n",
       "      <th>1</th>\n",
       "      <td>#Gadhvi (He thought he was Gandhi)</td>\n",
       "      <td>(2019)</td>\n",
       "      <td>109 min</td>\n",
       "      <td>Drama</td>\n",
       "      <td>7.0</td>\n",
       "      <td>8</td>\n",
       "      <td>Gaurav Bakshi</td>\n",
       "      <td>Rasika Dugal</td>\n",
       "      <td>Vivek Ghamande</td>\n",
       "      <td>Arvind Jangid</td>\n",
       "    </tr>\n",
       "    <tr>\n",
       "      <th>2</th>\n",
       "      <td>#Homecoming</td>\n",
       "      <td>(2021)</td>\n",
       "      <td>90 min</td>\n",
       "      <td>Drama, Musical</td>\n",
       "      <td>NaN</td>\n",
       "      <td>NaN</td>\n",
       "      <td>Soumyajit Majumdar</td>\n",
       "      <td>Sayani Gupta</td>\n",
       "      <td>Plabita Borthakur</td>\n",
       "      <td>Roy Angana</td>\n",
       "    </tr>\n",
       "    <tr>\n",
       "      <th>3</th>\n",
       "      <td>#Yaaram</td>\n",
       "      <td>(2019)</td>\n",
       "      <td>110 min</td>\n",
       "      <td>Comedy, Romance</td>\n",
       "      <td>4.4</td>\n",
       "      <td>35</td>\n",
       "      <td>Ovais Khan</td>\n",
       "      <td>Prateik</td>\n",
       "      <td>Ishita Raj</td>\n",
       "      <td>Siddhant Kapoor</td>\n",
       "    </tr>\n",
       "    <tr>\n",
       "      <th>4</th>\n",
       "      <td>...And Once Again</td>\n",
       "      <td>(2010)</td>\n",
       "      <td>105 min</td>\n",
       "      <td>Drama</td>\n",
       "      <td>NaN</td>\n",
       "      <td>NaN</td>\n",
       "      <td>Amol Palekar</td>\n",
       "      <td>Rajat Kapoor</td>\n",
       "      <td>Rituparna Sengupta</td>\n",
       "      <td>Antara Mali</td>\n",
       "    </tr>\n",
       "    <tr>\n",
       "      <th>...</th>\n",
       "      <td>...</td>\n",
       "      <td>...</td>\n",
       "      <td>...</td>\n",
       "      <td>...</td>\n",
       "      <td>...</td>\n",
       "      <td>...</td>\n",
       "      <td>...</td>\n",
       "      <td>...</td>\n",
       "      <td>...</td>\n",
       "      <td>...</td>\n",
       "    </tr>\n",
       "    <tr>\n",
       "      <th>15504</th>\n",
       "      <td>Zulm Ko Jala Doonga</td>\n",
       "      <td>(1988)</td>\n",
       "      <td>NaN</td>\n",
       "      <td>Action</td>\n",
       "      <td>4.6</td>\n",
       "      <td>11</td>\n",
       "      <td>Mahendra Shah</td>\n",
       "      <td>Naseeruddin Shah</td>\n",
       "      <td>Sumeet Saigal</td>\n",
       "      <td>Suparna Anand</td>\n",
       "    </tr>\n",
       "    <tr>\n",
       "      <th>15505</th>\n",
       "      <td>Zulmi</td>\n",
       "      <td>(1999)</td>\n",
       "      <td>129 min</td>\n",
       "      <td>Action, Drama</td>\n",
       "      <td>4.5</td>\n",
       "      <td>655</td>\n",
       "      <td>Kuku Kohli</td>\n",
       "      <td>Akshay Kumar</td>\n",
       "      <td>Twinkle Khanna</td>\n",
       "      <td>Aruna Irani</td>\n",
       "    </tr>\n",
       "    <tr>\n",
       "      <th>15506</th>\n",
       "      <td>Zulmi Raj</td>\n",
       "      <td>(2005)</td>\n",
       "      <td>NaN</td>\n",
       "      <td>Action</td>\n",
       "      <td>NaN</td>\n",
       "      <td>NaN</td>\n",
       "      <td>Kiran Thej</td>\n",
       "      <td>Sangeeta Tiwari</td>\n",
       "      <td>NaN</td>\n",
       "      <td>NaN</td>\n",
       "    </tr>\n",
       "    <tr>\n",
       "      <th>15507</th>\n",
       "      <td>Zulmi Shikari</td>\n",
       "      <td>(1988)</td>\n",
       "      <td>NaN</td>\n",
       "      <td>Action</td>\n",
       "      <td>NaN</td>\n",
       "      <td>NaN</td>\n",
       "      <td>NaN</td>\n",
       "      <td>NaN</td>\n",
       "      <td>NaN</td>\n",
       "      <td>NaN</td>\n",
       "    </tr>\n",
       "    <tr>\n",
       "      <th>15508</th>\n",
       "      <td>Zulm-O-Sitam</td>\n",
       "      <td>(1998)</td>\n",
       "      <td>130 min</td>\n",
       "      <td>Action, Drama</td>\n",
       "      <td>6.2</td>\n",
       "      <td>20</td>\n",
       "      <td>K.C. Bokadia</td>\n",
       "      <td>Dharmendra</td>\n",
       "      <td>Jaya Prada</td>\n",
       "      <td>Arjun Sarja</td>\n",
       "    </tr>\n",
       "  </tbody>\n",
       "</table>\n",
       "<p>15509 rows × 10 columns</p>\n",
       "</div>"
      ],
      "text/plain": [
       "                                     Name    Year Duration            Genre  \\\n",
       "0                                             NaN      NaN            Drama   \n",
       "1      #Gadhvi (He thought he was Gandhi)  (2019)  109 min            Drama   \n",
       "2                             #Homecoming  (2021)   90 min   Drama, Musical   \n",
       "3                                 #Yaaram  (2019)  110 min  Comedy, Romance   \n",
       "4                       ...And Once Again  (2010)  105 min            Drama   \n",
       "...                                   ...     ...      ...              ...   \n",
       "15504                 Zulm Ko Jala Doonga  (1988)      NaN           Action   \n",
       "15505                               Zulmi  (1999)  129 min    Action, Drama   \n",
       "15506                           Zulmi Raj  (2005)      NaN           Action   \n",
       "15507                       Zulmi Shikari  (1988)      NaN           Action   \n",
       "15508                        Zulm-O-Sitam  (1998)  130 min    Action, Drama   \n",
       "\n",
       "       Rating Votes            Director           Actor 1             Actor 2  \\\n",
       "0         NaN   NaN       J.S. Randhawa          Manmauji              Birbal   \n",
       "1         7.0     8       Gaurav Bakshi      Rasika Dugal      Vivek Ghamande   \n",
       "2         NaN   NaN  Soumyajit Majumdar      Sayani Gupta   Plabita Borthakur   \n",
       "3         4.4    35          Ovais Khan           Prateik          Ishita Raj   \n",
       "4         NaN   NaN        Amol Palekar      Rajat Kapoor  Rituparna Sengupta   \n",
       "...       ...   ...                 ...               ...                 ...   \n",
       "15504     4.6    11       Mahendra Shah  Naseeruddin Shah       Sumeet Saigal   \n",
       "15505     4.5   655          Kuku Kohli      Akshay Kumar      Twinkle Khanna   \n",
       "15506     NaN   NaN          Kiran Thej   Sangeeta Tiwari                 NaN   \n",
       "15507     NaN   NaN                 NaN               NaN                 NaN   \n",
       "15508     6.2    20        K.C. Bokadia        Dharmendra          Jaya Prada   \n",
       "\n",
       "               Actor 3  \n",
       "0      Rajendra Bhatia  \n",
       "1        Arvind Jangid  \n",
       "2           Roy Angana  \n",
       "3      Siddhant Kapoor  \n",
       "4          Antara Mali  \n",
       "...                ...  \n",
       "15504    Suparna Anand  \n",
       "15505      Aruna Irani  \n",
       "15506              NaN  \n",
       "15507              NaN  \n",
       "15508      Arjun Sarja  \n",
       "\n",
       "[15509 rows x 10 columns]"
      ]
     },
     "execution_count": 4,
     "metadata": {},
     "output_type": "execute_result"
    }
   ],
   "source": [
    "df"
   ]
  },
  {
   "cell_type": "markdown",
   "id": "510e2130",
   "metadata": {},
   "source": [
    "# 1. Understanding of Data"
   ]
  },
  {
   "cell_type": "code",
   "execution_count": 5,
   "id": "ba4dac1a",
   "metadata": {},
   "outputs": [
    {
     "data": {
      "text/html": [
       "<div>\n",
       "<style scoped>\n",
       "    .dataframe tbody tr th:only-of-type {\n",
       "        vertical-align: middle;\n",
       "    }\n",
       "\n",
       "    .dataframe tbody tr th {\n",
       "        vertical-align: top;\n",
       "    }\n",
       "\n",
       "    .dataframe thead th {\n",
       "        text-align: right;\n",
       "    }\n",
       "</style>\n",
       "<table border=\"1\" class=\"dataframe\">\n",
       "  <thead>\n",
       "    <tr style=\"text-align: right;\">\n",
       "      <th></th>\n",
       "      <th>Name</th>\n",
       "      <th>Year</th>\n",
       "      <th>Duration</th>\n",
       "      <th>Genre</th>\n",
       "      <th>Rating</th>\n",
       "      <th>Votes</th>\n",
       "      <th>Director</th>\n",
       "      <th>Actor 1</th>\n",
       "      <th>Actor 2</th>\n",
       "      <th>Actor 3</th>\n",
       "    </tr>\n",
       "  </thead>\n",
       "  <tbody>\n",
       "    <tr>\n",
       "      <th>0</th>\n",
       "      <td></td>\n",
       "      <td>NaN</td>\n",
       "      <td>NaN</td>\n",
       "      <td>Drama</td>\n",
       "      <td>NaN</td>\n",
       "      <td>NaN</td>\n",
       "      <td>J.S. Randhawa</td>\n",
       "      <td>Manmauji</td>\n",
       "      <td>Birbal</td>\n",
       "      <td>Rajendra Bhatia</td>\n",
       "    </tr>\n",
       "    <tr>\n",
       "      <th>1</th>\n",
       "      <td>#Gadhvi (He thought he was Gandhi)</td>\n",
       "      <td>(2019)</td>\n",
       "      <td>109 min</td>\n",
       "      <td>Drama</td>\n",
       "      <td>7.0</td>\n",
       "      <td>8</td>\n",
       "      <td>Gaurav Bakshi</td>\n",
       "      <td>Rasika Dugal</td>\n",
       "      <td>Vivek Ghamande</td>\n",
       "      <td>Arvind Jangid</td>\n",
       "    </tr>\n",
       "    <tr>\n",
       "      <th>2</th>\n",
       "      <td>#Homecoming</td>\n",
       "      <td>(2021)</td>\n",
       "      <td>90 min</td>\n",
       "      <td>Drama, Musical</td>\n",
       "      <td>NaN</td>\n",
       "      <td>NaN</td>\n",
       "      <td>Soumyajit Majumdar</td>\n",
       "      <td>Sayani Gupta</td>\n",
       "      <td>Plabita Borthakur</td>\n",
       "      <td>Roy Angana</td>\n",
       "    </tr>\n",
       "    <tr>\n",
       "      <th>3</th>\n",
       "      <td>#Yaaram</td>\n",
       "      <td>(2019)</td>\n",
       "      <td>110 min</td>\n",
       "      <td>Comedy, Romance</td>\n",
       "      <td>4.4</td>\n",
       "      <td>35</td>\n",
       "      <td>Ovais Khan</td>\n",
       "      <td>Prateik</td>\n",
       "      <td>Ishita Raj</td>\n",
       "      <td>Siddhant Kapoor</td>\n",
       "    </tr>\n",
       "    <tr>\n",
       "      <th>4</th>\n",
       "      <td>...And Once Again</td>\n",
       "      <td>(2010)</td>\n",
       "      <td>105 min</td>\n",
       "      <td>Drama</td>\n",
       "      <td>NaN</td>\n",
       "      <td>NaN</td>\n",
       "      <td>Amol Palekar</td>\n",
       "      <td>Rajat Kapoor</td>\n",
       "      <td>Rituparna Sengupta</td>\n",
       "      <td>Antara Mali</td>\n",
       "    </tr>\n",
       "  </tbody>\n",
       "</table>\n",
       "</div>"
      ],
      "text/plain": [
       "                                 Name    Year Duration            Genre  \\\n",
       "0                                         NaN      NaN            Drama   \n",
       "1  #Gadhvi (He thought he was Gandhi)  (2019)  109 min            Drama   \n",
       "2                         #Homecoming  (2021)   90 min   Drama, Musical   \n",
       "3                             #Yaaram  (2019)  110 min  Comedy, Romance   \n",
       "4                   ...And Once Again  (2010)  105 min            Drama   \n",
       "\n",
       "   Rating Votes            Director       Actor 1             Actor 2  \\\n",
       "0     NaN   NaN       J.S. Randhawa      Manmauji              Birbal   \n",
       "1     7.0     8       Gaurav Bakshi  Rasika Dugal      Vivek Ghamande   \n",
       "2     NaN   NaN  Soumyajit Majumdar  Sayani Gupta   Plabita Borthakur   \n",
       "3     4.4    35          Ovais Khan       Prateik          Ishita Raj   \n",
       "4     NaN   NaN        Amol Palekar  Rajat Kapoor  Rituparna Sengupta   \n",
       "\n",
       "           Actor 3  \n",
       "0  Rajendra Bhatia  \n",
       "1    Arvind Jangid  \n",
       "2       Roy Angana  \n",
       "3  Siddhant Kapoor  \n",
       "4      Antara Mali  "
      ]
     },
     "execution_count": 5,
     "metadata": {},
     "output_type": "execute_result"
    }
   ],
   "source": [
    "df.head()"
   ]
  },
  {
   "cell_type": "markdown",
   "id": "64a4d7b4",
   "metadata": {},
   "source": [
    "In this dataset, target column is \"Rating\"."
   ]
  },
  {
   "cell_type": "code",
   "execution_count": 6,
   "id": "0ab56123",
   "metadata": {},
   "outputs": [
    {
     "data": {
      "text/plain": [
       "(15509, 10)"
      ]
     },
     "execution_count": 6,
     "metadata": {},
     "output_type": "execute_result"
    }
   ],
   "source": [
    "# Shape of the dataset\n",
    "\n",
    "df.shape"
   ]
  },
  {
   "cell_type": "markdown",
   "id": "d571445f",
   "metadata": {},
   "source": [
    "Total number of rows: 15509\n",
    "    \n",
    "Total number of columns: 10"
   ]
  },
  {
   "cell_type": "code",
   "execution_count": 7,
   "id": "8835f808",
   "metadata": {},
   "outputs": [
    {
     "data": {
      "text/plain": [
       "Index(['Name', 'Year', 'Duration', 'Genre', 'Rating', 'Votes', 'Director',\n",
       "       'Actor 1', 'Actor 2', 'Actor 3'],\n",
       "      dtype='object')"
      ]
     },
     "execution_count": 7,
     "metadata": {},
     "output_type": "execute_result"
    }
   ],
   "source": [
    "# Columns Information\n",
    "\n",
    "df.columns"
   ]
  },
  {
   "cell_type": "markdown",
   "id": "6c150365",
   "metadata": {},
   "source": [
    "1. Name: Name of the movie\n",
    "\n",
    "2. Year: Release year of the movie\n",
    "\n",
    "3. Duration: Time duration of the movie\n",
    "\n",
    "4. Genre: Genre of the movie\n",
    "\n",
    "5. Rating: Rating of the movie\n",
    "\n",
    "6. Votes: Total votes given to the movie\n",
    "\n",
    "7. Director: Director of the movie\n",
    "\n",
    "8. Actor1/Actor2/Actor3: Lead actors of the movie"
   ]
  },
  {
   "cell_type": "code",
   "execution_count": 8,
   "id": "510f1769",
   "metadata": {},
   "outputs": [
    {
     "data": {
      "text/html": [
       "<div>\n",
       "<style scoped>\n",
       "    .dataframe tbody tr th:only-of-type {\n",
       "        vertical-align: middle;\n",
       "    }\n",
       "\n",
       "    .dataframe tbody tr th {\n",
       "        vertical-align: top;\n",
       "    }\n",
       "\n",
       "    .dataframe thead th {\n",
       "        text-align: right;\n",
       "    }\n",
       "</style>\n",
       "<table border=\"1\" class=\"dataframe\">\n",
       "  <thead>\n",
       "    <tr style=\"text-align: right;\">\n",
       "      <th></th>\n",
       "      <th>Rating</th>\n",
       "    </tr>\n",
       "  </thead>\n",
       "  <tbody>\n",
       "    <tr>\n",
       "      <th>count</th>\n",
       "      <td>7919.000000</td>\n",
       "    </tr>\n",
       "    <tr>\n",
       "      <th>mean</th>\n",
       "      <td>5.841621</td>\n",
       "    </tr>\n",
       "    <tr>\n",
       "      <th>std</th>\n",
       "      <td>1.381777</td>\n",
       "    </tr>\n",
       "    <tr>\n",
       "      <th>min</th>\n",
       "      <td>1.100000</td>\n",
       "    </tr>\n",
       "    <tr>\n",
       "      <th>25%</th>\n",
       "      <td>4.900000</td>\n",
       "    </tr>\n",
       "    <tr>\n",
       "      <th>50%</th>\n",
       "      <td>6.000000</td>\n",
       "    </tr>\n",
       "    <tr>\n",
       "      <th>75%</th>\n",
       "      <td>6.800000</td>\n",
       "    </tr>\n",
       "    <tr>\n",
       "      <th>max</th>\n",
       "      <td>10.000000</td>\n",
       "    </tr>\n",
       "  </tbody>\n",
       "</table>\n",
       "</div>"
      ],
      "text/plain": [
       "            Rating\n",
       "count  7919.000000\n",
       "mean      5.841621\n",
       "std       1.381777\n",
       "min       1.100000\n",
       "25%       4.900000\n",
       "50%       6.000000\n",
       "75%       6.800000\n",
       "max      10.000000"
      ]
     },
     "execution_count": 8,
     "metadata": {},
     "output_type": "execute_result"
    }
   ],
   "source": [
    "df.describe()"
   ]
  },
  {
   "cell_type": "code",
   "execution_count": 9,
   "id": "c75891da",
   "metadata": {},
   "outputs": [
    {
     "data": {
      "text/html": [
       "<div>\n",
       "<style scoped>\n",
       "    .dataframe tbody tr th:only-of-type {\n",
       "        vertical-align: middle;\n",
       "    }\n",
       "\n",
       "    .dataframe tbody tr th {\n",
       "        vertical-align: top;\n",
       "    }\n",
       "\n",
       "    .dataframe thead th {\n",
       "        text-align: right;\n",
       "    }\n",
       "</style>\n",
       "<table border=\"1\" class=\"dataframe\">\n",
       "  <thead>\n",
       "    <tr style=\"text-align: right;\">\n",
       "      <th></th>\n",
       "      <th>Name</th>\n",
       "      <th>Year</th>\n",
       "      <th>Duration</th>\n",
       "      <th>Genre</th>\n",
       "      <th>Votes</th>\n",
       "      <th>Director</th>\n",
       "      <th>Actor 1</th>\n",
       "      <th>Actor 2</th>\n",
       "      <th>Actor 3</th>\n",
       "    </tr>\n",
       "  </thead>\n",
       "  <tbody>\n",
       "    <tr>\n",
       "      <th>count</th>\n",
       "      <td>15509</td>\n",
       "      <td>14981</td>\n",
       "      <td>7240</td>\n",
       "      <td>13632</td>\n",
       "      <td>7920</td>\n",
       "      <td>14984</td>\n",
       "      <td>13892</td>\n",
       "      <td>13125</td>\n",
       "      <td>12365</td>\n",
       "    </tr>\n",
       "    <tr>\n",
       "      <th>unique</th>\n",
       "      <td>13838</td>\n",
       "      <td>102</td>\n",
       "      <td>182</td>\n",
       "      <td>485</td>\n",
       "      <td>2034</td>\n",
       "      <td>5938</td>\n",
       "      <td>4718</td>\n",
       "      <td>4891</td>\n",
       "      <td>4820</td>\n",
       "    </tr>\n",
       "    <tr>\n",
       "      <th>top</th>\n",
       "      <td>Anjaam</td>\n",
       "      <td>(2019)</td>\n",
       "      <td>120 min</td>\n",
       "      <td>Drama</td>\n",
       "      <td>8</td>\n",
       "      <td>Jayant Desai</td>\n",
       "      <td>Ashok Kumar</td>\n",
       "      <td>Rekha</td>\n",
       "      <td>Pran</td>\n",
       "    </tr>\n",
       "    <tr>\n",
       "      <th>freq</th>\n",
       "      <td>7</td>\n",
       "      <td>410</td>\n",
       "      <td>240</td>\n",
       "      <td>2780</td>\n",
       "      <td>227</td>\n",
       "      <td>58</td>\n",
       "      <td>158</td>\n",
       "      <td>83</td>\n",
       "      <td>91</td>\n",
       "    </tr>\n",
       "  </tbody>\n",
       "</table>\n",
       "</div>"
      ],
      "text/plain": [
       "          Name    Year Duration  Genre Votes      Director      Actor 1  \\\n",
       "count    15509   14981     7240  13632  7920         14984        13892   \n",
       "unique   13838     102      182    485  2034          5938         4718   \n",
       "top     Anjaam  (2019)  120 min  Drama     8  Jayant Desai  Ashok Kumar   \n",
       "freq         7     410      240   2780   227            58          158   \n",
       "\n",
       "       Actor 2 Actor 3  \n",
       "count    13125   12365  \n",
       "unique    4891    4820  \n",
       "top      Rekha    Pran  \n",
       "freq        83      91  "
      ]
     },
     "execution_count": 9,
     "metadata": {},
     "output_type": "execute_result"
    }
   ],
   "source": [
    "df.describe(include = 'object')"
   ]
  },
  {
   "cell_type": "markdown",
   "id": "b8a31ab9",
   "metadata": {},
   "source": [
    "# 2. Data Cleaning"
   ]
  },
  {
   "cell_type": "code",
   "execution_count": 10,
   "id": "050ce907",
   "metadata": {},
   "outputs": [
    {
     "data": {
      "text/plain": [
       "Index(['Name', 'Year', 'Duration', 'Genre', 'Rating', 'Votes', 'Director',\n",
       "       'Actor 1', 'Actor 2', 'Actor 3'],\n",
       "      dtype='object')"
      ]
     },
     "execution_count": 10,
     "metadata": {},
     "output_type": "execute_result"
    }
   ],
   "source": [
    "df.columns"
   ]
  },
  {
   "cell_type": "markdown",
   "id": "a85614bf",
   "metadata": {},
   "source": [
    "# Rename column names"
   ]
  },
  {
   "cell_type": "code",
   "execution_count": 11,
   "id": "ee24dd3b",
   "metadata": {},
   "outputs": [],
   "source": [
    "df.rename(columns = {\n",
    "    \"Name\": 'title',\n",
    "    \"Year\": 'year',\n",
    "    \"Duration\": 'duration',\n",
    "    \"Genre\": 'genre',\n",
    "    \"Rating\": 'rating',\n",
    "    \"Votes\" : 'votes',\n",
    "    \"Director\": 'director',\n",
    "    \"Actor 1\": 'actor1',\n",
    "    \"Actor 2\": 'actor2',\n",
    "    \"Actor 3\": 'actor3'\n",
    "}, inplace = True)"
   ]
  },
  {
   "cell_type": "code",
   "execution_count": 12,
   "id": "ea04e382",
   "metadata": {},
   "outputs": [
    {
     "data": {
      "text/html": [
       "<div>\n",
       "<style scoped>\n",
       "    .dataframe tbody tr th:only-of-type {\n",
       "        vertical-align: middle;\n",
       "    }\n",
       "\n",
       "    .dataframe tbody tr th {\n",
       "        vertical-align: top;\n",
       "    }\n",
       "\n",
       "    .dataframe thead th {\n",
       "        text-align: right;\n",
       "    }\n",
       "</style>\n",
       "<table border=\"1\" class=\"dataframe\">\n",
       "  <thead>\n",
       "    <tr style=\"text-align: right;\">\n",
       "      <th></th>\n",
       "      <th>title</th>\n",
       "      <th>year</th>\n",
       "      <th>duration</th>\n",
       "      <th>genre</th>\n",
       "      <th>rating</th>\n",
       "      <th>votes</th>\n",
       "      <th>director</th>\n",
       "      <th>actor1</th>\n",
       "      <th>actor2</th>\n",
       "      <th>actor3</th>\n",
       "    </tr>\n",
       "  </thead>\n",
       "  <tbody>\n",
       "    <tr>\n",
       "      <th>0</th>\n",
       "      <td></td>\n",
       "      <td>NaN</td>\n",
       "      <td>NaN</td>\n",
       "      <td>Drama</td>\n",
       "      <td>NaN</td>\n",
       "      <td>NaN</td>\n",
       "      <td>J.S. Randhawa</td>\n",
       "      <td>Manmauji</td>\n",
       "      <td>Birbal</td>\n",
       "      <td>Rajendra Bhatia</td>\n",
       "    </tr>\n",
       "    <tr>\n",
       "      <th>1</th>\n",
       "      <td>#Gadhvi (He thought he was Gandhi)</td>\n",
       "      <td>(2019)</td>\n",
       "      <td>109 min</td>\n",
       "      <td>Drama</td>\n",
       "      <td>7.0</td>\n",
       "      <td>8</td>\n",
       "      <td>Gaurav Bakshi</td>\n",
       "      <td>Rasika Dugal</td>\n",
       "      <td>Vivek Ghamande</td>\n",
       "      <td>Arvind Jangid</td>\n",
       "    </tr>\n",
       "    <tr>\n",
       "      <th>2</th>\n",
       "      <td>#Homecoming</td>\n",
       "      <td>(2021)</td>\n",
       "      <td>90 min</td>\n",
       "      <td>Drama, Musical</td>\n",
       "      <td>NaN</td>\n",
       "      <td>NaN</td>\n",
       "      <td>Soumyajit Majumdar</td>\n",
       "      <td>Sayani Gupta</td>\n",
       "      <td>Plabita Borthakur</td>\n",
       "      <td>Roy Angana</td>\n",
       "    </tr>\n",
       "    <tr>\n",
       "      <th>3</th>\n",
       "      <td>#Yaaram</td>\n",
       "      <td>(2019)</td>\n",
       "      <td>110 min</td>\n",
       "      <td>Comedy, Romance</td>\n",
       "      <td>4.4</td>\n",
       "      <td>35</td>\n",
       "      <td>Ovais Khan</td>\n",
       "      <td>Prateik</td>\n",
       "      <td>Ishita Raj</td>\n",
       "      <td>Siddhant Kapoor</td>\n",
       "    </tr>\n",
       "    <tr>\n",
       "      <th>4</th>\n",
       "      <td>...And Once Again</td>\n",
       "      <td>(2010)</td>\n",
       "      <td>105 min</td>\n",
       "      <td>Drama</td>\n",
       "      <td>NaN</td>\n",
       "      <td>NaN</td>\n",
       "      <td>Amol Palekar</td>\n",
       "      <td>Rajat Kapoor</td>\n",
       "      <td>Rituparna Sengupta</td>\n",
       "      <td>Antara Mali</td>\n",
       "    </tr>\n",
       "  </tbody>\n",
       "</table>\n",
       "</div>"
      ],
      "text/plain": [
       "                                title    year duration            genre  \\\n",
       "0                                         NaN      NaN            Drama   \n",
       "1  #Gadhvi (He thought he was Gandhi)  (2019)  109 min            Drama   \n",
       "2                         #Homecoming  (2021)   90 min   Drama, Musical   \n",
       "3                             #Yaaram  (2019)  110 min  Comedy, Romance   \n",
       "4                   ...And Once Again  (2010)  105 min            Drama   \n",
       "\n",
       "   rating votes            director        actor1              actor2  \\\n",
       "0     NaN   NaN       J.S. Randhawa      Manmauji              Birbal   \n",
       "1     7.0     8       Gaurav Bakshi  Rasika Dugal      Vivek Ghamande   \n",
       "2     NaN   NaN  Soumyajit Majumdar  Sayani Gupta   Plabita Borthakur   \n",
       "3     4.4    35          Ovais Khan       Prateik          Ishita Raj   \n",
       "4     NaN   NaN        Amol Palekar  Rajat Kapoor  Rituparna Sengupta   \n",
       "\n",
       "            actor3  \n",
       "0  Rajendra Bhatia  \n",
       "1    Arvind Jangid  \n",
       "2       Roy Angana  \n",
       "3  Siddhant Kapoor  \n",
       "4      Antara Mali  "
      ]
     },
     "execution_count": 12,
     "metadata": {},
     "output_type": "execute_result"
    }
   ],
   "source": [
    "df.head()"
   ]
  },
  {
   "cell_type": "markdown",
   "id": "776d0486",
   "metadata": {},
   "source": [
    "# Check for null values"
   ]
  },
  {
   "cell_type": "code",
   "execution_count": 13,
   "id": "952411a7",
   "metadata": {},
   "outputs": [
    {
     "data": {
      "text/plain": [
       "title          0\n",
       "year         528\n",
       "duration    8269\n",
       "genre       1877\n",
       "rating      7590\n",
       "votes       7589\n",
       "director     525\n",
       "actor1      1617\n",
       "actor2      2384\n",
       "actor3      3144\n",
       "dtype: int64"
      ]
     },
     "execution_count": 13,
     "metadata": {},
     "output_type": "execute_result"
    }
   ],
   "source": [
    "df.isnull().sum()"
   ]
  },
  {
   "cell_type": "code",
   "execution_count": 14,
   "id": "17b49492",
   "metadata": {},
   "outputs": [
    {
     "name": "stdout",
     "output_type": "stream",
     "text": [
      "Percentage of null values in title column is 0.0\n",
      "Percentage of null values in year column is 3.404474821071636\n",
      "Percentage of null values in duration column is 53.317428589851055\n",
      "Percentage of null values in genre column is 12.102650074150494\n",
      "Percentage of null values in rating column is 48.93932555290477\n",
      "Percentage of null values in votes column is 48.93287768392546\n",
      "Percentage of null values in director column is 3.385131214133729\n",
      "Percentage of null values in actor1 column is 10.426204139531885\n",
      "Percentage of null values in actor2 column is 15.371719646656782\n",
      "Percentage of null values in actor3 column is 20.27210007092656\n"
     ]
    }
   ],
   "source": [
    "# Calculate null value percentage\n",
    "\n",
    "for i in df:\n",
    "    null_percent = (df[i].isnull().sum()/df[i].shape[0]) * 100\n",
    "    print(\"Percentage of null values in {} column is {}\".format(i, null_percent))"
   ]
  },
  {
   "cell_type": "markdown",
   "id": "5f9d0565",
   "metadata": {},
   "source": [
    "In many of the columns, there aren't many missing values, but in the \"rating\" column, there's a high percentage of missing data, about 58%. Therefore, we should consider removing all the rows with missing values from the dataset to ensure the data is complete and reliable."
   ]
  },
  {
   "cell_type": "code",
   "execution_count": 15,
   "id": "3fb940ba",
   "metadata": {},
   "outputs": [],
   "source": [
    "df.dropna(inplace = True)"
   ]
  },
  {
   "cell_type": "code",
   "execution_count": 16,
   "id": "339c7d09",
   "metadata": {},
   "outputs": [],
   "source": [
    "df.reset_index(inplace = True)\n",
    "df.drop('index', axis = 1, inplace = True)"
   ]
  },
  {
   "cell_type": "code",
   "execution_count": 17,
   "id": "06ff6517",
   "metadata": {},
   "outputs": [
    {
     "data": {
      "text/html": [
       "<div>\n",
       "<style scoped>\n",
       "    .dataframe tbody tr th:only-of-type {\n",
       "        vertical-align: middle;\n",
       "    }\n",
       "\n",
       "    .dataframe tbody tr th {\n",
       "        vertical-align: top;\n",
       "    }\n",
       "\n",
       "    .dataframe thead th {\n",
       "        text-align: right;\n",
       "    }\n",
       "</style>\n",
       "<table border=\"1\" class=\"dataframe\">\n",
       "  <thead>\n",
       "    <tr style=\"text-align: right;\">\n",
       "      <th></th>\n",
       "      <th>title</th>\n",
       "      <th>year</th>\n",
       "      <th>duration</th>\n",
       "      <th>genre</th>\n",
       "      <th>rating</th>\n",
       "      <th>votes</th>\n",
       "      <th>director</th>\n",
       "      <th>actor1</th>\n",
       "      <th>actor2</th>\n",
       "      <th>actor3</th>\n",
       "    </tr>\n",
       "  </thead>\n",
       "  <tbody>\n",
       "    <tr>\n",
       "      <th>0</th>\n",
       "      <td>#Gadhvi (He thought he was Gandhi)</td>\n",
       "      <td>(2019)</td>\n",
       "      <td>109 min</td>\n",
       "      <td>Drama</td>\n",
       "      <td>7.0</td>\n",
       "      <td>8</td>\n",
       "      <td>Gaurav Bakshi</td>\n",
       "      <td>Rasika Dugal</td>\n",
       "      <td>Vivek Ghamande</td>\n",
       "      <td>Arvind Jangid</td>\n",
       "    </tr>\n",
       "    <tr>\n",
       "      <th>1</th>\n",
       "      <td>#Yaaram</td>\n",
       "      <td>(2019)</td>\n",
       "      <td>110 min</td>\n",
       "      <td>Comedy, Romance</td>\n",
       "      <td>4.4</td>\n",
       "      <td>35</td>\n",
       "      <td>Ovais Khan</td>\n",
       "      <td>Prateik</td>\n",
       "      <td>Ishita Raj</td>\n",
       "      <td>Siddhant Kapoor</td>\n",
       "    </tr>\n",
       "    <tr>\n",
       "      <th>2</th>\n",
       "      <td>...Aur Pyaar Ho Gaya</td>\n",
       "      <td>(1997)</td>\n",
       "      <td>147 min</td>\n",
       "      <td>Comedy, Drama, Musical</td>\n",
       "      <td>4.7</td>\n",
       "      <td>827</td>\n",
       "      <td>Rahul Rawail</td>\n",
       "      <td>Bobby Deol</td>\n",
       "      <td>Aishwarya Rai Bachchan</td>\n",
       "      <td>Shammi Kapoor</td>\n",
       "    </tr>\n",
       "    <tr>\n",
       "      <th>3</th>\n",
       "      <td>...Yahaan</td>\n",
       "      <td>(2005)</td>\n",
       "      <td>142 min</td>\n",
       "      <td>Drama, Romance, War</td>\n",
       "      <td>7.4</td>\n",
       "      <td>1,086</td>\n",
       "      <td>Shoojit Sircar</td>\n",
       "      <td>Jimmy Sheirgill</td>\n",
       "      <td>Minissha Lamba</td>\n",
       "      <td>Yashpal Sharma</td>\n",
       "    </tr>\n",
       "    <tr>\n",
       "      <th>4</th>\n",
       "      <td>?: A Question Mark</td>\n",
       "      <td>(2012)</td>\n",
       "      <td>82 min</td>\n",
       "      <td>Horror, Mystery, Thriller</td>\n",
       "      <td>5.6</td>\n",
       "      <td>326</td>\n",
       "      <td>Allyson Patel</td>\n",
       "      <td>Yash Dave</td>\n",
       "      <td>Muntazir Ahmad</td>\n",
       "      <td>Kiran Bhatia</td>\n",
       "    </tr>\n",
       "    <tr>\n",
       "      <th>...</th>\n",
       "      <td>...</td>\n",
       "      <td>...</td>\n",
       "      <td>...</td>\n",
       "      <td>...</td>\n",
       "      <td>...</td>\n",
       "      <td>...</td>\n",
       "      <td>...</td>\n",
       "      <td>...</td>\n",
       "      <td>...</td>\n",
       "      <td>...</td>\n",
       "    </tr>\n",
       "    <tr>\n",
       "      <th>5654</th>\n",
       "      <td>Zubaan</td>\n",
       "      <td>(2015)</td>\n",
       "      <td>115 min</td>\n",
       "      <td>Drama</td>\n",
       "      <td>6.1</td>\n",
       "      <td>408</td>\n",
       "      <td>Mozez Singh</td>\n",
       "      <td>Vicky Kaushal</td>\n",
       "      <td>Sarah Jane Dias</td>\n",
       "      <td>Raaghavv Chanana</td>\n",
       "    </tr>\n",
       "    <tr>\n",
       "      <th>5655</th>\n",
       "      <td>Zubeidaa</td>\n",
       "      <td>(2001)</td>\n",
       "      <td>153 min</td>\n",
       "      <td>Biography, Drama, History</td>\n",
       "      <td>6.2</td>\n",
       "      <td>1,496</td>\n",
       "      <td>Shyam Benegal</td>\n",
       "      <td>Karisma Kapoor</td>\n",
       "      <td>Rekha</td>\n",
       "      <td>Manoj Bajpayee</td>\n",
       "    </tr>\n",
       "    <tr>\n",
       "      <th>5656</th>\n",
       "      <td>Zulm Ki Zanjeer</td>\n",
       "      <td>(1989)</td>\n",
       "      <td>125 min</td>\n",
       "      <td>Action, Crime, Drama</td>\n",
       "      <td>5.8</td>\n",
       "      <td>44</td>\n",
       "      <td>S.P. Muthuraman</td>\n",
       "      <td>Chiranjeevi</td>\n",
       "      <td>Jayamalini</td>\n",
       "      <td>Rajinikanth</td>\n",
       "    </tr>\n",
       "    <tr>\n",
       "      <th>5657</th>\n",
       "      <td>Zulmi</td>\n",
       "      <td>(1999)</td>\n",
       "      <td>129 min</td>\n",
       "      <td>Action, Drama</td>\n",
       "      <td>4.5</td>\n",
       "      <td>655</td>\n",
       "      <td>Kuku Kohli</td>\n",
       "      <td>Akshay Kumar</td>\n",
       "      <td>Twinkle Khanna</td>\n",
       "      <td>Aruna Irani</td>\n",
       "    </tr>\n",
       "    <tr>\n",
       "      <th>5658</th>\n",
       "      <td>Zulm-O-Sitam</td>\n",
       "      <td>(1998)</td>\n",
       "      <td>130 min</td>\n",
       "      <td>Action, Drama</td>\n",
       "      <td>6.2</td>\n",
       "      <td>20</td>\n",
       "      <td>K.C. Bokadia</td>\n",
       "      <td>Dharmendra</td>\n",
       "      <td>Jaya Prada</td>\n",
       "      <td>Arjun Sarja</td>\n",
       "    </tr>\n",
       "  </tbody>\n",
       "</table>\n",
       "<p>5659 rows × 10 columns</p>\n",
       "</div>"
      ],
      "text/plain": [
       "                                   title    year duration  \\\n",
       "0     #Gadhvi (He thought he was Gandhi)  (2019)  109 min   \n",
       "1                                #Yaaram  (2019)  110 min   \n",
       "2                   ...Aur Pyaar Ho Gaya  (1997)  147 min   \n",
       "3                              ...Yahaan  (2005)  142 min   \n",
       "4                     ?: A Question Mark  (2012)   82 min   \n",
       "...                                  ...     ...      ...   \n",
       "5654                              Zubaan  (2015)  115 min   \n",
       "5655                            Zubeidaa  (2001)  153 min   \n",
       "5656                     Zulm Ki Zanjeer  (1989)  125 min   \n",
       "5657                               Zulmi  (1999)  129 min   \n",
       "5658                        Zulm-O-Sitam  (1998)  130 min   \n",
       "\n",
       "                          genre  rating  votes         director  \\\n",
       "0                         Drama     7.0      8    Gaurav Bakshi   \n",
       "1               Comedy, Romance     4.4     35       Ovais Khan   \n",
       "2        Comedy, Drama, Musical     4.7    827     Rahul Rawail   \n",
       "3           Drama, Romance, War     7.4  1,086   Shoojit Sircar   \n",
       "4     Horror, Mystery, Thriller     5.6    326    Allyson Patel   \n",
       "...                         ...     ...    ...              ...   \n",
       "5654                      Drama     6.1    408      Mozez Singh   \n",
       "5655  Biography, Drama, History     6.2  1,496    Shyam Benegal   \n",
       "5656       Action, Crime, Drama     5.8     44  S.P. Muthuraman   \n",
       "5657              Action, Drama     4.5    655       Kuku Kohli   \n",
       "5658              Action, Drama     6.2     20     K.C. Bokadia   \n",
       "\n",
       "               actor1                  actor2            actor3  \n",
       "0        Rasika Dugal          Vivek Ghamande     Arvind Jangid  \n",
       "1             Prateik              Ishita Raj   Siddhant Kapoor  \n",
       "2          Bobby Deol  Aishwarya Rai Bachchan     Shammi Kapoor  \n",
       "3     Jimmy Sheirgill          Minissha Lamba    Yashpal Sharma  \n",
       "4           Yash Dave          Muntazir Ahmad      Kiran Bhatia  \n",
       "...               ...                     ...               ...  \n",
       "5654    Vicky Kaushal         Sarah Jane Dias  Raaghavv Chanana  \n",
       "5655   Karisma Kapoor                   Rekha    Manoj Bajpayee  \n",
       "5656      Chiranjeevi              Jayamalini       Rajinikanth  \n",
       "5657     Akshay Kumar          Twinkle Khanna       Aruna Irani  \n",
       "5658       Dharmendra              Jaya Prada       Arjun Sarja  \n",
       "\n",
       "[5659 rows x 10 columns]"
      ]
     },
     "execution_count": 17,
     "metadata": {},
     "output_type": "execute_result"
    }
   ],
   "source": [
    "df"
   ]
  },
  {
   "cell_type": "code",
   "execution_count": 18,
   "id": "059c50d7",
   "metadata": {},
   "outputs": [
    {
     "data": {
      "text/plain": [
       "title       0\n",
       "year        0\n",
       "duration    0\n",
       "genre       0\n",
       "rating      0\n",
       "votes       0\n",
       "director    0\n",
       "actor1      0\n",
       "actor2      0\n",
       "actor3      0\n",
       "dtype: int64"
      ]
     },
     "execution_count": 18,
     "metadata": {},
     "output_type": "execute_result"
    }
   ],
   "source": [
    "df.isnull().sum()"
   ]
  },
  {
   "cell_type": "code",
   "execution_count": 19,
   "id": "831458bb",
   "metadata": {},
   "outputs": [
    {
     "data": {
      "text/plain": [
       "(5659, 10)"
      ]
     },
     "execution_count": 19,
     "metadata": {},
     "output_type": "execute_result"
    }
   ],
   "source": [
    "df.shape"
   ]
  },
  {
   "cell_type": "markdown",
   "id": "ce441b64",
   "metadata": {},
   "source": [
    "There are 5659 rows remaining after the null values are eliminated."
   ]
  },
  {
   "cell_type": "markdown",
   "id": "6857a855",
   "metadata": {},
   "source": [
    "# Combine all the actors in a single column"
   ]
  },
  {
   "cell_type": "markdown",
   "id": "e146c528",
   "metadata": {},
   "source": [
    "* For visualization, we are combining all the actors. Before modelling, we will remove this column."
   ]
  },
  {
   "cell_type": "code",
   "execution_count": 20,
   "id": "4d3f9d11",
   "metadata": {},
   "outputs": [],
   "source": [
    "df['actors'] = df['actor1'] + ', ' + df['actor2'] + ', ' + df['actor3']"
   ]
  },
  {
   "cell_type": "code",
   "execution_count": 21,
   "id": "bd9c907a",
   "metadata": {},
   "outputs": [
    {
     "data": {
      "text/html": [
       "<div>\n",
       "<style scoped>\n",
       "    .dataframe tbody tr th:only-of-type {\n",
       "        vertical-align: middle;\n",
       "    }\n",
       "\n",
       "    .dataframe tbody tr th {\n",
       "        vertical-align: top;\n",
       "    }\n",
       "\n",
       "    .dataframe thead th {\n",
       "        text-align: right;\n",
       "    }\n",
       "</style>\n",
       "<table border=\"1\" class=\"dataframe\">\n",
       "  <thead>\n",
       "    <tr style=\"text-align: right;\">\n",
       "      <th></th>\n",
       "      <th>title</th>\n",
       "      <th>year</th>\n",
       "      <th>duration</th>\n",
       "      <th>genre</th>\n",
       "      <th>rating</th>\n",
       "      <th>votes</th>\n",
       "      <th>director</th>\n",
       "      <th>actor1</th>\n",
       "      <th>actor2</th>\n",
       "      <th>actor3</th>\n",
       "      <th>actors</th>\n",
       "    </tr>\n",
       "  </thead>\n",
       "  <tbody>\n",
       "    <tr>\n",
       "      <th>0</th>\n",
       "      <td>#Gadhvi (He thought he was Gandhi)</td>\n",
       "      <td>(2019)</td>\n",
       "      <td>109 min</td>\n",
       "      <td>Drama</td>\n",
       "      <td>7.0</td>\n",
       "      <td>8</td>\n",
       "      <td>Gaurav Bakshi</td>\n",
       "      <td>Rasika Dugal</td>\n",
       "      <td>Vivek Ghamande</td>\n",
       "      <td>Arvind Jangid</td>\n",
       "      <td>Rasika Dugal, Vivek Ghamande, Arvind Jangid</td>\n",
       "    </tr>\n",
       "    <tr>\n",
       "      <th>1</th>\n",
       "      <td>#Yaaram</td>\n",
       "      <td>(2019)</td>\n",
       "      <td>110 min</td>\n",
       "      <td>Comedy, Romance</td>\n",
       "      <td>4.4</td>\n",
       "      <td>35</td>\n",
       "      <td>Ovais Khan</td>\n",
       "      <td>Prateik</td>\n",
       "      <td>Ishita Raj</td>\n",
       "      <td>Siddhant Kapoor</td>\n",
       "      <td>Prateik, Ishita Raj, Siddhant Kapoor</td>\n",
       "    </tr>\n",
       "    <tr>\n",
       "      <th>2</th>\n",
       "      <td>...Aur Pyaar Ho Gaya</td>\n",
       "      <td>(1997)</td>\n",
       "      <td>147 min</td>\n",
       "      <td>Comedy, Drama, Musical</td>\n",
       "      <td>4.7</td>\n",
       "      <td>827</td>\n",
       "      <td>Rahul Rawail</td>\n",
       "      <td>Bobby Deol</td>\n",
       "      <td>Aishwarya Rai Bachchan</td>\n",
       "      <td>Shammi Kapoor</td>\n",
       "      <td>Bobby Deol, Aishwarya Rai Bachchan, Shammi Kapoor</td>\n",
       "    </tr>\n",
       "    <tr>\n",
       "      <th>3</th>\n",
       "      <td>...Yahaan</td>\n",
       "      <td>(2005)</td>\n",
       "      <td>142 min</td>\n",
       "      <td>Drama, Romance, War</td>\n",
       "      <td>7.4</td>\n",
       "      <td>1,086</td>\n",
       "      <td>Shoojit Sircar</td>\n",
       "      <td>Jimmy Sheirgill</td>\n",
       "      <td>Minissha Lamba</td>\n",
       "      <td>Yashpal Sharma</td>\n",
       "      <td>Jimmy Sheirgill, Minissha Lamba, Yashpal Sharma</td>\n",
       "    </tr>\n",
       "    <tr>\n",
       "      <th>4</th>\n",
       "      <td>?: A Question Mark</td>\n",
       "      <td>(2012)</td>\n",
       "      <td>82 min</td>\n",
       "      <td>Horror, Mystery, Thriller</td>\n",
       "      <td>5.6</td>\n",
       "      <td>326</td>\n",
       "      <td>Allyson Patel</td>\n",
       "      <td>Yash Dave</td>\n",
       "      <td>Muntazir Ahmad</td>\n",
       "      <td>Kiran Bhatia</td>\n",
       "      <td>Yash Dave, Muntazir Ahmad, Kiran Bhatia</td>\n",
       "    </tr>\n",
       "  </tbody>\n",
       "</table>\n",
       "</div>"
      ],
      "text/plain": [
       "                                title    year duration  \\\n",
       "0  #Gadhvi (He thought he was Gandhi)  (2019)  109 min   \n",
       "1                             #Yaaram  (2019)  110 min   \n",
       "2                ...Aur Pyaar Ho Gaya  (1997)  147 min   \n",
       "3                           ...Yahaan  (2005)  142 min   \n",
       "4                  ?: A Question Mark  (2012)   82 min   \n",
       "\n",
       "                       genre  rating  votes        director           actor1  \\\n",
       "0                      Drama     7.0      8   Gaurav Bakshi     Rasika Dugal   \n",
       "1            Comedy, Romance     4.4     35      Ovais Khan          Prateik   \n",
       "2     Comedy, Drama, Musical     4.7    827    Rahul Rawail       Bobby Deol   \n",
       "3        Drama, Romance, War     7.4  1,086  Shoojit Sircar  Jimmy Sheirgill   \n",
       "4  Horror, Mystery, Thriller     5.6    326   Allyson Patel        Yash Dave   \n",
       "\n",
       "                   actor2           actor3  \\\n",
       "0          Vivek Ghamande    Arvind Jangid   \n",
       "1              Ishita Raj  Siddhant Kapoor   \n",
       "2  Aishwarya Rai Bachchan    Shammi Kapoor   \n",
       "3          Minissha Lamba   Yashpal Sharma   \n",
       "4          Muntazir Ahmad     Kiran Bhatia   \n",
       "\n",
       "                                              actors  \n",
       "0        Rasika Dugal, Vivek Ghamande, Arvind Jangid  \n",
       "1               Prateik, Ishita Raj, Siddhant Kapoor  \n",
       "2  Bobby Deol, Aishwarya Rai Bachchan, Shammi Kapoor  \n",
       "3    Jimmy Sheirgill, Minissha Lamba, Yashpal Sharma  \n",
       "4            Yash Dave, Muntazir Ahmad, Kiran Bhatia  "
      ]
     },
     "execution_count": 21,
     "metadata": {},
     "output_type": "execute_result"
    }
   ],
   "source": [
    "df.head()"
   ]
  },
  {
   "cell_type": "markdown",
   "id": "fed02131",
   "metadata": {},
   "source": [
    "# Check for duplicates"
   ]
  },
  {
   "cell_type": "code",
   "execution_count": 22,
   "id": "36a1c5b1",
   "metadata": {},
   "outputs": [
    {
     "data": {
      "text/plain": [
       "0"
      ]
     },
     "execution_count": 22,
     "metadata": {},
     "output_type": "execute_result"
    }
   ],
   "source": [
    "df.duplicated().sum()"
   ]
  },
  {
   "cell_type": "markdown",
   "id": "828abe39",
   "metadata": {},
   "source": [
    "\n",
    "There are no duplicate rows in this dataset."
   ]
  },
  {
   "cell_type": "markdown",
   "id": "dad39636",
   "metadata": {},
   "source": [
    "# Remove unwanted symbols from the columns"
   ]
  },
  {
   "cell_type": "code",
   "execution_count": 23,
   "id": "30f27f44",
   "metadata": {},
   "outputs": [],
   "source": [
    "# Remove ',' from  votes column\n",
    "df['votes'] = df['votes'].str.replace(',', '')\n",
    "\n",
    "#Extracting only the text part from the Name column\n",
    "df['title'] = df['title'].str.extract('([A-Za-z\\s\\'\\-]+)')\n",
    "\n",
    "# Replacing the brackets from year column\n",
    "df['year'] = df['year'].str.replace(r'[()]', '', regex=True)\n",
    "\n",
    "# Replacing the 'min'\n",
    "df['duration'] = df['duration'].str.replace(r' min', '', regex=True)\n",
    "\n"
   ]
  },
  {
   "cell_type": "code",
   "execution_count": 24,
   "id": "c73fe1c4",
   "metadata": {},
   "outputs": [
    {
     "data": {
      "text/html": [
       "<div>\n",
       "<style scoped>\n",
       "    .dataframe tbody tr th:only-of-type {\n",
       "        vertical-align: middle;\n",
       "    }\n",
       "\n",
       "    .dataframe tbody tr th {\n",
       "        vertical-align: top;\n",
       "    }\n",
       "\n",
       "    .dataframe thead th {\n",
       "        text-align: right;\n",
       "    }\n",
       "</style>\n",
       "<table border=\"1\" class=\"dataframe\">\n",
       "  <thead>\n",
       "    <tr style=\"text-align: right;\">\n",
       "      <th></th>\n",
       "      <th>title</th>\n",
       "      <th>year</th>\n",
       "      <th>duration</th>\n",
       "      <th>genre</th>\n",
       "      <th>rating</th>\n",
       "      <th>votes</th>\n",
       "      <th>director</th>\n",
       "      <th>actor1</th>\n",
       "      <th>actor2</th>\n",
       "      <th>actor3</th>\n",
       "      <th>actors</th>\n",
       "    </tr>\n",
       "  </thead>\n",
       "  <tbody>\n",
       "    <tr>\n",
       "      <th>0</th>\n",
       "      <td>Gadhvi</td>\n",
       "      <td>2019</td>\n",
       "      <td>109</td>\n",
       "      <td>Drama</td>\n",
       "      <td>7.0</td>\n",
       "      <td>8</td>\n",
       "      <td>Gaurav Bakshi</td>\n",
       "      <td>Rasika Dugal</td>\n",
       "      <td>Vivek Ghamande</td>\n",
       "      <td>Arvind Jangid</td>\n",
       "      <td>Rasika Dugal, Vivek Ghamande, Arvind Jangid</td>\n",
       "    </tr>\n",
       "    <tr>\n",
       "      <th>1</th>\n",
       "      <td>Yaaram</td>\n",
       "      <td>2019</td>\n",
       "      <td>110</td>\n",
       "      <td>Comedy, Romance</td>\n",
       "      <td>4.4</td>\n",
       "      <td>35</td>\n",
       "      <td>Ovais Khan</td>\n",
       "      <td>Prateik</td>\n",
       "      <td>Ishita Raj</td>\n",
       "      <td>Siddhant Kapoor</td>\n",
       "      <td>Prateik, Ishita Raj, Siddhant Kapoor</td>\n",
       "    </tr>\n",
       "    <tr>\n",
       "      <th>2</th>\n",
       "      <td>Aur Pyaar Ho Gaya</td>\n",
       "      <td>1997</td>\n",
       "      <td>147</td>\n",
       "      <td>Comedy, Drama, Musical</td>\n",
       "      <td>4.7</td>\n",
       "      <td>827</td>\n",
       "      <td>Rahul Rawail</td>\n",
       "      <td>Bobby Deol</td>\n",
       "      <td>Aishwarya Rai Bachchan</td>\n",
       "      <td>Shammi Kapoor</td>\n",
       "      <td>Bobby Deol, Aishwarya Rai Bachchan, Shammi Kapoor</td>\n",
       "    </tr>\n",
       "    <tr>\n",
       "      <th>3</th>\n",
       "      <td>Yahaan</td>\n",
       "      <td>2005</td>\n",
       "      <td>142</td>\n",
       "      <td>Drama, Romance, War</td>\n",
       "      <td>7.4</td>\n",
       "      <td>1086</td>\n",
       "      <td>Shoojit Sircar</td>\n",
       "      <td>Jimmy Sheirgill</td>\n",
       "      <td>Minissha Lamba</td>\n",
       "      <td>Yashpal Sharma</td>\n",
       "      <td>Jimmy Sheirgill, Minissha Lamba, Yashpal Sharma</td>\n",
       "    </tr>\n",
       "    <tr>\n",
       "      <th>4</th>\n",
       "      <td>A Question Mark</td>\n",
       "      <td>2012</td>\n",
       "      <td>82</td>\n",
       "      <td>Horror, Mystery, Thriller</td>\n",
       "      <td>5.6</td>\n",
       "      <td>326</td>\n",
       "      <td>Allyson Patel</td>\n",
       "      <td>Yash Dave</td>\n",
       "      <td>Muntazir Ahmad</td>\n",
       "      <td>Kiran Bhatia</td>\n",
       "      <td>Yash Dave, Muntazir Ahmad, Kiran Bhatia</td>\n",
       "    </tr>\n",
       "  </tbody>\n",
       "</table>\n",
       "</div>"
      ],
      "text/plain": [
       "               title  year duration                      genre  rating votes  \\\n",
       "0            Gadhvi   2019      109                      Drama     7.0     8   \n",
       "1             Yaaram  2019      110            Comedy, Romance     4.4    35   \n",
       "2  Aur Pyaar Ho Gaya  1997      147     Comedy, Drama, Musical     4.7   827   \n",
       "3             Yahaan  2005      142        Drama, Romance, War     7.4  1086   \n",
       "4    A Question Mark  2012       82  Horror, Mystery, Thriller     5.6   326   \n",
       "\n",
       "         director           actor1                  actor2           actor3  \\\n",
       "0   Gaurav Bakshi     Rasika Dugal          Vivek Ghamande    Arvind Jangid   \n",
       "1      Ovais Khan          Prateik              Ishita Raj  Siddhant Kapoor   \n",
       "2    Rahul Rawail       Bobby Deol  Aishwarya Rai Bachchan    Shammi Kapoor   \n",
       "3  Shoojit Sircar  Jimmy Sheirgill          Minissha Lamba   Yashpal Sharma   \n",
       "4   Allyson Patel        Yash Dave          Muntazir Ahmad     Kiran Bhatia   \n",
       "\n",
       "                                              actors  \n",
       "0        Rasika Dugal, Vivek Ghamande, Arvind Jangid  \n",
       "1               Prateik, Ishita Raj, Siddhant Kapoor  \n",
       "2  Bobby Deol, Aishwarya Rai Bachchan, Shammi Kapoor  \n",
       "3    Jimmy Sheirgill, Minissha Lamba, Yashpal Sharma  \n",
       "4            Yash Dave, Muntazir Ahmad, Kiran Bhatia  "
      ]
     },
     "execution_count": 24,
     "metadata": {},
     "output_type": "execute_result"
    }
   ],
   "source": [
    "df.head()"
   ]
  },
  {
   "cell_type": "markdown",
   "id": "510251bb",
   "metadata": {},
   "source": [
    "# Check for datatypes"
   ]
  },
  {
   "cell_type": "code",
   "execution_count": 25,
   "id": "28b092de",
   "metadata": {},
   "outputs": [
    {
     "data": {
      "text/plain": [
       "title        object\n",
       "year         object\n",
       "duration     object\n",
       "genre        object\n",
       "rating      float64\n",
       "votes        object\n",
       "director     object\n",
       "actor1       object\n",
       "actor2       object\n",
       "actor3       object\n",
       "actors       object\n",
       "dtype: object"
      ]
     },
     "execution_count": 25,
     "metadata": {},
     "output_type": "execute_result"
    }
   ],
   "source": [
    "df.dtypes"
   ]
  },
  {
   "cell_type": "markdown",
   "id": "ca5a52d3",
   "metadata": {},
   "source": [
    "We need to change the datatype of below mentioned columns:\n",
    "\n",
    "year --> int\n",
    "\n",
    "duration --> int\n",
    "\n",
    "votes --> int"
   ]
  },
  {
   "cell_type": "code",
   "execution_count": 26,
   "id": "5a1399c8",
   "metadata": {},
   "outputs": [],
   "source": [
    "df['year'] = df['year'].astype('int32')\n",
    "df['duration'] = df['duration'].astype('int32')\n",
    "df['votes'] = df['votes'].astype('int32')"
   ]
  },
  {
   "cell_type": "code",
   "execution_count": 27,
   "id": "58e6eb12",
   "metadata": {},
   "outputs": [
    {
     "data": {
      "text/plain": [
       "Index(['title', 'year', 'duration', 'genre', 'rating', 'votes', 'director',\n",
       "       'actor1', 'actor2', 'actor3', 'actors'],\n",
       "      dtype='object')"
      ]
     },
     "execution_count": 27,
     "metadata": {},
     "output_type": "execute_result"
    }
   ],
   "source": [
    "df.columns"
   ]
  },
  {
   "cell_type": "markdown",
   "id": "91634287",
   "metadata": {},
   "source": [
    "# Rearrange Columns"
   ]
  },
  {
   "cell_type": "code",
   "execution_count": 28,
   "id": "52c8cede",
   "metadata": {},
   "outputs": [],
   "source": [
    "df = df[['title', 'genre', 'director', 'actors', 'actor1', 'actor2', 'actor3', 'year', 'duration', 'votes', 'rating' ]]"
   ]
  },
  {
   "cell_type": "code",
   "execution_count": 29,
   "id": "9d88f32d",
   "metadata": {},
   "outputs": [
    {
     "data": {
      "text/html": [
       "<div>\n",
       "<style scoped>\n",
       "    .dataframe tbody tr th:only-of-type {\n",
       "        vertical-align: middle;\n",
       "    }\n",
       "\n",
       "    .dataframe tbody tr th {\n",
       "        vertical-align: top;\n",
       "    }\n",
       "\n",
       "    .dataframe thead th {\n",
       "        text-align: right;\n",
       "    }\n",
       "</style>\n",
       "<table border=\"1\" class=\"dataframe\">\n",
       "  <thead>\n",
       "    <tr style=\"text-align: right;\">\n",
       "      <th></th>\n",
       "      <th>title</th>\n",
       "      <th>genre</th>\n",
       "      <th>director</th>\n",
       "      <th>actors</th>\n",
       "      <th>actor1</th>\n",
       "      <th>actor2</th>\n",
       "      <th>actor3</th>\n",
       "      <th>year</th>\n",
       "      <th>duration</th>\n",
       "      <th>votes</th>\n",
       "      <th>rating</th>\n",
       "    </tr>\n",
       "  </thead>\n",
       "  <tbody>\n",
       "    <tr>\n",
       "      <th>0</th>\n",
       "      <td>Gadhvi</td>\n",
       "      <td>Drama</td>\n",
       "      <td>Gaurav Bakshi</td>\n",
       "      <td>Rasika Dugal, Vivek Ghamande, Arvind Jangid</td>\n",
       "      <td>Rasika Dugal</td>\n",
       "      <td>Vivek Ghamande</td>\n",
       "      <td>Arvind Jangid</td>\n",
       "      <td>2019</td>\n",
       "      <td>109</td>\n",
       "      <td>8</td>\n",
       "      <td>7.0</td>\n",
       "    </tr>\n",
       "    <tr>\n",
       "      <th>1</th>\n",
       "      <td>Yaaram</td>\n",
       "      <td>Comedy, Romance</td>\n",
       "      <td>Ovais Khan</td>\n",
       "      <td>Prateik, Ishita Raj, Siddhant Kapoor</td>\n",
       "      <td>Prateik</td>\n",
       "      <td>Ishita Raj</td>\n",
       "      <td>Siddhant Kapoor</td>\n",
       "      <td>2019</td>\n",
       "      <td>110</td>\n",
       "      <td>35</td>\n",
       "      <td>4.4</td>\n",
       "    </tr>\n",
       "    <tr>\n",
       "      <th>2</th>\n",
       "      <td>Aur Pyaar Ho Gaya</td>\n",
       "      <td>Comedy, Drama, Musical</td>\n",
       "      <td>Rahul Rawail</td>\n",
       "      <td>Bobby Deol, Aishwarya Rai Bachchan, Shammi Kapoor</td>\n",
       "      <td>Bobby Deol</td>\n",
       "      <td>Aishwarya Rai Bachchan</td>\n",
       "      <td>Shammi Kapoor</td>\n",
       "      <td>1997</td>\n",
       "      <td>147</td>\n",
       "      <td>827</td>\n",
       "      <td>4.7</td>\n",
       "    </tr>\n",
       "    <tr>\n",
       "      <th>3</th>\n",
       "      <td>Yahaan</td>\n",
       "      <td>Drama, Romance, War</td>\n",
       "      <td>Shoojit Sircar</td>\n",
       "      <td>Jimmy Sheirgill, Minissha Lamba, Yashpal Sharma</td>\n",
       "      <td>Jimmy Sheirgill</td>\n",
       "      <td>Minissha Lamba</td>\n",
       "      <td>Yashpal Sharma</td>\n",
       "      <td>2005</td>\n",
       "      <td>142</td>\n",
       "      <td>1086</td>\n",
       "      <td>7.4</td>\n",
       "    </tr>\n",
       "    <tr>\n",
       "      <th>4</th>\n",
       "      <td>A Question Mark</td>\n",
       "      <td>Horror, Mystery, Thriller</td>\n",
       "      <td>Allyson Patel</td>\n",
       "      <td>Yash Dave, Muntazir Ahmad, Kiran Bhatia</td>\n",
       "      <td>Yash Dave</td>\n",
       "      <td>Muntazir Ahmad</td>\n",
       "      <td>Kiran Bhatia</td>\n",
       "      <td>2012</td>\n",
       "      <td>82</td>\n",
       "      <td>326</td>\n",
       "      <td>5.6</td>\n",
       "    </tr>\n",
       "  </tbody>\n",
       "</table>\n",
       "</div>"
      ],
      "text/plain": [
       "               title                      genre        director  \\\n",
       "0            Gadhvi                       Drama   Gaurav Bakshi   \n",
       "1             Yaaram            Comedy, Romance      Ovais Khan   \n",
       "2  Aur Pyaar Ho Gaya     Comedy, Drama, Musical    Rahul Rawail   \n",
       "3             Yahaan        Drama, Romance, War  Shoojit Sircar   \n",
       "4    A Question Mark  Horror, Mystery, Thriller   Allyson Patel   \n",
       "\n",
       "                                              actors           actor1  \\\n",
       "0        Rasika Dugal, Vivek Ghamande, Arvind Jangid     Rasika Dugal   \n",
       "1               Prateik, Ishita Raj, Siddhant Kapoor          Prateik   \n",
       "2  Bobby Deol, Aishwarya Rai Bachchan, Shammi Kapoor       Bobby Deol   \n",
       "3    Jimmy Sheirgill, Minissha Lamba, Yashpal Sharma  Jimmy Sheirgill   \n",
       "4            Yash Dave, Muntazir Ahmad, Kiran Bhatia        Yash Dave   \n",
       "\n",
       "                   actor2           actor3  year  duration  votes  rating  \n",
       "0          Vivek Ghamande    Arvind Jangid  2019       109      8     7.0  \n",
       "1              Ishita Raj  Siddhant Kapoor  2019       110     35     4.4  \n",
       "2  Aishwarya Rai Bachchan    Shammi Kapoor  1997       147    827     4.7  \n",
       "3          Minissha Lamba   Yashpal Sharma  2005       142   1086     7.4  \n",
       "4          Muntazir Ahmad     Kiran Bhatia  2012        82    326     5.6  "
      ]
     },
     "execution_count": 29,
     "metadata": {},
     "output_type": "execute_result"
    }
   ],
   "source": [
    "df.head()"
   ]
  },
  {
   "cell_type": "markdown",
   "id": "37a99a57",
   "metadata": {},
   "source": [
    "# 3. Exploratory Data Analysis"
   ]
  },
  {
   "cell_type": "markdown",
   "id": "479a4e35",
   "metadata": {},
   "source": [
    "# * Univariate"
   ]
  },
  {
   "cell_type": "markdown",
   "id": "9759bcd3",
   "metadata": {},
   "source": [
    "# Year"
   ]
  },
  {
   "cell_type": "code",
   "execution_count": 30,
   "id": "c133b9e1",
   "metadata": {},
   "outputs": [
    {
     "data": {
      "text/plain": [
       "(array([ 0,  1,  2,  3,  4,  5,  6,  7,  8,  9, 10, 11, 12, 13, 14, 15, 16,\n",
       "        17, 18, 19, 20, 21, 22, 23, 24, 25, 26, 27, 28, 29, 30, 31, 32, 33,\n",
       "        34, 35, 36, 37, 38, 39, 40, 41, 42, 43, 44, 45, 46, 47, 48, 49, 50,\n",
       "        51, 52, 53, 54, 55, 56, 57, 58, 59, 60, 61, 62, 63, 64, 65, 66, 67,\n",
       "        68, 69, 70, 71, 72, 73, 74, 75, 76, 77, 78, 79, 80, 81, 82, 83, 84,\n",
       "        85, 86, 87, 88, 89, 90]),\n",
       " [Text(0, 0, '1931'),\n",
       "  Text(1, 0, '1932'),\n",
       "  Text(2, 0, '1933'),\n",
       "  Text(3, 0, '1934'),\n",
       "  Text(4, 0, '1935'),\n",
       "  Text(5, 0, '1936'),\n",
       "  Text(6, 0, '1937'),\n",
       "  Text(7, 0, '1938'),\n",
       "  Text(8, 0, '1939'),\n",
       "  Text(9, 0, '1940'),\n",
       "  Text(10, 0, '1941'),\n",
       "  Text(11, 0, '1942'),\n",
       "  Text(12, 0, '1943'),\n",
       "  Text(13, 0, '1944'),\n",
       "  Text(14, 0, '1945'),\n",
       "  Text(15, 0, '1946'),\n",
       "  Text(16, 0, '1947'),\n",
       "  Text(17, 0, '1948'),\n",
       "  Text(18, 0, '1949'),\n",
       "  Text(19, 0, '1950'),\n",
       "  Text(20, 0, '1951'),\n",
       "  Text(21, 0, '1952'),\n",
       "  Text(22, 0, '1953'),\n",
       "  Text(23, 0, '1954'),\n",
       "  Text(24, 0, '1955'),\n",
       "  Text(25, 0, '1956'),\n",
       "  Text(26, 0, '1957'),\n",
       "  Text(27, 0, '1958'),\n",
       "  Text(28, 0, '1959'),\n",
       "  Text(29, 0, '1960'),\n",
       "  Text(30, 0, '1961'),\n",
       "  Text(31, 0, '1962'),\n",
       "  Text(32, 0, '1963'),\n",
       "  Text(33, 0, '1964'),\n",
       "  Text(34, 0, '1965'),\n",
       "  Text(35, 0, '1966'),\n",
       "  Text(36, 0, '1967'),\n",
       "  Text(37, 0, '1968'),\n",
       "  Text(38, 0, '1969'),\n",
       "  Text(39, 0, '1970'),\n",
       "  Text(40, 0, '1971'),\n",
       "  Text(41, 0, '1972'),\n",
       "  Text(42, 0, '1973'),\n",
       "  Text(43, 0, '1974'),\n",
       "  Text(44, 0, '1975'),\n",
       "  Text(45, 0, '1976'),\n",
       "  Text(46, 0, '1977'),\n",
       "  Text(47, 0, '1978'),\n",
       "  Text(48, 0, '1979'),\n",
       "  Text(49, 0, '1980'),\n",
       "  Text(50, 0, '1981'),\n",
       "  Text(51, 0, '1982'),\n",
       "  Text(52, 0, '1983'),\n",
       "  Text(53, 0, '1984'),\n",
       "  Text(54, 0, '1985'),\n",
       "  Text(55, 0, '1986'),\n",
       "  Text(56, 0, '1987'),\n",
       "  Text(57, 0, '1988'),\n",
       "  Text(58, 0, '1989'),\n",
       "  Text(59, 0, '1990'),\n",
       "  Text(60, 0, '1991'),\n",
       "  Text(61, 0, '1992'),\n",
       "  Text(62, 0, '1993'),\n",
       "  Text(63, 0, '1994'),\n",
       "  Text(64, 0, '1995'),\n",
       "  Text(65, 0, '1996'),\n",
       "  Text(66, 0, '1997'),\n",
       "  Text(67, 0, '1998'),\n",
       "  Text(68, 0, '1999'),\n",
       "  Text(69, 0, '2000'),\n",
       "  Text(70, 0, '2001'),\n",
       "  Text(71, 0, '2002'),\n",
       "  Text(72, 0, '2003'),\n",
       "  Text(73, 0, '2004'),\n",
       "  Text(74, 0, '2005'),\n",
       "  Text(75, 0, '2006'),\n",
       "  Text(76, 0, '2007'),\n",
       "  Text(77, 0, '2008'),\n",
       "  Text(78, 0, '2009'),\n",
       "  Text(79, 0, '2010'),\n",
       "  Text(80, 0, '2011'),\n",
       "  Text(81, 0, '2012'),\n",
       "  Text(82, 0, '2013'),\n",
       "  Text(83, 0, '2014'),\n",
       "  Text(84, 0, '2015'),\n",
       "  Text(85, 0, '2016'),\n",
       "  Text(86, 0, '2017'),\n",
       "  Text(87, 0, '2018'),\n",
       "  Text(88, 0, '2019'),\n",
       "  Text(89, 0, '2020'),\n",
       "  Text(90, 0, '2021')])"
      ]
     },
     "execution_count": 30,
     "metadata": {},
     "output_type": "execute_result"
    },
    {
     "data": {
      "image/png": "[encoded data removed]",
      "text/plain": [
       "<Figure size 1800x600 with 1 Axes>"
      ]
     },
     "metadata": {},
     "output_type": "display_data"
    }
   ],
   "source": [
    "plt.figure(figsize = (18,6))\n",
    "sns.countplot(data = df, x = 'year')\n",
    "plt.xticks(rotation = 90)"
   ]
  },
  {
   "cell_type": "markdown",
   "id": "79dbde9d",
   "metadata": {},
   "source": [
    "Analysis:\n",
    "    \n",
    "    1. The dataset's maximum number of movies are from the year 2019."
   ]
  },
  {
   "cell_type": "markdown",
   "id": "3bf025a1",
   "metadata": {},
   "source": [
    "# Duration"
   ]
  },
  {
   "cell_type": "code",
   "execution_count": 31,
   "id": "f25b3a89",
   "metadata": {},
   "outputs": [
    {
     "data": {
      "text/plain": [
       "<Axes: xlabel='duration', ylabel='Count'>"
      ]
     },
     "execution_count": 31,
     "metadata": {},
     "output_type": "execute_result"
    },
    {
     "data": {
      "image/png": "[encoded data removed]",
      "text/plain": [
       "<Figure size 1000x500 with 1 Axes>"
      ]
     },
     "metadata": {},
     "output_type": "display_data"
    }
   ],
   "source": [
    "plt.figure(figsize = (10, 5))\n",
    "sns.histplot(data = df, x = 'duration', kde = True)"
   ]
  },
  {
   "cell_type": "markdown",
   "id": "7b262f6c",
   "metadata": {},
   "source": [
    "Analysis:\n",
    "    \n",
    "    1. The duration of movies follow normal distribution.\n",
    "    \n",
    "    2. It appears that there are a few anomalies as well.\n",
    "    \n",
    "    3. The majority of the movies have a runtime of 120 to 160 minutes."
   ]
  },
  {
   "cell_type": "markdown",
   "id": "85873837",
   "metadata": {},
   "source": [
    "# Rating"
   ]
  },
  {
   "cell_type": "code",
   "execution_count": 32,
   "id": "7a1b85dc",
   "metadata": {},
   "outputs": [
    {
     "data": {
      "text/plain": [
       "<Axes: xlabel='rating', ylabel='Count'>"
      ]
     },
     "execution_count": 32,
     "metadata": {},
     "output_type": "execute_result"
    },
    {
     "data": {
      "image/png": "[encoded data removed]",
      "text/plain": [
       "<Figure size 640x480 with 1 Axes>"
      ]
     },
     "metadata": {},
     "output_type": "display_data"
    }
   ],
   "source": [
    "sns.histplot(df['rating'], kde = True)"
   ]
  },
  {
   "cell_type": "markdown",
   "id": "681556ec",
   "metadata": {},
   "source": [
    "Analysis:\n",
    "    \n",
    "    1. The majority of the films are rated between five and seven.\n",
    "    \n",
    "    2. It almost follows a Gaussian distribution.  "
   ]
  },
  {
   "cell_type": "markdown",
   "id": "43cf0357",
   "metadata": {},
   "source": [
    "# Votes"
   ]
  },
  {
   "cell_type": "code",
   "execution_count": 33,
   "id": "f836ce0a",
   "metadata": {},
   "outputs": [
    {
     "data": {
      "text/plain": [
       "<Axes: >"
      ]
     },
     "execution_count": 33,
     "metadata": {},
     "output_type": "execute_result"
    },
    {
     "data": {
      "image/png": "[encoded data removed]",
      "text/plain": [
       "<Figure size 640x480 with 1 Axes>"
      ]
     },
     "metadata": {},
     "output_type": "display_data"
    }
   ],
   "source": [
    "sns.boxplot(df['votes'])"
   ]
  },
  {
   "cell_type": "markdown",
   "id": "2db45e51",
   "metadata": {},
   "source": [
    "Analysis:\n",
    "    \n",
    "    There are many outliers in the votes column."
   ]
  },
  {
   "cell_type": "markdown",
   "id": "3948d96d",
   "metadata": {},
   "source": [
    "# Most Frequent Genres"
   ]
  },
  {
   "cell_type": "code",
   "execution_count": 34,
   "id": "23e35544",
   "metadata": {},
   "outputs": [],
   "source": [
    "from collections import Counter\n",
    "\n",
    "# Split the genres and create a list of all genres\n",
    "genres = [i.split(', ') for i in df['genre']]\n",
    "\n",
    "# Flatten the list of lists into a single list\n",
    "genres_flatten = [j for i in genres for j in i]\n",
    "\n",
    "# Count the occurrence of each genre\n",
    "counts = Counter(genres_flatten)\n",
    "\n",
    "# Get the top 10 genres\n",
    "top_genres = counts.most_common(10)"
   ]
  },
  {
   "cell_type": "code",
   "execution_count": 35,
   "id": "ab81ece8",
   "metadata": {},
   "outputs": [
    {
     "data": {
      "text/plain": [
       "[('Drama', 3796),\n",
       " ('Action', 1686),\n",
       " ('Romance', 1380),\n",
       " ('Comedy', 1344),\n",
       " ('Crime', 875),\n",
       " ('Thriller', 679),\n",
       " ('Family', 416),\n",
       " ('Musical', 412),\n",
       " ('Mystery', 304),\n",
       " ('Adventure', 277)]"
      ]
     },
     "execution_count": 35,
     "metadata": {},
     "output_type": "execute_result"
    }
   ],
   "source": [
    "top_genres"
   ]
  },
  {
   "cell_type": "code",
   "execution_count": 36,
   "id": "2bbb9183",
   "metadata": {},
   "outputs": [
    {
     "data": {
      "image/png": "[encoded data removed]",
      "text/plain": [
       "<Figure size 1200x600 with 1 Axes>"
      ]
     },
     "metadata": {},
     "output_type": "display_data"
    }
   ],
   "source": [
    "genre, count = zip(*top_genres)\n",
    "\n",
    "# Plotting the bar chart\n",
    "plt.figure(figsize=(12, 6))\n",
    "plt.bar(genre, count, color='red')\n",
    "plt.title('Top 10 Frequent Genres')\n",
    "plt.xlabel('Genres')\n",
    "plt.ylabel('Frequency')\n",
    "plt.xticks(rotation=45)\n",
    "plt.show()"
   ]
  },
  {
   "cell_type": "markdown",
   "id": "5c5e0889",
   "metadata": {},
   "source": [
    "# Actors"
   ]
  },
  {
   "cell_type": "code",
   "execution_count": 37,
   "id": "c02b6a32",
   "metadata": {},
   "outputs": [
    {
     "name": "stdout",
     "output_type": "stream",
     "text": [
      "[('Mithun Chakraborty', 160), ('Amitabh Bachchan', 148), ('Dharmendra', 146), ('Ashok Kumar', 124), ('Akshay Kumar', 120), ('Shashi Kapoor', 117), ('Jeetendra', 116), ('Sanjay Dutt', 101), ('Rekha', 92), ('Ajay Devgn', 92)]\n"
     ]
    }
   ],
   "source": [
    "actors_dict = {}\n",
    "\n",
    "for i in df['actors']:\n",
    "    actors_list = i.split(\", \")\n",
    "    for j in actors_list:\n",
    "        actors_dict[j] = actors_dict.get(j, 0) + 1\n",
    "\n",
    "# Sorting the actors based on maximum number of movies\n",
    "sorted_actors = sorted(actors_dict.items(), key = lambda x: x[1], reverse=True)\n",
    "\n",
    "# Extracting top 10 genres\n",
    "max_movies = sorted_actors[:10]\n",
    "\n",
    "print(max_movies)"
   ]
  },
  {
   "cell_type": "code",
   "execution_count": 38,
   "id": "9fc9885f",
   "metadata": {},
   "outputs": [
    {
     "data": {
      "image/png": "[encoded data removed]",
      "text/plain": [
       "<Figure size 1000x600 with 1 Axes>"
      ]
     },
     "metadata": {},
     "output_type": "display_data"
    }
   ],
   "source": [
    "top_actors = []\n",
    "number_of_movies = []\n",
    "\n",
    "for actor, number in max_movies:\n",
    "    top_actors.append(actor)\n",
    "    number_of_movies.append(number)\n",
    "\n",
    "# Creating a bar plot\n",
    "plt.figure(figsize=(10, 6))\n",
    "plt.bar(top_actors, number_of_movies, color='purple')\n",
    "plt.xlabel('Actors')\n",
    "plt.ylabel('Total Number Of Movies')\n",
    "plt.title('Top 10 Actors who did maximum movies')\n",
    "plt.xticks(rotation = 90)\n",
    "plt.tight_layout()\n",
    "plt.show()"
   ]
  },
  {
   "cell_type": "markdown",
   "id": "1cc28966",
   "metadata": {},
   "source": [
    "# * Bivariate"
   ]
  },
  {
   "cell_type": "markdown",
   "id": "f42f6419",
   "metadata": {},
   "source": [
    "# Top 10 Directors  By Rating"
   ]
  },
  {
   "cell_type": "code",
   "execution_count": 39,
   "id": "48449534",
   "metadata": {},
   "outputs": [],
   "source": [
    "top_directors = df.groupby('director')['rating'].mean().sort_values(ascending=False).head(10)"
   ]
  },
  {
   "cell_type": "code",
   "execution_count": 40,
   "id": "72dca48e",
   "metadata": {},
   "outputs": [
    {
     "data": {
      "text/plain": [
       "director\n",
       "Saif Ali Sayeed    10.0\n",
       "Sriram Raja         9.7\n",
       "Munni Pankaj        9.4\n",
       "Suhrud Godbole      9.4\n",
       "Arvind Pratap       9.4\n",
       "Venkatesh Bk        9.3\n",
       "Sapna Bhavnani      9.3\n",
       "Vishwa Bhanu        9.3\n",
       "Rahul Mallick       9.3\n",
       "Gautam Joshi        9.3\n",
       "Name: rating, dtype: float64"
      ]
     },
     "execution_count": 40,
     "metadata": {},
     "output_type": "execute_result"
    }
   ],
   "source": [
    "top_directors"
   ]
  },
  {
   "cell_type": "code",
   "execution_count": 41,
   "id": "aebcb847",
   "metadata": {},
   "outputs": [
    {
     "data": {
      "image/png": "[encoded data removed]",
      "text/plain": [
       "<Figure size 1200x600 with 1 Axes>"
      ]
     },
     "metadata": {},
     "output_type": "display_data"
    }
   ],
   "source": [
    "plt.figure(figsize=(12, 6))\n",
    "top_directors.plot(kind='bar', color='green')\n",
    "plt.title('Top 10 Directors by Rating')\n",
    "plt.xlabel('Director')\n",
    "plt.ylabel('Mean Rating')\n",
    "plt.show()"
   ]
  },
  {
   "cell_type": "markdown",
   "id": "c2d6231e",
   "metadata": {},
   "source": [
    "# Top 10 Directors By Votes"
   ]
  },
  {
   "cell_type": "code",
   "execution_count": 42,
   "id": "cb3f1d75",
   "metadata": {},
   "outputs": [],
   "source": [
    "top_director_votes = df.groupby('director')['votes'].sum().sort_values(ascending=False).head(10)"
   ]
  },
  {
   "cell_type": "code",
   "execution_count": 43,
   "id": "3e248675",
   "metadata": {},
   "outputs": [
    {
     "data": {
      "text/plain": [
       "director\n",
       "Rajkumar Hirani         695141\n",
       "Ang Lee                 591417\n",
       "Karan Johar             252990\n",
       "Prabhu Deva             246108\n",
       "Ashutosh Gowariker      245069\n",
       "Neeraj Pandey           229349\n",
       "Anurag Kashyap          221032\n",
       "Garth Davis             220526\n",
       "Richard Attenborough    220118\n",
       "Nitesh Tiwari           208778\n",
       "Name: votes, dtype: int32"
      ]
     },
     "execution_count": 43,
     "metadata": {},
     "output_type": "execute_result"
    }
   ],
   "source": [
    "top_director_votes"
   ]
  },
  {
   "cell_type": "code",
   "execution_count": 44,
   "id": "f8048b52",
   "metadata": {},
   "outputs": [
    {
     "data": {
      "image/png": "[encoded data removed]",
      "text/plain": [
       "<Figure size 1200x600 with 1 Axes>"
      ]
     },
     "metadata": {},
     "output_type": "display_data"
    }
   ],
   "source": [
    "plt.figure(figsize=(12, 6))\n",
    "top_director_votes.plot(kind='bar', color='blue')\n",
    "plt.title('Top 10 Directors by Votes')\n",
    "plt.xlabel('Director')\n",
    "plt.ylabel('Vote Counts')\n",
    "plt.show()"
   ]
  },
  {
   "cell_type": "markdown",
   "id": "b224a723",
   "metadata": {},
   "source": [
    "# Top 10 Genres By Rating"
   ]
  },
  {
   "cell_type": "code",
   "execution_count": 45,
   "id": "00f3fa78",
   "metadata": {},
   "outputs": [
    {
     "name": "stdout",
     "output_type": "stream",
     "text": [
      "[('News', 8.0), ('Documentary', 7.608333333333334), ('History', 6.905050505050506), ('Biography', 6.7373913043478275), ('Sport', 6.515000000000001), ('Family', 6.32331730769231), ('Musical', 6.246844660194175), ('Animation', 6.0725), ('Music', 6.071698113207546), ('Drama', 6.056743940990524)]\n"
     ]
    }
   ],
   "source": [
    "genre_ratings = {}\n",
    "for i in range(len(df['genre'])):\n",
    "    if isinstance(df['genre'][i], str):\n",
    "        genre_list = df['genre'][i].split(\", \")\n",
    "        for j in genre_list:\n",
    "            if j in genre_ratings:\n",
    "                genre_ratings[j].append(df['rating'][i])\n",
    "            else:\n",
    "                genre_ratings[j] = [df['rating'][i]]\n",
    "\n",
    "# Calculating average rating for each genre\n",
    "for k in genre_ratings:\n",
    "    genre_ratings[k] = sum(genre_ratings[k]) / len(genre_ratings[k])\n",
    "\n",
    "# Sorting the genres based on average rating\n",
    "sorted_genres = sorted(genre_ratings.items(), key = lambda x: x[1], reverse=True)\n",
    "\n",
    "# Extracting top 10 genres\n",
    "top_10_genres = sorted_genres[:10]\n",
    "    \n",
    "print(top_10_genres)"
   ]
  },
  {
   "cell_type": "code",
   "execution_count": 46,
   "id": "55618a9c",
   "metadata": {},
   "outputs": [
    {
     "data": {
      "image/png": "[encoded data removed]",
      "text/plain": [
       "<Figure size 1000x600 with 1 Axes>"
      ]
     },
     "metadata": {},
     "output_type": "display_data"
    }
   ],
   "source": [
    "top_genres = []\n",
    "top_ratings = []\n",
    "\n",
    "for genre, rating in top_10_genres:\n",
    "    top_genres.append(genre)\n",
    "    top_ratings.append(rating)\n",
    "\n",
    "# Creating a bar plot\n",
    "plt.figure(figsize=(10, 6))\n",
    "plt.bar(top_genres, top_ratings, color='skyblue')\n",
    "plt.xlabel('Genres')\n",
    "plt.ylabel('Average Rating')\n",
    "plt.title('Top 10 Genres By Rating')\n",
    "plt.xticks(rotation=45)\n",
    "plt.tight_layout()\n",
    "plt.show()"
   ]
  },
  {
   "cell_type": "markdown",
   "id": "bc9af07d",
   "metadata": {},
   "source": [
    "# Top 10 Actors By Rating"
   ]
  },
  {
   "cell_type": "code",
   "execution_count": 47,
   "id": "f56b46da",
   "metadata": {},
   "outputs": [
    {
     "name": "stdout",
     "output_type": "stream",
     "text": [
      "[('Ahaan Jha', 10.0), ('Mahesh Narayan', 10.0), ('Rajasree Rajakumari', 10.0), ('Raj Banerjee', 9.7), ('Emon Chatterjee', 9.7), ('Purshottam Mulani', 9.7), ('Nishi Neha Mishra', 9.4), ('Pankaj Kamal', 9.4), ('Akash Kumar', 9.4), ('Vaibhav Khisti', 9.4)]\n"
     ]
    }
   ],
   "source": [
    "# Creating dictionaries for counting movies and summing ratings for each actor\n",
    "actors_count = {}\n",
    "actors_sum = {}\n",
    "\n",
    "for i in range(len(df['actors'])):\n",
    "    actors_list = df['actors'][i].split(\", \")\n",
    "    for j in actors_list:\n",
    "        actors_count[j] = actors_count.get(j, 0) + 1\n",
    "        actors_sum[j] = actors_sum.get(j, 0) + df['rating'][i]\n",
    "\n",
    "# Calculate the average rating for each actor\n",
    "average_ratings = {x: actors_sum[x] / actors_count[x] for x in actors_count}\n",
    "\n",
    "# Sorting the actors based on average rating\n",
    "top_10_actors = sorted(average_ratings.items(), key=lambda x: x[1], reverse=True)[:10]\n",
    "\n",
    "print(top_10_actors)"
   ]
  },
  {
   "cell_type": "code",
   "execution_count": 48,
   "id": "053cc0a7",
   "metadata": {},
   "outputs": [
    {
     "data": {
      "image/png": "[encoded data removed]",
      "text/plain": [
       "<Figure size 1200x600 with 1 Axes>"
      ]
     },
     "metadata": {},
     "output_type": "display_data"
    }
   ],
   "source": [
    "top_actors = []\n",
    "avg_ratings = []\n",
    "\n",
    "for actor, rating in top_10_actors:\n",
    "    top_actors.append(actor)\n",
    "    avg_ratings.append(rating)\n",
    "\n",
    "# Creating the bar plot\n",
    "plt.figure(figsize=(12, 6))\n",
    "plt.bar(top_actors, avg_ratings, color='violet')\n",
    "plt.xlabel('Actors')\n",
    "plt.ylabel('Average Rating')\n",
    "plt.title('Top 10 Actors with the Highest Average Rating')\n",
    "plt.xticks(rotation=45)\n",
    "plt.tight_layout()\n",
    "plt.show()"
   ]
  },
  {
   "cell_type": "markdown",
   "id": "a93893c9",
   "metadata": {},
   "source": [
    "# Top 10 Movies By Rating"
   ]
  },
  {
   "cell_type": "code",
   "execution_count": 49,
   "id": "56827830",
   "metadata": {},
   "outputs": [],
   "source": [
    "top_movies = df[['title', 'rating']].sort_values(by='rating', ascending=False).head(10)"
   ]
  },
  {
   "cell_type": "code",
   "execution_count": 50,
   "id": "7784980e",
   "metadata": {},
   "outputs": [
    {
     "data": {
      "text/html": [
       "<div>\n",
       "<style scoped>\n",
       "    .dataframe tbody tr th:only-of-type {\n",
       "        vertical-align: middle;\n",
       "    }\n",
       "\n",
       "    .dataframe tbody tr th {\n",
       "        vertical-align: top;\n",
       "    }\n",
       "\n",
       "    .dataframe thead th {\n",
       "        text-align: right;\n",
       "    }\n",
       "</style>\n",
       "<table border=\"1\" class=\"dataframe\">\n",
       "  <thead>\n",
       "    <tr style=\"text-align: right;\">\n",
       "      <th></th>\n",
       "      <th>title</th>\n",
       "      <th>rating</th>\n",
       "    </tr>\n",
       "  </thead>\n",
       "  <tbody>\n",
       "    <tr>\n",
       "      <th>3146</th>\n",
       "      <td>Love Qubool Hai</td>\n",
       "      <td>10.0</td>\n",
       "    </tr>\n",
       "    <tr>\n",
       "      <th>2027</th>\n",
       "      <td>Half Songs</td>\n",
       "      <td>9.7</td>\n",
       "    </tr>\n",
       "    <tr>\n",
       "      <th>2574</th>\n",
       "      <td>June</td>\n",
       "      <td>9.4</td>\n",
       "    </tr>\n",
       "    <tr>\n",
       "      <th>5165</th>\n",
       "      <td>The Reluctant Crime</td>\n",
       "      <td>9.4</td>\n",
       "    </tr>\n",
       "    <tr>\n",
       "      <th>1897</th>\n",
       "      <td>Gho Gho Rani</td>\n",
       "      <td>9.4</td>\n",
       "    </tr>\n",
       "    <tr>\n",
       "      <th>536</th>\n",
       "      <td>Ashok Vatika</td>\n",
       "      <td>9.3</td>\n",
       "    </tr>\n",
       "    <tr>\n",
       "      <th>4783</th>\n",
       "      <td>Sindhustan</td>\n",
       "      <td>9.3</td>\n",
       "    </tr>\n",
       "    <tr>\n",
       "      <th>3149</th>\n",
       "      <td>Love Sorries</td>\n",
       "      <td>9.3</td>\n",
       "    </tr>\n",
       "    <tr>\n",
       "      <th>4609</th>\n",
       "      <td>Secrets of Sinauli</td>\n",
       "      <td>9.3</td>\n",
       "    </tr>\n",
       "    <tr>\n",
       "      <th>4321</th>\n",
       "      <td>Refl</td>\n",
       "      <td>9.3</td>\n",
       "    </tr>\n",
       "  </tbody>\n",
       "</table>\n",
       "</div>"
      ],
      "text/plain": [
       "                    title  rating\n",
       "3146      Love Qubool Hai    10.0\n",
       "2027           Half Songs     9.7\n",
       "2574                 June     9.4\n",
       "5165  The Reluctant Crime     9.4\n",
       "1897         Gho Gho Rani     9.4\n",
       "536          Ashok Vatika     9.3\n",
       "4783           Sindhustan     9.3\n",
       "3149         Love Sorries     9.3\n",
       "4609   Secrets of Sinauli     9.3\n",
       "4321                 Refl     9.3"
      ]
     },
     "execution_count": 50,
     "metadata": {},
     "output_type": "execute_result"
    }
   ],
   "source": [
    "top_movies"
   ]
  },
  {
   "cell_type": "code",
   "execution_count": 51,
   "id": "77db0d27",
   "metadata": {},
   "outputs": [
    {
     "data": {
      "image/png": "[encoded data removed]",
      "text/plain": [
       "<Figure size 1000x600 with 1 Axes>"
      ]
     },
     "metadata": {},
     "output_type": "display_data"
    }
   ],
   "source": [
    "plt.figure(figsize=(10, 6))\n",
    "plt.bar(top_movies['title'], top_movies['rating'], color='skyblue')\n",
    "plt.xlabel('Movies')\n",
    "plt.ylabel('Rating')\n",
    "plt.title('Top 10 Movies by Rating')\n",
    "plt.xticks(rotation = 90)\n",
    "plt.show()"
   ]
  },
  {
   "cell_type": "markdown",
   "id": "d0f9eabc",
   "metadata": {},
   "source": [
    "# Top 10 Movies By Votes"
   ]
  },
  {
   "cell_type": "code",
   "execution_count": 52,
   "id": "ac608812",
   "metadata": {},
   "outputs": [],
   "source": [
    "top_movies_votes = df[['title', 'votes']].sort_values(by='votes', ascending=False).head(10)"
   ]
  },
  {
   "cell_type": "code",
   "execution_count": 53,
   "id": "2e07aae9",
   "metadata": {},
   "outputs": [
    {
     "data": {
      "text/html": [
       "<div>\n",
       "<style scoped>\n",
       "    .dataframe tbody tr th:only-of-type {\n",
       "        vertical-align: middle;\n",
       "    }\n",
       "\n",
       "    .dataframe tbody tr th {\n",
       "        vertical-align: top;\n",
       "    }\n",
       "\n",
       "    .dataframe thead th {\n",
       "        text-align: right;\n",
       "    }\n",
       "</style>\n",
       "<table border=\"1\" class=\"dataframe\">\n",
       "  <thead>\n",
       "    <tr style=\"text-align: right;\">\n",
       "      <th></th>\n",
       "      <th>title</th>\n",
       "      <th>votes</th>\n",
       "    </tr>\n",
       "  </thead>\n",
       "  <tbody>\n",
       "    <tr>\n",
       "      <th>3088</th>\n",
       "      <td>Life of Pi</td>\n",
       "      <td>591417</td>\n",
       "    </tr>\n",
       "    <tr>\n",
       "      <th>44</th>\n",
       "      <td>Idiots</td>\n",
       "      <td>357889</td>\n",
       "    </tr>\n",
       "    <tr>\n",
       "      <th>3094</th>\n",
       "      <td>Lion</td>\n",
       "      <td>220526</td>\n",
       "    </tr>\n",
       "    <tr>\n",
       "      <th>1823</th>\n",
       "      <td>Gandhi</td>\n",
       "      <td>220118</td>\n",
       "    </tr>\n",
       "    <tr>\n",
       "      <th>5096</th>\n",
       "      <td>The Darjeeling Limited</td>\n",
       "      <td>185127</td>\n",
       "    </tr>\n",
       "    <tr>\n",
       "      <th>3092</th>\n",
       "      <td>Like Stars on Earth</td>\n",
       "      <td>175810</td>\n",
       "    </tr>\n",
       "    <tr>\n",
       "      <th>4023</th>\n",
       "      <td>PK</td>\n",
       "      <td>168150</td>\n",
       "    </tr>\n",
       "    <tr>\n",
       "      <th>1276</th>\n",
       "      <td>Dangal</td>\n",
       "      <td>165074</td>\n",
       "    </tr>\n",
       "    <tr>\n",
       "      <th>4200</th>\n",
       "      <td>Radhe</td>\n",
       "      <td>162455</td>\n",
       "    </tr>\n",
       "    <tr>\n",
       "      <th>1436</th>\n",
       "      <td>Dil Bechara</td>\n",
       "      <td>117377</td>\n",
       "    </tr>\n",
       "  </tbody>\n",
       "</table>\n",
       "</div>"
      ],
      "text/plain": [
       "                       title   votes\n",
       "3088              Life of Pi  591417\n",
       "44                    Idiots  357889\n",
       "3094                    Lion  220526\n",
       "1823                  Gandhi  220118\n",
       "5096  The Darjeeling Limited  185127\n",
       "3092     Like Stars on Earth  175810\n",
       "4023                      PK  168150\n",
       "1276                  Dangal  165074\n",
       "4200                   Radhe  162455\n",
       "1436             Dil Bechara  117377"
      ]
     },
     "execution_count": 53,
     "metadata": {},
     "output_type": "execute_result"
    }
   ],
   "source": [
    "top_movies_votes"
   ]
  },
  {
   "cell_type": "code",
   "execution_count": 54,
   "id": "a07b7e5e",
   "metadata": {},
   "outputs": [
    {
     "data": {
      "image/png": "[encoded data removed]",
      "text/plain": [
       "<Figure size 1000x600 with 1 Axes>"
      ]
     },
     "metadata": {},
     "output_type": "display_data"
    }
   ],
   "source": [
    "plt.figure(figsize=(10, 6))\n",
    "plt.bar(top_movies_votes['title'], top_movies_votes['votes'], color='blue')\n",
    "plt.xlabel('Movies')\n",
    "plt.ylabel('Votes')\n",
    "plt.title('Top 10 Movies by Votes')\n",
    "plt.xticks(rotation = 90)\n",
    "plt.show()"
   ]
  },
  {
   "cell_type": "markdown",
   "id": "e2fa7cdd",
   "metadata": {},
   "source": [
    "# 4. Data Preprocessing"
   ]
  },
  {
   "cell_type": "markdown",
   "id": "fe3c2711",
   "metadata": {},
   "source": [
    "In Data Preprocessing, we will perorm:\n",
    "    \n",
    "    1. Check for outliers\n",
    "    2. Check correlation\n",
    "    3. Add relevant columns\n",
    "    5. Apply standard scaling\n",
    "    6. Split data in train and test"
   ]
  },
  {
   "cell_type": "markdown",
   "id": "0dd1449e",
   "metadata": {},
   "source": [
    "# Check Outliers: "
   ]
  },
  {
   "cell_type": "code",
   "execution_count": 55,
   "id": "7a4ae16f",
   "metadata": {},
   "outputs": [
    {
     "data": {
      "image/png": "[encoded data removed]",
      "text/plain": [
       "<Figure size 1000x400 with 4 Axes>"
      ]
     },
     "metadata": {},
     "output_type": "display_data"
    }
   ],
   "source": [
    "fig ,ax = plt.subplots(2,2,figsize=(10,4))\n",
    "sns.boxplot(df, x = 'year', ax = ax[0,0])\n",
    "sns.boxplot(df, x = 'duration', ax = ax[0,1])\n",
    "sns.boxplot(df, x = 'votes', ax = ax[1,0])\n",
    "sns.boxplot(df, x = 'rating', ax = ax[1,1])\n",
    "ax[0,0].set_title('Year Boxplot')\n",
    "ax[0,1].set_title('Duration Boxplot')\n",
    "ax[1,0].set_title('Votes Boxplot')\n",
    "ax[1,1].set_title('Rating Boxplot')\n",
    "plt.tight_layout()\n",
    "plt.show()"
   ]
  },
  {
   "cell_type": "code",
   "execution_count": 56,
   "id": "3877f2cf",
   "metadata": {},
   "outputs": [],
   "source": [
    "def outliers_box(d_f,col_):\n",
    "    q1 = np.quantile(d_f[col_],.25)\n",
    "    q2 = np.quantile(d_f[col_],.75)\n",
    "    iqr = q2-q1\n",
    "    maxima_ = q2 + 1.5*iqr\n",
    "    minima_ = q1 - 1.5*iqr\n",
    "    \n",
    "    if((d_f[col_].max() > maxima_) or (d_f[col_].min() < minima_)):\n",
    "        print(col_,'------- outliers present')\n",
    "    else:\n",
    "        print(col_,'------- outliers not present')\n",
    "        \n",
    "    return(minima_,maxima_)"
   ]
  },
  {
   "cell_type": "code",
   "execution_count": 57,
   "id": "d1e665c2",
   "metadata": {},
   "outputs": [],
   "source": [
    "def out_remove(d_f,col_):\n",
    "    x1,y1 = outliers_box(d_f,col_)\n",
    "    df.drop(index= d_f[(d_f[col_]<x1) | (d_f[col_]>y1)].index, axis = 0, inplace =True)"
   ]
  },
  {
   "cell_type": "code",
   "execution_count": 58,
   "id": "2e15f68c",
   "metadata": {},
   "outputs": [
    {
     "name": "stdout",
     "output_type": "stream",
     "text": [
      "year ------- outliers present\n",
      "duration ------- outliers present\n",
      "votes ------- outliers present\n",
      "rating ------- outliers present\n"
     ]
    }
   ],
   "source": [
    "df_num = df.select_dtypes(exclude = 'object')\n",
    "for i in df_num.columns:\n",
    "    out_remove(df,i)\n",
    "    df.reset_index(drop=True,inplace = True)"
   ]
  },
  {
   "cell_type": "code",
   "execution_count": 59,
   "id": "a5e32241",
   "metadata": {},
   "outputs": [
    {
     "data": {
      "text/plain": [
       "(4626, 11)"
      ]
     },
     "execution_count": 59,
     "metadata": {},
     "output_type": "execute_result"
    }
   ],
   "source": [
    "df.shape"
   ]
  },
  {
   "cell_type": "markdown",
   "id": "c8541421",
   "metadata": {},
   "source": [
    "* It is evident that there were outliers in the rating categories. Thus, we eliminated the outliers.\n",
    "    \n",
    "* Total outliers in the dataset = 1033\n",
    "\n",
    "* After removing the outliers, we are left with 4626 rows."
   ]
  },
  {
   "cell_type": "markdown",
   "id": "45387171",
   "metadata": {},
   "source": [
    "# Check Correlation"
   ]
  },
  {
   "cell_type": "code",
   "execution_count": 60,
   "id": "ebaafd55",
   "metadata": {},
   "outputs": [
    {
     "data": {
      "text/plain": [
       "<Axes: >"
      ]
     },
     "execution_count": 60,
     "metadata": {},
     "output_type": "execute_result"
    },
    {
     "data": {
      "image/png": "[encoded data removed]",
      "text/plain": [
       "<Figure size 640x480 with 2 Axes>"
      ]
     },
     "metadata": {},
     "output_type": "display_data"
    }
   ],
   "source": [
    "sns.heatmap(df_num.corr(), annot = True)"
   ]
  },
  {
   "cell_type": "markdown",
   "id": "ab36e95d",
   "metadata": {},
   "source": [
    "There is no such correlation between columns."
   ]
  },
  {
   "cell_type": "code",
   "execution_count": 61,
   "id": "8523117d",
   "metadata": {},
   "outputs": [
    {
     "data": {
      "text/plain": [
       "Index(['title', 'genre', 'director', 'actors', 'actor1', 'actor2', 'actor3',\n",
       "       'year', 'duration', 'votes', 'rating'],\n",
       "      dtype='object')"
      ]
     },
     "execution_count": 61,
     "metadata": {},
     "output_type": "execute_result"
    }
   ],
   "source": [
    "df.columns"
   ]
  },
  {
   "cell_type": "markdown",
   "id": "2512d47e",
   "metadata": {},
   "source": [
    "# Add Relevant Columns For Model Building"
   ]
  },
  {
   "cell_type": "markdown",
   "id": "db52fbe1",
   "metadata": {},
   "source": [
    "For modelling, we will add some new relevant columns:\n",
    "\n",
    "     We will apply groupby on the categorical columns and calculate their average rating."
   ]
  },
  {
   "cell_type": "code",
   "execution_count": 62,
   "id": "5568ae80",
   "metadata": {},
   "outputs": [],
   "source": [
    "genre_mean_rating = df.groupby('genre')['rating'].transform('mean')\n",
    "df['genre_mean_rating'] = genre_mean_rating\n",
    "\n",
    "director_mean_rating = df.groupby('director')['rating'].transform('mean')\n",
    "df['director_encoded'] = director_mean_rating\n",
    "\n",
    "actor1_mean_rating = df.groupby('actor1')['rating'].transform('mean')\n",
    "df['actor1_encoded'] = actor1_mean_rating\n",
    "\n",
    "actor2_mean_rating = df.groupby('actor2')['rating'].transform('mean')\n",
    "df['actor2_encoded'] = actor2_mean_rating\n",
    "\n",
    "actor3_mean_rating = df.groupby('actor3')['rating'].transform('mean')\n",
    "df['actor3_encoded'] = actor3_mean_rating"
   ]
  },
  {
   "cell_type": "code",
   "execution_count": 63,
   "id": "f4fb0453",
   "metadata": {},
   "outputs": [],
   "source": [
    "df1 = df[[ 'year', 'votes', 'duration', 'genre_mean_rating', 'director_encoded', 'actor1_encoded', 'actor2_encoded', 'actor3_encoded', 'rating']]"
   ]
  },
  {
   "cell_type": "code",
   "execution_count": 64,
   "id": "84bdf693",
   "metadata": {},
   "outputs": [
    {
     "data": {
      "text/html": [
       "<div>\n",
       "<style scoped>\n",
       "    .dataframe tbody tr th:only-of-type {\n",
       "        vertical-align: middle;\n",
       "    }\n",
       "\n",
       "    .dataframe tbody tr th {\n",
       "        vertical-align: top;\n",
       "    }\n",
       "\n",
       "    .dataframe thead th {\n",
       "        text-align: right;\n",
       "    }\n",
       "</style>\n",
       "<table border=\"1\" class=\"dataframe\">\n",
       "  <thead>\n",
       "    <tr style=\"text-align: right;\">\n",
       "      <th></th>\n",
       "      <th>year</th>\n",
       "      <th>votes</th>\n",
       "      <th>duration</th>\n",
       "      <th>genre_mean_rating</th>\n",
       "      <th>director_encoded</th>\n",
       "      <th>actor1_encoded</th>\n",
       "      <th>actor2_encoded</th>\n",
       "      <th>actor3_encoded</th>\n",
       "      <th>rating</th>\n",
       "    </tr>\n",
       "  </thead>\n",
       "  <tbody>\n",
       "    <tr>\n",
       "      <th>0</th>\n",
       "      <td>2019</td>\n",
       "      <td>8</td>\n",
       "      <td>109</td>\n",
       "      <td>6.381458</td>\n",
       "      <td>7.0</td>\n",
       "      <td>6.850000</td>\n",
       "      <td>7.00</td>\n",
       "      <td>7.000000</td>\n",
       "      <td>7.0</td>\n",
       "    </tr>\n",
       "    <tr>\n",
       "      <th>1</th>\n",
       "      <td>2019</td>\n",
       "      <td>35</td>\n",
       "      <td>110</td>\n",
       "      <td>5.406757</td>\n",
       "      <td>4.4</td>\n",
       "      <td>4.733333</td>\n",
       "      <td>4.40</td>\n",
       "      <td>4.450000</td>\n",
       "      <td>4.4</td>\n",
       "    </tr>\n",
       "    <tr>\n",
       "      <th>2</th>\n",
       "      <td>1997</td>\n",
       "      <td>827</td>\n",
       "      <td>147</td>\n",
       "      <td>6.321739</td>\n",
       "      <td>5.2</td>\n",
       "      <td>4.540000</td>\n",
       "      <td>4.60</td>\n",
       "      <td>5.690000</td>\n",
       "      <td>4.7</td>\n",
       "    </tr>\n",
       "    <tr>\n",
       "      <th>3</th>\n",
       "      <td>2005</td>\n",
       "      <td>1086</td>\n",
       "      <td>142</td>\n",
       "      <td>7.233333</td>\n",
       "      <td>7.4</td>\n",
       "      <td>5.123529</td>\n",
       "      <td>7.35</td>\n",
       "      <td>6.314286</td>\n",
       "      <td>7.4</td>\n",
       "    </tr>\n",
       "    <tr>\n",
       "      <th>4</th>\n",
       "      <td>2012</td>\n",
       "      <td>326</td>\n",
       "      <td>82</td>\n",
       "      <td>5.450000</td>\n",
       "      <td>5.6</td>\n",
       "      <td>5.600000</td>\n",
       "      <td>5.90</td>\n",
       "      <td>5.600000</td>\n",
       "      <td>5.6</td>\n",
       "    </tr>\n",
       "  </tbody>\n",
       "</table>\n",
       "</div>"
      ],
      "text/plain": [
       "   year  votes  duration  genre_mean_rating  director_encoded  actor1_encoded  \\\n",
       "0  2019      8       109           6.381458               7.0        6.850000   \n",
       "1  2019     35       110           5.406757               4.4        4.733333   \n",
       "2  1997    827       147           6.321739               5.2        4.540000   \n",
       "3  2005   1086       142           7.233333               7.4        5.123529   \n",
       "4  2012    326        82           5.450000               5.6        5.600000   \n",
       "\n",
       "   actor2_encoded  actor3_encoded  rating  \n",
       "0            7.00        7.000000     7.0  \n",
       "1            4.40        4.450000     4.4  \n",
       "2            4.60        5.690000     4.7  \n",
       "3            7.35        6.314286     7.4  \n",
       "4            5.90        5.600000     5.6  "
      ]
     },
     "execution_count": 64,
     "metadata": {},
     "output_type": "execute_result"
    }
   ],
   "source": [
    "df1.head()"
   ]
  },
  {
   "cell_type": "markdown",
   "id": "8dabf35b",
   "metadata": {},
   "source": [
    "# Standard Scaling"
   ]
  },
  {
   "cell_type": "code",
   "execution_count": 65,
   "id": "3ab84920",
   "metadata": {},
   "outputs": [],
   "source": [
    "from sklearn.preprocessing import StandardScaler"
   ]
  },
  {
   "cell_type": "code",
   "execution_count": 66,
   "id": "f5207e24",
   "metadata": {},
   "outputs": [],
   "source": [
    "scale = df1.drop('rating', axis = 1)"
   ]
  },
  {
   "cell_type": "code",
   "execution_count": 67,
   "id": "9d3eedbd",
   "metadata": {},
   "outputs": [],
   "source": [
    "ss = StandardScaler()"
   ]
  },
  {
   "cell_type": "code",
   "execution_count": 68,
   "id": "b9a60690",
   "metadata": {},
   "outputs": [],
   "source": [
    "scaled_data = ss.fit_transform(scale)"
   ]
  },
  {
   "cell_type": "code",
   "execution_count": 69,
   "id": "a6ef665c",
   "metadata": {},
   "outputs": [],
   "source": [
    "scaled_df = pd.DataFrame(scaled_data, columns = scale.columns)"
   ]
  },
  {
   "cell_type": "code",
   "execution_count": 70,
   "id": "67b0a041",
   "metadata": {},
   "outputs": [
    {
     "data": {
      "text/html": [
       "<div>\n",
       "<style scoped>\n",
       "    .dataframe tbody tr th:only-of-type {\n",
       "        vertical-align: middle;\n",
       "    }\n",
       "\n",
       "    .dataframe tbody tr th {\n",
       "        vertical-align: top;\n",
       "    }\n",
       "\n",
       "    .dataframe thead th {\n",
       "        text-align: right;\n",
       "    }\n",
       "</style>\n",
       "<table border=\"1\" class=\"dataframe\">\n",
       "  <thead>\n",
       "    <tr style=\"text-align: right;\">\n",
       "      <th></th>\n",
       "      <th>year</th>\n",
       "      <th>votes</th>\n",
       "      <th>duration</th>\n",
       "      <th>genre_mean_rating</th>\n",
       "      <th>director_encoded</th>\n",
       "      <th>actor1_encoded</th>\n",
       "      <th>actor2_encoded</th>\n",
       "      <th>actor3_encoded</th>\n",
       "    </tr>\n",
       "  </thead>\n",
       "  <tbody>\n",
       "    <tr>\n",
       "      <th>0</th>\n",
       "      <td>1.277870</td>\n",
       "      <td>-0.615846</td>\n",
       "      <td>-1.008857</td>\n",
       "      <td>0.950405</td>\n",
       "      <td>1.066962</td>\n",
       "      <td>0.975077</td>\n",
       "      <td>1.090137</td>\n",
       "      <td>1.084441</td>\n",
       "    </tr>\n",
       "    <tr>\n",
       "      <th>1</th>\n",
       "      <td>1.277870</td>\n",
       "      <td>-0.558928</td>\n",
       "      <td>-0.965631</td>\n",
       "      <td>-0.618787</td>\n",
       "      <td>-1.227799</td>\n",
       "      <td>-0.974062</td>\n",
       "      <td>-1.254467</td>\n",
       "      <td>-1.203060</td>\n",
       "    </tr>\n",
       "    <tr>\n",
       "      <th>2</th>\n",
       "      <td>0.163777</td>\n",
       "      <td>1.110673</td>\n",
       "      <td>0.633743</td>\n",
       "      <td>0.854263</td>\n",
       "      <td>-0.521719</td>\n",
       "      <td>-1.152093</td>\n",
       "      <td>-1.074113</td>\n",
       "      <td>-0.090707</td>\n",
       "    </tr>\n",
       "  </tbody>\n",
       "</table>\n",
       "</div>"
      ],
      "text/plain": [
       "       year     votes  duration  genre_mean_rating  director_encoded  \\\n",
       "0  1.277870 -0.615846 -1.008857           0.950405          1.066962   \n",
       "1  1.277870 -0.558928 -0.965631          -0.618787         -1.227799   \n",
       "2  0.163777  1.110673  0.633743           0.854263         -0.521719   \n",
       "\n",
       "   actor1_encoded  actor2_encoded  actor3_encoded  \n",
       "0        0.975077        1.090137        1.084441  \n",
       "1       -0.974062       -1.254467       -1.203060  \n",
       "2       -1.152093       -1.074113       -0.090707  "
      ]
     },
     "execution_count": 70,
     "metadata": {},
     "output_type": "execute_result"
    }
   ],
   "source": [
    "scaled_df.head(3)"
   ]
  },
  {
   "cell_type": "markdown",
   "id": "ed81e221",
   "metadata": {},
   "source": [
    "# Train Test Split"
   ]
  },
  {
   "cell_type": "code",
   "execution_count": 71,
   "id": "c1852c5d",
   "metadata": {},
   "outputs": [],
   "source": [
    "X = scaled_df\n",
    "y = df1['rating']"
   ]
  },
  {
   "cell_type": "code",
   "execution_count": 72,
   "id": "18260717",
   "metadata": {},
   "outputs": [],
   "source": [
    "X_train, X_test, y_train, y_test = train_test_split(X, y, test_size = 0.2, random_state = 125)"
   ]
  },
  {
   "cell_type": "markdown",
   "id": "2ad6cb0c",
   "metadata": {},
   "source": [
    "# 5. Model Building"
   ]
  },
  {
   "cell_type": "code",
   "execution_count": 73,
   "id": "ea67cadc",
   "metadata": {},
   "outputs": [],
   "source": [
    "from sklearn.metrics import r2_score, mean_absolute_error, f1_score, mean_squared_error\n",
    "from sklearn.metrics import roc_curve, roc_auc_score"
   ]
  },
  {
   "cell_type": "code",
   "execution_count": 74,
   "id": "300134dc",
   "metadata": {},
   "outputs": [],
   "source": [
    "df_scorecard = pd.DataFrame(columns = ['Model_name', 'Mean_Squared_Error_Train', 'Mean_Absolute_Error_Train', 'R2_Score_Train', 'Root_Mean_Squared_Error_Train', 'Mean_Squared_Error_Test', 'Mean_Absolute_Error_Test', 'R2_Score_Test', 'Root_Mean_Squared_Error_Test'])"
   ]
  },
  {
   "cell_type": "code",
   "execution_count": 75,
   "id": "1d7584a5",
   "metadata": {},
   "outputs": [],
   "source": [
    "def score_card(d_f, model_name, y_train, y_test, train_pred, test_pred, train_rmse, test_rmse):\n",
    "    metrics_dict = {\n",
    "        'Model_name': model_name,\n",
    "        'Mean_Squared_Error_Train': mean_squared_error(y_train, train_pred), \n",
    "        'Mean_Absolute_Error_Train': mean_absolute_error(y_train, train_pred), \n",
    "        'R2_Score_Train': r2_score(train_pred, y_train),\n",
    "        'Root_Mean_Squared_Error_Train': train_rmse,\n",
    "        'Mean_Squared_Error_Test': mean_squared_error(y_test, test_pred), \n",
    "        'Mean_Absolute_Error_Test': mean_absolute_error(y_test, test_pred), \n",
    "        'R2_Score_Test': r2_score(test_pred, y_test),\n",
    "        'Root_Mean_Squared_Error_Test': test_rmse\n",
    "    }\n",
    "\n",
    "    dfx = pd.concat([d_f, pd.DataFrame(metrics_dict, index=[0])], ignore_index=True)\n",
    "    return dfx"
   ]
  },
  {
   "cell_type": "markdown",
   "id": "38d9708c",
   "metadata": {},
   "source": [
    "# 1. Linear Regression"
   ]
  },
  {
   "cell_type": "code",
   "execution_count": 76,
   "id": "90cafb16",
   "metadata": {},
   "outputs": [],
   "source": [
    "from sklearn.linear_model import LinearRegression"
   ]
  },
  {
   "cell_type": "code",
   "execution_count": 77,
   "id": "5b43adc8",
   "metadata": {},
   "outputs": [],
   "source": [
    "lr = LinearRegression()\n",
    "model_lr = lr.fit(X_train, y_train)\n",
    "ypred_lr =  model_lr.predict(X_test)\n",
    "ypred_lr_train = model_lr.predict(X_train)"
   ]
  },
  {
   "cell_type": "markdown",
   "id": "52321023",
   "metadata": {},
   "source": [
    "# *RMSE"
   ]
  },
  {
   "cell_type": "code",
   "execution_count": 78,
   "id": "d0d0750c",
   "metadata": {},
   "outputs": [
    {
     "name": "stdout",
     "output_type": "stream",
     "text": [
      "0.5163430824334344\n",
      "0.5397696659010021\n"
     ]
    }
   ],
   "source": [
    "mse_lr = mean_squared_error(y_test, ypred_lr)\n",
    "mse_lr_train = mean_squared_error(y_train, ypred_lr_train)\n",
    "rmse_lr = math.sqrt(mse_lr)\n",
    "rmse_lr_train = math.sqrt(mse_lr_train)\n",
    "\n",
    "print(rmse_lr)\n",
    "print(rmse_lr_train)"
   ]
  },
  {
   "cell_type": "code",
   "execution_count": 79,
   "id": "90e8c69b",
   "metadata": {},
   "outputs": [
    {
     "data": {
      "text/html": [
       "<div>\n",
       "<style scoped>\n",
       "    .dataframe tbody tr th:only-of-type {\n",
       "        vertical-align: middle;\n",
       "    }\n",
       "\n",
       "    .dataframe tbody tr th {\n",
       "        vertical-align: top;\n",
       "    }\n",
       "\n",
       "    .dataframe thead th {\n",
       "        text-align: right;\n",
       "    }\n",
       "</style>\n",
       "<table border=\"1\" class=\"dataframe\">\n",
       "  <thead>\n",
       "    <tr style=\"text-align: right;\">\n",
       "      <th></th>\n",
       "      <th>Model_name</th>\n",
       "      <th>Mean_Squared_Error_Train</th>\n",
       "      <th>Mean_Absolute_Error_Train</th>\n",
       "      <th>R2_Score_Train</th>\n",
       "      <th>Root_Mean_Squared_Error_Train</th>\n",
       "      <th>Mean_Squared_Error_Test</th>\n",
       "      <th>Mean_Absolute_Error_Test</th>\n",
       "      <th>R2_Score_Test</th>\n",
       "      <th>Root_Mean_Squared_Error_Test</th>\n",
       "    </tr>\n",
       "  </thead>\n",
       "  <tbody>\n",
       "    <tr>\n",
       "      <th>0</th>\n",
       "      <td>Linear Regression</td>\n",
       "      <td>0.291351</td>\n",
       "      <td>0.401286</td>\n",
       "      <td>0.806815</td>\n",
       "      <td>0.53977</td>\n",
       "      <td>0.26661</td>\n",
       "      <td>0.398461</td>\n",
       "      <td>0.835186</td>\n",
       "      <td>0.516343</td>\n",
       "    </tr>\n",
       "  </tbody>\n",
       "</table>\n",
       "</div>"
      ],
      "text/plain": [
       "          Model_name  Mean_Squared_Error_Train  Mean_Absolute_Error_Train  \\\n",
       "0  Linear Regression                  0.291351                   0.401286   \n",
       "\n",
       "   R2_Score_Train  Root_Mean_Squared_Error_Train  Mean_Squared_Error_Test  \\\n",
       "0        0.806815                        0.53977                  0.26661   \n",
       "\n",
       "   Mean_Absolute_Error_Test  R2_Score_Test  Root_Mean_Squared_Error_Test  \n",
       "0                  0.398461       0.835186                      0.516343  "
      ]
     },
     "execution_count": 79,
     "metadata": {},
     "output_type": "execute_result"
    }
   ],
   "source": [
    "df101 = score_card(df_scorecard, 'Linear Regression', y_train, y_test, ypred_lr_train, ypred_lr, rmse_lr_train, rmse_lr)\n",
    "df101"
   ]
  },
  {
   "cell_type": "markdown",
   "id": "999f30ab",
   "metadata": {},
   "source": [
    "# 2. Lasso Regression"
   ]
  },
  {
   "cell_type": "code",
   "execution_count": 80,
   "id": "e0c4f525",
   "metadata": {},
   "outputs": [],
   "source": [
    "from sklearn.linear_model import Lasso"
   ]
  },
  {
   "cell_type": "code",
   "execution_count": 81,
   "id": "d0085bc3",
   "metadata": {},
   "outputs": [],
   "source": [
    "ls = Lasso(alpha = 0.001)\n",
    "model_ls = ls.fit(X_train, y_train)\n",
    "ypred_ls =  model_ls.predict(X_test)\n",
    "ypred_ls_train = model_ls.predict(X_train)"
   ]
  },
  {
   "cell_type": "markdown",
   "id": "04371221",
   "metadata": {},
   "source": [
    "# *RMSE"
   ]
  },
  {
   "cell_type": "code",
   "execution_count": 82,
   "id": "57244f21",
   "metadata": {},
   "outputs": [
    {
     "name": "stdout",
     "output_type": "stream",
     "text": [
      "0.5163764318244426\n",
      "0.5397733569274886\n"
     ]
    }
   ],
   "source": [
    "mse_ls = mean_squared_error(y_test, ypred_ls)\n",
    "mse_ls_train = mean_squared_error(y_train, ypred_ls_train)\n",
    "rmse_ls = math.sqrt(mse_ls)\n",
    "rmse_ls_train = math.sqrt(mse_ls_train)\n",
    "\n",
    "print(rmse_ls)\n",
    "print(rmse_ls_train)"
   ]
  },
  {
   "cell_type": "code",
   "execution_count": 83,
   "id": "fcce2799",
   "metadata": {},
   "outputs": [
    {
     "data": {
      "text/html": [
       "<div>\n",
       "<style scoped>\n",
       "    .dataframe tbody tr th:only-of-type {\n",
       "        vertical-align: middle;\n",
       "    }\n",
       "\n",
       "    .dataframe tbody tr th {\n",
       "        vertical-align: top;\n",
       "    }\n",
       "\n",
       "    .dataframe thead th {\n",
       "        text-align: right;\n",
       "    }\n",
       "</style>\n",
       "<table border=\"1\" class=\"dataframe\">\n",
       "  <thead>\n",
       "    <tr style=\"text-align: right;\">\n",
       "      <th></th>\n",
       "      <th>Model_name</th>\n",
       "      <th>Mean_Squared_Error_Train</th>\n",
       "      <th>Mean_Absolute_Error_Train</th>\n",
       "      <th>R2_Score_Train</th>\n",
       "      <th>Root_Mean_Squared_Error_Train</th>\n",
       "      <th>Mean_Squared_Error_Test</th>\n",
       "      <th>Mean_Absolute_Error_Test</th>\n",
       "      <th>R2_Score_Test</th>\n",
       "      <th>Root_Mean_Squared_Error_Test</th>\n",
       "    </tr>\n",
       "  </thead>\n",
       "  <tbody>\n",
       "    <tr>\n",
       "      <th>0</th>\n",
       "      <td>Linear Regression</td>\n",
       "      <td>0.291351</td>\n",
       "      <td>0.401286</td>\n",
       "      <td>0.806815</td>\n",
       "      <td>0.539770</td>\n",
       "      <td>0.266610</td>\n",
       "      <td>0.398461</td>\n",
       "      <td>0.835186</td>\n",
       "      <td>0.516343</td>\n",
       "    </tr>\n",
       "    <tr>\n",
       "      <th>1</th>\n",
       "      <td>Lasso Regression</td>\n",
       "      <td>0.291355</td>\n",
       "      <td>0.401210</td>\n",
       "      <td>0.806420</td>\n",
       "      <td>0.539773</td>\n",
       "      <td>0.266645</td>\n",
       "      <td>0.398333</td>\n",
       "      <td>0.834846</td>\n",
       "      <td>0.516376</td>\n",
       "    </tr>\n",
       "  </tbody>\n",
       "</table>\n",
       "</div>"
      ],
      "text/plain": [
       "          Model_name  Mean_Squared_Error_Train  Mean_Absolute_Error_Train  \\\n",
       "0  Linear Regression                  0.291351                   0.401286   \n",
       "1   Lasso Regression                  0.291355                   0.401210   \n",
       "\n",
       "   R2_Score_Train  Root_Mean_Squared_Error_Train  Mean_Squared_Error_Test  \\\n",
       "0        0.806815                       0.539770                 0.266610   \n",
       "1        0.806420                       0.539773                 0.266645   \n",
       "\n",
       "   Mean_Absolute_Error_Test  R2_Score_Test  Root_Mean_Squared_Error_Test  \n",
       "0                  0.398461       0.835186                      0.516343  \n",
       "1                  0.398333       0.834846                      0.516376  "
      ]
     },
     "execution_count": 83,
     "metadata": {},
     "output_type": "execute_result"
    }
   ],
   "source": [
    "df102 = score_card(df101, 'Lasso Regression', y_train, y_test, ypred_ls_train, ypred_ls, rmse_ls_train, rmse_ls)\n",
    "df102"
   ]
  },
  {
   "cell_type": "markdown",
   "id": "4ef71477",
   "metadata": {},
   "source": [
    "# 3. Ridge Regression"
   ]
  },
  {
   "cell_type": "code",
   "execution_count": 84,
   "id": "b28b2e5b",
   "metadata": {},
   "outputs": [],
   "source": [
    "from sklearn.linear_model import Ridge"
   ]
  },
  {
   "cell_type": "code",
   "execution_count": 85,
   "id": "f321ec4b",
   "metadata": {},
   "outputs": [],
   "source": [
    "rg = Ridge(alpha = 3)\n",
    "model_rg = rg.fit(X_train, y_train)\n",
    "ypred_rg =  model_rg.predict(X_test)\n",
    "ypred_rg_train = model_rg.predict(X_train)"
   ]
  },
  {
   "cell_type": "markdown",
   "id": "1a0de451",
   "metadata": {},
   "source": [
    "# *RMSE"
   ]
  },
  {
   "cell_type": "code",
   "execution_count": 86,
   "id": "b894be02",
   "metadata": {},
   "outputs": [
    {
     "name": "stdout",
     "output_type": "stream",
     "text": [
      "0.5163351128105208\n",
      "0.5397698022497677\n"
     ]
    }
   ],
   "source": [
    "mse_rg = mean_squared_error(y_test, ypred_rg)\n",
    "mse_rg_train = mean_squared_error(y_train, ypred_rg_train)\n",
    "rmse_rg = math.sqrt(mse_rg)\n",
    "rmse_rg_train = math.sqrt(mse_rg_train)\n",
    "\n",
    "print(rmse_rg)\n",
    "print(rmse_rg_train)"
   ]
  },
  {
   "cell_type": "code",
   "execution_count": 87,
   "id": "64a31eb8",
   "metadata": {},
   "outputs": [
    {
     "data": {
      "text/html": [
       "<div>\n",
       "<style scoped>\n",
       "    .dataframe tbody tr th:only-of-type {\n",
       "        vertical-align: middle;\n",
       "    }\n",
       "\n",
       "    .dataframe tbody tr th {\n",
       "        vertical-align: top;\n",
       "    }\n",
       "\n",
       "    .dataframe thead th {\n",
       "        text-align: right;\n",
       "    }\n",
       "</style>\n",
       "<table border=\"1\" class=\"dataframe\">\n",
       "  <thead>\n",
       "    <tr style=\"text-align: right;\">\n",
       "      <th></th>\n",
       "      <th>Model_name</th>\n",
       "      <th>Mean_Squared_Error_Train</th>\n",
       "      <th>Mean_Absolute_Error_Train</th>\n",
       "      <th>R2_Score_Train</th>\n",
       "      <th>Root_Mean_Squared_Error_Train</th>\n",
       "      <th>Mean_Squared_Error_Test</th>\n",
       "      <th>Mean_Absolute_Error_Test</th>\n",
       "      <th>R2_Score_Test</th>\n",
       "      <th>Root_Mean_Squared_Error_Test</th>\n",
       "    </tr>\n",
       "  </thead>\n",
       "  <tbody>\n",
       "    <tr>\n",
       "      <th>0</th>\n",
       "      <td>Linear Regression</td>\n",
       "      <td>0.291351</td>\n",
       "      <td>0.401286</td>\n",
       "      <td>0.806815</td>\n",
       "      <td>0.539770</td>\n",
       "      <td>0.266610</td>\n",
       "      <td>0.398461</td>\n",
       "      <td>0.835186</td>\n",
       "      <td>0.516343</td>\n",
       "    </tr>\n",
       "    <tr>\n",
       "      <th>1</th>\n",
       "      <td>Lasso Regression</td>\n",
       "      <td>0.291355</td>\n",
       "      <td>0.401210</td>\n",
       "      <td>0.806420</td>\n",
       "      <td>0.539773</td>\n",
       "      <td>0.266645</td>\n",
       "      <td>0.398333</td>\n",
       "      <td>0.834846</td>\n",
       "      <td>0.516376</td>\n",
       "    </tr>\n",
       "    <tr>\n",
       "      <th>2</th>\n",
       "      <td>Ridge Regression</td>\n",
       "      <td>0.291351</td>\n",
       "      <td>0.401268</td>\n",
       "      <td>0.806717</td>\n",
       "      <td>0.539770</td>\n",
       "      <td>0.266602</td>\n",
       "      <td>0.398435</td>\n",
       "      <td>0.835106</td>\n",
       "      <td>0.516335</td>\n",
       "    </tr>\n",
       "  </tbody>\n",
       "</table>\n",
       "</div>"
      ],
      "text/plain": [
       "          Model_name  Mean_Squared_Error_Train  Mean_Absolute_Error_Train  \\\n",
       "0  Linear Regression                  0.291351                   0.401286   \n",
       "1   Lasso Regression                  0.291355                   0.401210   \n",
       "2   Ridge Regression                  0.291351                   0.401268   \n",
       "\n",
       "   R2_Score_Train  Root_Mean_Squared_Error_Train  Mean_Squared_Error_Test  \\\n",
       "0        0.806815                       0.539770                 0.266610   \n",
       "1        0.806420                       0.539773                 0.266645   \n",
       "2        0.806717                       0.539770                 0.266602   \n",
       "\n",
       "   Mean_Absolute_Error_Test  R2_Score_Test  Root_Mean_Squared_Error_Test  \n",
       "0                  0.398461       0.835186                      0.516343  \n",
       "1                  0.398333       0.834846                      0.516376  \n",
       "2                  0.398435       0.835106                      0.516335  "
      ]
     },
     "execution_count": 87,
     "metadata": {},
     "output_type": "execute_result"
    }
   ],
   "source": [
    "df103 = score_card(df102, 'Ridge Regression', y_train, y_test, ypred_rg_train, ypred_rg, rmse_rg_train, rmse_rg)\n",
    "df103"
   ]
  },
  {
   "cell_type": "markdown",
   "id": "dffb08fe",
   "metadata": {},
   "source": [
    "# 4. Decision Tree"
   ]
  },
  {
   "cell_type": "code",
   "execution_count": 88,
   "id": "2b884207",
   "metadata": {},
   "outputs": [],
   "source": [
    "from sklearn.model_selection import GridSearchCV as gscv\n",
    "from sklearn.tree import DecisionTreeRegressor"
   ]
  },
  {
   "cell_type": "code",
   "execution_count": 89,
   "id": "b76b3b78",
   "metadata": {},
   "outputs": [],
   "source": [
    "htmodel_dt = gscv(DecisionTreeRegressor(), param_grid = {'max_depth': [2,5,10,15,20,25],\n",
    "                                                       'min_samples_leaf': [1,2,3],\n",
    "                                                       'min_samples_split': [2,3,4],\n",
    "                                                       'max_leaf_nodes': [2,6,10,14,18,20],\n",
    "                                                       'min_impurity_decrease': [0,1,2]}, cv = 5)"
   ]
  },
  {
   "cell_type": "code",
   "execution_count": 90,
   "id": "ec8984bd",
   "metadata": {},
   "outputs": [
    {
     "name": "stdout",
     "output_type": "stream",
     "text": [
      "{'max_depth': 5, 'max_leaf_nodes': 20, 'min_impurity_decrease': 0, 'min_samples_leaf': 1, 'min_samples_split': 3}\n"
     ]
    }
   ],
   "source": [
    "htmodel_dt.fit(X, y)\n",
    "print(htmodel_dt.best_params_)"
   ]
  },
  {
   "cell_type": "code",
   "execution_count": 91,
   "id": "30d4c8d4",
   "metadata": {},
   "outputs": [],
   "source": [
    "model_dt_gscv = DecisionTreeRegressor(max_depth = htmodel_dt.best_params_.get('max_depth'),\n",
    "         min_samples_leaf = htmodel_dt.best_params_.get('min_samples_leaf'),\n",
    "         min_samples_split = htmodel_dt.best_params_.get('min_samples_split'),\n",
    "         max_leaf_nodes = htmodel_dt.best_params_.get('max_leaf_nodes'),\n",
    "         min_impurity_decrease = htmodel_dt.best_params_.get('min_impurity_decrease')).fit(X_train, y_train)"
   ]
  },
  {
   "cell_type": "code",
   "execution_count": 92,
   "id": "052f1a2d",
   "metadata": {},
   "outputs": [],
   "source": [
    "ypred_dt =  model_dt_gscv.predict(X_test)\n",
    "ypred_dt_train = model_dt_gscv.predict(X_train)"
   ]
  },
  {
   "cell_type": "markdown",
   "id": "b8d2ff45",
   "metadata": {},
   "source": [
    "# *RMSE"
   ]
  },
  {
   "cell_type": "code",
   "execution_count": 93,
   "id": "d26ba675",
   "metadata": {},
   "outputs": [
    {
     "name": "stdout",
     "output_type": "stream",
     "text": [
      "0.6436437007503689\n",
      "0.606653435994645\n"
     ]
    }
   ],
   "source": [
    "mse_dt = mean_squared_error(y_test, ypred_dt)\n",
    "mse_dt_train = mean_squared_error(y_train, ypred_dt_train)\n",
    "rmse_dt = math.sqrt(mse_dt)\n",
    "rmse_dt_train = math.sqrt(mse_dt_train)\n",
    "\n",
    "print(rmse_dt)\n",
    "print(rmse_dt_train)"
   ]
  },
  {
   "cell_type": "code",
   "execution_count": 94,
   "id": "1a71c5b2",
   "metadata": {},
   "outputs": [
    {
     "data": {
      "text/html": [
       "<div>\n",
       "<style scoped>\n",
       "    .dataframe tbody tr th:only-of-type {\n",
       "        vertical-align: middle;\n",
       "    }\n",
       "\n",
       "    .dataframe tbody tr th {\n",
       "        vertical-align: top;\n",
       "    }\n",
       "\n",
       "    .dataframe thead th {\n",
       "        text-align: right;\n",
       "    }\n",
       "</style>\n",
       "<table border=\"1\" class=\"dataframe\">\n",
       "  <thead>\n",
       "    <tr style=\"text-align: right;\">\n",
       "      <th></th>\n",
       "      <th>Model_name</th>\n",
       "      <th>Mean_Squared_Error_Train</th>\n",
       "      <th>Mean_Absolute_Error_Train</th>\n",
       "      <th>R2_Score_Train</th>\n",
       "      <th>Root_Mean_Squared_Error_Train</th>\n",
       "      <th>Mean_Squared_Error_Test</th>\n",
       "      <th>Mean_Absolute_Error_Test</th>\n",
       "      <th>R2_Score_Test</th>\n",
       "      <th>Root_Mean_Squared_Error_Test</th>\n",
       "    </tr>\n",
       "  </thead>\n",
       "  <tbody>\n",
       "    <tr>\n",
       "      <th>0</th>\n",
       "      <td>Linear Regression</td>\n",
       "      <td>0.291351</td>\n",
       "      <td>0.401286</td>\n",
       "      <td>0.806815</td>\n",
       "      <td>0.539770</td>\n",
       "      <td>0.266610</td>\n",
       "      <td>0.398461</td>\n",
       "      <td>0.835186</td>\n",
       "      <td>0.516343</td>\n",
       "    </tr>\n",
       "    <tr>\n",
       "      <th>1</th>\n",
       "      <td>Lasso Regression</td>\n",
       "      <td>0.291355</td>\n",
       "      <td>0.401210</td>\n",
       "      <td>0.806420</td>\n",
       "      <td>0.539773</td>\n",
       "      <td>0.266645</td>\n",
       "      <td>0.398333</td>\n",
       "      <td>0.834846</td>\n",
       "      <td>0.516376</td>\n",
       "    </tr>\n",
       "    <tr>\n",
       "      <th>2</th>\n",
       "      <td>Ridge Regression</td>\n",
       "      <td>0.291351</td>\n",
       "      <td>0.401268</td>\n",
       "      <td>0.806717</td>\n",
       "      <td>0.539770</td>\n",
       "      <td>0.266602</td>\n",
       "      <td>0.398435</td>\n",
       "      <td>0.835106</td>\n",
       "      <td>0.516335</td>\n",
       "    </tr>\n",
       "    <tr>\n",
       "      <th>3</th>\n",
       "      <td>Decision Tree Regressor</td>\n",
       "      <td>0.368028</td>\n",
       "      <td>0.435155</td>\n",
       "      <td>0.742901</td>\n",
       "      <td>0.606653</td>\n",
       "      <td>0.414277</td>\n",
       "      <td>0.468704</td>\n",
       "      <td>0.717792</td>\n",
       "      <td>0.643644</td>\n",
       "    </tr>\n",
       "  </tbody>\n",
       "</table>\n",
       "</div>"
      ],
      "text/plain": [
       "                Model_name  Mean_Squared_Error_Train  \\\n",
       "0        Linear Regression                  0.291351   \n",
       "1         Lasso Regression                  0.291355   \n",
       "2         Ridge Regression                  0.291351   \n",
       "3  Decision Tree Regressor                  0.368028   \n",
       "\n",
       "   Mean_Absolute_Error_Train  R2_Score_Train  Root_Mean_Squared_Error_Train  \\\n",
       "0                   0.401286        0.806815                       0.539770   \n",
       "1                   0.401210        0.806420                       0.539773   \n",
       "2                   0.401268        0.806717                       0.539770   \n",
       "3                   0.435155        0.742901                       0.606653   \n",
       "\n",
       "   Mean_Squared_Error_Test  Mean_Absolute_Error_Test  R2_Score_Test  \\\n",
       "0                 0.266610                  0.398461       0.835186   \n",
       "1                 0.266645                  0.398333       0.834846   \n",
       "2                 0.266602                  0.398435       0.835106   \n",
       "3                 0.414277                  0.468704       0.717792   \n",
       "\n",
       "   Root_Mean_Squared_Error_Test  \n",
       "0                      0.516343  \n",
       "1                      0.516376  \n",
       "2                      0.516335  \n",
       "3                      0.643644  "
      ]
     },
     "execution_count": 94,
     "metadata": {},
     "output_type": "execute_result"
    }
   ],
   "source": [
    "df104 = score_card(df103, 'Decision Tree Regressor', y_train, y_test, ypred_dt_train, ypred_dt, rmse_dt_train, rmse_dt)\n",
    "df104"
   ]
  },
  {
   "cell_type": "markdown",
   "id": "a102bba2",
   "metadata": {},
   "source": [
    "# 5. Random Forest"
   ]
  },
  {
   "cell_type": "code",
   "execution_count": 95,
   "id": "43cb4968",
   "metadata": {},
   "outputs": [],
   "source": [
    "from sklearn.ensemble import RandomForestRegressor"
   ]
  },
  {
   "cell_type": "code",
   "execution_count": 96,
   "id": "eab1a8c4",
   "metadata": {},
   "outputs": [],
   "source": [
    "htmodel_rf = gscv(RandomForestRegressor(random_state = 110), param_grid = {'n_estimators': [20, 40, 60, 80, 100],\n",
    "                                                       'max_features': ['auto', 'sqrt', 'log2'],\n",
    "                                                       'max_depth' : [4,5,6,7,8],\n",
    "                                                       \"min_samples_split\" : [2,4,6,8,10],\n",
    "                                                       \"bootstrap\": [True, False]}, cv = 5)"
   ]
  },
  {
   "cell_type": "code",
   "execution_count": 97,
   "id": "d3a42473",
   "metadata": {},
   "outputs": [
    {
     "name": "stdout",
     "output_type": "stream",
     "text": [
      "{'bootstrap': True, 'max_depth': 8, 'max_features': 'log2', 'min_samples_split': 4, 'n_estimators': 100}\n"
     ]
    }
   ],
   "source": [
    "htmodel_rf.fit(X,y)\n",
    "print(htmodel_rf.best_params_)"
   ]
  },
  {
   "cell_type": "code",
   "execution_count": 98,
   "id": "67c04274",
   "metadata": {},
   "outputs": [],
   "source": [
    "model_rf_gscv = RandomForestRegressor(n_estimators = htmodel_rf.best_params_.get('n_estimators'),\n",
    "                                       max_depth = htmodel_rf.best_params_.get('max_depth'),\n",
    "                                       max_features = htmodel_rf.best_params_.get('max_features'),\n",
    "                                       min_samples_split = htmodel_rf.best_params_.get('min_samples_split'),\n",
    "                                       bootstrap = htmodel_rf.best_params_.get('bootstrap')).fit(X_train, y_train)"
   ]
  },
  {
   "cell_type": "code",
   "execution_count": 99,
   "id": "35adaf1a",
   "metadata": {},
   "outputs": [],
   "source": [
    "ypred_rf =  model_rf_gscv.predict(X_test)\n",
    "ypred_rf_train = model_rf_gscv.predict(X_train)"
   ]
  },
  {
   "cell_type": "markdown",
   "id": "ce230749",
   "metadata": {},
   "source": [
    "# * RMSE"
   ]
  },
  {
   "cell_type": "code",
   "execution_count": 100,
   "id": "4b447074",
   "metadata": {},
   "outputs": [
    {
     "name": "stdout",
     "output_type": "stream",
     "text": [
      "0.4817314954210245\n",
      "0.41836430060242097\n"
     ]
    }
   ],
   "source": [
    "mse_rf = mean_squared_error(y_test, ypred_rf)\n",
    "mse_rf_train = mean_squared_error(y_train, ypred_rf_train)\n",
    "rmse_rf = math.sqrt(mse_rf)\n",
    "rmse_rf_train = math.sqrt(mse_rf_train)\n",
    "\n",
    "print(rmse_rf)\n",
    "print(rmse_rf_train)"
   ]
  },
  {
   "cell_type": "code",
   "execution_count": 101,
   "id": "12d0f7ec",
   "metadata": {},
   "outputs": [
    {
     "data": {
      "text/html": [
       "<div>\n",
       "<style scoped>\n",
       "    .dataframe tbody tr th:only-of-type {\n",
       "        vertical-align: middle;\n",
       "    }\n",
       "\n",
       "    .dataframe tbody tr th {\n",
       "        vertical-align: top;\n",
       "    }\n",
       "\n",
       "    .dataframe thead th {\n",
       "        text-align: right;\n",
       "    }\n",
       "</style>\n",
       "<table border=\"1\" class=\"dataframe\">\n",
       "  <thead>\n",
       "    <tr style=\"text-align: right;\">\n",
       "      <th></th>\n",
       "      <th>Model_name</th>\n",
       "      <th>Mean_Squared_Error_Train</th>\n",
       "      <th>Mean_Absolute_Error_Train</th>\n",
       "      <th>R2_Score_Train</th>\n",
       "      <th>Root_Mean_Squared_Error_Train</th>\n",
       "      <th>Mean_Squared_Error_Test</th>\n",
       "      <th>Mean_Absolute_Error_Test</th>\n",
       "      <th>R2_Score_Test</th>\n",
       "      <th>Root_Mean_Squared_Error_Test</th>\n",
       "    </tr>\n",
       "  </thead>\n",
       "  <tbody>\n",
       "    <tr>\n",
       "      <th>0</th>\n",
       "      <td>Linear Regression</td>\n",
       "      <td>0.291351</td>\n",
       "      <td>0.401286</td>\n",
       "      <td>0.806815</td>\n",
       "      <td>0.539770</td>\n",
       "      <td>0.266610</td>\n",
       "      <td>0.398461</td>\n",
       "      <td>0.835186</td>\n",
       "      <td>0.516343</td>\n",
       "    </tr>\n",
       "    <tr>\n",
       "      <th>1</th>\n",
       "      <td>Lasso Regression</td>\n",
       "      <td>0.291355</td>\n",
       "      <td>0.401210</td>\n",
       "      <td>0.806420</td>\n",
       "      <td>0.539773</td>\n",
       "      <td>0.266645</td>\n",
       "      <td>0.398333</td>\n",
       "      <td>0.834846</td>\n",
       "      <td>0.516376</td>\n",
       "    </tr>\n",
       "    <tr>\n",
       "      <th>2</th>\n",
       "      <td>Ridge Regression</td>\n",
       "      <td>0.291351</td>\n",
       "      <td>0.401268</td>\n",
       "      <td>0.806717</td>\n",
       "      <td>0.539770</td>\n",
       "      <td>0.266602</td>\n",
       "      <td>0.398435</td>\n",
       "      <td>0.835106</td>\n",
       "      <td>0.516335</td>\n",
       "    </tr>\n",
       "    <tr>\n",
       "      <th>3</th>\n",
       "      <td>Decision Tree Regressor</td>\n",
       "      <td>0.368028</td>\n",
       "      <td>0.435155</td>\n",
       "      <td>0.742901</td>\n",
       "      <td>0.606653</td>\n",
       "      <td>0.414277</td>\n",
       "      <td>0.468704</td>\n",
       "      <td>0.717792</td>\n",
       "      <td>0.643644</td>\n",
       "    </tr>\n",
       "    <tr>\n",
       "      <th>4</th>\n",
       "      <td>Random Forest Regressor</td>\n",
       "      <td>0.175029</td>\n",
       "      <td>0.288397</td>\n",
       "      <td>0.879318</td>\n",
       "      <td>0.418364</td>\n",
       "      <td>0.232065</td>\n",
       "      <td>0.342995</td>\n",
       "      <td>0.842863</td>\n",
       "      <td>0.481731</td>\n",
       "    </tr>\n",
       "  </tbody>\n",
       "</table>\n",
       "</div>"
      ],
      "text/plain": [
       "                Model_name  Mean_Squared_Error_Train  \\\n",
       "0        Linear Regression                  0.291351   \n",
       "1         Lasso Regression                  0.291355   \n",
       "2         Ridge Regression                  0.291351   \n",
       "3  Decision Tree Regressor                  0.368028   \n",
       "4  Random Forest Regressor                  0.175029   \n",
       "\n",
       "   Mean_Absolute_Error_Train  R2_Score_Train  Root_Mean_Squared_Error_Train  \\\n",
       "0                   0.401286        0.806815                       0.539770   \n",
       "1                   0.401210        0.806420                       0.539773   \n",
       "2                   0.401268        0.806717                       0.539770   \n",
       "3                   0.435155        0.742901                       0.606653   \n",
       "4                   0.288397        0.879318                       0.418364   \n",
       "\n",
       "   Mean_Squared_Error_Test  Mean_Absolute_Error_Test  R2_Score_Test  \\\n",
       "0                 0.266610                  0.398461       0.835186   \n",
       "1                 0.266645                  0.398333       0.834846   \n",
       "2                 0.266602                  0.398435       0.835106   \n",
       "3                 0.414277                  0.468704       0.717792   \n",
       "4                 0.232065                  0.342995       0.842863   \n",
       "\n",
       "   Root_Mean_Squared_Error_Test  \n",
       "0                      0.516343  \n",
       "1                      0.516376  \n",
       "2                      0.516335  \n",
       "3                      0.643644  \n",
       "4                      0.481731  "
      ]
     },
     "execution_count": 101,
     "metadata": {},
     "output_type": "execute_result"
    }
   ],
   "source": [
    "df105 = score_card(df104, 'Random Forest Regressor', y_train, y_test, ypred_rf_train, ypred_rf, rmse_rf_train, rmse_rf)\n",
    "df105"
   ]
  },
  {
   "cell_type": "markdown",
   "id": "d25c31f3",
   "metadata": {},
   "source": [
    "# 6. Bagging"
   ]
  },
  {
   "cell_type": "code",
   "execution_count": 102,
   "id": "1651b781",
   "metadata": {},
   "outputs": [],
   "source": [
    "from sklearn.ensemble import BaggingRegressor"
   ]
  },
  {
   "cell_type": "code",
   "execution_count": 103,
   "id": "57e4164c",
   "metadata": {},
   "outputs": [],
   "source": [
    "bg = BaggingRegressor(n_estimators = 150, random_state = 110)\n",
    "model_bg = bg.fit(X_train,y_train)"
   ]
  },
  {
   "cell_type": "code",
   "execution_count": 104,
   "id": "63a88647",
   "metadata": {},
   "outputs": [],
   "source": [
    "ypred_bg =  model_bg.predict(X_test)\n",
    "ypred_bg_train = model_bg.predict(X_train)"
   ]
  },
  {
   "cell_type": "markdown",
   "id": "685d755f",
   "metadata": {},
   "source": [
    "# *RMSE"
   ]
  },
  {
   "cell_type": "code",
   "execution_count": 105,
   "id": "ea618ff4",
   "metadata": {},
   "outputs": [
    {
     "name": "stdout",
     "output_type": "stream",
     "text": [
      "0.4744996065855778\n",
      "0.18834051234025176\n"
     ]
    }
   ],
   "source": [
    "mse_bg = mean_squared_error(y_test, ypred_bg)\n",
    "mse_bg_train = mean_squared_error(y_train, ypred_bg_train)\n",
    "rmse_bg = math.sqrt(mse_bg)\n",
    "rmse_bg_train = math.sqrt(mse_bg_train)\n",
    "\n",
    "print(rmse_bg)\n",
    "print(rmse_bg_train)"
   ]
  },
  {
   "cell_type": "code",
   "execution_count": 106,
   "id": "1426f060",
   "metadata": {},
   "outputs": [
    {
     "data": {
      "text/html": [
       "<div>\n",
       "<style scoped>\n",
       "    .dataframe tbody tr th:only-of-type {\n",
       "        vertical-align: middle;\n",
       "    }\n",
       "\n",
       "    .dataframe tbody tr th {\n",
       "        vertical-align: top;\n",
       "    }\n",
       "\n",
       "    .dataframe thead th {\n",
       "        text-align: right;\n",
       "    }\n",
       "</style>\n",
       "<table border=\"1\" class=\"dataframe\">\n",
       "  <thead>\n",
       "    <tr style=\"text-align: right;\">\n",
       "      <th></th>\n",
       "      <th>Model_name</th>\n",
       "      <th>Mean_Squared_Error_Train</th>\n",
       "      <th>Mean_Absolute_Error_Train</th>\n",
       "      <th>R2_Score_Train</th>\n",
       "      <th>Root_Mean_Squared_Error_Train</th>\n",
       "      <th>Mean_Squared_Error_Test</th>\n",
       "      <th>Mean_Absolute_Error_Test</th>\n",
       "      <th>R2_Score_Test</th>\n",
       "      <th>Root_Mean_Squared_Error_Test</th>\n",
       "    </tr>\n",
       "  </thead>\n",
       "  <tbody>\n",
       "    <tr>\n",
       "      <th>0</th>\n",
       "      <td>Linear Regression</td>\n",
       "      <td>0.291351</td>\n",
       "      <td>0.401286</td>\n",
       "      <td>0.806815</td>\n",
       "      <td>0.539770</td>\n",
       "      <td>0.266610</td>\n",
       "      <td>0.398461</td>\n",
       "      <td>0.835186</td>\n",
       "      <td>0.516343</td>\n",
       "    </tr>\n",
       "    <tr>\n",
       "      <th>1</th>\n",
       "      <td>Lasso Regression</td>\n",
       "      <td>0.291355</td>\n",
       "      <td>0.401210</td>\n",
       "      <td>0.806420</td>\n",
       "      <td>0.539773</td>\n",
       "      <td>0.266645</td>\n",
       "      <td>0.398333</td>\n",
       "      <td>0.834846</td>\n",
       "      <td>0.516376</td>\n",
       "    </tr>\n",
       "    <tr>\n",
       "      <th>2</th>\n",
       "      <td>Ridge Regression</td>\n",
       "      <td>0.291351</td>\n",
       "      <td>0.401268</td>\n",
       "      <td>0.806717</td>\n",
       "      <td>0.539770</td>\n",
       "      <td>0.266602</td>\n",
       "      <td>0.398435</td>\n",
       "      <td>0.835106</td>\n",
       "      <td>0.516335</td>\n",
       "    </tr>\n",
       "    <tr>\n",
       "      <th>3</th>\n",
       "      <td>Decision Tree Regressor</td>\n",
       "      <td>0.368028</td>\n",
       "      <td>0.435155</td>\n",
       "      <td>0.742901</td>\n",
       "      <td>0.606653</td>\n",
       "      <td>0.414277</td>\n",
       "      <td>0.468704</td>\n",
       "      <td>0.717792</td>\n",
       "      <td>0.643644</td>\n",
       "    </tr>\n",
       "    <tr>\n",
       "      <th>4</th>\n",
       "      <td>Random Forest Regressor</td>\n",
       "      <td>0.175029</td>\n",
       "      <td>0.288397</td>\n",
       "      <td>0.879318</td>\n",
       "      <td>0.418364</td>\n",
       "      <td>0.232065</td>\n",
       "      <td>0.342995</td>\n",
       "      <td>0.842863</td>\n",
       "      <td>0.481731</td>\n",
       "    </tr>\n",
       "    <tr>\n",
       "      <th>5</th>\n",
       "      <td>Bagging Regressor</td>\n",
       "      <td>0.035472</td>\n",
       "      <td>0.125842</td>\n",
       "      <td>0.978208</td>\n",
       "      <td>0.188341</td>\n",
       "      <td>0.225150</td>\n",
       "      <td>0.332177</td>\n",
       "      <td>0.855783</td>\n",
       "      <td>0.474500</td>\n",
       "    </tr>\n",
       "  </tbody>\n",
       "</table>\n",
       "</div>"
      ],
      "text/plain": [
       "                Model_name  Mean_Squared_Error_Train  \\\n",
       "0        Linear Regression                  0.291351   \n",
       "1         Lasso Regression                  0.291355   \n",
       "2         Ridge Regression                  0.291351   \n",
       "3  Decision Tree Regressor                  0.368028   \n",
       "4  Random Forest Regressor                  0.175029   \n",
       "5        Bagging Regressor                  0.035472   \n",
       "\n",
       "   Mean_Absolute_Error_Train  R2_Score_Train  Root_Mean_Squared_Error_Train  \\\n",
       "0                   0.401286        0.806815                       0.539770   \n",
       "1                   0.401210        0.806420                       0.539773   \n",
       "2                   0.401268        0.806717                       0.539770   \n",
       "3                   0.435155        0.742901                       0.606653   \n",
       "4                   0.288397        0.879318                       0.418364   \n",
       "5                   0.125842        0.978208                       0.188341   \n",
       "\n",
       "   Mean_Squared_Error_Test  Mean_Absolute_Error_Test  R2_Score_Test  \\\n",
       "0                 0.266610                  0.398461       0.835186   \n",
       "1                 0.266645                  0.398333       0.834846   \n",
       "2                 0.266602                  0.398435       0.835106   \n",
       "3                 0.414277                  0.468704       0.717792   \n",
       "4                 0.232065                  0.342995       0.842863   \n",
       "5                 0.225150                  0.332177       0.855783   \n",
       "\n",
       "   Root_Mean_Squared_Error_Test  \n",
       "0                      0.516343  \n",
       "1                      0.516376  \n",
       "2                      0.516335  \n",
       "3                      0.643644  \n",
       "4                      0.481731  \n",
       "5                      0.474500  "
      ]
     },
     "execution_count": 106,
     "metadata": {},
     "output_type": "execute_result"
    }
   ],
   "source": [
    "df106 = score_card(df105, 'Bagging Regressor', y_train, y_test, ypred_bg_train, ypred_bg, rmse_bg_train, rmse_bg)\n",
    "df106"
   ]
  },
  {
   "cell_type": "markdown",
   "id": "b31fc9c8",
   "metadata": {},
   "source": [
    "# 7. AdaBoost Regressor"
   ]
  },
  {
   "cell_type": "code",
   "execution_count": 107,
   "id": "0e6ea957",
   "metadata": {},
   "outputs": [],
   "source": [
    "from sklearn.ensemble import AdaBoostRegressor"
   ]
  },
  {
   "cell_type": "code",
   "execution_count": 108,
   "id": "61e86a7d",
   "metadata": {},
   "outputs": [],
   "source": [
    "ab = AdaBoostRegressor(n_estimators = 100, learning_rate = 0.15, random_state = 102, loss = 'linear')\n",
    "model_ab = ab.fit(X_train,y_train)"
   ]
  },
  {
   "cell_type": "code",
   "execution_count": 109,
   "id": "45821da4",
   "metadata": {},
   "outputs": [],
   "source": [
    "ypred_ab =  model_ab.predict(X_test)\n",
    "ypred_ab_train = model_ab.predict(X_train)"
   ]
  },
  {
   "cell_type": "markdown",
   "id": "3261e36e",
   "metadata": {},
   "source": [
    "# *RMSE"
   ]
  },
  {
   "cell_type": "code",
   "execution_count": 110,
   "id": "8c57a22d",
   "metadata": {},
   "outputs": [
    {
     "name": "stdout",
     "output_type": "stream",
     "text": [
      "0.5683121316968442\n",
      "0.5719819398433593\n"
     ]
    }
   ],
   "source": [
    "mse_ab = mean_squared_error(y_test, ypred_ab)\n",
    "mse_ab_train = mean_squared_error(y_train, ypred_ab_train)\n",
    "rmse_ab = math.sqrt(mse_ab)\n",
    "rmse_ab_train = math.sqrt(mse_ab_train)\n",
    "\n",
    "print(rmse_ab)\n",
    "print(rmse_ab_train)"
   ]
  },
  {
   "cell_type": "code",
   "execution_count": 111,
   "id": "8ac16636",
   "metadata": {},
   "outputs": [
    {
     "data": {
      "text/html": [
       "<div>\n",
       "<style scoped>\n",
       "    .dataframe tbody tr th:only-of-type {\n",
       "        vertical-align: middle;\n",
       "    }\n",
       "\n",
       "    .dataframe tbody tr th {\n",
       "        vertical-align: top;\n",
       "    }\n",
       "\n",
       "    .dataframe thead th {\n",
       "        text-align: right;\n",
       "    }\n",
       "</style>\n",
       "<table border=\"1\" class=\"dataframe\">\n",
       "  <thead>\n",
       "    <tr style=\"text-align: right;\">\n",
       "      <th></th>\n",
       "      <th>Model_name</th>\n",
       "      <th>Mean_Squared_Error_Train</th>\n",
       "      <th>Mean_Absolute_Error_Train</th>\n",
       "      <th>R2_Score_Train</th>\n",
       "      <th>Root_Mean_Squared_Error_Train</th>\n",
       "      <th>Mean_Squared_Error_Test</th>\n",
       "      <th>Mean_Absolute_Error_Test</th>\n",
       "      <th>R2_Score_Test</th>\n",
       "      <th>Root_Mean_Squared_Error_Test</th>\n",
       "    </tr>\n",
       "  </thead>\n",
       "  <tbody>\n",
       "    <tr>\n",
       "      <th>0</th>\n",
       "      <td>Linear Regression</td>\n",
       "      <td>0.291351</td>\n",
       "      <td>0.401286</td>\n",
       "      <td>0.806815</td>\n",
       "      <td>0.539770</td>\n",
       "      <td>0.266610</td>\n",
       "      <td>0.398461</td>\n",
       "      <td>0.835186</td>\n",
       "      <td>0.516343</td>\n",
       "    </tr>\n",
       "    <tr>\n",
       "      <th>1</th>\n",
       "      <td>Lasso Regression</td>\n",
       "      <td>0.291355</td>\n",
       "      <td>0.401210</td>\n",
       "      <td>0.806420</td>\n",
       "      <td>0.539773</td>\n",
       "      <td>0.266645</td>\n",
       "      <td>0.398333</td>\n",
       "      <td>0.834846</td>\n",
       "      <td>0.516376</td>\n",
       "    </tr>\n",
       "    <tr>\n",
       "      <th>2</th>\n",
       "      <td>Ridge Regression</td>\n",
       "      <td>0.291351</td>\n",
       "      <td>0.401268</td>\n",
       "      <td>0.806717</td>\n",
       "      <td>0.539770</td>\n",
       "      <td>0.266602</td>\n",
       "      <td>0.398435</td>\n",
       "      <td>0.835106</td>\n",
       "      <td>0.516335</td>\n",
       "    </tr>\n",
       "    <tr>\n",
       "      <th>3</th>\n",
       "      <td>Decision Tree Regressor</td>\n",
       "      <td>0.368028</td>\n",
       "      <td>0.435155</td>\n",
       "      <td>0.742901</td>\n",
       "      <td>0.606653</td>\n",
       "      <td>0.414277</td>\n",
       "      <td>0.468704</td>\n",
       "      <td>0.717792</td>\n",
       "      <td>0.643644</td>\n",
       "    </tr>\n",
       "    <tr>\n",
       "      <th>4</th>\n",
       "      <td>Random Forest Regressor</td>\n",
       "      <td>0.175029</td>\n",
       "      <td>0.288397</td>\n",
       "      <td>0.879318</td>\n",
       "      <td>0.418364</td>\n",
       "      <td>0.232065</td>\n",
       "      <td>0.342995</td>\n",
       "      <td>0.842863</td>\n",
       "      <td>0.481731</td>\n",
       "    </tr>\n",
       "    <tr>\n",
       "      <th>5</th>\n",
       "      <td>Bagging Regressor</td>\n",
       "      <td>0.035472</td>\n",
       "      <td>0.125842</td>\n",
       "      <td>0.978208</td>\n",
       "      <td>0.188341</td>\n",
       "      <td>0.225150</td>\n",
       "      <td>0.332177</td>\n",
       "      <td>0.855783</td>\n",
       "      <td>0.474500</td>\n",
       "    </tr>\n",
       "    <tr>\n",
       "      <th>6</th>\n",
       "      <td>AdaBoost Regressor</td>\n",
       "      <td>0.327163</td>\n",
       "      <td>0.419512</td>\n",
       "      <td>0.757520</td>\n",
       "      <td>0.571982</td>\n",
       "      <td>0.322979</td>\n",
       "      <td>0.423323</td>\n",
       "      <td>0.764636</td>\n",
       "      <td>0.568312</td>\n",
       "    </tr>\n",
       "  </tbody>\n",
       "</table>\n",
       "</div>"
      ],
      "text/plain": [
       "                Model_name  Mean_Squared_Error_Train  \\\n",
       "0        Linear Regression                  0.291351   \n",
       "1         Lasso Regression                  0.291355   \n",
       "2         Ridge Regression                  0.291351   \n",
       "3  Decision Tree Regressor                  0.368028   \n",
       "4  Random Forest Regressor                  0.175029   \n",
       "5        Bagging Regressor                  0.035472   \n",
       "6       AdaBoost Regressor                  0.327163   \n",
       "\n",
       "   Mean_Absolute_Error_Train  R2_Score_Train  Root_Mean_Squared_Error_Train  \\\n",
       "0                   0.401286        0.806815                       0.539770   \n",
       "1                   0.401210        0.806420                       0.539773   \n",
       "2                   0.401268        0.806717                       0.539770   \n",
       "3                   0.435155        0.742901                       0.606653   \n",
       "4                   0.288397        0.879318                       0.418364   \n",
       "5                   0.125842        0.978208                       0.188341   \n",
       "6                   0.419512        0.757520                       0.571982   \n",
       "\n",
       "   Mean_Squared_Error_Test  Mean_Absolute_Error_Test  R2_Score_Test  \\\n",
       "0                 0.266610                  0.398461       0.835186   \n",
       "1                 0.266645                  0.398333       0.834846   \n",
       "2                 0.266602                  0.398435       0.835106   \n",
       "3                 0.414277                  0.468704       0.717792   \n",
       "4                 0.232065                  0.342995       0.842863   \n",
       "5                 0.225150                  0.332177       0.855783   \n",
       "6                 0.322979                  0.423323       0.764636   \n",
       "\n",
       "   Root_Mean_Squared_Error_Test  \n",
       "0                      0.516343  \n",
       "1                      0.516376  \n",
       "2                      0.516335  \n",
       "3                      0.643644  \n",
       "4                      0.481731  \n",
       "5                      0.474500  \n",
       "6                      0.568312  "
      ]
     },
     "execution_count": 111,
     "metadata": {},
     "output_type": "execute_result"
    }
   ],
   "source": [
    "df107 = score_card(df106, 'AdaBoost Regressor', y_train, y_test, ypred_ab_train, ypred_ab, rmse_ab_train, rmse_ab)\n",
    "df107"
   ]
  },
  {
   "cell_type": "markdown",
   "id": "aabd52df",
   "metadata": {},
   "source": [
    "# 8. XGBoost Regressor"
   ]
  },
  {
   "cell_type": "code",
   "execution_count": 112,
   "id": "f3a2a7c6",
   "metadata": {},
   "outputs": [],
   "source": [
    "import xgboost"
   ]
  },
  {
   "cell_type": "code",
   "execution_count": 125,
   "id": "b8aa0968",
   "metadata": {},
   "outputs": [],
   "source": [
    "xg = xgboost.XGBRegressor(n_estimators = 30)\n",
    "model_xg = xg.fit(X_train, y_train)"
   ]
  },
  {
   "cell_type": "code",
   "execution_count": 126,
   "id": "3b80958f",
   "metadata": {},
   "outputs": [],
   "source": [
    "ypred_xg =  model_xg.predict(X_test)\n",
    "ypred_xg_train = model_xg.predict(X_train)"
   ]
  },
  {
   "cell_type": "markdown",
   "id": "07196e1c",
   "metadata": {},
   "source": [
    "# *RMSE"
   ]
  },
  {
   "cell_type": "code",
   "execution_count": 127,
   "id": "a727f6d5",
   "metadata": {},
   "outputs": [
    {
     "name": "stdout",
     "output_type": "stream",
     "text": [
      "0.4894902376646646\n",
      "0.31388134710912174\n"
     ]
    }
   ],
   "source": [
    "mse_xg = mean_squared_error(y_test, ypred_xg)\n",
    "mse_xg_train = mean_squared_error(y_train, ypred_xg_train)\n",
    "rmse_xg = math.sqrt(mse_xg)\n",
    "rmse_xg_train = math.sqrt(mse_xg_train)\n",
    "\n",
    "print(rmse_xg)\n",
    "print(rmse_xg_train)"
   ]
  },
  {
   "cell_type": "code",
   "execution_count": 128,
   "id": "90cacdde",
   "metadata": {},
   "outputs": [
    {
     "data": {
      "text/html": [
       "<div>\n",
       "<style scoped>\n",
       "    .dataframe tbody tr th:only-of-type {\n",
       "        vertical-align: middle;\n",
       "    }\n",
       "\n",
       "    .dataframe tbody tr th {\n",
       "        vertical-align: top;\n",
       "    }\n",
       "\n",
       "    .dataframe thead th {\n",
       "        text-align: right;\n",
       "    }\n",
       "</style>\n",
       "<table border=\"1\" class=\"dataframe\">\n",
       "  <thead>\n",
       "    <tr style=\"text-align: right;\">\n",
       "      <th></th>\n",
       "      <th>Model_name</th>\n",
       "      <th>Mean_Squared_Error_Train</th>\n",
       "      <th>Mean_Absolute_Error_Train</th>\n",
       "      <th>R2_Score_Train</th>\n",
       "      <th>Root_Mean_Squared_Error_Train</th>\n",
       "      <th>Mean_Squared_Error_Test</th>\n",
       "      <th>Mean_Absolute_Error_Test</th>\n",
       "      <th>R2_Score_Test</th>\n",
       "      <th>Root_Mean_Squared_Error_Test</th>\n",
       "    </tr>\n",
       "  </thead>\n",
       "  <tbody>\n",
       "    <tr>\n",
       "      <th>0</th>\n",
       "      <td>Linear Regression</td>\n",
       "      <td>0.291351</td>\n",
       "      <td>0.401286</td>\n",
       "      <td>0.806815</td>\n",
       "      <td>0.539770</td>\n",
       "      <td>0.266610</td>\n",
       "      <td>0.398461</td>\n",
       "      <td>0.835186</td>\n",
       "      <td>0.516343</td>\n",
       "    </tr>\n",
       "    <tr>\n",
       "      <th>1</th>\n",
       "      <td>Lasso Regression</td>\n",
       "      <td>0.291355</td>\n",
       "      <td>0.401210</td>\n",
       "      <td>0.806420</td>\n",
       "      <td>0.539773</td>\n",
       "      <td>0.266645</td>\n",
       "      <td>0.398333</td>\n",
       "      <td>0.834846</td>\n",
       "      <td>0.516376</td>\n",
       "    </tr>\n",
       "    <tr>\n",
       "      <th>2</th>\n",
       "      <td>Ridge Regression</td>\n",
       "      <td>0.291351</td>\n",
       "      <td>0.401268</td>\n",
       "      <td>0.806717</td>\n",
       "      <td>0.539770</td>\n",
       "      <td>0.266602</td>\n",
       "      <td>0.398435</td>\n",
       "      <td>0.835106</td>\n",
       "      <td>0.516335</td>\n",
       "    </tr>\n",
       "    <tr>\n",
       "      <th>3</th>\n",
       "      <td>Decision Tree Regressor</td>\n",
       "      <td>0.368028</td>\n",
       "      <td>0.435155</td>\n",
       "      <td>0.742901</td>\n",
       "      <td>0.606653</td>\n",
       "      <td>0.414277</td>\n",
       "      <td>0.468704</td>\n",
       "      <td>0.717792</td>\n",
       "      <td>0.643644</td>\n",
       "    </tr>\n",
       "    <tr>\n",
       "      <th>4</th>\n",
       "      <td>Random Forest Regressor</td>\n",
       "      <td>0.175029</td>\n",
       "      <td>0.288397</td>\n",
       "      <td>0.879318</td>\n",
       "      <td>0.418364</td>\n",
       "      <td>0.232065</td>\n",
       "      <td>0.342995</td>\n",
       "      <td>0.842863</td>\n",
       "      <td>0.481731</td>\n",
       "    </tr>\n",
       "    <tr>\n",
       "      <th>5</th>\n",
       "      <td>Bagging Regressor</td>\n",
       "      <td>0.035472</td>\n",
       "      <td>0.125842</td>\n",
       "      <td>0.978208</td>\n",
       "      <td>0.188341</td>\n",
       "      <td>0.225150</td>\n",
       "      <td>0.332177</td>\n",
       "      <td>0.855783</td>\n",
       "      <td>0.474500</td>\n",
       "    </tr>\n",
       "    <tr>\n",
       "      <th>6</th>\n",
       "      <td>AdaBoost Regressor</td>\n",
       "      <td>0.327163</td>\n",
       "      <td>0.419512</td>\n",
       "      <td>0.757520</td>\n",
       "      <td>0.571982</td>\n",
       "      <td>0.322979</td>\n",
       "      <td>0.423323</td>\n",
       "      <td>0.764636</td>\n",
       "      <td>0.568312</td>\n",
       "    </tr>\n",
       "    <tr>\n",
       "      <th>7</th>\n",
       "      <td>XGBoost Regressor</td>\n",
       "      <td>0.098522</td>\n",
       "      <td>0.219798</td>\n",
       "      <td>0.939399</td>\n",
       "      <td>0.313881</td>\n",
       "      <td>0.322979</td>\n",
       "      <td>0.423323</td>\n",
       "      <td>0.764636</td>\n",
       "      <td>0.489490</td>\n",
       "    </tr>\n",
       "  </tbody>\n",
       "</table>\n",
       "</div>"
      ],
      "text/plain": [
       "                Model_name  Mean_Squared_Error_Train  \\\n",
       "0        Linear Regression                  0.291351   \n",
       "1         Lasso Regression                  0.291355   \n",
       "2         Ridge Regression                  0.291351   \n",
       "3  Decision Tree Regressor                  0.368028   \n",
       "4  Random Forest Regressor                  0.175029   \n",
       "5        Bagging Regressor                  0.035472   \n",
       "6       AdaBoost Regressor                  0.327163   \n",
       "7        XGBoost Regressor                  0.098522   \n",
       "\n",
       "   Mean_Absolute_Error_Train  R2_Score_Train  Root_Mean_Squared_Error_Train  \\\n",
       "0                   0.401286        0.806815                       0.539770   \n",
       "1                   0.401210        0.806420                       0.539773   \n",
       "2                   0.401268        0.806717                       0.539770   \n",
       "3                   0.435155        0.742901                       0.606653   \n",
       "4                   0.288397        0.879318                       0.418364   \n",
       "5                   0.125842        0.978208                       0.188341   \n",
       "6                   0.419512        0.757520                       0.571982   \n",
       "7                   0.219798        0.939399                       0.313881   \n",
       "\n",
       "   Mean_Squared_Error_Test  Mean_Absolute_Error_Test  R2_Score_Test  \\\n",
       "0                 0.266610                  0.398461       0.835186   \n",
       "1                 0.266645                  0.398333       0.834846   \n",
       "2                 0.266602                  0.398435       0.835106   \n",
       "3                 0.414277                  0.468704       0.717792   \n",
       "4                 0.232065                  0.342995       0.842863   \n",
       "5                 0.225150                  0.332177       0.855783   \n",
       "6                 0.322979                  0.423323       0.764636   \n",
       "7                 0.322979                  0.423323       0.764636   \n",
       "\n",
       "   Root_Mean_Squared_Error_Test  \n",
       "0                      0.516343  \n",
       "1                      0.516376  \n",
       "2                      0.516335  \n",
       "3                      0.643644  \n",
       "4                      0.481731  \n",
       "5                      0.474500  \n",
       "6                      0.568312  \n",
       "7                      0.489490  "
      ]
     },
     "execution_count": 128,
     "metadata": {},
     "output_type": "execute_result"
    }
   ],
   "source": [
    "df108 = score_card(df107, 'XGBoost Regressor', y_train, y_test, ypred_xg_train, ypred_ab, rmse_xg_train, rmse_xg)\n",
    "df108"
   ]
  },
  {
   "cell_type": "markdown",
   "id": "6786c534",
   "metadata": {},
   "source": [
    "# Conclusion:"
   ]
  },
  {
   "cell_type": "markdown",
   "id": "80efe7ea",
   "metadata": {},
   "source": [
    "In our movie analysis project, we fixed problems like missing data and errors in the dataset. We learned some cool things, like shorter movies getting better ratings and Drama being a popular genre. We also discovered that the Random Forest model worked the best for predicting ratings, with a high accuracy score of 0.88 on the training data and 0.84 on the test data."
   ]
  },
  {
   "cell_type": "code",
   "execution_count": null,
   "id": "d2d663ed",
   "metadata": {},
   "outputs": [],
   "source": []
  }
 ],
 "metadata": {
  "kernelspec": {
   "display_name": "Python 3 (ipykernel)",
   "language": "python",
   "name": "python3"
  },
  "language_info": {
   "codemirror_mode": {
    "name": "ipython",
    "version": 3
   },
   "file_extension": ".py",
   "mimetype": "text/x-python",
   "name": "python",
   "nbconvert_exporter": "python",
   "pygments_lexer": "ipython3",
   "version": "3.11.3"
  }
 },
 "nbformat": 4,
 "nbformat_minor": 5
}
